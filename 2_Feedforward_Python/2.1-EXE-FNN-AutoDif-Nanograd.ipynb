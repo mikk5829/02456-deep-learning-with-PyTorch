{
 "cells": [
  {
   "cell_type": "markdown",
   "metadata": {
    "id": "HAva8TnYFtFu",
    "pycharm": {
     "name": "#%% md\n"
    }
   },
   "source": [
    "# Contents and why we need this lab\n",
    "\n",
    "This lab is about implementing neural networks yourself before we start using other frameworks that hide some of the computation from you. It builds on the first lab, where you derived the equations for neural network forward and backward propagation and gradient descent parameter updates. \n",
    "\n",
    "All the frameworks for deep learning you will meet from now on use automatic differentiation (autodiff), so you do not have to code the backward step yourself. In this version of this lab, you will develop your own autodif implementation. We also have an optional [version](https://github.com/DeepLearningDTU/02456-deep-learning-with-PyTorch/blob/master/2_Feedforward_Python/2.2-FNN-NumPy.ipynb) of this lab where you have to code the backward pass explicitly in Numpy."
   ]
  },
  {
   "cell_type": "markdown",
   "metadata": {
    "id": "sCa7HzwpFtFy",
    "pycharm": {
     "name": "#%% md\n"
    }
   },
   "source": [
    "# External sources of information\n",
    "\n",
    "1. Jupyter notebook. You can find more information about Jupyter notebooks [here](https://jupyter.org/). It will come as part of the [Anaconda](https://www.anaconda.com/) Python installation. \n",
    "2. [NumPy](https://numpy.org/). Part of Anaconda distribution.  If you already know how to program, most things about Python and NumPy can be found with Google searches.\n",
    "3. [Nanograd](https://github.com/rasmusbergpalm/nanograd) is a minimalistic version of autodiff developed by Rasmus Berg Palm that we use for our framework.\n"
   ]
  },
  {
   "cell_type": "markdown",
   "metadata": {
    "id": "1SjiIp-TFtF0",
    "pycharm": {
     "name": "#%% md\n"
    }
   },
   "source": [
    "# This notebook will follow the next steps:\n",
    "\n",
    "1. Nanograd automatic differentiation framework\n",
    "2. Finite difference method\n",
    "3. Data generation\n",
    "4. Defining and initializing the network\n",
    "5. Forward pass\n",
    "6. Training loop \n",
    "7. Testing your model\n",
    "8. Further extensions"
   ]
  },
  {
   "cell_type": "markdown",
   "metadata": {
    "id": "OyXeAA-HuT7s",
    "pycharm": {
     "name": "#%% md\n"
    }
   },
   "source": [
    "# Nanograd automatic differention framework"
   ]
  },
  {
   "cell_type": "markdown",
   "metadata": {
    "id": "k6UWKCLKubgA",
    "pycharm": {
     "name": "#%% md\n"
    }
   },
   "source": [
    "The [Nanograd](https://github.com/rasmusbergpalm/nanograd) framework defines a class Var which both holds a value and gradient value that we can use to store the intermediate values when we apply the chain rule of differentiation."
   ]
  },
  {
   "cell_type": "code",
   "execution_count": 120,
   "metadata": {
    "id": "Jd4CoEBNzNWS",
    "pycharm": {
     "name": "#%%\n"
    }
   },
   "outputs": [],
   "source": [
    "# Copy and pasted from https://github.com/rasmusbergpalm/nanograd/blob/3a1bf9e9e724da813bfccf91a6f309abdade9f39/nanograd.py\n",
    "\n",
    "from math import exp, log, sqrt\n",
    "\n",
    "class Var:\n",
    "    \"\"\"\n",
    "    A variable which holds a float and enables gradient computations.\n",
    "    \"\"\"\n",
    "\n",
    "    def __init__(self, val: float, grad_fn=lambda: []):\n",
    "        assert type(val) == float\n",
    "        self.v = val\n",
    "        self.grad_fn = grad_fn\n",
    "        self.grad = 0.0\n",
    "\n",
    "    def backprop(self, bp):\n",
    "        self.grad += bp\n",
    "        for input, grad in self.grad_fn():\n",
    "            input.backprop(grad * bp)\n",
    "\n",
    "    def backward(self):\n",
    "        self.backprop(1.0)\n",
    "\n",
    "    def __add__(self: 'Var', other: 'Var') -> 'Var':\n",
    "        return Var(self.v + other.v, lambda: [(self, 1.0), (other, 1.0)])\n",
    "\n",
    "    def __mul__(self: 'Var', other: 'Var') -> 'Var':\n",
    "        return Var(self.v * other.v, lambda: [(self, other.v), (other, self.v)])\n",
    "\n",
    "    def __pow__(self, power):\n",
    "        assert type(power) in {float, int}, \"power must be float or int\"\n",
    "        return Var(self.v ** power, lambda: [(self, power * self.v ** (power - 1))])\n",
    "\n",
    "    def __neg__(self: 'Var') -> 'Var':\n",
    "        return Var(-1.0) * self\n",
    "\n",
    "    def __sub__(self: 'Var', other: 'Var') -> 'Var':\n",
    "        return self + (-other)\n",
    "\n",
    "    def __truediv__(self: 'Var', other: 'Var') -> 'Var':\n",
    "        return self * other ** -1\n",
    "\n",
    "    def __repr__(self):\n",
    "        return \"Var(v=%.4f, grad=%.4f)\" % (self.v, self.grad)\n",
    "\n",
    "    def relu(self):\n",
    "        return Var(self.v if self.v > 0.0 else 0.0, lambda: [(self, 1.0 if self.v > 0.0 else 0.0)])\n",
    "\n",
    "    def identity(self):\n",
    "        return Var(self.v, lambda: [(self, 1.0)])\n",
    "\n",
    "    def tanh(self):\n",
    "        return Var(2.0/(1.0+exp(-2.0*self.v)) - 1.0, lambda: [(self, 1.0)])\n",
    "\n",
    "    def sigmoid(self):\n",
    "        return Var(1.0/(1.0+exp(-self.v)), lambda: [(self, 1.0)])\n",
    "\n",
    "    def exp(self):\n",
    "        return Var(exp(self.v), lambda: [(self, exp(self.v))])\n",
    "\n",
    "    def log(self):\n",
    "        return Var(log(self.v), lambda: [(self, self.v **(-1))])"
   ]
  },
  {
   "cell_type": "markdown",
   "metadata": {
    "id": "yDX67D6jzcte",
    "pycharm": {
     "name": "#%% md\n"
    }
   },
   "source": [
    "A few examples illustrate how we can use this:"
   ]
  },
  {
   "cell_type": "code",
   "execution_count": 121,
   "metadata": {
    "colab": {
     "base_uri": "https://localhost:8080/"
    },
    "id": "xk6PeLc3zwPT",
    "outputId": "47e431b2-07ba-4cb1-ea21-997769641c67",
    "pycharm": {
     "name": "#%%\n"
    }
   },
   "outputs": [
    {
     "name": "stdout",
     "output_type": "stream",
     "text": [
      "Var(v=3.0000, grad=5.0000)\n",
      "Var(v=5.0000, grad=3.0000)\n",
      "Var(v=15.0000, grad=1.0000)\n"
     ]
    }
   ],
   "source": [
    "a = Var(3.0)\n",
    "b = Var(5.0)\n",
    "f = a * b\n",
    "\n",
    "f.backward()\n",
    "\n",
    "for v in [a, b, f]:\n",
    "    print(v)"
   ]
  },
  {
   "cell_type": "code",
   "execution_count": 122,
   "metadata": {
    "colab": {
     "base_uri": "https://localhost:8080/"
    },
    "id": "JmKhYgsY0g_o",
    "outputId": "06c1b1df-c33c-40d3-922a-624612a591c7",
    "pycharm": {
     "name": "#%%\n"
    }
   },
   "outputs": [
    {
     "name": "stdout",
     "output_type": "stream",
     "text": [
      "Var(v=3.0000, grad=14.0000)\n",
      "Var(v=5.0000, grad=3.0000)\n",
      "Var(v=15.0000, grad=1.0000)\n",
      "Var(v=9.0000, grad=3.0000)\n",
      "Var(v=27.0000, grad=1.0000)\n",
      "Var(v=42.0000, grad=1.0000)\n"
     ]
    }
   ],
   "source": [
    "a = Var(3.0)\n",
    "b = Var(5.0)\n",
    "c = a * b\n",
    "d = Var(9.0)\n",
    "e = a * d\n",
    "f = c + e\n",
    "\n",
    "f.backward()\n",
    "\n",
    "for v in [a, b, c, d, e, f]:\n",
    "    print(v)"
   ]
  },
  {
   "cell_type": "markdown",
   "metadata": {
    "id": "Fe3B6uEH140p",
    "pycharm": {
     "name": "#%% md\n"
    }
   },
   "source": [
    "## Exercise a) What is being calculated?\n",
    "\n",
    "Explain briefly the output of the code? What is the expression we differentiate and with respect to what variables?"
   ]
  },
  {
   "cell_type": "markdown",
   "source": [
    "TODO: The code outputs the value and gradient(/weights) using backpropagation to find the value of the variables that are dependent on each other."
   ],
   "metadata": {
    "collapsed": false,
    "pycharm": {
     "name": "#%% md\n"
    }
   }
  },
  {
   "cell_type": "markdown",
   "metadata": {
    "id": "q8_Q0t2I3Ruj",
    "pycharm": {
     "name": "#%% md\n"
    }
   },
   "source": [
    "## Exercise b) How does the backward function work?\n",
    "\n",
    "You need to understand how the backward function calculates the gradients. We can use the two examples above to help with that.\n",
    "\n",
    "Go through the following four steps and answer the questions on the way:\n",
    "\n",
    "1. We represent the two expressions as graphs as shown below. Fill in the missing expressions for the different derivatives.\n",
    "\n",
    "2. In the remainder consider the first expression. Make a schematic of the data structure which is generated when we define the expression for f. \n",
    "\n",
    "3. Then execute the backward function by hand to convince yourself that it indeed calculates the gradients with respect to the variables. \n",
    "\n",
    "4. Write down the sequence of calls to backprop."
   ]
  },
  {
   "cell_type": "markdown",
   "source": [
    "2. Data structure:\n",
    "\n",
    "a: $v = 3$ ```grad_fn = lambda []```\n",
    "b: $v = 5$ ```grad_fn = lambda []```\n",
    "f: $v = a.v \\cdot b.v = 3 \\cdot 5 = 15$ ```grad_fn = lambda [(a,b.v),(b,a.v)] = lambda [(a,5),(b,3)]``` where ```a.v``` is the gradient for b."
   ],
   "metadata": {
    "collapsed": false,
    "pycharm": {
     "name": "#%% md\n"
    }
   }
  },
  {
   "cell_type": "markdown",
   "source": [
    "3. Hand execution:\n",
    "```\n",
    "f.backward()\n",
    "Var(v=15.0000, grad=0.0000).backprop(1.0) = Var(v=15.0000, grad=1.0000)\n",
    "Var(v=3.0000, grad=0.0000).backprop( 5.0 ) = Var(v=3.0000, grad=5.0000)\n",
    "Var(v=5.0000, grad=0.0000).backprop( 3.0 ) = Var(v=5.0000, grad=3.0000)\n",
    "```"
   ],
   "metadata": {
    "collapsed": false,
    "pycharm": {
     "name": "#%% md\n"
    }
   }
  },
  {
   "cell_type": "markdown",
   "source": [
    "4. Sequence:\n",
    "```\n",
    "backprop( 1.0 )\n",
    "backprop( 5.0 )\n",
    "backprop( 3.0 )\n",
    "```"
   ],
   "metadata": {
    "collapsed": false,
    "pycharm": {
     "name": "#%% md\n"
    }
   }
  },
  {
   "cell_type": "code",
   "execution_count": 123,
   "metadata": {
    "id": "idGr71jYXl26",
    "pycharm": {
     "name": "#%%\n"
    }
   },
   "outputs": [],
   "source": [
    "# import logging\n",
    "import graphviz\n",
    "\n",
    "#logging.basicConfig(format='[%(levelname)s@%(name)s] %(message)s', level=logging.DEBUG)\n",
    "\n",
    "#graphviz.__version__, graphviz.version()"
   ]
  },
  {
   "cell_type": "code",
   "execution_count": 124,
   "metadata": {
    "colab": {
     "base_uri": "https://localhost:8080/",
     "height": 152
    },
    "id": "KPe30Q2QXzeG",
    "outputId": "7fa002cd-a018-4dbb-ddf1-28ed5e99ee19",
    "pycharm": {
     "name": "#%%\n"
    }
   },
   "outputs": [
    {
     "data": {
      "image/svg+xml": "<?xml version=\"1.0\" encoding=\"UTF-8\" standalone=\"no\"?>\n<!DOCTYPE svg PUBLIC \"-//W3C//DTD SVG 1.1//EN\"\n \"http://www.w3.org/Graphics/SVG/1.1/DTD/svg11.dtd\">\n<!-- Generated by graphviz version 5.0.1 (20220820.1526)\n -->\n<!-- Title: first expression Pages: 1 -->\n<svg width=\"159pt\" height=\"98pt\"\n viewBox=\"0.00 0.00 159.00 98.00\" xmlns=\"http://www.w3.org/2000/svg\" xmlns:xlink=\"http://www.w3.org/1999/xlink\">\n<g id=\"graph0\" class=\"graph\" transform=\"scale(1 1) rotate(0) translate(4 94)\">\n<title>first expression</title>\n<polygon fill=\"white\" stroke=\"none\" points=\"-4,4 -4,-94 155,-94 155,4 -4,4\"/>\n<!-- a -->\n<g id=\"node1\" class=\"node\">\n<title>a</title>\n<ellipse fill=\"none\" stroke=\"black\" cx=\"18\" cy=\"-72\" rx=\"18\" ry=\"18\"/>\n<text text-anchor=\"middle\" x=\"18\" y=\"-68.3\" font-family=\"Times,serif\" font-size=\"14.00\">a</text>\n</g>\n<!-- f -->\n<g id=\"node2\" class=\"node\">\n<title>f</title>\n<ellipse fill=\"none\" stroke=\"black\" cx=\"133\" cy=\"-45\" rx=\"18\" ry=\"18\"/>\n<text text-anchor=\"middle\" x=\"133\" y=\"-41.3\" font-family=\"Times,serif\" font-size=\"14.00\">f</text>\n</g>\n<!-- a&#45;&gt;f -->\n<g id=\"edge1\" class=\"edge\">\n<title>a&#45;&gt;f</title>\n<path fill=\"none\" stroke=\"black\" d=\"M35.67,-68.02C54.03,-63.63 83.81,-56.51 105.4,-51.36\"/>\n<polygon fill=\"black\" stroke=\"black\" points=\"106.35,-54.73 115.26,-49 104.72,-47.92 106.35,-54.73\"/>\n<text text-anchor=\"middle\" x=\"75.5\" y=\"-66.8\" font-family=\"Times,serif\" font-size=\"14.00\">df/da=b</text>\n</g>\n<!-- b -->\n<g id=\"node3\" class=\"node\">\n<title>b</title>\n<ellipse fill=\"none\" stroke=\"black\" cx=\"18\" cy=\"-18\" rx=\"18\" ry=\"18\"/>\n<text text-anchor=\"middle\" x=\"18\" y=\"-14.3\" font-family=\"Times,serif\" font-size=\"14.00\">b</text>\n</g>\n<!-- b&#45;&gt;f -->\n<g id=\"edge2\" class=\"edge\">\n<title>b&#45;&gt;f</title>\n<path fill=\"none\" stroke=\"black\" d=\"M35.85,-20.94C51.73,-23.83 76.12,-28.59 97,-34 99.89,-34.75 102.9,-35.59 105.88,-36.47\"/>\n<polygon fill=\"black\" stroke=\"black\" points=\"105.13,-39.9 115.72,-39.5 107.19,-33.21 105.13,-39.9\"/>\n<text text-anchor=\"middle\" x=\"75.5\" y=\"-37.8\" font-family=\"Times,serif\" font-size=\"14.00\">df/db=a</text>\n</g>\n</g>\n</svg>\n",
      "text/plain": "<graphviz.graphs.Digraph at 0x12b5ab220>"
     },
     "execution_count": 124,
     "metadata": {},
     "output_type": "execute_result"
    }
   ],
   "source": [
    "e1 = graphviz.Digraph('first expression', filename='fsm.gv')\n",
    "\n",
    "e1.attr(rankdir='LR', size='8,5')\n",
    "\n",
    "e1.attr('node', shape='circle')\n",
    "e1.edge('a', 'f', label='df/da=b')\n",
    "e1.edge('b', 'f', label='df/db=a')\n",
    "\n",
    "e1"
   ]
  },
  {
   "cell_type": "code",
   "execution_count": 125,
   "metadata": {
    "colab": {
     "base_uri": "https://localhost:8080/",
     "height": 232
    },
    "id": "0nittR-mZFeX",
    "outputId": "fa3656a3-732c-4abe-8084-98a492b0d6be",
    "pycharm": {
     "name": "#%%\n"
    }
   },
   "outputs": [
    {
     "data": {
      "image/svg+xml": "<?xml version=\"1.0\" encoding=\"UTF-8\" standalone=\"no\"?>\n<!DOCTYPE svg PUBLIC \"-//W3C//DTD SVG 1.1//EN\"\n \"http://www.w3.org/Graphics/SVG/1.1/DTD/svg11.dtd\">\n<!-- Generated by graphviz version 5.0.1 (20220820.1526)\n -->\n<!-- Title: second expression Pages: 1 -->\n<svg width=\"276pt\" height=\"158pt\"\n viewBox=\"0.00 0.00 276.00 158.00\" xmlns=\"http://www.w3.org/2000/svg\" xmlns:xlink=\"http://www.w3.org/1999/xlink\">\n<g id=\"graph0\" class=\"graph\" transform=\"scale(1 1) rotate(0) translate(4 154)\">\n<title>second expression</title>\n<polygon fill=\"white\" stroke=\"none\" points=\"-4,4 -4,-154 272,-154 272,4 -4,4\"/>\n<!-- a -->\n<g id=\"node1\" class=\"node\">\n<title>a</title>\n<ellipse fill=\"none\" stroke=\"black\" cx=\"18\" cy=\"-75\" rx=\"18\" ry=\"18\"/>\n<text text-anchor=\"middle\" x=\"18\" y=\"-71.3\" font-family=\"Times,serif\" font-size=\"14.00\">a</text>\n</g>\n<!-- c -->\n<g id=\"node2\" class=\"node\">\n<title>c</title>\n<ellipse fill=\"none\" stroke=\"black\" cx=\"135\" cy=\"-102\" rx=\"18\" ry=\"18\"/>\n<text text-anchor=\"middle\" x=\"135\" y=\"-98.3\" font-family=\"Times,serif\" font-size=\"14.00\">c</text>\n</g>\n<!-- a&#45;&gt;c -->\n<g id=\"edge1\" class=\"edge\">\n<title>a&#45;&gt;c</title>\n<path fill=\"none\" stroke=\"black\" d=\"M35.97,-78.98C54.76,-83.4 85.31,-90.57 107.31,-95.73\"/>\n<polygon fill=\"black\" stroke=\"black\" points=\"106.8,-99.21 117.34,-98.09 108.4,-92.39 106.8,-99.21\"/>\n<text text-anchor=\"middle\" x=\"76.5\" y=\"-96.8\" font-family=\"Times,serif\" font-size=\"14.00\">dc/da=b</text>\n</g>\n<!-- e -->\n<g id=\"node4\" class=\"node\">\n<title>e</title>\n<ellipse fill=\"none\" stroke=\"black\" cx=\"135\" cy=\"-48\" rx=\"18\" ry=\"18\"/>\n<text text-anchor=\"middle\" x=\"135\" y=\"-44.3\" font-family=\"Times,serif\" font-size=\"14.00\">e</text>\n</g>\n<!-- a&#45;&gt;e -->\n<g id=\"edge3\" class=\"edge\">\n<title>a&#45;&gt;e</title>\n<path fill=\"none\" stroke=\"black\" d=\"M35.28,-69.49C41.14,-67.61 47.83,-65.58 54,-64 71.5,-59.51 91.43,-55.53 107.01,-52.65\"/>\n<polygon fill=\"black\" stroke=\"black\" points=\"107.8,-56.07 117.03,-50.85 106.56,-49.18 107.8,-56.07\"/>\n<text text-anchor=\"middle\" x=\"76.5\" y=\"-67.8\" font-family=\"Times,serif\" font-size=\"14.00\">de/da=d</text>\n</g>\n<!-- f -->\n<g id=\"node6\" class=\"node\">\n<title>f</title>\n<ellipse fill=\"none\" stroke=\"black\" cx=\"250\" cy=\"-75\" rx=\"18\" ry=\"18\"/>\n<text text-anchor=\"middle\" x=\"250\" y=\"-71.3\" font-family=\"Times,serif\" font-size=\"14.00\">f</text>\n</g>\n<!-- c&#45;&gt;f -->\n<g id=\"edge5\" class=\"edge\">\n<title>c&#45;&gt;f</title>\n<path fill=\"none\" stroke=\"black\" d=\"M152.67,-98.02C171.03,-93.63 200.81,-86.51 222.4,-81.36\"/>\n<polygon fill=\"black\" stroke=\"black\" points=\"223.35,-84.73 232.26,-79 221.72,-77.92 223.35,-84.73\"/>\n<text text-anchor=\"middle\" x=\"192.5\" y=\"-96.8\" font-family=\"Times,serif\" font-size=\"14.00\">df/dc=1</text>\n</g>\n<!-- b -->\n<g id=\"node3\" class=\"node\">\n<title>b</title>\n<ellipse fill=\"none\" stroke=\"black\" cx=\"18\" cy=\"-132\" rx=\"18\" ry=\"18\"/>\n<text text-anchor=\"middle\" x=\"18\" y=\"-128.3\" font-family=\"Times,serif\" font-size=\"14.00\">b</text>\n</g>\n<!-- b&#45;&gt;c -->\n<g id=\"edge2\" class=\"edge\">\n<title>b&#45;&gt;c</title>\n<path fill=\"none\" stroke=\"black\" d=\"M35.97,-127.57C54.85,-122.65 85.58,-114.63 107.61,-108.88\"/>\n<polygon fill=\"black\" stroke=\"black\" points=\"108.54,-112.26 117.34,-106.35 106.78,-105.48 108.54,-112.26\"/>\n<text text-anchor=\"middle\" x=\"76.5\" y=\"-125.8\" font-family=\"Times,serif\" font-size=\"14.00\">dc/db=a</text>\n</g>\n<!-- e&#45;&gt;f -->\n<g id=\"edge6\" class=\"edge\">\n<title>e&#45;&gt;f</title>\n<path fill=\"none\" stroke=\"black\" d=\"M152.85,-50.94C168.73,-53.83 193.12,-58.59 214,-64 216.89,-64.75 219.9,-65.59 222.88,-66.47\"/>\n<polygon fill=\"black\" stroke=\"black\" points=\"222.13,-69.9 232.72,-69.5 224.19,-63.21 222.13,-69.9\"/>\n<text text-anchor=\"middle\" x=\"192.5\" y=\"-67.8\" font-family=\"Times,serif\" font-size=\"14.00\">df/de=1</text>\n</g>\n<!-- d -->\n<g id=\"node5\" class=\"node\">\n<title>d</title>\n<ellipse fill=\"none\" stroke=\"black\" cx=\"18\" cy=\"-18\" rx=\"18\" ry=\"18\"/>\n<text text-anchor=\"middle\" x=\"18\" y=\"-14.3\" font-family=\"Times,serif\" font-size=\"14.00\">d</text>\n</g>\n<!-- d&#45;&gt;e -->\n<g id=\"edge4\" class=\"edge\">\n<title>d&#45;&gt;e</title>\n<path fill=\"none\" stroke=\"black\" d=\"M36.03,-20.87C52.35,-23.8 77.59,-28.79 99,-35 102.17,-35.92 105.47,-36.99 108.72,-38.12\"/>\n<polygon fill=\"black\" stroke=\"black\" points=\"107.54,-41.41 118.13,-41.55 109.94,-34.83 107.54,-41.41\"/>\n<text text-anchor=\"middle\" x=\"76.5\" y=\"-38.8\" font-family=\"Times,serif\" font-size=\"14.00\">de/dd=a</text>\n</g>\n</g>\n</svg>\n",
      "text/plain": "<graphviz.graphs.Digraph at 0x12b2e6f40>"
     },
     "execution_count": 125,
     "metadata": {},
     "output_type": "execute_result"
    }
   ],
   "source": [
    "e2 = graphviz.Digraph('second expression', filename='fsm.gv')\n",
    "\n",
    "e2.attr(rankdir='LR', size='8,5')\n",
    "\n",
    "e2.attr('node', shape='circle')\n",
    "e2.edge('a', 'c', label='dc/da=b')\n",
    "e2.edge('b', 'c', label='dc/db=a')\n",
    "e2.edge('a', 'e', label='de/da=d')\n",
    "e2.edge('d', 'e', label='de/dd=a')\n",
    "e2.edge('c', 'f', label='df/dc=1')\n",
    "e2.edge('e', 'f', label='df/de=1')\n",
    "\n",
    "e2"
   ]
  },
  {
   "cell_type": "markdown",
   "metadata": {
    "id": "A5oi21W4gpeM",
    "pycharm": {
     "name": "#%% md\n"
    }
   },
   "source": [
    "## Exercise c) What happens if we run backward again?\n",
    "\n",
    "Try to execute the code below. Explain what happens."
   ]
  },
  {
   "cell_type": "code",
   "execution_count": 126,
   "metadata": {
    "colab": {
     "base_uri": "https://localhost:8080/"
    },
    "id": "DCtpJyr-gyX1",
    "outputId": "d014bcfa-c9ae-49c3-d268-91cc6ca94ea5",
    "pycharm": {
     "name": "#%%\n"
    }
   },
   "outputs": [
    {
     "name": "stdout",
     "output_type": "stream",
     "text": [
      "Var(v=3.0000, grad=28.0000)\n",
      "Var(v=5.0000, grad=6.0000)\n",
      "Var(v=15.0000, grad=2.0000)\n",
      "Var(v=9.0000, grad=6.0000)\n",
      "Var(v=27.0000, grad=2.0000)\n",
      "Var(v=42.0000, grad=2.0000)\n"
     ]
    }
   ],
   "source": [
    "f.backward()\n",
    "\n",
    "for v in [a, b, c, d, e, f]:\n",
    "    print(v)"
   ]
  },
  {
   "cell_type": "markdown",
   "source": [
    "We save the gradients in the \"Var\" object and therefore the old gradients are updated twice."
   ],
   "metadata": {
    "collapsed": false,
    "pycharm": {
     "name": "#%% md\n"
    }
   }
  },
  {
   "cell_type": "markdown",
   "metadata": {
    "id": "e8bPVq2VhsP-",
    "pycharm": {
     "name": "#%% md\n"
    }
   },
   "source": [
    "## Exercise d) Zero gradient\n",
    "\n",
    "We can zero the gradient by backpropagating a -1.0 as is shown in the example below. (If you have run backward multiple time then you also have to run the cell below an equal amount of times.) Explain what is going on."
   ]
  },
  {
   "cell_type": "code",
   "execution_count": 127,
   "metadata": {
    "colab": {
     "base_uri": "https://localhost:8080/"
    },
    "id": "OnyPDQx9lJe0",
    "outputId": "7a125fdc-60c4-4340-a580-8b82aea5b0db",
    "pycharm": {
     "name": "#%%\n"
    }
   },
   "outputs": [
    {
     "name": "stdout",
     "output_type": "stream",
     "text": [
      "Var(v=2.0000, grad=0.0000)\n",
      "Var(v=5.0000, grad=6.0000)\n",
      "Var(v=15.0000, grad=2.0000)\n",
      "Var(v=9.0000, grad=6.0000)\n",
      "Var(v=27.0000, grad=2.0000)\n",
      "Var(v=42.0000, grad=2.0000)\n",
      "Var(v=2.0000, grad=0.0000)\n",
      "Var(v=5.0000, grad=3.0000)\n",
      "Var(v=15.0000, grad=1.0000)\n",
      "Var(v=9.0000, grad=3.0000)\n",
      "Var(v=27.0000, grad=1.0000)\n",
      "Var(v=42.0000, grad=1.0000)\n"
     ]
    }
   ],
   "source": [
    "a = Var(2.0)\n",
    "\n",
    "for v in [a, b, c, d, e, f]:\n",
    "    print(v)\n",
    "\n",
    "f.backprop(-1.0)\n",
    "\n",
    "for v in [a, b, c, d, e, f]:\n",
    "    print(v)"
   ]
  },
  {
   "cell_type": "markdown",
   "source": [
    "The gradient is being halved, when back-propagating the last node."
   ],
   "metadata": {
    "collapsed": false,
    "pycharm": {
     "name": "#%% md\n"
    }
   }
  },
  {
   "cell_type": "markdown",
   "metadata": {
    "id": "U4057_ljNvWB",
    "pycharm": {
     "name": "#%% md\n"
    }
   },
   "source": [
    "## Exercise e) Test correctness of derivatives with the finite difference method\n",
    "\n",
    "Write a small function that uses [the finite difference method](https://en.wikipedia.org/wiki/Finite_difference_method) to numerically test that backpropation implementation is working. In short we will use\n",
    "$$\n",
    "\\frac{\\partial f(a)}{\\partial a} \\approx \\frac{f(a+da)-f(a)}{da}\n",
    "$$\n",
    "for $da \\ll 1$.\n",
    "\n",
    "As an example, we could approximate the derivative of the function $f(a)=a^2$ in e.g. the value $a=4$ using the finite difference method. This amounts to inserting the relevant values and approximating the gradient $f'(4)$ with the fraction above. \n"
   ]
  },
  {
   "cell_type": "code",
   "execution_count": 128,
   "metadata": {
    "colab": {
     "base_uri": "https://localhost:8080/"
    },
    "id": "9TGil92lSXDN",
    "outputId": "7ef5489b-b525-4132-ab08-0b1109c07f4d",
    "pycharm": {
     "name": "#%%\n"
    }
   },
   "outputs": [
    {
     "name": "stdout",
     "output_type": "stream",
     "text": [
      "Var(v=3.0000, grad=5.0000)\n",
      "Var(v=5.0000, grad=3.0000)\n",
      "Var(v=15.0000, grad=1.0000)\n",
      "5.000000413701855\n"
     ]
    }
   ],
   "source": [
    "# f function - try to change the code to test other types of functions as well (such as different polynomials etc.)\n",
    "def f_function(av):\n",
    "  a = Var(av)\n",
    "  b = Var(5.0)\n",
    "  f = a * b\n",
    "  f.backward()\n",
    "  return a,b,f\n",
    "\n",
    "# Insert your finite difference code here\n",
    "def finite_difference(a,da=1e-10):\n",
    "    for v in f_function(a):\n",
    "        print(v)\n",
    "    \"\"\"\n",
    "    This function compute the finite difference between\n",
    "    \n",
    "    Input:\n",
    "    da:          The finite difference                           (float)\n",
    "    \n",
    "    Output:\n",
    "    finite_difference: numerical approximation to the derivative (float) \n",
    "    \"\"\"\n",
    "\n",
    "    fa_da = f_function(a + da)[2].v          # <- Insert correct expression\n",
    "    fa = f_function(a)[2].v               # <- Insert correct expression\n",
    "\n",
    "    return (fa_da - fa) / da\n",
    "\n",
    "print(finite_difference(3.0))"
   ]
  },
  {
   "cell_type": "markdown",
   "metadata": {
    "id": "6pZar5RKaUkg",
    "pycharm": {
     "name": "#%% md\n"
    }
   },
   "source": [
    "# Create an artificial dataset to play with\n",
    "\n",
    "We create a non-linear 1d regression task. The generator supports various noise levels and it creates train, validation and test sets. You can modify it yourself if you want more or less challenging tasks."
   ]
  },
  {
   "cell_type": "code",
   "execution_count": 129,
   "metadata": {
    "id": "Y6yfMAQ8aduj",
    "pycharm": {
     "name": "#%%\n"
    }
   },
   "outputs": [],
   "source": [
    "import numpy as np\n",
    "import matplotlib.pyplot as plt\n",
    "\n",
    "np.random.seed(42)"
   ]
  },
  {
   "cell_type": "code",
   "execution_count": 130,
   "metadata": {
    "id": "4YabfD43ajNh",
    "pycharm": {
     "name": "#%%\n"
    }
   },
   "outputs": [],
   "source": [
    "def data_generator(noise=0.1, n_samples=300, D1=True):\n",
    "    # Create covariates and response variable\n",
    "    if D1:\n",
    "        X = np.linspace(-3, 3, num=n_samples).reshape(-1,1) # 1-D\n",
    "        np.random.shuffle(X)\n",
    "        y = np.random.normal((0.5*np.sin(X[:,0]*3) + X[:,0]), noise) # 1-D with trend\n",
    "    else:\n",
    "        X = np.random.multivariate_normal(np.zeros(3), noise*np.eye(3), size = n_samples) # 3-D\n",
    "        np.random.shuffle(X)    \n",
    "        y = np.sin(X[:,0]) - 5*(X[:,1]**2) + 0.5*X[:,2] # 3-D\n",
    "\n",
    "    # Stack them together vertically to split data set\n",
    "    data_set = np.vstack((X.T,y)).T\n",
    "    \n",
    "    train, validation, test = np.split(data_set, [int(0.35*n_samples), int(0.7*n_samples)], axis=0)\n",
    "    \n",
    "    # Standardization of the data, remember we do the standardization with the training set mean and standard deviation\n",
    "    train_mu = np.mean(train, axis=0)\n",
    "    train_sigma = np.std(train, axis=0)\n",
    "    \n",
    "    train = (train-train_mu)/train_sigma\n",
    "    validation = (validation-train_mu)/train_sigma\n",
    "    test = (test-train_mu)/train_sigma\n",
    "    \n",
    "    x_train, x_validation, x_test = train[:,:-1], validation[:,:-1], test[:,:-1]\n",
    "    y_train, y_validation, y_test = train[:,-1], validation[:,-1], test[:,-1]\n",
    "\n",
    "    return x_train, y_train,  x_validation, y_validation, x_test, y_test"
   ]
  },
  {
   "cell_type": "code",
   "execution_count": 131,
   "metadata": {
    "id": "u1oDngHLapIz",
    "pycharm": {
     "name": "#%%\n"
    }
   },
   "outputs": [],
   "source": [
    "D1 = True\n",
    "x_train, y_train,  x_validation, y_validation, x_test, y_test = data_generator(noise=0.5, D1=D1)"
   ]
  },
  {
   "cell_type": "code",
   "execution_count": 132,
   "metadata": {
    "colab": {
     "base_uri": "https://localhost:8080/",
     "height": 265
    },
    "id": "Ysfa3FsBavlm",
    "outputId": "399e5382-ae7d-48f6-9774-7ea4c73e7d95",
    "pycharm": {
     "name": "#%%\n"
    }
   },
   "outputs": [
    {
     "data": {
      "text/plain": "<Figure size 432x288 with 1 Axes>",
      "image/png": "[encoded data removed]"
     },
     "metadata": {
      "needs_background": "light"
     },
     "output_type": "display_data"
    }
   ],
   "source": [
    "if D1:\n",
    "    plt.scatter(x_train[:,0], y_train);\n",
    "    plt.scatter(x_validation[:,0], y_validation);\n",
    "    plt.scatter(x_test[:,0], y_test);\n",
    "else:\n",
    "    plt.scatter(x_train[:,1], y_train);\n",
    "    plt.scatter(x_validation[:,1], y_validation);\n",
    "    plt.scatter(x_test[:,1], y_test);\n",
    "plt.show()"
   ]
  },
  {
   "cell_type": "code",
   "execution_count": 133,
   "metadata": {
    "id": "zac2HHNlgbpm",
    "pycharm": {
     "name": "#%%\n"
    }
   },
   "outputs": [],
   "source": [
    "# convert from nparray to Var\n",
    "def nparray_to_Var(x):\n",
    "  if x.ndim==1:\n",
    "    y = [[Var(float(x[i]))] for i in range(x.shape[0])] # always work with list of list\n",
    "  else:\n",
    "    y = [[Var(float(x[i,j])) for j in range(x.shape[1])] for i in range(x.shape[0])]\n",
    "  return y\n",
    "   \n",
    "x_train = nparray_to_Var(x_train)\n",
    "y_train = nparray_to_Var(y_train)\n",
    "x_validation = nparray_to_Var(x_validation)\n",
    "y_validation = nparray_to_Var(y_validation)\n",
    "x_test = nparray_to_Var(x_test)\n",
    "y_test = nparray_to_Var(y_test)\n"
   ]
  },
  {
   "cell_type": "markdown",
   "metadata": {
    "id": "VbjrqcpVFtGe",
    "pycharm": {
     "name": "#%% md\n"
    }
   },
   "source": [
    "# Defining and initializing the network\n",
    "\n",
    "The steps to create a feed forward neural network are the following:\n",
    "\n",
    "1. **Number of hidden layer and hidden units**. We have to define the number of hidden units in each layer. The number of features in X and the output dimensionality (the size of Y) are given but the numbers in between are set by the researcher. Remember that for each unit in each layer beside in the input has a bias term.\n",
    "2. **Activation functions** for each hidden layer. Each hidden layer in your list must have an activation function (it can also be the linear activation which is equivalent to identity function). The power of neural networks comes from non-linear activation functions that learn representations (features) from the data allowing us to learn from it. \n",
    "3. **Parameter initialization**. We will initialize the weights to have random values. This is done in practice by drawing pseudo random numbers from a Gaussian or uniform distribution. It turns out that for deeper models we have to be careful about how we scale the random numbers. This will be the topic of the exercise below. For now we will just use unit variance Gaussians.  \n",
    "\n",
    "In order to make life easier for ourselves we define a DenseLayer class that takes care of initialization and the forward pass. We can also extend it later with print and advanced initialization capabilities. For the latter we have introduced a Initializer class.\n",
    "\n",
    "Note that we use Sequence in the code below. A Sequence is an ordered list. This means the order we insert and access items are the same."
   ]
  },
  {
   "cell_type": "code",
   "execution_count": 134,
   "metadata": {
    "id": "ij_ieRsAt7Xt",
    "pycharm": {
     "name": "#%%\n"
    }
   },
   "outputs": [],
   "source": [
    "class Initializer:\n",
    "\n",
    "  def init_weights(self, n_in, n_out):\n",
    "    raise NotImplementedError\n",
    "\n",
    "  def init_bias(self, n_out):\n",
    "    raise NotImplementedError"
   ]
  },
  {
   "cell_type": "code",
   "execution_count": 135,
   "metadata": {
    "id": "eb18N5phuIha",
    "pycharm": {
     "name": "#%%\n"
    }
   },
   "outputs": [],
   "source": [
    "import random\n",
    "\n",
    "class NormalInitializer(Initializer):\n",
    "\n",
    "  def __init__(self, mean=0, std=0.1):\n",
    "    self.mean = mean\n",
    "    self.std = std\n",
    "\n",
    "  def init_weights(self, n_in, n_out):\n",
    "    return [[Var(random.gauss(self.mean, self.std)) for _ in range(n_out)] for _ in range(n_in)]\n",
    "\n",
    "  def init_bias(self, n_out):\n",
    "    return [Var(0.0) for _ in range(n_out)]\n",
    "\n",
    "class ConstantInitializer(Initializer):\n",
    "\n",
    "  def __init__(self, weight=1.0, bias=0.0):\n",
    "    self.weight = weight\n",
    "    self.bias = bias\n",
    "\n",
    "  def init_weights(self, n_in, n_out):\n",
    "    return [[Var(self.weight) for _ in range(n_out)] for _ in range(n_in)]\n",
    "\n",
    "  def init_bias(self, n_out):\n",
    "    return [Var(self.bias) for _ in range(n_out)]"
   ]
  },
  {
   "cell_type": "code",
   "execution_count": 136,
   "metadata": {
    "id": "jOLYGnZKuM6W",
    "pycharm": {
     "name": "#%%\n"
    }
   },
   "outputs": [],
   "source": [
    "from typing import Sequence\n",
    "\n",
    "class DenseLayer:\n",
    "    def __init__(self, n_in: int, n_out: int, act_fn, initializer = NormalInitializer()):\n",
    "        self.weights = initializer.init_weights(n_in, n_out)\n",
    "        self.bias = initializer.init_bias(n_out)\n",
    "        self.act_fn = act_fn\n",
    "    \n",
    "    def __repr__(self):    \n",
    "        return 'Weights: ' + repr(self.weights) + ' Biases: ' + repr(self.bias)\n",
    "\n",
    "    def parameters(self) -> Sequence[Var]:\n",
    "      params = []\n",
    "      for r in self.weights:\n",
    "        params += r\n",
    "\n",
    "      return params + self.bias\n",
    "\n",
    "    def forward(self, single_input: Sequence[Var]) -> Sequence[Var]:\n",
    "        # self.weights is a matrix with dimension n_in x n_out. We check that the dimensionality of the input \n",
    "        # to the current layer matches the number of nodes in the current layer\n",
    "        assert len(self.weights) == len(single_input), \"weights and single_input must match in first dimension\"\n",
    "        weights = self.weights\n",
    "        out = []\n",
    "        # For some given data point single_input, we now want to calculate the resulting value in each node in the current layer\n",
    "        # We therefore loop over the (number of) nodes in the current layer:\n",
    "        for j in range(len(weights[0])):\n",
    "            # Initialize the node value depending on its corresponding parameters.\n",
    "            node = Var(0.0) # <- Insert code\n",
    "            # We now finish the linear transformation corresponding to the parameters of the currently considered node.\n",
    "            for i in range(len(single_input)):\n",
    "                node += single_input[i] * self.weights[i][j]  # <- Insert code\n",
    "            node = self.act_fn(node)\n",
    "            out.append(node)\n",
    "\n",
    "        return out"
   ]
  },
  {
   "cell_type": "markdown",
   "metadata": {
    "id": "jpIZPBpNI0pO",
    "pycharm": {
     "name": "#%% md\n"
    }
   },
   "source": [
    "## Exercise f) Add more activation functions\n",
    "\n",
    "To have a full definition of the neural network, we must define an activation function for every layer. Several activation functions have been proposed and have different characteristics. In the Var class we have already defined the rectified linear init (relu). \n",
    " \n",
    "Implement the following activation functions in the Var class:\n",
    "\n",
    "* Identity: $$\\mathrm{identity}(x) = x$$\n",
    "* Hyperbolic tangent: $$\\tanh(x)$$\n",
    "* Sigmoid (or logistic function): $$\\mathrm{sigmoid}(x) = \\frac{1}{1.0 + \\exp(-x ) }$$  Hint: $\\mathrm{sigmoid}'(x)= \\mathrm{sigmoid}(x)(1-\\mathrm{sigmoid}(x))$.  \n",
    "\n",
    "Hint: You can seek inspiration in the relu method in the Var class."
   ]
  },
  {
   "cell_type": "markdown",
   "metadata": {
    "id": "p_8n_SKnIW2F",
    "pycharm": {
     "name": "#%% md\n"
    }
   },
   "source": [
    "## Exercise g) Complete the forward pass\n",
    "\n",
    "In the code below we initialize a 1-5-1 network and pass the training set through it. *The forward method in DenseLayer is **not** complete*. It just outputs zeros right now. The method forward should perform an [affine transformation](https://en.wikipedia.org/wiki/Affine_transformation) on the input followed by an application of the activation function."
   ]
  },
  {
   "cell_type": "code",
   "execution_count": 137,
   "metadata": {
    "colab": {
     "base_uri": "https://localhost:8080/",
     "height": 337
    },
    "id": "xDEjtePxE7Mv",
    "outputId": "753406cd-d8a1-4282-ce03-25ad959b0e11",
    "pycharm": {
     "name": "#%%\n"
    }
   },
   "outputs": [
    {
     "name": "stdout",
     "output_type": "stream",
     "text": [
      "[[Var(v=-0.0239, grad=0.0000)], [Var(v=-0.0481, grad=0.0000)], [Var(v=-0.0044, grad=0.0000)], [Var(v=-0.0101, grad=0.0000)], [Var(v=-0.0355, grad=0.0000)], [Var(v=-0.0328, grad=0.0000)], [Var(v=-0.0213, grad=0.0000)], [Var(v=-0.0024, grad=0.0000)], [Var(v=-0.0104, grad=0.0000)], [Var(v=-0.0132, grad=0.0000)], [Var(v=-0.0370, grad=0.0000)], [Var(v=-0.0064, grad=0.0000)], [Var(v=-0.0297, grad=0.0000)], [Var(v=-0.0073, grad=0.0000)], [Var(v=-0.0159, grad=0.0000)], [Var(v=-0.0309, grad=0.0000)], [Var(v=-0.0570, grad=0.0000)], [Var(v=-0.0270, grad=0.0000)], [Var(v=-0.0028, grad=0.0000)], [Var(v=-0.0094, grad=0.0000)], [Var(v=-0.0048, grad=0.0000)], [Var(v=-0.0021, grad=0.0000)], [Var(v=-0.0416, grad=0.0000)], [Var(v=-0.0420, grad=0.0000)], [Var(v=-0.0028, grad=0.0000)], [Var(v=-0.0075, grad=0.0000)], [Var(v=-0.0539, grad=0.0000)], [Var(v=-0.0593, grad=0.0000)], [Var(v=-0.0063, grad=0.0000)], [Var(v=-0.0374, grad=0.0000)], [Var(v=-0.0095, grad=0.0000)], [Var(v=-0.0090, grad=0.0000)], [Var(v=-0.0082, grad=0.0000)], [Var(v=-0.0089, grad=0.0000)], [Var(v=-0.0286, grad=0.0000)], [Var(v=-0.0017, grad=0.0000)], [Var(v=-0.0102, grad=0.0000)], [Var(v=-0.0039, grad=0.0000)], [Var(v=-0.0072, grad=0.0000)], [Var(v=-0.0052, grad=0.0000)], [Var(v=-0.0036, grad=0.0000)], [Var(v=-0.0049, grad=0.0000)], [Var(v=-0.0558, grad=0.0000)], [Var(v=-0.0062, grad=0.0000)], [Var(v=-0.0049, grad=0.0000)], [Var(v=-0.0059, grad=0.0000)], [Var(v=-0.0358, grad=0.0000)], [Var(v=-0.0339, grad=0.0000)], [Var(v=-0.0023, grad=0.0000)], [Var(v=-0.0347, grad=0.0000)], [Var(v=-0.0151, grad=0.0000)], [Var(v=-0.0013, grad=0.0000)], [Var(v=-0.0378, grad=0.0000)], [Var(v=-0.0050, grad=0.0000)], [Var(v=-0.0600, grad=0.0000)], [Var(v=-0.0527, grad=0.0000)], [Var(v=-0.0033, grad=0.0000)], [Var(v=-0.0037, grad=0.0000)], [Var(v=-0.0197, grad=0.0000)], [Var(v=-0.0088, grad=0.0000)], [Var(v=-0.0351, grad=0.0000)], [Var(v=-0.0062, grad=0.0000)], [Var(v=-0.0103, grad=0.0000)], [Var(v=-0.0170, grad=0.0000)], [Var(v=-0.0124, grad=0.0000)], [Var(v=-0.0085, grad=0.0000)], [Var(v=-0.0091, grad=0.0000)], [Var(v=-0.0443, grad=0.0000)], [Var(v=-0.0065, grad=0.0000)], [Var(v=-0.0174, grad=0.0000)], [Var(v=-0.0025, grad=0.0000)], [Var(v=-0.0011, grad=0.0000)], [Var(v=-0.0343, grad=0.0000)], [Var(v=-0.0201, grad=0.0000)], [Var(v=-0.0009, grad=0.0000)], [Var(v=-0.0543, grad=0.0000)], [Var(v=-0.0045, grad=0.0000)], [Var(v=-0.0043, grad=0.0000)], [Var(v=-0.0057, grad=0.0000)], [Var(v=-0.0566, grad=0.0000)], [Var(v=-0.0086, grad=0.0000)], [Var(v=-0.0051, grad=0.0000)], [Var(v=-0.0093, grad=0.0000)], [Var(v=-0.0013, grad=0.0000)], [Var(v=-0.0047, grad=0.0000)], [Var(v=-0.0020, grad=0.0000)], [Var(v=-0.0017, grad=0.0000)], [Var(v=-0.0052, grad=0.0000)], [Var(v=-0.0096, grad=0.0000)], [Var(v=-0.0100, grad=0.0000)], [Var(v=-0.0205, grad=0.0000)], [Var(v=-0.0030, grad=0.0000)], [Var(v=-0.0056, grad=0.0000)], [Var(v=-0.0320, grad=0.0000)], [Var(v=-0.0079, grad=0.0000)], [Var(v=-0.0095, grad=0.0000)], [Var(v=-0.0147, grad=0.0000)], [Var(v=-0.0024, grad=0.0000)], [Var(v=-0.0512, grad=0.0000)], [Var(v=-0.0056, grad=0.0000)], [Var(v=-0.0335, grad=0.0000)], [Var(v=-0.0055, grad=0.0000)], [Var(v=-0.0084, grad=0.0000)], [Var(v=-0.0163, grad=0.0000)], [Var(v=-0.0477, grad=0.0000)]]\n"
     ]
    }
   ],
   "source": [
    "NN = [\n",
    "    DenseLayer(1, 5, lambda x: x.relu()),\n",
    "    DenseLayer(5, 1, lambda x: x.identity())\n",
    "]\n",
    "\n",
    "def forward(input, network):\n",
    "\n",
    "  def forward_single(x, network):\n",
    "    for layer in network:\n",
    "        x = layer.forward(x)\n",
    "    return x\n",
    "\n",
    "  output = [forward_single(input[n], network) for n in range(len(input))]\n",
    "  return output\n",
    "\n",
    "print(forward(x_train, NN))"
   ]
  },
  {
   "cell_type": "markdown",
   "source": [
    "Since we don't do backpropagation we don't see any gradients."
   ],
   "metadata": {
    "collapsed": false,
    "pycharm": {
     "name": "#%% md\n"
    }
   }
  },
  {
   "cell_type": "markdown",
   "metadata": {
    "id": "oLrGJytZFtGm",
    "pycharm": {
     "name": "#%% md\n"
    }
   },
   "source": [
    "## Exercise h) Print all network parameters\n",
    "\n",
    "Make a function that prints all the parameters of the network (weights and biases) with information about in which layer the appear. In the object oriented spirit you should introduce a method in the DenseLayer class to print the parameters of a layer. Hint: You can take inspiration from the corresponding method in Var. "
   ]
  },
  {
   "cell_type": "code",
   "execution_count": 138,
   "metadata": {
    "id": "iac-VwYGFtGm",
    "pycharm": {
     "name": "#%%\n"
    }
   },
   "outputs": [
    {
     "name": "stdout",
     "output_type": "stream",
     "text": [
      "Layer: 1 \n",
      " Weights: [[Var(v=0.0175, grad=0.0000), Var(v=-0.0898, grad=0.0000), Var(v=0.1957, grad=0.0000), Var(v=0.0012, grad=0.0000), Var(v=0.0981, grad=0.0000)]] Biases: [Var(v=0.0000, grad=0.0000), Var(v=0.0000, grad=0.0000), Var(v=0.0000, grad=0.0000), Var(v=0.0000, grad=0.0000), Var(v=0.0000, grad=0.0000)] \n",
      "\n",
      "Layer: 2 \n",
      " Weights: [[Var(v=-0.1217, grad=0.0000)], [Var(v=-0.0737, grad=0.0000)], [Var(v=-0.1807, grad=0.0000)], [Var(v=-0.1445, grad=0.0000)], [Var(v=0.0456, grad=0.0000)]] Biases: [Var(v=0.0000, grad=0.0000)] \n",
      "\n"
     ]
    }
   ],
   "source": [
    "# Function for printing network parameters\n",
    "def layer_networks(NN = NN):\n",
    "  for i, l in enumerate(NN):\n",
    "    print('Layer:', i+1, '\\n', l, '\\n')\n",
    "\n",
    "# by running this function all the parameters of the network and the belonging layer is printed\n",
    "layer_networks()"
   ]
  },
  {
   "cell_type": "markdown",
   "metadata": {
    "id": "_79HOAXrFtHK",
    "pycharm": {
     "name": "#%% md\n"
    }
   },
   "source": [
    "## Visualization\n",
    "\n",
    "Now that we have defined our activation functions we can visualize them to see what they look like:"
   ]
  },
  {
   "cell_type": "code",
   "execution_count": 139,
   "metadata": {
    "id": "1FcylHqLTl-Z",
    "pycharm": {
     "name": "#%%\n"
    }
   },
   "outputs": [
    {
     "data": {
      "text/plain": "[<matplotlib.lines.Line2D at 0x12b61f910>]"
     },
     "execution_count": 139,
     "metadata": {},
     "output_type": "execute_result"
    },
    {
     "data": {
      "text/plain": "<Figure size 432x288 with 1 Axes>",
      "image/png": "[encoded data removed]"
     },
     "metadata": {
      "needs_background": "light"
     },
     "output_type": "display_data"
    }
   ],
   "source": [
    "x = np.linspace(-6, 6, 100)\n",
    "\n",
    "# convert from Var to ndarray  \n",
    "def Var_to_nparray(x):\n",
    "  y = np.zeros((len(x),len(x[0])))\n",
    "  for i in range(len(x)):\n",
    "    for j in range(len(x[0])):\n",
    "      y[i,j] = x[i][j].v\n",
    "  return y\n",
    "\n",
    "# define 1-1 network with weight = 1 and relu activation \n",
    "NN = [ DenseLayer(1, 1, lambda x: x.relu(), initializer = ConstantInitializer(1.0)) ] \n",
    "y = Var_to_nparray(forward(nparray_to_Var(x), NN))\n",
    "\n",
    "#y = Var_to_nparray(relu(nparray_to_Var(x)))\n",
    "plt.plot(x,y)"
   ]
  },
  {
   "cell_type": "code",
   "execution_count": 140,
   "metadata": {
    "id": "oOL2UolJFtHL",
    "pycharm": {
     "name": "#%%\n"
    }
   },
   "outputs": [
    {
     "data": {
      "text/plain": "<Figure size 360x360 with 1 Axes>",
      "image/png": "[encoded data removed]"
     },
     "metadata": {
      "needs_background": "light"
     },
     "output_type": "display_data"
    }
   ],
   "source": [
    "# Testing all activation layers\n",
    "\n",
    "x = np.linspace(-6, 6, 100)\n",
    "units = {\n",
    "    \"identity\": lambda x: x.identity(),\n",
    "    \"sigmoid\": lambda x: x.sigmoid(),\n",
    "    \"relu\": lambda x: x.relu(),\n",
    "    \"tanh\": lambda x: x.tanh()\n",
    "}\n",
    "\n",
    "plt.figure(figsize=(5, 5))\n",
    "[plt.plot(x, Var_to_nparray(forward(nparray_to_Var(x), [DenseLayer(1, 1, unit, initializer = ConstantInitializer(1.0))]) ), label=unit_name, lw=2) for unit_name, unit in units.items()] # unit(nparray_to_Var(x))), label=unit_name, lw=2) for unit_name, unit in units.items()]\n",
    "plt.legend(loc=2, fontsize=16)\n",
    "plt.title('Our activation functions', fontsize=20)\n",
    "plt.ylim([-2, 5])\n",
    "plt.xlim([-6, 6])\n",
    "plt.show()"
   ]
  },
  {
   "cell_type": "markdown",
   "metadata": {
    "id": "b-jdEl-7FtGs",
    "pycharm": {
     "name": "#%% md\n"
    }
   },
   "source": [
    "# Advanced initialization schemes\n",
    "\n",
    "If we are not careful with initialization, the signals we propagate forward ($a^{(l)}$, $l=1,\\ldots,L$) and backward ($\\delta^l$, $l=L,L-1,\\ldots,1$) can blow up or shrink to zero. A statistical analysis of the variance of the signals for different activation functions can be found in these two papers: [Glorot initialization](http://proceedings.mlr.press/v9/glorot10a/glorot10a.pdf) and [He initialization](https://arxiv.org/pdf/1502.01852v1.pdf). \n",
    "\n",
    "The result of the analyses are proposals for how to make the initialization such that the variance of the signals (forward and backward) are kept approxmimatly constant when propagating from layer to layer. The exact expressions depend upon the non-linear activation function used. In Glorot initialization, the aim is to keep both the forward and backward variances constant whereas He only aims at keeping the variance in the forward pass constant.\n",
    "\n",
    "We define $n_{in}$ and $n_{out}$ as the number of input units and output units of a particular layer. \n",
    "\n",
    "The Glorot initialization has the form: \n",
    "\n",
    "$$w_{ij} \\sim N \\bigg( 0, \\, \\frac{2 \\alpha }{n_{in} + n_{out}} \\bigg) \\ . $$\n",
    "\n",
    "where $N(\\mu,\\sigma^2)$ is a Gaussian distribution with mean $\\mu$ and variance $\\sigma^2$ and $\\alpha$ is a parameter that depends upon the activation function used. For $\\tanh$, $\\alpha=1$ and for Rectified Linear Unit (ReLU) activations, $\\alpha=2$. (It is also possible to use a uniform distribution for initialization, see [this blog post](https://mmuratarat.github.io/2019-02-25/xavier-glorot-he-weight-init).) \n",
    "\n",
    "The He initialization is very similar\n",
    "\n",
    "$$w_{ij} \\sim N \\bigg( 0, \\, \\frac{\\alpha}{n_{in}} \\bigg) \\ . $$"
   ]
  },
  {
   "cell_type": "markdown",
   "metadata": {
    "id": "mqeyab9qFtGs",
    "pycharm": {
     "name": "#%% md\n"
    }
   },
   "source": [
    "## Exercise i) Glorot and He initialization\n",
    " \n",
    "Using the Initializer class, implement functions that implement Glorot and He \n",
    "\n",
    "Explain briefly how you would test numerically that these initializations have the sought after property. Hint: See plots in Glorot paper.\n",
    "\n",
    "Comment: If you want to be more advanced then try to make a universal initializer taking both the activation function and type (Glorot or He) as argument."
   ]
  },
  {
   "cell_type": "code",
   "execution_count": 141,
   "metadata": {
    "id": "Qyk01CgaFtGt",
    "pycharm": {
     "name": "#%%\n"
    }
   },
   "outputs": [],
   "source": [
    "## Glorot\n",
    "def DenseLayer_Glorot_tanh(n_in: int, n_out: int):\n",
    "  std = sqrt(2*1/(n_in + n_out)) # 0.0 # <- replace with proper initialization\n",
    "  return DenseLayer(n_in, n_out, lambda x: x.tanh(), initializer = NormalInitializer(std))\n",
    "\n",
    "## He\n",
    "def DenseLayer_He_relu(n_in: int, n_out: int):\n",
    "  std = sqrt(2/n_in) # 0.0 # <- replace with proper initialization\n",
    "  return DenseLayer(n_in, n_out, lambda x: x.relu(), initializer = NormalInitializer(std))"
   ]
  },
  {
   "cell_type": "markdown",
   "source": [
    "### Testing numerically\n",
    "The Glorot paper and plots suggest visualizing the distribution of the gradients using the initializer."
   ],
   "metadata": {
    "collapsed": false,
    "pycharm": {
     "name": "#%% md\n"
    }
   }
  },
  {
   "cell_type": "markdown",
   "metadata": {
    "id": "-XyXBD37FtHk",
    "pycharm": {
     "name": "#%% md\n"
    }
   },
   "source": [
    "## Exercise j) Forward pass unit test\n",
    "\n",
    "Write a bit of code to make a unit test that the forward pass works. This can be done by defining a simple network with for example all weights equal to one (using the ConstantInitializer method) and identity activation functions. \n",
    "\n",
    "Hints: Use the [assert](https://www.w3schools.com/python/ref_keyword_assert.asp), the nparray_to_Var and the Var_to_nparray commands. "
   ]
  },
  {
   "cell_type": "code",
   "execution_count": 176,
   "metadata": {
    "id": "k0miqRUAFtHl",
    "pycharm": {
     "name": "#%%\n"
    }
   },
   "outputs": [
    {
     "data": {
      "text/plain": "<Figure size 432x288 with 1 Axes>",
      "image/png": "[encoded data removed]"
     },
     "metadata": {
      "needs_background": "light"
     },
     "output_type": "display_data"
    }
   ],
   "source": [
    "# define 1-1 network with weight = 1 and relu/identity activation\n",
    "\n",
    "# Setting all the weights to 1.0 by using the ConstantInitializer\n",
    "NN = [DenseLayer(1, 1, lambda x: x.identity(), initializer = ConstantInitializer(1.0)) ]  # x.identity?\n",
    "y = Var_to_nparray(forward(nparray_to_Var(x), NN))\n",
    "\n",
    "assert x.all() == y.all()\n",
    "\n",
    "plt.plot(y)\n",
    "plt.show()"
   ]
  },
  {
   "cell_type": "markdown",
   "metadata": {
    "id": "faCxhfFnFtHp",
    "pycharm": {
     "name": "#%% md\n"
    }
   },
   "source": [
    "# Loss functions\n",
    "\n",
    "We are only missing a loss function to we need to define a loss function and its derivative with respect to the output of the neural network $y$"
   ]
  },
  {
   "cell_type": "code",
   "execution_count": 143,
   "metadata": {
    "id": "I2eDYKvAFtHq",
    "pycharm": {
     "name": "#%%\n"
    }
   },
   "outputs": [],
   "source": [
    "def squared_loss(t, y):\n",
    "  \n",
    "  # add check that sizes agree\n",
    "  \n",
    "  def squared_loss_single(t, y):\n",
    "    Loss = Var(0.0)\n",
    "    for i in range(len(t)): # sum over outputs\n",
    "      Loss += (t[i]-y[i]) ** 2\n",
    "    return Loss\n",
    "\n",
    "  Loss = Var(0.0)\n",
    "  for n in range(len(t)): # sum over training data\n",
    "    Loss += squared_loss_single(t[n],y[n])\n",
    "  return Loss"
   ]
  },
  {
   "cell_type": "markdown",
   "metadata": {
    "id": "SrwSJ2UWFtHu",
    "pycharm": {
     "name": "#%% md\n"
    }
   },
   "source": [
    "## Exercise k) Implement cross entropy loss\n",
    "\n",
    "Insert code below to implement cross-entropy loss for general dimensionality of $t$. Use a logits formulation:\n",
    "$$\n",
    "\\rm{Loss} = - \\sum_i t_i \\, log \\, p_i \n",
    "$$\n",
    "with $p$ given by the the softmax function in terms of the logits $h$:\n",
    "$$\n",
    "p_i = \\frac{\\exp(h_i)}{\\sum_{i'} \\exp(h_{i'})} .\n",
    "$$\n",
    "Inserting $p$ in the expression for the loss gives\n",
    "$$\n",
    "\\rm{Loss} = - \\sum_i t_i h_i + \\rm{LogSumExp}(h) \\ ,\n",
    "$$\n",
    "where \n",
    "$$\n",
    "\\rm{LogSumExp}(h) = \\log \\sum_i \\exp h_i \\ .\n",
    "$$\n",
    "This is true for $t$ being a one-hot vector. \n",
    "\n",
    "Call the function to convince yourself it works. \n",
    "\n",
    "In practice you want to implement a [numerically stable](https://leimao.github.io/blog/LogSumExp/) version of LogSumExp. But we will not bother about that here.\n",
    "\n",
    "Help: You can add these methods in the Var class:\n",
    "\n",
    "    def exp(self):\n",
    "        return Var(exp(self.v), lambda: [(self, exp(self.v))])\n",
    "    \n",
    "    def log(self):\n",
    "        return Var(log(self.v), lambda: [(self, self.v ** -1)])"
   ]
  },
  {
   "cell_type": "code",
   "execution_count": 144,
   "metadata": {
    "id": "6nMuxyfzFtHv",
    "pycharm": {
     "name": "#%%\n"
    }
   },
   "outputs": [],
   "source": [
    "def cross_entropy_loss(t, h):\n",
    "     \n",
    "    Loss = Var(0.0)\n",
    "\n",
    "    # Insert code here\n",
    "    for i in range(1, len(t)-1):\n",
    "        print(i)\n",
    "        Loss -= t[i][0].v*h[i][0].v + log(exp(h[i][0].v))\n",
    "\n",
    "    return Loss"
   ]
  },
  {
   "cell_type": "markdown",
   "metadata": {
    "id": "8fAF5ew4FtHy",
    "pycharm": {
     "name": "#%% md\n"
    }
   },
   "source": [
    "# Backward pass\n",
    "\n",
    "Now the magic happens! We get the calculation of the gradients for free. Just do:"
   ]
  },
  {
   "cell_type": "code",
   "execution_count": 145,
   "metadata": {
    "id": "iHyfPPI9Qqwu",
    "pycharm": {
     "name": "#%%\n"
    }
   },
   "outputs": [],
   "source": [
    "NN = [\n",
    "    DenseLayer(1, 5, lambda x: x.relu()),\n",
    "    DenseLayer(5, 1, lambda x: x.identity())\n",
    "]\n",
    "\n",
    "output = forward(x_train, NN)\n",
    "\n",
    "Loss = squared_loss(y_train,output)\n",
    "Loss.backward()"
   ]
  },
  {
   "cell_type": "markdown",
   "metadata": {
    "id": "49biIAYKQ1oG",
    "pycharm": {
     "name": "#%% md\n"
    }
   },
   "source": [
    "and the gradients will be calculated:"
   ]
  },
  {
   "cell_type": "code",
   "execution_count": 146,
   "metadata": {
    "id": "_rGt1bq_Q7uk",
    "pycharm": {
     "name": "#%%\n"
    }
   },
   "outputs": [
    {
     "name": "stdout",
     "output_type": "stream",
     "text": [
      "Layer 0 \n",
      " Weights: [[Var(v=-0.0268, grad=1.0034), Var(v=-0.1024, grad=-5.6578), Var(v=-0.1554, grad=1.3608), Var(v=0.0072, grad=20.3482), Var(v=-0.1430, grad=-14.1611)]] Biases: [Var(v=0.0000, grad=0.0000), Var(v=0.0000, grad=0.0000), Var(v=0.0000, grad=0.0000), Var(v=0.0000, grad=0.0000), Var(v=0.0000, grad=0.0000)]\n",
      "Layer 1 \n",
      " Weights: [[Var(v=-0.0102, grad=2.6355)], [Var(v=0.0575, grad=10.0806)], [Var(v=-0.0138, grad=15.2892)], [Var(v=-0.2000, grad=-0.7308)], [Var(v=0.1439, grad=14.0718)]] Biases: [Var(v=0.0000, grad=0.0000)]\n"
     ]
    },
    {
     "data": {
      "text/plain": "[None, None]"
     },
     "execution_count": 146,
     "metadata": {},
     "output_type": "execute_result"
    }
   ],
   "source": [
    "[print('Layer', i, '\\n', NN[i]) for i in range(len(NN))] "
   ]
  },
  {
   "cell_type": "markdown",
   "metadata": {
    "id": "D7d7qK0uFtH9",
    "pycharm": {
     "name": "#%% md\n"
    }
   },
   "source": [
    "# Backward pass unit test\n",
    "\n",
    "Above we used finite differences to test that Nanograd is actually doing what it is supposed to do. We can in principle try the same for the neural network. But we will trust that the test above is enough."
   ]
  },
  {
   "cell_type": "markdown",
   "metadata": {
    "id": "WgBi8GOSFtIN",
    "pycharm": {
     "name": "#%% md\n"
    }
   },
   "source": [
    "# Training and validation\n",
    "\n",
    "We are ready to train some neural networks!\n",
    "\n",
    "We initialize again:"
   ]
  },
  {
   "cell_type": "code",
   "execution_count": 147,
   "metadata": {
    "id": "01ePmzBzRtdh",
    "pycharm": {
     "name": "#%%\n"
    }
   },
   "outputs": [],
   "source": [
    "NN = [\n",
    "    DenseLayer(1, 15, lambda x: x.relu()),\n",
    "    DenseLayer(15, 50, lambda x: x.relu()),\n",
    "    DenseLayer(50, 1, lambda x: x.identity())\n",
    "]\n",
    "\n",
    "output = forward(x_train, NN)\n",
    "\n",
    "Loss = squared_loss(y_train,output)\n",
    "Loss.backward()"
   ]
  },
  {
   "cell_type": "markdown",
   "metadata": {
    "id": "10iRPiQ1ISHw",
    "pycharm": {
     "name": "#%% md\n"
    }
   },
   "source": [
    "and make an update:\n",
    "\n",
    "We introduce a help function parameters to have a handle in all parameters in the network."
   ]
  },
  {
   "cell_type": "code",
   "execution_count": 148,
   "metadata": {
    "id": "dhAI7eyeznia",
    "pycharm": {
     "name": "#%%\n"
    }
   },
   "outputs": [
    {
     "name": "stdout",
     "output_type": "stream",
     "text": [
      "Network before update:\n",
      "Layer 0 \n",
      " Weights: [[Var(v=-0.0318, grad=5.0696), Var(v=-0.0097, grad=7.7073), Var(v=0.0378, grad=1.0313), Var(v=-0.0887, grad=-2.2368), Var(v=-0.0617, grad=-0.4791), Var(v=0.0568, grad=-1.0635), Var(v=0.1648, grad=1.4295), Var(v=0.2540, grad=0.0042), Var(v=-0.1651, grad=-7.3803), Var(v=-0.1155, grad=-1.9292), Var(v=-0.0125, grad=-9.7661), Var(v=-0.0903, grad=6.4798), Var(v=-0.0503, grad=0.6382), Var(v=0.1346, grad=-3.6520), Var(v=0.0462, grad=3.8960)]] Biases: [Var(v=0.0000, grad=0.0000), Var(v=0.0000, grad=0.0000), Var(v=0.0000, grad=0.0000), Var(v=0.0000, grad=0.0000), Var(v=0.0000, grad=0.0000), Var(v=0.0000, grad=0.0000), Var(v=0.0000, grad=0.0000), Var(v=0.0000, grad=0.0000), Var(v=0.0000, grad=0.0000), Var(v=0.0000, grad=0.0000), Var(v=0.0000, grad=0.0000), Var(v=0.0000, grad=0.0000), Var(v=0.0000, grad=0.0000), Var(v=0.0000, grad=0.0000), Var(v=0.0000, grad=0.0000)]\n",
      "Layer 1 \n",
      " Weights: [[Var(v=-0.0005, grad=-0.1869), Var(v=0.0094, grad=-0.9459), Var(v=-0.0623, grad=0.0055), Var(v=0.1110, grad=0.0000), Var(v=0.0356, grad=0.0000), Var(v=-0.0616, grad=0.0000), Var(v=-0.0243, grad=0.0000), Var(v=-0.0491, grad=-0.1342), Var(v=-0.0097, grad=-0.2562), Var(v=0.0977, grad=0.0000), Var(v=0.0805, grad=0.3683), Var(v=0.0603, grad=0.0000), Var(v=0.1215, grad=0.0941), Var(v=-0.0822, grad=0.0000), Var(v=-0.1348, grad=0.1912), Var(v=0.1443, grad=0.0000), Var(v=-0.0186, grad=0.3624), Var(v=0.0193, grad=-0.1118), Var(v=0.0008, grad=-0.1002), Var(v=-0.0330, grad=0.5684), Var(v=-0.1858, grad=0.0000), Var(v=-0.0477, grad=0.5639), Var(v=0.0529, grad=0.4141), Var(v=-0.1199, grad=-0.2019), Var(v=0.0996, grad=0.0000), Var(v=0.0459, grad=0.0000), Var(v=-0.1662, grad=0.0000), Var(v=0.0907, grad=0.0000), Var(v=-0.1487, grad=0.0000), Var(v=0.0141, grad=0.0000), Var(v=0.0275, grad=0.0000), Var(v=0.0881, grad=0.0000), Var(v=-0.0877, grad=-0.1887), Var(v=0.0463, grad=0.2236), Var(v=0.0285, grad=0.0000), Var(v=0.0890, grad=0.0793), Var(v=0.1074, grad=0.0000), Var(v=0.0039, grad=0.0000), Var(v=-0.0462, grad=0.0000), Var(v=0.0468, grad=0.4227), Var(v=-0.2818, grad=0.3869), Var(v=-0.2077, grad=0.0000), Var(v=-0.1044, grad=0.0000), Var(v=-0.0152, grad=0.0000), Var(v=-0.0214, grad=-0.2697), Var(v=-0.0934, grad=0.0000), Var(v=0.0624, grad=0.0000), Var(v=0.0739, grad=-0.0779), Var(v=0.0794, grad=0.0213), Var(v=0.1793, grad=-0.6382)], [Var(v=-0.1371, grad=-0.0567), Var(v=0.0296, grad=-0.2870), Var(v=0.0816, grad=0.0017), Var(v=0.0260, grad=0.0000), Var(v=0.0092, grad=0.0000), Var(v=-0.0065, grad=0.0000), Var(v=-0.0730, grad=0.0000), Var(v=-0.0080, grad=-0.0407), Var(v=-0.0573, grad=-0.0777), Var(v=-0.0215, grad=0.0000), Var(v=-0.0117, grad=0.1118), Var(v=-0.0867, grad=0.0000), Var(v=-0.2094, grad=0.0286), Var(v=-0.0568, grad=0.0000), Var(v=0.1657, grad=0.0580), Var(v=0.0800, grad=0.0000), Var(v=-0.1953, grad=0.1100), Var(v=0.0599, grad=-0.0339), Var(v=0.0809, grad=-0.0304), Var(v=0.1329, grad=0.1725), Var(v=0.0917, grad=0.0000), Var(v=-0.2965, grad=0.1711), Var(v=0.0531, grad=0.1256), Var(v=-0.0971, grad=-0.0613), Var(v=0.1092, grad=0.0000), Var(v=0.0583, grad=0.0000), Var(v=-0.0196, grad=0.0000), Var(v=0.0049, grad=0.0000), Var(v=0.0161, grad=0.0000), Var(v=-0.2358, grad=0.0000), Var(v=0.0681, grad=0.0000), Var(v=-0.0534, grad=0.0000), Var(v=-0.1662, grad=-0.0573), Var(v=0.0367, grad=0.0678), Var(v=0.0678, grad=0.0000), Var(v=-0.0824, grad=0.0240), Var(v=-0.0322, grad=0.0000), Var(v=-0.1133, grad=0.0000), Var(v=-0.1013, grad=0.0000), Var(v=-0.1038, grad=0.1283), Var(v=0.0228, grad=0.1174), Var(v=0.0788, grad=0.0000), Var(v=0.0151, grad=0.0000), Var(v=-0.2293, grad=0.0000), Var(v=0.1033, grad=-0.0818), Var(v=0.0409, grad=0.0000), Var(v=0.0514, grad=0.0000), Var(v=0.1415, grad=-0.0236), Var(v=0.1823, grad=0.0065), Var(v=0.1476, grad=-0.1937)], [Var(v=-0.1023, grad=0.2323), Var(v=0.1508, grad=0.0000), Var(v=0.0592, grad=-0.0068), Var(v=-0.1022, grad=0.0000), Var(v=0.0931, grad=0.0000), Var(v=-0.0032, grad=0.0000), Var(v=0.1298, grad=0.2125), Var(v=0.0543, grad=0.1667), Var(v=-0.1412, grad=0.0000), Var(v=0.0268, grad=0.0000), Var(v=-0.0350, grad=0.0000), Var(v=0.0369, grad=0.0601), Var(v=0.1956, grad=-0.1169), Var(v=0.1038, grad=0.0000), Var(v=0.0838, grad=0.0000), Var(v=-0.0453, grad=-0.5309), Var(v=0.0285, grad=-0.4504), Var(v=-0.0726, grad=0.0000), Var(v=-0.0738, grad=0.1246), Var(v=-0.0690, grad=-0.7063), Var(v=-0.1066, grad=-0.2733), Var(v=0.0297, grad=0.0000), Var(v=0.0055, grad=-0.5145), Var(v=0.0453, grad=0.0000), Var(v=-0.0596, grad=0.3931), Var(v=0.2090, grad=0.0340), Var(v=0.0299, grad=0.0000), Var(v=0.0506, grad=-0.1231), Var(v=0.1722, grad=-0.1969), Var(v=0.0262, grad=-0.6792), Var(v=0.0360, grad=-0.6294), Var(v=0.0112, grad=0.3164), Var(v=-0.1308, grad=0.2345), Var(v=-0.1209, grad=-0.2778), Var(v=0.0003, grad=0.0854), Var(v=0.0017, grad=0.0000), Var(v=-0.0023, grad=0.0000), Var(v=0.0612, grad=0.0000), Var(v=0.0572, grad=0.1029), Var(v=0.0978, grad=-0.5253), Var(v=-0.1380, grad=-0.4808), Var(v=0.0618, grad=0.4622), Var(v=-0.0352, grad=0.5398), Var(v=0.0706, grad=0.2289), Var(v=-0.1447, grad=0.0000), Var(v=-0.0862, grad=-0.3106), Var(v=0.0416, grad=0.0000), Var(v=-0.1332, grad=0.0968), Var(v=0.2208, grad=0.0000), Var(v=-0.2657, grad=0.0000)], [Var(v=0.0367, grad=-0.5212), Var(v=-0.0957, grad=-2.6373), Var(v=0.0187, grad=0.0153), Var(v=-0.1441, grad=0.0000), Var(v=-0.1036, grad=0.0000), Var(v=0.0199, grad=0.0000), Var(v=-0.1081, grad=0.0000), Var(v=0.0943, grad=-0.3741), Var(v=0.3163, grad=-0.7144), Var(v=-0.0918, grad=0.0000), Var(v=0.0687, grad=1.0269), Var(v=0.1191, grad=0.0000), Var(v=0.1072, grad=0.2624), Var(v=0.0904, grad=0.0000), Var(v=-0.0662, grad=0.5332), Var(v=-0.1740, grad=0.0000), Var(v=0.0052, grad=1.0105), Var(v=-0.0337, grad=-0.3118), Var(v=0.0363, grad=-0.2795), Var(v=0.0369, grad=1.5848), Var(v=-0.1068, grad=0.0000), Var(v=0.2106, grad=1.5722), Var(v=-0.1075, grad=1.1544), Var(v=-0.0224, grad=-0.5629), Var(v=-0.1948, grad=0.0000), Var(v=0.0456, grad=0.0000), Var(v=-0.0091, grad=0.0000), Var(v=-0.0421, grad=0.0000), Var(v=0.0467, grad=0.0000), Var(v=-0.1179, grad=0.0000), Var(v=0.0150, grad=0.0000), Var(v=-0.0492, grad=0.0000), Var(v=0.0942, grad=-0.5261), Var(v=-0.0023, grad=0.6233), Var(v=0.1131, grad=0.0000), Var(v=-0.0517, grad=0.2210), Var(v=0.2248, grad=0.0000), Var(v=0.0183, grad=0.0000), Var(v=0.0792, grad=0.0000), Var(v=0.0961, grad=1.1786), Var(v=-0.0432, grad=1.0788), Var(v=0.1918, grad=0.0000), Var(v=0.0754, grad=0.0000), Var(v=0.0735, grad=0.0000), Var(v=0.1164, grad=-0.7518), Var(v=-0.1781, grad=0.0000), Var(v=0.1059, grad=0.0000), Var(v=-0.0007, grad=-0.2171), Var(v=-0.1596, grad=0.0595), Var(v=0.0159, grad=-1.7794)], [Var(v=-0.1966, grad=-0.3625), Var(v=0.1680, grad=-1.8345), Var(v=0.0366, grad=0.0106), Var(v=-0.0015, grad=0.0000), Var(v=0.1171, grad=0.0000), Var(v=-0.0021, grad=0.0000), Var(v=0.0292, grad=0.0000), Var(v=-0.0070, grad=-0.2602), Var(v=0.0231, grad=-0.4969), Var(v=-0.0174, grad=0.0000), Var(v=0.0337, grad=0.7143), Var(v=-0.0169, grad=0.0000), Var(v=-0.1033, grad=0.1825), Var(v=0.0512, grad=0.0000), Var(v=0.0319, grad=0.3709), Var(v=0.1969, grad=0.0000), Var(v=-0.0117, grad=0.7029), Var(v=-0.1759, grad=-0.2169), Var(v=0.0312, grad=-0.1944), Var(v=-0.2084, grad=1.1024), Var(v=0.1201, grad=0.0000), Var(v=-0.0323, grad=1.0936), Var(v=0.1484, grad=0.8030), Var(v=0.1142, grad=-0.3916), Var(v=0.0312, grad=0.0000), Var(v=-0.0259, grad=0.0000), Var(v=0.0376, grad=0.0000), Var(v=-0.0773, grad=0.0000), Var(v=-0.0060, grad=0.0000), Var(v=-0.0462, grad=0.0000), Var(v=0.0848, grad=0.0000), Var(v=0.1648, grad=0.0000), Var(v=-0.1226, grad=-0.3660), Var(v=-0.1493, grad=0.4336), Var(v=-0.0724, grad=0.0000), Var(v=-0.0607, grad=0.1537), Var(v=-0.2216, grad=0.0000), Var(v=-0.0790, grad=0.0000), Var(v=-0.0001, grad=0.0000), Var(v=0.1790, grad=0.8199), Var(v=0.2082, grad=0.7504), Var(v=-0.1819, grad=0.0000), Var(v=-0.0169, grad=0.0000), Var(v=0.0016, grad=0.0000), Var(v=-0.1766, grad=-0.5230), Var(v=0.0692, grad=0.0000), Var(v=-0.1121, grad=0.0000), Var(v=-0.0227, grad=-0.1510), Var(v=-0.0247, grad=0.0414), Var(v=-0.0459, grad=-1.2378)], [Var(v=0.1061, grad=0.3491), Var(v=-0.0048, grad=0.0000), Var(v=-0.0107, grad=-0.0103), Var(v=0.0753, grad=0.0000), Var(v=-0.0282, grad=0.0000), Var(v=0.1855, grad=0.0000), Var(v=-0.0159, grad=0.3194), Var(v=0.1090, grad=0.2505), Var(v=0.0009, grad=0.0000), Var(v=-0.1672, grad=0.0000), Var(v=0.0179, grad=0.0000), Var(v=-0.1112, grad=0.0903), Var(v=-0.1373, grad=-0.1757), Var(v=0.0679, grad=0.0000), Var(v=0.1247, grad=0.0000), Var(v=-0.2064, grad=-0.7978), Var(v=-0.0822, grad=-0.6768), Var(v=0.1517, grad=0.0000), Var(v=0.0004, grad=0.1872), Var(v=0.0549, grad=-1.0615), Var(v=0.1028, grad=-0.4107), Var(v=-0.0372, grad=0.0000), Var(v=-0.0611, grad=-0.7732), Var(v=-0.0235, grad=0.0000), Var(v=-0.0568, grad=0.5907), Var(v=-0.0184, grad=0.0511), Var(v=-0.1287, grad=0.0000), Var(v=-0.0959, grad=-0.1850), Var(v=-0.1028, grad=-0.2959), Var(v=0.1723, grad=-1.0207), Var(v=0.0693, grad=-0.9458), Var(v=-0.1265, grad=0.4756), Var(v=-0.0524, grad=0.3524), Var(v=-0.0511, grad=-0.4175), Var(v=0.0138, grad=0.1283), Var(v=-0.0553, grad=0.0000), Var(v=0.1147, grad=0.0000), Var(v=-0.0733, grad=0.0000), Var(v=0.0978, grad=0.1546), Var(v=-0.0208, grad=-0.7894), Var(v=0.0161, grad=-0.7226), Var(v=0.1061, grad=0.6946), Var(v=-0.2322, grad=0.8112), Var(v=0.1009, grad=0.3440), Var(v=-0.0370, grad=0.0000), Var(v=-0.0697, grad=-0.4667), Var(v=-0.1027, grad=0.0000), Var(v=0.0678, grad=0.1454), Var(v=-0.0108, grad=0.0000), Var(v=-0.0050, grad=0.0000)], [Var(v=-0.0331, grad=1.0130), Var(v=0.0338, grad=0.0000), Var(v=0.0551, grad=-0.0297), Var(v=-0.1366, grad=0.0000), Var(v=-0.1113, grad=0.0000), Var(v=-0.0958, grad=0.0000), Var(v=0.1662, grad=0.9269), Var(v=-0.0177, grad=0.7270), Var(v=-0.1101, grad=0.0000), Var(v=0.0735, grad=0.0000), Var(v=0.0414, grad=0.0000), Var(v=-0.0290, grad=0.2620), Var(v=0.0175, grad=-0.5100), Var(v=-0.0705, grad=0.0000), Var(v=-0.0265, grad=0.0000), Var(v=-0.0349, grad=-2.3152), Var(v=0.0302, grad=-1.9640), Var(v=-0.0480, grad=0.0000), Var(v=-0.0459, grad=0.5432), Var(v=0.0719, grad=-3.0803), Var(v=0.2154, grad=-1.1917), Var(v=-0.0389, grad=0.0000), Var(v=0.0295, grad=-2.2438), Var(v=0.1340, grad=0.0000), Var(v=0.0311, grad=1.7141), Var(v=0.1036, grad=0.1483), Var(v=-0.1556, grad=0.0000), Var(v=0.0689, grad=-0.5368), Var(v=0.1541, grad=-0.8586), Var(v=0.0131, grad=-2.9621), Var(v=0.0389, grad=-2.7446), Var(v=0.0718, grad=1.3800), Var(v=0.1126, grad=1.0226), Var(v=0.0480, grad=-1.2115), Var(v=0.0597, grad=0.3722), Var(v=-0.1305, grad=0.0000), Var(v=-0.1440, grad=0.0000), Var(v=-0.1562, grad=0.0000), Var(v=0.0009, grad=0.4486), Var(v=-0.1459, grad=-2.2908), Var(v=0.0223, grad=-2.0968), Var(v=0.1820, grad=2.0157), Var(v=0.0292, grad=2.3541), Var(v=-0.0004, grad=0.9982), Var(v=-0.0968, grad=0.0000), Var(v=0.0025, grad=-1.3544), Var(v=-0.0434, grad=0.0000), Var(v=0.0996, grad=0.4220), Var(v=0.0130, grad=0.0000), Var(v=0.0308, grad=0.0000)], [Var(v=0.0476, grad=1.5610), Var(v=-0.1956, grad=0.0000), Var(v=-0.0279, grad=-0.0458), Var(v=-0.0601, grad=0.0000), Var(v=-0.0006, grad=0.0000), Var(v=-0.0798, grad=0.0000), Var(v=0.0398, grad=1.4283), Var(v=-0.0292, grad=1.1203), Var(v=-0.0313, grad=0.0000), Var(v=-0.0424, grad=0.0000), Var(v=-0.1553, grad=0.0000), Var(v=0.0663, grad=0.4037), Var(v=-0.0233, grad=-0.7859), Var(v=0.0009, grad=0.0000), Var(v=-0.0468, grad=0.0000), Var(v=-0.0210, grad=-3.5677), Var(v=0.0969, grad=-3.0265), Var(v=-0.0870, grad=0.0000), Var(v=0.1471, grad=0.8371), Var(v=0.1118, grad=-4.7467), Var(v=0.0491, grad=-1.8364), Var(v=-0.1060, grad=0.0000), Var(v=-0.0388, grad=-3.4576), Var(v=-0.1696, grad=0.0000), Var(v=0.1548, grad=2.6413), Var(v=-0.0557, grad=0.2285), Var(v=0.0490, grad=0.0000), Var(v=0.0242, grad=-0.8271), Var(v=-0.0400, grad=-1.3230), Var(v=-0.0098, grad=-4.5645), Var(v=0.0329, grad=-4.2293), Var(v=0.1093, grad=2.1265), Var(v=0.1319, grad=1.5759), Var(v=-0.0559, grad=-1.8669), Var(v=0.1328, grad=0.5736), Var(v=0.0247, grad=0.0000), Var(v=0.0358, grad=0.0000), Var(v=-0.0425, grad=0.0000), Var(v=-0.0570, grad=0.6912), Var(v=0.0514, grad=-3.5300), Var(v=0.1295, grad=-3.2311), Var(v=-0.0402, grad=3.1062), Var(v=0.1824, grad=3.6276), Var(v=-0.0390, grad=1.5382), Var(v=-0.0385, grad=0.0000), Var(v=0.1690, grad=-2.0871), Var(v=-0.2418, grad=0.0000), Var(v=-0.0033, grad=0.6503), Var(v=-0.0627, grad=0.0000), Var(v=-0.1274, grad=0.0000)], [Var(v=-0.0312, grad=-0.9700), Var(v=-0.0382, grad=-4.9083), Var(v=0.0281, grad=0.0285), Var(v=-0.1017, grad=0.0000), Var(v=0.0074, grad=0.0000), Var(v=-0.0750, grad=0.0000), Var(v=0.0764, grad=0.0000), Var(v=0.0068, grad=-0.6961), Var(v=0.0493, grad=-1.3295), Var(v=-0.0556, grad=0.0000), Var(v=0.1022, grad=1.9111), Var(v=-0.0899, grad=0.0000), Var(v=0.0276, grad=0.4883), Var(v=-0.0510, grad=0.0000), Var(v=0.1132, grad=0.9924), Var(v=-0.1349, grad=0.0000), Var(v=0.1122, grad=1.8806), Var(v=0.0317, grad=-0.5803), Var(v=-0.0104, grad=-0.5201), Var(v=0.0872, grad=2.9495), Var(v=-0.0990, grad=0.0000), Var(v=0.1653, grad=2.9260), Var(v=-0.0349, grad=2.1485), Var(v=0.0223, grad=-1.0476), Var(v=-0.0336, grad=0.0000), Var(v=-0.0916, grad=0.0000), Var(v=-0.1876, grad=0.0000), Var(v=0.0265, grad=0.0000), Var(v=-0.0873, grad=0.0000), Var(v=-0.1040, grad=0.0000), Var(v=-0.1146, grad=0.0000), Var(v=-0.1692, grad=0.0000), Var(v=-0.0430, grad=-0.9792), Var(v=0.0712, grad=1.1601), Var(v=0.0130, grad=0.0000), Var(v=0.1284, grad=0.4112), Var(v=-0.0460, grad=0.0000), Var(v=-0.1249, grad=0.0000), Var(v=0.0845, grad=0.0000), Var(v=0.0437, grad=2.1935), Var(v=0.0532, grad=2.0078), Var(v=-0.0628, grad=0.0000), Var(v=-0.0211, grad=0.0000), Var(v=-0.0951, grad=0.0000), Var(v=0.0490, grad=-1.3992), Var(v=0.0577, grad=0.0000), Var(v=-0.0613, grad=0.0000), Var(v=0.0883, grad=-0.4041), Var(v=0.1388, grad=0.1106), Var(v=0.1154, grad=-3.3116)], [Var(v=0.1120, grad=-0.6783), Var(v=0.0638, grad=-3.4325), Var(v=0.0109, grad=0.0199), Var(v=-0.0225, grad=0.0000), Var(v=-0.1913, grad=0.0000), Var(v=0.0098, grad=0.0000), Var(v=-0.0456, grad=0.0000), Var(v=-0.0186, grad=-0.4868), Var(v=0.0383, grad=-0.9297), Var(v=-0.0584, grad=0.0000), Var(v=-0.0155, grad=1.3365), Var(v=-0.1052, grad=0.0000), Var(v=0.0698, grad=0.3415), Var(v=0.0807, grad=0.0000), Var(v=0.0821, grad=0.6940), Var(v=0.0461, grad=0.0000), Var(v=0.1709, grad=1.3152), Var(v=0.0768, grad=-0.4058), Var(v=-0.0100, grad=-0.3637), Var(v=0.1407, grad=2.0627), Var(v=0.0159, grad=0.0000), Var(v=0.0687, grad=2.0462), Var(v=0.1686, grad=1.5025), Var(v=0.1139, grad=-0.7326), Var(v=-0.0206, grad=0.0000), Var(v=-0.1124, grad=0.0000), Var(v=0.0201, grad=0.0000), Var(v=-0.1902, grad=0.0000), Var(v=-0.0883, grad=0.0000), Var(v=0.0645, grad=0.0000), Var(v=-0.0508, grad=0.0000), Var(v=-0.0430, grad=0.0000), Var(v=0.1388, grad=-0.6848), Var(v=0.0147, grad=0.8113), Var(v=-0.0624, grad=0.0000), Var(v=-0.0892, grad=0.2876), Var(v=-0.0225, grad=0.0000), Var(v=-0.0532, grad=0.0000), Var(v=-0.1607, grad=0.0000), Var(v=0.0064, grad=1.5340), Var(v=-0.0133, grad=1.4041), Var(v=0.0405, grad=0.0000), Var(v=-0.0352, grad=0.0000), Var(v=0.0339, grad=0.0000), Var(v=-0.1073, grad=-0.9785), Var(v=-0.0874, grad=0.0000), Var(v=0.0443, grad=0.0000), Var(v=-0.0872, grad=-0.2826), Var(v=0.0354, grad=0.0774), Var(v=0.1420, grad=-2.3159)], [Var(v=-0.0221, grad=-0.0731), Var(v=-0.2184, grad=-0.3701), Var(v=0.1004, grad=0.0021), Var(v=0.1309, grad=0.0000), Var(v=-0.0393, grad=0.0000), Var(v=-0.0839, grad=0.0000), Var(v=-0.1153, grad=0.0000), Var(v=0.0032, grad=-0.0525), Var(v=-0.0762, grad=-0.1002), Var(v=0.1006, grad=0.0000), Var(v=-0.2272, grad=0.1441), Var(v=-0.1368, grad=0.0000), Var(v=0.2297, grad=0.0368), Var(v=0.0893, grad=0.0000), Var(v=0.0020, grad=0.0748), Var(v=0.1030, grad=0.0000), Var(v=-0.1851, grad=0.1418), Var(v=0.0453, grad=-0.0438), Var(v=0.0778, grad=-0.0392), Var(v=-0.0185, grad=0.2224), Var(v=0.0337, grad=0.0000), Var(v=0.0896, grad=0.2206), Var(v=0.1831, grad=0.1620), Var(v=0.1068, grad=-0.0790), Var(v=0.1526, grad=0.0000), Var(v=-0.0334, grad=0.0000), Var(v=0.1082, grad=0.0000), Var(v=0.1042, grad=0.0000), Var(v=0.0091, grad=0.0000), Var(v=-0.0676, grad=0.0000), Var(v=0.1026, grad=0.0000), Var(v=0.0378, grad=0.0000), Var(v=0.1273, grad=-0.0738), Var(v=0.0031, grad=0.0875), Var(v=0.0551, grad=0.0000), Var(v=0.0627, grad=0.0310), Var(v=-0.0646, grad=0.0000), Var(v=-0.0975, grad=0.0000), Var(v=-0.0522, grad=0.0000), Var(v=0.1394, grad=0.1654), Var(v=0.0276, grad=0.1514), Var(v=0.0444, grad=0.0000), Var(v=0.1098, grad=0.0000), Var(v=0.0003, grad=0.0000), Var(v=-0.0263, grad=-0.1055), Var(v=-0.0372, grad=0.0000), Var(v=0.0282, grad=0.0000), Var(v=-0.1531, grad=-0.0305), Var(v=0.0108, grad=0.0083), Var(v=-0.0898, grad=-0.2497)], [Var(v=0.0492, grad=-0.5301), Var(v=0.1162, grad=-2.6825), Var(v=-0.0364, grad=0.0156), Var(v=0.0679, grad=0.0000), Var(v=-0.1044, grad=0.0000), Var(v=-0.0694, grad=0.0000), Var(v=-0.1460, grad=0.0000), Var(v=0.0150, grad=-0.3805), Var(v=-0.0272, grad=-0.7266), Var(v=0.0444, grad=0.0000), Var(v=-0.0083, grad=1.0445), Var(v=-0.0392, grad=0.0000), Var(v=-0.0390, grad=0.2669), Var(v=-0.1104, grad=0.0000), Var(v=0.1444, grad=0.5424), Var(v=0.1018, grad=0.0000), Var(v=0.0458, grad=1.0278), Var(v=0.0523, grad=-0.3171), Var(v=0.0141, grad=-0.2843), Var(v=0.0071, grad=1.6120), Var(v=-0.0457, grad=0.0000), Var(v=-0.0678, grad=1.5992), Var(v=0.1472, grad=1.1742), Var(v=-0.0711, grad=-0.5725), Var(v=-0.1520, grad=0.0000), Var(v=0.0364, grad=0.0000), Var(v=-0.1780, grad=0.0000), Var(v=0.0100, grad=0.0000), Var(v=-0.0526, grad=0.0000), Var(v=-0.0766, grad=0.0000), Var(v=-0.0642, grad=0.0000), Var(v=0.0720, grad=0.0000), Var(v=0.0542, grad=-0.5352), Var(v=-0.0193, grad=0.6340), Var(v=0.0094, grad=0.0000), Var(v=0.0852, grad=0.2248), Var(v=-0.0769, grad=0.0000), Var(v=-0.1032, grad=0.0000), Var(v=-0.0736, grad=0.0000), Var(v=-0.0884, grad=1.1988), Var(v=-0.0077, grad=1.0973), Var(v=0.0174, grad=0.0000), Var(v=-0.2523, grad=0.0000), Var(v=-0.0564, grad=0.0000), Var(v=0.0810, grad=-0.7647), Var(v=0.0234, grad=0.0000), Var(v=-0.0746, grad=0.0000), Var(v=-0.0016, grad=-0.2209), Var(v=0.0901, grad=0.0605), Var(v=0.1493, grad=-1.8099)], [Var(v=0.0971, grad=-0.2952), Var(v=0.1066, grad=-1.4938), Var(v=-0.0133, grad=0.0087), Var(v=0.1733, grad=0.0000), Var(v=0.1517, grad=0.0000), Var(v=0.0215, grad=0.0000), Var(v=0.1412, grad=0.0000), Var(v=-0.0485, grad=-0.2119), Var(v=0.1000, grad=-0.4046), Var(v=0.0972, grad=0.0000), Var(v=-0.0189, grad=0.5816), Var(v=0.0273, grad=0.0000), Var(v=0.2042, grad=0.1486), Var(v=-0.1777, grad=0.0000), Var(v=-0.0524, grad=0.3020), Var(v=0.0707, grad=0.0000), Var(v=0.3072, grad=0.5723), Var(v=0.0209, grad=-0.1766), Var(v=-0.0514, grad=-0.1583), Var(v=0.1585, grad=0.8977), Var(v=-0.1401, grad=0.0000), Var(v=0.0187, grad=0.8905), Var(v=-0.2078, grad=0.6539), Var(v=0.0073, grad=-0.3188), Var(v=0.0429, grad=0.0000), Var(v=-0.1193, grad=0.0000), Var(v=-0.0002, grad=0.0000), Var(v=-0.1774, grad=0.0000), Var(v=0.2187, grad=0.0000), Var(v=-0.2010, grad=0.0000), Var(v=-0.0944, grad=0.0000), Var(v=0.0702, grad=0.0000), Var(v=-0.0658, grad=-0.2980), Var(v=-0.0588, grad=0.3531), Var(v=-0.0956, grad=0.0000), Var(v=0.0464, grad=0.1252), Var(v=-0.1388, grad=0.0000), Var(v=0.0914, grad=0.0000), Var(v=-0.0631, grad=0.0000), Var(v=0.0169, grad=0.6676), Var(v=-0.0541, grad=0.6110), Var(v=0.0646, grad=0.0000), Var(v=0.1165, grad=0.0000), Var(v=0.1037, grad=0.0000), Var(v=0.0235, grad=-0.4258), Var(v=0.0942, grad=0.0000), Var(v=0.0000, grad=0.0000), Var(v=0.1094, grad=-0.1230), Var(v=0.1446, grad=0.0337), Var(v=-0.0171, grad=-1.0079)], [Var(v=-0.0206, grad=0.8274), Var(v=0.0498, grad=0.0000), Var(v=-0.0092, grad=-0.0243), Var(v=-0.1503, grad=0.0000), Var(v=0.0280, grad=0.0000), Var(v=0.0723, grad=0.0000), Var(v=0.0348, grad=0.7570), Var(v=0.1143, grad=0.5938), Var(v=0.0252, grad=0.0000), Var(v=-0.1894, grad=0.0000), Var(v=0.0707, grad=0.0000), Var(v=0.0481, grad=0.2140), Var(v=0.0852, grad=-0.4166), Var(v=-0.1467, grad=0.0000), Var(v=0.0298, grad=0.0000), Var(v=0.1629, grad=-1.8910), Var(v=0.0652, grad=-1.6042), Var(v=-0.0136, grad=0.0000), Var(v=-0.0444, grad=0.4437), Var(v=0.0462, grad=-2.5159), Var(v=0.1407, grad=-0.9734), Var(v=-0.0025, grad=0.0000), Var(v=0.0798, grad=-1.8327), Var(v=0.1001, grad=0.0000), Var(v=0.0504, grad=1.4000), Var(v=-0.0689, grad=0.1211), Var(v=-0.0761, grad=0.0000), Var(v=0.1322, grad=-0.4384), Var(v=-0.0639, grad=-0.7013), Var(v=-0.0153, grad=-2.4194), Var(v=0.0807, grad=-2.2417), Var(v=0.0942, grad=1.1271), Var(v=0.0547, grad=0.8353), Var(v=0.2165, grad=-0.9896), Var(v=0.2505, grad=0.3040), Var(v=-0.0340, grad=0.0000), Var(v=-0.2059, grad=0.0000), Var(v=-0.1030, grad=0.0000), Var(v=0.1198, grad=0.3664), Var(v=0.0408, grad=-1.8711), Var(v=-0.2067, grad=-1.7126), Var(v=0.1228, grad=1.6464), Var(v=-0.0500, grad=1.9228), Var(v=-0.0639, grad=0.8153), Var(v=-0.0277, grad=0.0000), Var(v=0.0253, grad=-1.1062), Var(v=0.0145, grad=0.0000), Var(v=0.0614, grad=0.3447), Var(v=0.0292, grad=0.0000), Var(v=0.1970, grad=0.0000)], [Var(v=0.0166, grad=0.2840), Var(v=-0.0675, grad=0.0000), Var(v=0.0099, grad=-0.0083), Var(v=-0.0117, grad=0.0000), Var(v=-0.0337, grad=0.0000), Var(v=-0.0987, grad=0.0000), Var(v=0.1405, grad=0.2598), Var(v=0.0862, grad=0.2038), Var(v=-0.3035, grad=0.0000), Var(v=0.0896, grad=0.0000), Var(v=-0.0282, grad=0.0000), Var(v=-0.0215, grad=0.0734), Var(v=0.0359, grad=-0.1430), Var(v=0.0169, grad=0.0000), Var(v=0.0022, grad=0.0000), Var(v=0.1439, grad=-0.6491), Var(v=-0.1760, grad=-0.5506), Var(v=-0.0576, grad=0.0000), Var(v=-0.0401, grad=0.1523), Var(v=-0.0960, grad=-0.8635), Var(v=-0.0037, grad=-0.3341), Var(v=-0.0949, grad=0.0000), Var(v=-0.0273, grad=-0.6290), Var(v=0.0281, grad=0.0000), Var(v=-0.0964, grad=0.4805), Var(v=0.1903, grad=0.0416), Var(v=-0.0372, grad=0.0000), Var(v=0.1572, grad=-0.1505), Var(v=0.1176, grad=-0.2407), Var(v=-0.1704, grad=-0.8304), Var(v=-0.0054, grad=-0.7694), Var(v=-0.1476, grad=0.3869), Var(v=0.0569, grad=0.2867), Var(v=-0.0769, grad=-0.3396), Var(v=-0.0930, grad=0.1044), Var(v=-0.0925, grad=0.0000), Var(v=0.0213, grad=0.0000), Var(v=0.2332, grad=0.0000), Var(v=0.0196, grad=0.1257), Var(v=0.1770, grad=-0.6422), Var(v=0.1124, grad=-0.5878), Var(v=0.0569, grad=0.5651), Var(v=0.1050, grad=0.6599), Var(v=0.2888, grad=0.2798), Var(v=0.1598, grad=0.0000), Var(v=0.0438, grad=-0.3797), Var(v=0.0156, grad=0.0000), Var(v=0.0854, grad=0.1183), Var(v=-0.1016, grad=0.0000), Var(v=0.0792, grad=0.0000)]] Biases: [Var(v=0.0000, grad=0.0000), Var(v=0.0000, grad=0.0000), Var(v=0.0000, grad=0.0000), Var(v=0.0000, grad=0.0000), Var(v=0.0000, grad=0.0000), Var(v=0.0000, grad=0.0000), Var(v=0.0000, grad=0.0000), Var(v=0.0000, grad=0.0000), Var(v=0.0000, grad=0.0000), Var(v=0.0000, grad=0.0000), Var(v=0.0000, grad=0.0000), Var(v=0.0000, grad=0.0000), Var(v=0.0000, grad=0.0000), Var(v=0.0000, grad=0.0000), Var(v=0.0000, grad=0.0000), Var(v=0.0000, grad=0.0000), Var(v=0.0000, grad=0.0000), Var(v=0.0000, grad=0.0000), Var(v=0.0000, grad=0.0000), Var(v=0.0000, grad=0.0000), Var(v=0.0000, grad=0.0000), Var(v=0.0000, grad=0.0000), Var(v=0.0000, grad=0.0000), Var(v=0.0000, grad=0.0000), Var(v=0.0000, grad=0.0000), Var(v=0.0000, grad=0.0000), Var(v=0.0000, grad=0.0000), Var(v=0.0000, grad=0.0000), Var(v=0.0000, grad=0.0000), Var(v=0.0000, grad=0.0000), Var(v=0.0000, grad=0.0000), Var(v=0.0000, grad=0.0000), Var(v=0.0000, grad=0.0000), Var(v=0.0000, grad=0.0000), Var(v=0.0000, grad=0.0000), Var(v=0.0000, grad=0.0000), Var(v=0.0000, grad=0.0000), Var(v=0.0000, grad=0.0000), Var(v=0.0000, grad=0.0000), Var(v=0.0000, grad=0.0000), Var(v=0.0000, grad=0.0000), Var(v=0.0000, grad=0.0000), Var(v=0.0000, grad=0.0000), Var(v=0.0000, grad=0.0000), Var(v=0.0000, grad=0.0000), Var(v=0.0000, grad=0.0000), Var(v=0.0000, grad=0.0000), Var(v=0.0000, grad=0.0000), Var(v=0.0000, grad=0.0000), Var(v=0.0000, grad=0.0000)]\n",
      "Layer 2 \n",
      " Weights: [[Var(v=-0.0606, grad=-0.0467)], [Var(v=-0.3065, grad=1.6135)], [Var(v=0.0018, grad=0.2855)], [Var(v=-0.3148, grad=0.0000)], [Var(v=-0.1903, grad=0.0000)], [Var(v=0.1386, grad=0.0000)], [Var(v=-0.0554, grad=-5.3467)], [Var(v=-0.0435, grad=-1.3446)], [Var(v=-0.0830, grad=4.1527)], [Var(v=0.0589, grad=0.0000)], [Var(v=0.1193, grad=2.0542)], [Var(v=-0.0157, grad=-1.2798)], [Var(v=0.0305, grad=1.6549)], [Var(v=0.0335, grad=0.0000)], [Var(v=0.0620, grad=3.1034)], [Var(v=0.1384, grad=-0.4137)], [Var(v=0.1174, grad=2.4167)], [Var(v=-0.0362, grad=0.7546)], [Var(v=-0.0325, grad=-1.6805)], [Var(v=0.1842, grad=-1.4387)], [Var(v=0.0713, grad=-6.9549)], [Var(v=0.1827, grad=4.2166)], [Var(v=0.1341, grad=1.8777)], [Var(v=-0.0654, grad=1.2043)], [Var(v=-0.1025, grad=-4.1911)], [Var(v=-0.0089, grad=-0.9443)], [Var(v=-0.1372, grad=0.0000)], [Var(v=0.0321, grad=-3.9607)], [Var(v=0.0513, grad=-1.2933)], [Var(v=0.1771, grad=-0.0522)], [Var(v=0.1641, grad=-3.1115)], [Var(v=-0.0825, grad=-3.9276)], [Var(v=-0.0611, grad=-4.6702)], [Var(v=0.0724, grad=-1.0836)], [Var(v=-0.0223, grad=-7.4884)], [Var(v=0.0257, grad=1.4939)], [Var(v=-0.1575, grad=0.0000)], [Var(v=-0.0951, grad=0.0000)], [Var(v=-0.0268, grad=-1.0573)], [Var(v=0.1370, grad=1.6669)], [Var(v=0.1254, grad=-0.5461)], [Var(v=-0.1205, grad=-4.8004)], [Var(v=-0.1407, grad=-3.5275)], [Var(v=-0.0597, grad=-0.3213)], [Var(v=-0.0874, grad=0.3500)], [Var(v=0.0810, grad=-4.2164)], [Var(v=-0.0771, grad=0.0000)], [Var(v=-0.0252, grad=-1.7101)], [Var(v=0.0069, grad=3.0212)], [Var(v=-0.2068, grad=5.1088)]] Biases: [Var(v=0.0000, grad=0.0000)]\n",
      "\n",
      "Network after update:\n",
      "Layer 0 \n",
      " Weights: [[Var(v=-0.0825, grad=5.0696), Var(v=-0.0867, grad=7.7073), Var(v=0.0275, grad=1.0313), Var(v=-0.0664, grad=-2.2368), Var(v=-0.0569, grad=-0.4791), Var(v=0.0674, grad=-1.0635), Var(v=0.1505, grad=1.4295), Var(v=0.2539, grad=0.0042), Var(v=-0.0913, grad=-7.3803), Var(v=-0.0962, grad=-1.9292), Var(v=0.0852, grad=-9.7661), Var(v=-0.1551, grad=6.4798), Var(v=-0.0566, grad=0.6382), Var(v=0.1711, grad=-3.6520), Var(v=0.0072, grad=3.8960)]] Biases: [Var(v=0.0000, grad=0.0000), Var(v=0.0000, grad=0.0000), Var(v=0.0000, grad=0.0000), Var(v=0.0000, grad=0.0000), Var(v=0.0000, grad=0.0000), Var(v=0.0000, grad=0.0000), Var(v=0.0000, grad=0.0000), Var(v=0.0000, grad=0.0000), Var(v=0.0000, grad=0.0000), Var(v=0.0000, grad=0.0000), Var(v=0.0000, grad=0.0000), Var(v=0.0000, grad=0.0000), Var(v=0.0000, grad=0.0000), Var(v=0.0000, grad=0.0000), Var(v=0.0000, grad=0.0000)]\n",
      "Layer 1 \n",
      " Weights: [[Var(v=0.0014, grad=-0.1869), Var(v=0.0189, grad=-0.9459), Var(v=-0.0623, grad=0.0055), Var(v=0.1110, grad=0.0000), Var(v=0.0356, grad=0.0000), Var(v=-0.0616, grad=0.0000), Var(v=-0.0243, grad=0.0000), Var(v=-0.0478, grad=-0.1342), Var(v=-0.0071, grad=-0.2562), Var(v=0.0977, grad=0.0000), Var(v=0.0769, grad=0.3683), Var(v=0.0603, grad=0.0000), Var(v=0.1206, grad=0.0941), Var(v=-0.0822, grad=0.0000), Var(v=-0.1367, grad=0.1912), Var(v=0.1443, grad=0.0000), Var(v=-0.0222, grad=0.3624), Var(v=0.0204, grad=-0.1118), Var(v=0.0018, grad=-0.1002), Var(v=-0.0387, grad=0.5684), Var(v=-0.1858, grad=0.0000), Var(v=-0.0533, grad=0.5639), Var(v=0.0487, grad=0.4141), Var(v=-0.1179, grad=-0.2019), Var(v=0.0996, grad=0.0000), Var(v=0.0459, grad=0.0000), Var(v=-0.1662, grad=0.0000), Var(v=0.0907, grad=0.0000), Var(v=-0.1487, grad=0.0000), Var(v=0.0141, grad=0.0000), Var(v=0.0275, grad=0.0000), Var(v=0.0881, grad=0.0000), Var(v=-0.0858, grad=-0.1887), Var(v=0.0440, grad=0.2236), Var(v=0.0285, grad=0.0000), Var(v=0.0882, grad=0.0793), Var(v=0.1074, grad=0.0000), Var(v=0.0039, grad=0.0000), Var(v=-0.0462, grad=0.0000), Var(v=0.0426, grad=0.4227), Var(v=-0.2857, grad=0.3869), Var(v=-0.2077, grad=0.0000), Var(v=-0.1044, grad=0.0000), Var(v=-0.0152, grad=0.0000), Var(v=-0.0187, grad=-0.2697), Var(v=-0.0934, grad=0.0000), Var(v=0.0624, grad=0.0000), Var(v=0.0747, grad=-0.0779), Var(v=0.0792, grad=0.0213), Var(v=0.1857, grad=-0.6382)], [Var(v=-0.1365, grad=-0.0567), Var(v=0.0324, grad=-0.2870), Var(v=0.0816, grad=0.0017), Var(v=0.0260, grad=0.0000), Var(v=0.0092, grad=0.0000), Var(v=-0.0065, grad=0.0000), Var(v=-0.0730, grad=0.0000), Var(v=-0.0076, grad=-0.0407), Var(v=-0.0565, grad=-0.0777), Var(v=-0.0215, grad=0.0000), Var(v=-0.0128, grad=0.1118), Var(v=-0.0867, grad=0.0000), Var(v=-0.2097, grad=0.0286), Var(v=-0.0568, grad=0.0000), Var(v=0.1651, grad=0.0580), Var(v=0.0800, grad=0.0000), Var(v=-0.1964, grad=0.1100), Var(v=0.0603, grad=-0.0339), Var(v=0.0812, grad=-0.0304), Var(v=0.1312, grad=0.1725), Var(v=0.0917, grad=0.0000), Var(v=-0.2983, grad=0.1711), Var(v=0.0519, grad=0.1256), Var(v=-0.0965, grad=-0.0613), Var(v=0.1092, grad=0.0000), Var(v=0.0583, grad=0.0000), Var(v=-0.0196, grad=0.0000), Var(v=0.0049, grad=0.0000), Var(v=0.0161, grad=0.0000), Var(v=-0.2358, grad=0.0000), Var(v=0.0681, grad=0.0000), Var(v=-0.0534, grad=0.0000), Var(v=-0.1657, grad=-0.0573), Var(v=0.0360, grad=0.0678), Var(v=0.0678, grad=0.0000), Var(v=-0.0827, grad=0.0240), Var(v=-0.0322, grad=0.0000), Var(v=-0.1133, grad=0.0000), Var(v=-0.1013, grad=0.0000), Var(v=-0.1051, grad=0.1283), Var(v=0.0217, grad=0.1174), Var(v=0.0788, grad=0.0000), Var(v=0.0151, grad=0.0000), Var(v=-0.2293, grad=0.0000), Var(v=0.1041, grad=-0.0818), Var(v=0.0409, grad=0.0000), Var(v=0.0514, grad=0.0000), Var(v=0.1417, grad=-0.0236), Var(v=0.1822, grad=0.0065), Var(v=0.1495, grad=-0.1937)], [Var(v=-0.1046, grad=0.2323), Var(v=0.1508, grad=0.0000), Var(v=0.0593, grad=-0.0068), Var(v=-0.1022, grad=0.0000), Var(v=0.0931, grad=0.0000), Var(v=-0.0032, grad=0.0000), Var(v=0.1277, grad=0.2125), Var(v=0.0526, grad=0.1667), Var(v=-0.1412, grad=0.0000), Var(v=0.0268, grad=0.0000), Var(v=-0.0350, grad=0.0000), Var(v=0.0363, grad=0.0601), Var(v=0.1968, grad=-0.1169), Var(v=0.1038, grad=0.0000), Var(v=0.0838, grad=0.0000), Var(v=-0.0400, grad=-0.5309), Var(v=0.0330, grad=-0.4504), Var(v=-0.0726, grad=0.0000), Var(v=-0.0750, grad=0.1246), Var(v=-0.0620, grad=-0.7063), Var(v=-0.1039, grad=-0.2733), Var(v=0.0297, grad=0.0000), Var(v=0.0107, grad=-0.5145), Var(v=0.0453, grad=0.0000), Var(v=-0.0635, grad=0.3931), Var(v=0.2087, grad=0.0340), Var(v=0.0299, grad=0.0000), Var(v=0.0519, grad=-0.1231), Var(v=0.1741, grad=-0.1969), Var(v=0.0330, grad=-0.6792), Var(v=0.0423, grad=-0.6294), Var(v=0.0081, grad=0.3164), Var(v=-0.1331, grad=0.2345), Var(v=-0.1181, grad=-0.2778), Var(v=-0.0005, grad=0.0854), Var(v=0.0017, grad=0.0000), Var(v=-0.0023, grad=0.0000), Var(v=0.0612, grad=0.0000), Var(v=0.0561, grad=0.1029), Var(v=0.1030, grad=-0.5253), Var(v=-0.1332, grad=-0.4808), Var(v=0.0572, grad=0.4622), Var(v=-0.0406, grad=0.5398), Var(v=0.0683, grad=0.2289), Var(v=-0.1447, grad=0.0000), Var(v=-0.0831, grad=-0.3106), Var(v=0.0416, grad=0.0000), Var(v=-0.1341, grad=0.0968), Var(v=0.2208, grad=0.0000), Var(v=-0.2657, grad=0.0000)], [Var(v=0.0419, grad=-0.5212), Var(v=-0.0694, grad=-2.6373), Var(v=0.0185, grad=0.0153), Var(v=-0.1441, grad=0.0000), Var(v=-0.1036, grad=0.0000), Var(v=0.0199, grad=0.0000), Var(v=-0.1081, grad=0.0000), Var(v=0.0980, grad=-0.3741), Var(v=0.3235, grad=-0.7144), Var(v=-0.0918, grad=0.0000), Var(v=0.0584, grad=1.0269), Var(v=0.1191, grad=0.0000), Var(v=0.1045, grad=0.2624), Var(v=0.0904, grad=0.0000), Var(v=-0.0715, grad=0.5332), Var(v=-0.1740, grad=0.0000), Var(v=-0.0049, grad=1.0105), Var(v=-0.0306, grad=-0.3118), Var(v=0.0391, grad=-0.2795), Var(v=0.0211, grad=1.5848), Var(v=-0.1068, grad=0.0000), Var(v=0.1948, grad=1.5722), Var(v=-0.1191, grad=1.1544), Var(v=-0.0168, grad=-0.5629), Var(v=-0.1948, grad=0.0000), Var(v=0.0456, grad=0.0000), Var(v=-0.0091, grad=0.0000), Var(v=-0.0421, grad=0.0000), Var(v=0.0467, grad=0.0000), Var(v=-0.1179, grad=0.0000), Var(v=0.0150, grad=0.0000), Var(v=-0.0492, grad=0.0000), Var(v=0.0995, grad=-0.5261), Var(v=-0.0085, grad=0.6233), Var(v=0.1131, grad=0.0000), Var(v=-0.0539, grad=0.2210), Var(v=0.2248, grad=0.0000), Var(v=0.0183, grad=0.0000), Var(v=0.0792, grad=0.0000), Var(v=0.0843, grad=1.1786), Var(v=-0.0540, grad=1.0788), Var(v=0.1918, grad=0.0000), Var(v=0.0754, grad=0.0000), Var(v=0.0735, grad=0.0000), Var(v=0.1239, grad=-0.7518), Var(v=-0.1781, grad=0.0000), Var(v=0.1059, grad=0.0000), Var(v=0.0014, grad=-0.2171), Var(v=-0.1602, grad=0.0595), Var(v=0.0337, grad=-1.7794)], [Var(v=-0.1930, grad=-0.3625), Var(v=0.1863, grad=-1.8345), Var(v=0.0365, grad=0.0106), Var(v=-0.0015, grad=0.0000), Var(v=0.1171, grad=0.0000), Var(v=-0.0021, grad=0.0000), Var(v=0.0292, grad=0.0000), Var(v=-0.0044, grad=-0.2602), Var(v=0.0281, grad=-0.4969), Var(v=-0.0174, grad=0.0000), Var(v=0.0265, grad=0.7143), Var(v=-0.0169, grad=0.0000), Var(v=-0.1051, grad=0.1825), Var(v=0.0512, grad=0.0000), Var(v=0.0282, grad=0.3709), Var(v=0.1969, grad=0.0000), Var(v=-0.0188, grad=0.7029), Var(v=-0.1738, grad=-0.2169), Var(v=0.0331, grad=-0.1944), Var(v=-0.2194, grad=1.1024), Var(v=0.1201, grad=0.0000), Var(v=-0.0432, grad=1.0936), Var(v=0.1404, grad=0.8030), Var(v=0.1181, grad=-0.3916), Var(v=0.0312, grad=0.0000), Var(v=-0.0259, grad=0.0000), Var(v=0.0376, grad=0.0000), Var(v=-0.0773, grad=0.0000), Var(v=-0.0060, grad=0.0000), Var(v=-0.0462, grad=0.0000), Var(v=0.0848, grad=0.0000), Var(v=0.1648, grad=0.0000), Var(v=-0.1189, grad=-0.3660), Var(v=-0.1536, grad=0.4336), Var(v=-0.0724, grad=0.0000), Var(v=-0.0623, grad=0.1537), Var(v=-0.2216, grad=0.0000), Var(v=-0.0790, grad=0.0000), Var(v=-0.0001, grad=0.0000), Var(v=0.1708, grad=0.8199), Var(v=0.2007, grad=0.7504), Var(v=-0.1819, grad=0.0000), Var(v=-0.0169, grad=0.0000), Var(v=0.0016, grad=0.0000), Var(v=-0.1714, grad=-0.5230), Var(v=0.0692, grad=0.0000), Var(v=-0.1121, grad=0.0000), Var(v=-0.0212, grad=-0.1510), Var(v=-0.0252, grad=0.0414), Var(v=-0.0335, grad=-1.2378)], [Var(v=0.1026, grad=0.3491), Var(v=-0.0048, grad=0.0000), Var(v=-0.0106, grad=-0.0103), Var(v=0.0753, grad=0.0000), Var(v=-0.0282, grad=0.0000), Var(v=0.1855, grad=0.0000), Var(v=-0.0191, grad=0.3194), Var(v=0.1065, grad=0.2505), Var(v=0.0009, grad=0.0000), Var(v=-0.1672, grad=0.0000), Var(v=0.0179, grad=0.0000), Var(v=-0.1121, grad=0.0903), Var(v=-0.1356, grad=-0.1757), Var(v=0.0679, grad=0.0000), Var(v=0.1247, grad=0.0000), Var(v=-0.1984, grad=-0.7978), Var(v=-0.0754, grad=-0.6768), Var(v=0.1517, grad=0.0000), Var(v=-0.0015, grad=0.1872), Var(v=0.0655, grad=-1.0615), Var(v=0.1069, grad=-0.4107), Var(v=-0.0372, grad=0.0000), Var(v=-0.0534, grad=-0.7732), Var(v=-0.0235, grad=0.0000), Var(v=-0.0627, grad=0.5907), Var(v=-0.0189, grad=0.0511), Var(v=-0.1287, grad=0.0000), Var(v=-0.0940, grad=-0.1850), Var(v=-0.0998, grad=-0.2959), Var(v=0.1825, grad=-1.0207), Var(v=0.0787, grad=-0.9458), Var(v=-0.1312, grad=0.4756), Var(v=-0.0559, grad=0.3524), Var(v=-0.0469, grad=-0.4175), Var(v=0.0125, grad=0.1283), Var(v=-0.0553, grad=0.0000), Var(v=0.1147, grad=0.0000), Var(v=-0.0733, grad=0.0000), Var(v=0.0963, grad=0.1546), Var(v=-0.0129, grad=-0.7894), Var(v=0.0233, grad=-0.7226), Var(v=0.0991, grad=0.6946), Var(v=-0.2403, grad=0.8112), Var(v=0.0975, grad=0.3440), Var(v=-0.0370, grad=0.0000), Var(v=-0.0650, grad=-0.4667), Var(v=-0.1027, grad=0.0000), Var(v=0.0663, grad=0.1454), Var(v=-0.0108, grad=0.0000), Var(v=-0.0050, grad=0.0000)], [Var(v=-0.0432, grad=1.0130), Var(v=0.0338, grad=0.0000), Var(v=0.0554, grad=-0.0297), Var(v=-0.1366, grad=0.0000), Var(v=-0.1113, grad=0.0000), Var(v=-0.0958, grad=0.0000), Var(v=0.1569, grad=0.9269), Var(v=-0.0250, grad=0.7270), Var(v=-0.1101, grad=0.0000), Var(v=0.0735, grad=0.0000), Var(v=0.0414, grad=0.0000), Var(v=-0.0316, grad=0.2620), Var(v=0.0226, grad=-0.5100), Var(v=-0.0705, grad=0.0000), Var(v=-0.0265, grad=0.0000), Var(v=-0.0117, grad=-2.3152), Var(v=0.0498, grad=-1.9640), Var(v=-0.0480, grad=0.0000), Var(v=-0.0513, grad=0.5432), Var(v=0.1027, grad=-3.0803), Var(v=0.2273, grad=-1.1917), Var(v=-0.0389, grad=0.0000), Var(v=0.0519, grad=-2.2438), Var(v=0.1340, grad=0.0000), Var(v=0.0140, grad=1.7141), Var(v=0.1021, grad=0.1483), Var(v=-0.1556, grad=0.0000), Var(v=0.0743, grad=-0.5368), Var(v=0.1627, grad=-0.8586), Var(v=0.0427, grad=-2.9621), Var(v=0.0663, grad=-2.7446), Var(v=0.0580, grad=1.3800), Var(v=0.1023, grad=1.0226), Var(v=0.0601, grad=-1.2115), Var(v=0.0560, grad=0.3722), Var(v=-0.1305, grad=0.0000), Var(v=-0.1440, grad=0.0000), Var(v=-0.1562, grad=0.0000), Var(v=-0.0036, grad=0.4486), Var(v=-0.1230, grad=-2.2908), Var(v=0.0433, grad=-2.0968), Var(v=0.1618, grad=2.0157), Var(v=0.0057, grad=2.3541), Var(v=-0.0104, grad=0.9982), Var(v=-0.0968, grad=0.0000), Var(v=0.0160, grad=-1.3544), Var(v=-0.0434, grad=0.0000), Var(v=0.0954, grad=0.4220), Var(v=0.0130, grad=0.0000), Var(v=0.0308, grad=0.0000)], [Var(v=0.0320, grad=1.5610), Var(v=-0.1956, grad=0.0000), Var(v=-0.0275, grad=-0.0458), Var(v=-0.0601, grad=0.0000), Var(v=-0.0006, grad=0.0000), Var(v=-0.0798, grad=0.0000), Var(v=0.0256, grad=1.4283), Var(v=-0.0404, grad=1.1203), Var(v=-0.0313, grad=0.0000), Var(v=-0.0424, grad=0.0000), Var(v=-0.1553, grad=0.0000), Var(v=0.0622, grad=0.4037), Var(v=-0.0154, grad=-0.7859), Var(v=0.0009, grad=0.0000), Var(v=-0.0468, grad=0.0000), Var(v=0.0147, grad=-3.5677), Var(v=0.1271, grad=-3.0265), Var(v=-0.0870, grad=0.0000), Var(v=0.1387, grad=0.8371), Var(v=0.1593, grad=-4.7467), Var(v=0.0674, grad=-1.8364), Var(v=-0.1060, grad=0.0000), Var(v=-0.0042, grad=-3.4576), Var(v=-0.1696, grad=0.0000), Var(v=0.1284, grad=2.6413), Var(v=-0.0579, grad=0.2285), Var(v=0.0490, grad=0.0000), Var(v=0.0325, grad=-0.8271), Var(v=-0.0267, grad=-1.3230), Var(v=0.0358, grad=-4.5645), Var(v=0.0752, grad=-4.2293), Var(v=0.0881, grad=2.1265), Var(v=0.1162, grad=1.5759), Var(v=-0.0372, grad=-1.8669), Var(v=0.1271, grad=0.5736), Var(v=0.0247, grad=0.0000), Var(v=0.0358, grad=0.0000), Var(v=-0.0425, grad=0.0000), Var(v=-0.0640, grad=0.6912), Var(v=0.0867, grad=-3.5300), Var(v=0.1618, grad=-3.2311), Var(v=-0.0713, grad=3.1062), Var(v=0.1461, grad=3.6276), Var(v=-0.0544, grad=1.5382), Var(v=-0.0385, grad=0.0000), Var(v=0.1899, grad=-2.0871), Var(v=-0.2418, grad=0.0000), Var(v=-0.0098, grad=0.6503), Var(v=-0.0627, grad=0.0000), Var(v=-0.1274, grad=0.0000)], [Var(v=-0.0215, grad=-0.9700), Var(v=0.0109, grad=-4.9083), Var(v=0.0278, grad=0.0285), Var(v=-0.1017, grad=0.0000), Var(v=0.0074, grad=0.0000), Var(v=-0.0750, grad=0.0000), Var(v=0.0764, grad=0.0000), Var(v=0.0137, grad=-0.6961), Var(v=0.0626, grad=-1.3295), Var(v=-0.0556, grad=0.0000), Var(v=0.0831, grad=1.9111), Var(v=-0.0899, grad=0.0000), Var(v=0.0228, grad=0.4883), Var(v=-0.0510, grad=0.0000), Var(v=0.1032, grad=0.9924), Var(v=-0.1349, grad=0.0000), Var(v=0.0934, grad=1.8806), Var(v=0.0375, grad=-0.5803), Var(v=-0.0052, grad=-0.5201), Var(v=0.0577, grad=2.9495), Var(v=-0.0990, grad=0.0000), Var(v=0.1360, grad=2.9260), Var(v=-0.0564, grad=2.1485), Var(v=0.0327, grad=-1.0476), Var(v=-0.0336, grad=0.0000), Var(v=-0.0916, grad=0.0000), Var(v=-0.1876, grad=0.0000), Var(v=0.0265, grad=0.0000), Var(v=-0.0873, grad=0.0000), Var(v=-0.1040, grad=0.0000), Var(v=-0.1146, grad=0.0000), Var(v=-0.1692, grad=0.0000), Var(v=-0.0332, grad=-0.9792), Var(v=0.0596, grad=1.1601), Var(v=0.0130, grad=0.0000), Var(v=0.1243, grad=0.4112), Var(v=-0.0460, grad=0.0000), Var(v=-0.1249, grad=0.0000), Var(v=0.0845, grad=0.0000), Var(v=0.0217, grad=2.1935), Var(v=0.0331, grad=2.0078), Var(v=-0.0628, grad=0.0000), Var(v=-0.0211, grad=0.0000), Var(v=-0.0951, grad=0.0000), Var(v=0.0630, grad=-1.3992), Var(v=0.0577, grad=0.0000), Var(v=-0.0613, grad=0.0000), Var(v=0.0923, grad=-0.4041), Var(v=0.1377, grad=0.1106), Var(v=0.1486, grad=-3.3116)], [Var(v=0.1188, grad=-0.6783), Var(v=0.0981, grad=-3.4325), Var(v=0.0107, grad=0.0199), Var(v=-0.0225, grad=0.0000), Var(v=-0.1913, grad=0.0000), Var(v=0.0098, grad=0.0000), Var(v=-0.0456, grad=0.0000), Var(v=-0.0138, grad=-0.4868), Var(v=0.0476, grad=-0.9297), Var(v=-0.0584, grad=0.0000), Var(v=-0.0288, grad=1.3365), Var(v=-0.1052, grad=0.0000), Var(v=0.0664, grad=0.3415), Var(v=0.0807, grad=0.0000), Var(v=0.0752, grad=0.6940), Var(v=0.0461, grad=0.0000), Var(v=0.1578, grad=1.3152), Var(v=0.0809, grad=-0.4058), Var(v=-0.0063, grad=-0.3637), Var(v=0.1201, grad=2.0627), Var(v=0.0159, grad=0.0000), Var(v=0.0483, grad=2.0462), Var(v=0.1536, grad=1.5025), Var(v=0.1213, grad=-0.7326), Var(v=-0.0206, grad=0.0000), Var(v=-0.1124, grad=0.0000), Var(v=0.0201, grad=0.0000), Var(v=-0.1902, grad=0.0000), Var(v=-0.0883, grad=0.0000), Var(v=0.0645, grad=0.0000), Var(v=-0.0508, grad=0.0000), Var(v=-0.0430, grad=0.0000), Var(v=0.1456, grad=-0.6848), Var(v=0.0066, grad=0.8113), Var(v=-0.0624, grad=0.0000), Var(v=-0.0921, grad=0.2876), Var(v=-0.0225, grad=0.0000), Var(v=-0.0532, grad=0.0000), Var(v=-0.1607, grad=0.0000), Var(v=-0.0089, grad=1.5340), Var(v=-0.0274, grad=1.4041), Var(v=0.0405, grad=0.0000), Var(v=-0.0352, grad=0.0000), Var(v=0.0339, grad=0.0000), Var(v=-0.0975, grad=-0.9785), Var(v=-0.0874, grad=0.0000), Var(v=0.0443, grad=0.0000), Var(v=-0.0844, grad=-0.2826), Var(v=0.0347, grad=0.0774), Var(v=0.1652, grad=-2.3159)], [Var(v=-0.0213, grad=-0.0731), Var(v=-0.2147, grad=-0.3701), Var(v=0.1004, grad=0.0021), Var(v=0.1309, grad=0.0000), Var(v=-0.0393, grad=0.0000), Var(v=-0.0839, grad=0.0000), Var(v=-0.1153, grad=0.0000), Var(v=0.0037, grad=-0.0525), Var(v=-0.0752, grad=-0.1002), Var(v=0.1006, grad=0.0000), Var(v=-0.2286, grad=0.1441), Var(v=-0.1368, grad=0.0000), Var(v=0.2293, grad=0.0368), Var(v=0.0893, grad=0.0000), Var(v=0.0013, grad=0.0748), Var(v=0.1030, grad=0.0000), Var(v=-0.1866, grad=0.1418), Var(v=0.0457, grad=-0.0438), Var(v=0.0782, grad=-0.0392), Var(v=-0.0207, grad=0.2224), Var(v=0.0337, grad=0.0000), Var(v=0.0874, grad=0.2206), Var(v=0.1815, grad=0.1620), Var(v=0.1076, grad=-0.0790), Var(v=0.1526, grad=0.0000), Var(v=-0.0334, grad=0.0000), Var(v=0.1082, grad=0.0000), Var(v=0.1042, grad=0.0000), Var(v=0.0091, grad=0.0000), Var(v=-0.0676, grad=0.0000), Var(v=0.1026, grad=0.0000), Var(v=0.0378, grad=0.0000), Var(v=0.1280, grad=-0.0738), Var(v=0.0022, grad=0.0875), Var(v=0.0551, grad=0.0000), Var(v=0.0624, grad=0.0310), Var(v=-0.0646, grad=0.0000), Var(v=-0.0975, grad=0.0000), Var(v=-0.0522, grad=0.0000), Var(v=0.1378, grad=0.1654), Var(v=0.0261, grad=0.1514), Var(v=0.0444, grad=0.0000), Var(v=0.1098, grad=0.0000), Var(v=0.0003, grad=0.0000), Var(v=-0.0252, grad=-0.1055), Var(v=-0.0372, grad=0.0000), Var(v=0.0282, grad=0.0000), Var(v=-0.1528, grad=-0.0305), Var(v=0.0107, grad=0.0083), Var(v=-0.0873, grad=-0.2497)], [Var(v=0.0545, grad=-0.5301), Var(v=0.1430, grad=-2.6825), Var(v=-0.0366, grad=0.0156), Var(v=0.0679, grad=0.0000), Var(v=-0.1044, grad=0.0000), Var(v=-0.0694, grad=0.0000), Var(v=-0.1460, grad=0.0000), Var(v=0.0188, grad=-0.3805), Var(v=-0.0199, grad=-0.7266), Var(v=0.0444, grad=0.0000), Var(v=-0.0188, grad=1.0445), Var(v=-0.0392, grad=0.0000), Var(v=-0.0417, grad=0.2669), Var(v=-0.1104, grad=0.0000), Var(v=0.1389, grad=0.5424), Var(v=0.1018, grad=0.0000), Var(v=0.0355, grad=1.0278), Var(v=0.0555, grad=-0.3171), Var(v=0.0170, grad=-0.2843), Var(v=-0.0090, grad=1.6120), Var(v=-0.0457, grad=0.0000), Var(v=-0.0838, grad=1.5992), Var(v=0.1355, grad=1.1742), Var(v=-0.0653, grad=-0.5725), Var(v=-0.1520, grad=0.0000), Var(v=0.0364, grad=0.0000), Var(v=-0.1780, grad=0.0000), Var(v=0.0100, grad=0.0000), Var(v=-0.0526, grad=0.0000), Var(v=-0.0766, grad=0.0000), Var(v=-0.0642, grad=0.0000), Var(v=0.0720, grad=0.0000), Var(v=0.0595, grad=-0.5352), Var(v=-0.0256, grad=0.6340), Var(v=0.0094, grad=0.0000), Var(v=0.0829, grad=0.2248), Var(v=-0.0769, grad=0.0000), Var(v=-0.1032, grad=0.0000), Var(v=-0.0736, grad=0.0000), Var(v=-0.1003, grad=1.1988), Var(v=-0.0186, grad=1.0973), Var(v=0.0174, grad=0.0000), Var(v=-0.2523, grad=0.0000), Var(v=-0.0564, grad=0.0000), Var(v=0.0887, grad=-0.7647), Var(v=0.0234, grad=0.0000), Var(v=-0.0746, grad=0.0000), Var(v=0.0006, grad=-0.2209), Var(v=0.0895, grad=0.0605), Var(v=0.1674, grad=-1.8099)], [Var(v=0.1001, grad=-0.2952), Var(v=0.1215, grad=-1.4938), Var(v=-0.0134, grad=0.0087), Var(v=0.1733, grad=0.0000), Var(v=0.1517, grad=0.0000), Var(v=0.0215, grad=0.0000), Var(v=0.1412, grad=0.0000), Var(v=-0.0464, grad=-0.2119), Var(v=0.1041, grad=-0.4046), Var(v=0.0972, grad=0.0000), Var(v=-0.0247, grad=0.5816), Var(v=0.0273, grad=0.0000), Var(v=0.2027, grad=0.1486), Var(v=-0.1777, grad=0.0000), Var(v=-0.0554, grad=0.3020), Var(v=0.0707, grad=0.0000), Var(v=0.3015, grad=0.5723), Var(v=0.0226, grad=-0.1766), Var(v=-0.0498, grad=-0.1583), Var(v=0.1496, grad=0.8977), Var(v=-0.1401, grad=0.0000), Var(v=0.0098, grad=0.8905), Var(v=-0.2143, grad=0.6539), Var(v=0.0105, grad=-0.3188), Var(v=0.0429, grad=0.0000), Var(v=-0.1193, grad=0.0000), Var(v=-0.0002, grad=0.0000), Var(v=-0.1774, grad=0.0000), Var(v=0.2187, grad=0.0000), Var(v=-0.2010, grad=0.0000), Var(v=-0.0944, grad=0.0000), Var(v=0.0702, grad=0.0000), Var(v=-0.0628, grad=-0.2980), Var(v=-0.0624, grad=0.3531), Var(v=-0.0956, grad=0.0000), Var(v=0.0452, grad=0.1252), Var(v=-0.1388, grad=0.0000), Var(v=0.0914, grad=0.0000), Var(v=-0.0631, grad=0.0000), Var(v=0.0102, grad=0.6676), Var(v=-0.0602, grad=0.6110), Var(v=0.0646, grad=0.0000), Var(v=0.1165, grad=0.0000), Var(v=0.1037, grad=0.0000), Var(v=0.0277, grad=-0.4258), Var(v=0.0942, grad=0.0000), Var(v=0.0000, grad=0.0000), Var(v=0.1107, grad=-0.1230), Var(v=0.1443, grad=0.0337), Var(v=-0.0070, grad=-1.0079)], [Var(v=-0.0289, grad=0.8274), Var(v=0.0498, grad=0.0000), Var(v=-0.0090, grad=-0.0243), Var(v=-0.1503, grad=0.0000), Var(v=0.0280, grad=0.0000), Var(v=0.0723, grad=0.0000), Var(v=0.0272, grad=0.7570), Var(v=0.1084, grad=0.5938), Var(v=0.0252, grad=0.0000), Var(v=-0.1894, grad=0.0000), Var(v=0.0707, grad=0.0000), Var(v=0.0459, grad=0.2140), Var(v=0.0894, grad=-0.4166), Var(v=-0.1467, grad=0.0000), Var(v=0.0298, grad=0.0000), Var(v=0.1818, grad=-1.8910), Var(v=0.0813, grad=-1.6042), Var(v=-0.0136, grad=0.0000), Var(v=-0.0488, grad=0.4437), Var(v=0.0713, grad=-2.5159), Var(v=0.1504, grad=-0.9734), Var(v=-0.0025, grad=0.0000), Var(v=0.0982, grad=-1.8327), Var(v=0.1001, grad=0.0000), Var(v=0.0364, grad=1.4000), Var(v=-0.0701, grad=0.1211), Var(v=-0.0761, grad=0.0000), Var(v=0.1365, grad=-0.4384), Var(v=-0.0569, grad=-0.7013), Var(v=0.0089, grad=-2.4194), Var(v=0.1031, grad=-2.2417), Var(v=0.0830, grad=1.1271), Var(v=0.0463, grad=0.8353), Var(v=0.2264, grad=-0.9896), Var(v=0.2475, grad=0.3040), Var(v=-0.0340, grad=0.0000), Var(v=-0.2059, grad=0.0000), Var(v=-0.1030, grad=0.0000), Var(v=0.1162, grad=0.3664), Var(v=0.0595, grad=-1.8711), Var(v=-0.1896, grad=-1.7126), Var(v=0.1063, grad=1.6464), Var(v=-0.0692, grad=1.9228), Var(v=-0.0720, grad=0.8153), Var(v=-0.0277, grad=0.0000), Var(v=0.0364, grad=-1.1062), Var(v=0.0145, grad=0.0000), Var(v=0.0579, grad=0.3447), Var(v=0.0292, grad=0.0000), Var(v=0.1970, grad=0.0000)], [Var(v=0.0138, grad=0.2840), Var(v=-0.0675, grad=0.0000), Var(v=0.0099, grad=-0.0083), Var(v=-0.0117, grad=0.0000), Var(v=-0.0337, grad=0.0000), Var(v=-0.0987, grad=0.0000), Var(v=0.1379, grad=0.2598), Var(v=0.0841, grad=0.2038), Var(v=-0.3035, grad=0.0000), Var(v=0.0896, grad=0.0000), Var(v=-0.0282, grad=0.0000), Var(v=-0.0222, grad=0.0734), Var(v=0.0374, grad=-0.1430), Var(v=0.0169, grad=0.0000), Var(v=0.0022, grad=0.0000), Var(v=0.1504, grad=-0.6491), Var(v=-0.1705, grad=-0.5506), Var(v=-0.0576, grad=0.0000), Var(v=-0.0416, grad=0.1523), Var(v=-0.0874, grad=-0.8635), Var(v=-0.0003, grad=-0.3341), Var(v=-0.0949, grad=0.0000), Var(v=-0.0210, grad=-0.6290), Var(v=0.0281, grad=0.0000), Var(v=-0.1012, grad=0.4805), Var(v=0.1898, grad=0.0416), Var(v=-0.0372, grad=0.0000), Var(v=0.1587, grad=-0.1505), Var(v=0.1200, grad=-0.2407), Var(v=-0.1620, grad=-0.8304), Var(v=0.0023, grad=-0.7694), Var(v=-0.1514, grad=0.3869), Var(v=0.0540, grad=0.2867), Var(v=-0.0735, grad=-0.3396), Var(v=-0.0941, grad=0.1044), Var(v=-0.0925, grad=0.0000), Var(v=0.0213, grad=0.0000), Var(v=0.2332, grad=0.0000), Var(v=0.0183, grad=0.1257), Var(v=0.1834, grad=-0.6422), Var(v=0.1183, grad=-0.5878), Var(v=0.0513, grad=0.5651), Var(v=0.0984, grad=0.6599), Var(v=0.2860, grad=0.2798), Var(v=0.1598, grad=0.0000), Var(v=0.0476, grad=-0.3797), Var(v=0.0156, grad=0.0000), Var(v=0.0843, grad=0.1183), Var(v=-0.1016, grad=0.0000), Var(v=0.0792, grad=0.0000)]] Biases: [Var(v=0.0000, grad=0.0000), Var(v=0.0000, grad=0.0000), Var(v=0.0000, grad=0.0000), Var(v=0.0000, grad=0.0000), Var(v=0.0000, grad=0.0000), Var(v=0.0000, grad=0.0000), Var(v=0.0000, grad=0.0000), Var(v=0.0000, grad=0.0000), Var(v=0.0000, grad=0.0000), Var(v=0.0000, grad=0.0000), Var(v=0.0000, grad=0.0000), Var(v=0.0000, grad=0.0000), Var(v=0.0000, grad=0.0000), Var(v=0.0000, grad=0.0000), Var(v=0.0000, grad=0.0000), Var(v=0.0000, grad=0.0000), Var(v=0.0000, grad=0.0000), Var(v=0.0000, grad=0.0000), Var(v=0.0000, grad=0.0000), Var(v=0.0000, grad=0.0000), Var(v=0.0000, grad=0.0000), Var(v=0.0000, grad=0.0000), Var(v=0.0000, grad=0.0000), Var(v=0.0000, grad=0.0000), Var(v=0.0000, grad=0.0000), Var(v=0.0000, grad=0.0000), Var(v=0.0000, grad=0.0000), Var(v=0.0000, grad=0.0000), Var(v=0.0000, grad=0.0000), Var(v=0.0000, grad=0.0000), Var(v=0.0000, grad=0.0000), Var(v=0.0000, grad=0.0000), Var(v=0.0000, grad=0.0000), Var(v=0.0000, grad=0.0000), Var(v=0.0000, grad=0.0000), Var(v=0.0000, grad=0.0000), Var(v=0.0000, grad=0.0000), Var(v=0.0000, grad=0.0000), Var(v=0.0000, grad=0.0000), Var(v=0.0000, grad=0.0000), Var(v=0.0000, grad=0.0000), Var(v=0.0000, grad=0.0000), Var(v=0.0000, grad=0.0000), Var(v=0.0000, grad=0.0000), Var(v=0.0000, grad=0.0000), Var(v=0.0000, grad=0.0000), Var(v=0.0000, grad=0.0000), Var(v=0.0000, grad=0.0000), Var(v=0.0000, grad=0.0000), Var(v=0.0000, grad=0.0000)]\n",
      "Layer 2 \n",
      " Weights: [[Var(v=-0.0601, grad=-0.0467)], [Var(v=-0.3226, grad=1.6135)], [Var(v=-0.0011, grad=0.2855)], [Var(v=-0.3148, grad=0.0000)], [Var(v=-0.1903, grad=0.0000)], [Var(v=0.1386, grad=0.0000)], [Var(v=-0.0019, grad=-5.3467)], [Var(v=-0.0300, grad=-1.3446)], [Var(v=-0.1245, grad=4.1527)], [Var(v=0.0589, grad=0.0000)], [Var(v=0.0988, grad=2.0542)], [Var(v=-0.0029, grad=-1.2798)], [Var(v=0.0139, grad=1.6549)], [Var(v=0.0335, grad=0.0000)], [Var(v=0.0309, grad=3.1034)], [Var(v=0.1426, grad=-0.4137)], [Var(v=0.0933, grad=2.4167)], [Var(v=-0.0438, grad=0.7546)], [Var(v=-0.0157, grad=-1.6805)], [Var(v=0.1986, grad=-1.4387)], [Var(v=0.1408, grad=-6.9549)], [Var(v=0.1405, grad=4.2166)], [Var(v=0.1154, grad=1.8777)], [Var(v=-0.0775, grad=1.2043)], [Var(v=-0.0606, grad=-4.1911)], [Var(v=0.0006, grad=-0.9443)], [Var(v=-0.1372, grad=0.0000)], [Var(v=0.0717, grad=-3.9607)], [Var(v=0.0643, grad=-1.2933)], [Var(v=0.1776, grad=-0.0522)], [Var(v=0.1952, grad=-3.1115)], [Var(v=-0.0432, grad=-3.9276)], [Var(v=-0.0144, grad=-4.6702)], [Var(v=0.0833, grad=-1.0836)], [Var(v=0.0526, grad=-7.4884)], [Var(v=0.0107, grad=1.4939)], [Var(v=-0.1575, grad=0.0000)], [Var(v=-0.0951, grad=0.0000)], [Var(v=-0.0162, grad=-1.0573)], [Var(v=0.1203, grad=1.6669)], [Var(v=0.1308, grad=-0.5461)], [Var(v=-0.0725, grad=-4.8004)], [Var(v=-0.1055, grad=-3.5275)], [Var(v=-0.0565, grad=-0.3213)], [Var(v=-0.0909, grad=0.3500)], [Var(v=0.1231, grad=-4.2164)], [Var(v=-0.0771, grad=0.0000)], [Var(v=-0.0081, grad=-1.7101)], [Var(v=-0.0233, grad=3.0212)], [Var(v=-0.2579, grad=5.1088)]] Biases: [Var(v=0.0000, grad=0.0000)]\n",
      "\n",
      "Network after zeroing gradients:\n",
      "Layer 0 \n",
      " Weights: [[Var(v=-0.0825, grad=0.0000), Var(v=-0.0867, grad=0.0000), Var(v=0.0275, grad=0.0000), Var(v=-0.0664, grad=0.0000), Var(v=-0.0569, grad=0.0000), Var(v=0.0674, grad=0.0000), Var(v=0.1505, grad=0.0000), Var(v=0.2539, grad=0.0000), Var(v=-0.0913, grad=0.0000), Var(v=-0.0962, grad=0.0000), Var(v=0.0852, grad=0.0000), Var(v=-0.1551, grad=0.0000), Var(v=-0.0566, grad=0.0000), Var(v=0.1711, grad=0.0000), Var(v=0.0072, grad=0.0000)]] Biases: [Var(v=0.0000, grad=0.0000), Var(v=0.0000, grad=0.0000), Var(v=0.0000, grad=0.0000), Var(v=0.0000, grad=0.0000), Var(v=0.0000, grad=0.0000), Var(v=0.0000, grad=0.0000), Var(v=0.0000, grad=0.0000), Var(v=0.0000, grad=0.0000), Var(v=0.0000, grad=0.0000), Var(v=0.0000, grad=0.0000), Var(v=0.0000, grad=0.0000), Var(v=0.0000, grad=0.0000), Var(v=0.0000, grad=0.0000), Var(v=0.0000, grad=0.0000), Var(v=0.0000, grad=0.0000)]\n",
      "Layer 1 \n",
      " Weights: [[Var(v=0.0014, grad=0.0000), Var(v=0.0189, grad=0.0000), Var(v=-0.0623, grad=0.0000), Var(v=0.1110, grad=0.0000), Var(v=0.0356, grad=0.0000), Var(v=-0.0616, grad=0.0000), Var(v=-0.0243, grad=0.0000), Var(v=-0.0478, grad=0.0000), Var(v=-0.0071, grad=0.0000), Var(v=0.0977, grad=0.0000), Var(v=0.0769, grad=0.0000), Var(v=0.0603, grad=0.0000), Var(v=0.1206, grad=0.0000), Var(v=-0.0822, grad=0.0000), Var(v=-0.1367, grad=0.0000), Var(v=0.1443, grad=0.0000), Var(v=-0.0222, grad=0.0000), Var(v=0.0204, grad=0.0000), Var(v=0.0018, grad=0.0000), Var(v=-0.0387, grad=0.0000), Var(v=-0.1858, grad=0.0000), Var(v=-0.0533, grad=0.0000), Var(v=0.0487, grad=0.0000), Var(v=-0.1179, grad=0.0000), Var(v=0.0996, grad=0.0000), Var(v=0.0459, grad=0.0000), Var(v=-0.1662, grad=0.0000), Var(v=0.0907, grad=0.0000), Var(v=-0.1487, grad=0.0000), Var(v=0.0141, grad=0.0000), Var(v=0.0275, grad=0.0000), Var(v=0.0881, grad=0.0000), Var(v=-0.0858, grad=0.0000), Var(v=0.0440, grad=0.0000), Var(v=0.0285, grad=0.0000), Var(v=0.0882, grad=0.0000), Var(v=0.1074, grad=0.0000), Var(v=0.0039, grad=0.0000), Var(v=-0.0462, grad=0.0000), Var(v=0.0426, grad=0.0000), Var(v=-0.2857, grad=0.0000), Var(v=-0.2077, grad=0.0000), Var(v=-0.1044, grad=0.0000), Var(v=-0.0152, grad=0.0000), Var(v=-0.0187, grad=0.0000), Var(v=-0.0934, grad=0.0000), Var(v=0.0624, grad=0.0000), Var(v=0.0747, grad=0.0000), Var(v=0.0792, grad=0.0000), Var(v=0.1857, grad=0.0000)], [Var(v=-0.1365, grad=0.0000), Var(v=0.0324, grad=0.0000), Var(v=0.0816, grad=0.0000), Var(v=0.0260, grad=0.0000), Var(v=0.0092, grad=0.0000), Var(v=-0.0065, grad=0.0000), Var(v=-0.0730, grad=0.0000), Var(v=-0.0076, grad=0.0000), Var(v=-0.0565, grad=0.0000), Var(v=-0.0215, grad=0.0000), Var(v=-0.0128, grad=0.0000), Var(v=-0.0867, grad=0.0000), Var(v=-0.2097, grad=0.0000), Var(v=-0.0568, grad=0.0000), Var(v=0.1651, grad=0.0000), Var(v=0.0800, grad=0.0000), Var(v=-0.1964, grad=0.0000), Var(v=0.0603, grad=0.0000), Var(v=0.0812, grad=0.0000), Var(v=0.1312, grad=0.0000), Var(v=0.0917, grad=0.0000), Var(v=-0.2983, grad=0.0000), Var(v=0.0519, grad=0.0000), Var(v=-0.0965, grad=0.0000), Var(v=0.1092, grad=0.0000), Var(v=0.0583, grad=0.0000), Var(v=-0.0196, grad=0.0000), Var(v=0.0049, grad=0.0000), Var(v=0.0161, grad=0.0000), Var(v=-0.2358, grad=0.0000), Var(v=0.0681, grad=0.0000), Var(v=-0.0534, grad=0.0000), Var(v=-0.1657, grad=0.0000), Var(v=0.0360, grad=0.0000), Var(v=0.0678, grad=0.0000), Var(v=-0.0827, grad=0.0000), Var(v=-0.0322, grad=0.0000), Var(v=-0.1133, grad=0.0000), Var(v=-0.1013, grad=0.0000), Var(v=-0.1051, grad=0.0000), Var(v=0.0217, grad=0.0000), Var(v=0.0788, grad=0.0000), Var(v=0.0151, grad=0.0000), Var(v=-0.2293, grad=0.0000), Var(v=0.1041, grad=0.0000), Var(v=0.0409, grad=0.0000), Var(v=0.0514, grad=0.0000), Var(v=0.1417, grad=0.0000), Var(v=0.1822, grad=0.0000), Var(v=0.1495, grad=0.0000)], [Var(v=-0.1046, grad=0.0000), Var(v=0.1508, grad=0.0000), Var(v=0.0593, grad=0.0000), Var(v=-0.1022, grad=0.0000), Var(v=0.0931, grad=0.0000), Var(v=-0.0032, grad=0.0000), Var(v=0.1277, grad=0.0000), Var(v=0.0526, grad=0.0000), Var(v=-0.1412, grad=0.0000), Var(v=0.0268, grad=0.0000), Var(v=-0.0350, grad=0.0000), Var(v=0.0363, grad=0.0000), Var(v=0.1968, grad=0.0000), Var(v=0.1038, grad=0.0000), Var(v=0.0838, grad=0.0000), Var(v=-0.0400, grad=0.0000), Var(v=0.0330, grad=0.0000), Var(v=-0.0726, grad=0.0000), Var(v=-0.0750, grad=0.0000), Var(v=-0.0620, grad=0.0000), Var(v=-0.1039, grad=0.0000), Var(v=0.0297, grad=0.0000), Var(v=0.0107, grad=0.0000), Var(v=0.0453, grad=0.0000), Var(v=-0.0635, grad=0.0000), Var(v=0.2087, grad=0.0000), Var(v=0.0299, grad=0.0000), Var(v=0.0519, grad=0.0000), Var(v=0.1741, grad=0.0000), Var(v=0.0330, grad=0.0000), Var(v=0.0423, grad=0.0000), Var(v=0.0081, grad=0.0000), Var(v=-0.1331, grad=0.0000), Var(v=-0.1181, grad=0.0000), Var(v=-0.0005, grad=0.0000), Var(v=0.0017, grad=0.0000), Var(v=-0.0023, grad=0.0000), Var(v=0.0612, grad=0.0000), Var(v=0.0561, grad=0.0000), Var(v=0.1030, grad=0.0000), Var(v=-0.1332, grad=0.0000), Var(v=0.0572, grad=0.0000), Var(v=-0.0406, grad=0.0000), Var(v=0.0683, grad=0.0000), Var(v=-0.1447, grad=0.0000), Var(v=-0.0831, grad=0.0000), Var(v=0.0416, grad=0.0000), Var(v=-0.1341, grad=0.0000), Var(v=0.2208, grad=0.0000), Var(v=-0.2657, grad=0.0000)], [Var(v=0.0419, grad=0.0000), Var(v=-0.0694, grad=0.0000), Var(v=0.0185, grad=0.0000), Var(v=-0.1441, grad=0.0000), Var(v=-0.1036, grad=0.0000), Var(v=0.0199, grad=0.0000), Var(v=-0.1081, grad=0.0000), Var(v=0.0980, grad=0.0000), Var(v=0.3235, grad=0.0000), Var(v=-0.0918, grad=0.0000), Var(v=0.0584, grad=0.0000), Var(v=0.1191, grad=0.0000), Var(v=0.1045, grad=0.0000), Var(v=0.0904, grad=0.0000), Var(v=-0.0715, grad=0.0000), Var(v=-0.1740, grad=0.0000), Var(v=-0.0049, grad=0.0000), Var(v=-0.0306, grad=0.0000), Var(v=0.0391, grad=0.0000), Var(v=0.0211, grad=0.0000), Var(v=-0.1068, grad=0.0000), Var(v=0.1948, grad=0.0000), Var(v=-0.1191, grad=0.0000), Var(v=-0.0168, grad=0.0000), Var(v=-0.1948, grad=0.0000), Var(v=0.0456, grad=0.0000), Var(v=-0.0091, grad=0.0000), Var(v=-0.0421, grad=0.0000), Var(v=0.0467, grad=0.0000), Var(v=-0.1179, grad=0.0000), Var(v=0.0150, grad=0.0000), Var(v=-0.0492, grad=0.0000), Var(v=0.0995, grad=0.0000), Var(v=-0.0085, grad=0.0000), Var(v=0.1131, grad=0.0000), Var(v=-0.0539, grad=0.0000), Var(v=0.2248, grad=0.0000), Var(v=0.0183, grad=0.0000), Var(v=0.0792, grad=0.0000), Var(v=0.0843, grad=0.0000), Var(v=-0.0540, grad=0.0000), Var(v=0.1918, grad=0.0000), Var(v=0.0754, grad=0.0000), Var(v=0.0735, grad=0.0000), Var(v=0.1239, grad=0.0000), Var(v=-0.1781, grad=0.0000), Var(v=0.1059, grad=0.0000), Var(v=0.0014, grad=0.0000), Var(v=-0.1602, grad=0.0000), Var(v=0.0337, grad=0.0000)], [Var(v=-0.1930, grad=0.0000), Var(v=0.1863, grad=0.0000), Var(v=0.0365, grad=0.0000), Var(v=-0.0015, grad=0.0000), Var(v=0.1171, grad=0.0000), Var(v=-0.0021, grad=0.0000), Var(v=0.0292, grad=0.0000), Var(v=-0.0044, grad=0.0000), Var(v=0.0281, grad=0.0000), Var(v=-0.0174, grad=0.0000), Var(v=0.0265, grad=0.0000), Var(v=-0.0169, grad=0.0000), Var(v=-0.1051, grad=0.0000), Var(v=0.0512, grad=0.0000), Var(v=0.0282, grad=0.0000), Var(v=0.1969, grad=0.0000), Var(v=-0.0188, grad=0.0000), Var(v=-0.1738, grad=0.0000), Var(v=0.0331, grad=0.0000), Var(v=-0.2194, grad=0.0000), Var(v=0.1201, grad=0.0000), Var(v=-0.0432, grad=0.0000), Var(v=0.1404, grad=0.0000), Var(v=0.1181, grad=0.0000), Var(v=0.0312, grad=0.0000), Var(v=-0.0259, grad=0.0000), Var(v=0.0376, grad=0.0000), Var(v=-0.0773, grad=0.0000), Var(v=-0.0060, grad=0.0000), Var(v=-0.0462, grad=0.0000), Var(v=0.0848, grad=0.0000), Var(v=0.1648, grad=0.0000), Var(v=-0.1189, grad=0.0000), Var(v=-0.1536, grad=0.0000), Var(v=-0.0724, grad=0.0000), Var(v=-0.0623, grad=0.0000), Var(v=-0.2216, grad=0.0000), Var(v=-0.0790, grad=0.0000), Var(v=-0.0001, grad=0.0000), Var(v=0.1708, grad=0.0000), Var(v=0.2007, grad=0.0000), Var(v=-0.1819, grad=0.0000), Var(v=-0.0169, grad=0.0000), Var(v=0.0016, grad=0.0000), Var(v=-0.1714, grad=0.0000), Var(v=0.0692, grad=0.0000), Var(v=-0.1121, grad=0.0000), Var(v=-0.0212, grad=0.0000), Var(v=-0.0252, grad=0.0000), Var(v=-0.0335, grad=0.0000)], [Var(v=0.1026, grad=0.0000), Var(v=-0.0048, grad=0.0000), Var(v=-0.0106, grad=0.0000), Var(v=0.0753, grad=0.0000), Var(v=-0.0282, grad=0.0000), Var(v=0.1855, grad=0.0000), Var(v=-0.0191, grad=0.0000), Var(v=0.1065, grad=0.0000), Var(v=0.0009, grad=0.0000), Var(v=-0.1672, grad=0.0000), Var(v=0.0179, grad=0.0000), Var(v=-0.1121, grad=0.0000), Var(v=-0.1356, grad=0.0000), Var(v=0.0679, grad=0.0000), Var(v=0.1247, grad=0.0000), Var(v=-0.1984, grad=0.0000), Var(v=-0.0754, grad=0.0000), Var(v=0.1517, grad=0.0000), Var(v=-0.0015, grad=0.0000), Var(v=0.0655, grad=0.0000), Var(v=0.1069, grad=0.0000), Var(v=-0.0372, grad=0.0000), Var(v=-0.0534, grad=0.0000), Var(v=-0.0235, grad=0.0000), Var(v=-0.0627, grad=0.0000), Var(v=-0.0189, grad=0.0000), Var(v=-0.1287, grad=0.0000), Var(v=-0.0940, grad=0.0000), Var(v=-0.0998, grad=0.0000), Var(v=0.1825, grad=0.0000), Var(v=0.0787, grad=0.0000), Var(v=-0.1312, grad=0.0000), Var(v=-0.0559, grad=0.0000), Var(v=-0.0469, grad=0.0000), Var(v=0.0125, grad=0.0000), Var(v=-0.0553, grad=0.0000), Var(v=0.1147, grad=0.0000), Var(v=-0.0733, grad=0.0000), Var(v=0.0963, grad=0.0000), Var(v=-0.0129, grad=0.0000), Var(v=0.0233, grad=0.0000), Var(v=0.0991, grad=0.0000), Var(v=-0.2403, grad=0.0000), Var(v=0.0975, grad=0.0000), Var(v=-0.0370, grad=0.0000), Var(v=-0.0650, grad=0.0000), Var(v=-0.1027, grad=0.0000), Var(v=0.0663, grad=0.0000), Var(v=-0.0108, grad=0.0000), Var(v=-0.0050, grad=0.0000)], [Var(v=-0.0432, grad=0.0000), Var(v=0.0338, grad=0.0000), Var(v=0.0554, grad=0.0000), Var(v=-0.1366, grad=0.0000), Var(v=-0.1113, grad=0.0000), Var(v=-0.0958, grad=0.0000), Var(v=0.1569, grad=0.0000), Var(v=-0.0250, grad=0.0000), Var(v=-0.1101, grad=0.0000), Var(v=0.0735, grad=0.0000), Var(v=0.0414, grad=0.0000), Var(v=-0.0316, grad=0.0000), Var(v=0.0226, grad=0.0000), Var(v=-0.0705, grad=0.0000), Var(v=-0.0265, grad=0.0000), Var(v=-0.0117, grad=0.0000), Var(v=0.0498, grad=0.0000), Var(v=-0.0480, grad=0.0000), Var(v=-0.0513, grad=0.0000), Var(v=0.1027, grad=0.0000), Var(v=0.2273, grad=0.0000), Var(v=-0.0389, grad=0.0000), Var(v=0.0519, grad=0.0000), Var(v=0.1340, grad=0.0000), Var(v=0.0140, grad=0.0000), Var(v=0.1021, grad=0.0000), Var(v=-0.1556, grad=0.0000), Var(v=0.0743, grad=0.0000), Var(v=0.1627, grad=0.0000), Var(v=0.0427, grad=0.0000), Var(v=0.0663, grad=0.0000), Var(v=0.0580, grad=0.0000), Var(v=0.1023, grad=0.0000), Var(v=0.0601, grad=0.0000), Var(v=0.0560, grad=0.0000), Var(v=-0.1305, grad=0.0000), Var(v=-0.1440, grad=0.0000), Var(v=-0.1562, grad=0.0000), Var(v=-0.0036, grad=0.0000), Var(v=-0.1230, grad=0.0000), Var(v=0.0433, grad=0.0000), Var(v=0.1618, grad=0.0000), Var(v=0.0057, grad=0.0000), Var(v=-0.0104, grad=0.0000), Var(v=-0.0968, grad=0.0000), Var(v=0.0160, grad=0.0000), Var(v=-0.0434, grad=0.0000), Var(v=0.0954, grad=0.0000), Var(v=0.0130, grad=0.0000), Var(v=0.0308, grad=0.0000)], [Var(v=0.0320, grad=0.0000), Var(v=-0.1956, grad=0.0000), Var(v=-0.0275, grad=0.0000), Var(v=-0.0601, grad=0.0000), Var(v=-0.0006, grad=0.0000), Var(v=-0.0798, grad=0.0000), Var(v=0.0256, grad=0.0000), Var(v=-0.0404, grad=0.0000), Var(v=-0.0313, grad=0.0000), Var(v=-0.0424, grad=0.0000), Var(v=-0.1553, grad=0.0000), Var(v=0.0622, grad=0.0000), Var(v=-0.0154, grad=0.0000), Var(v=0.0009, grad=0.0000), Var(v=-0.0468, grad=0.0000), Var(v=0.0147, grad=0.0000), Var(v=0.1271, grad=0.0000), Var(v=-0.0870, grad=0.0000), Var(v=0.1387, grad=0.0000), Var(v=0.1593, grad=0.0000), Var(v=0.0674, grad=0.0000), Var(v=-0.1060, grad=0.0000), Var(v=-0.0042, grad=0.0000), Var(v=-0.1696, grad=0.0000), Var(v=0.1284, grad=0.0000), Var(v=-0.0579, grad=0.0000), Var(v=0.0490, grad=0.0000), Var(v=0.0325, grad=0.0000), Var(v=-0.0267, grad=0.0000), Var(v=0.0358, grad=0.0000), Var(v=0.0752, grad=0.0000), Var(v=0.0881, grad=0.0000), Var(v=0.1162, grad=0.0000), Var(v=-0.0372, grad=0.0000), Var(v=0.1271, grad=0.0000), Var(v=0.0247, grad=0.0000), Var(v=0.0358, grad=0.0000), Var(v=-0.0425, grad=0.0000), Var(v=-0.0640, grad=0.0000), Var(v=0.0867, grad=0.0000), Var(v=0.1618, grad=0.0000), Var(v=-0.0713, grad=0.0000), Var(v=0.1461, grad=0.0000), Var(v=-0.0544, grad=0.0000), Var(v=-0.0385, grad=0.0000), Var(v=0.1899, grad=0.0000), Var(v=-0.2418, grad=0.0000), Var(v=-0.0098, grad=0.0000), Var(v=-0.0627, grad=0.0000), Var(v=-0.1274, grad=0.0000)], [Var(v=-0.0215, grad=0.0000), Var(v=0.0109, grad=0.0000), Var(v=0.0278, grad=0.0000), Var(v=-0.1017, grad=0.0000), Var(v=0.0074, grad=0.0000), Var(v=-0.0750, grad=0.0000), Var(v=0.0764, grad=0.0000), Var(v=0.0137, grad=0.0000), Var(v=0.0626, grad=0.0000), Var(v=-0.0556, grad=0.0000), Var(v=0.0831, grad=0.0000), Var(v=-0.0899, grad=0.0000), Var(v=0.0228, grad=0.0000), Var(v=-0.0510, grad=0.0000), Var(v=0.1032, grad=0.0000), Var(v=-0.1349, grad=0.0000), Var(v=0.0934, grad=0.0000), Var(v=0.0375, grad=0.0000), Var(v=-0.0052, grad=0.0000), Var(v=0.0577, grad=0.0000), Var(v=-0.0990, grad=0.0000), Var(v=0.1360, grad=0.0000), Var(v=-0.0564, grad=0.0000), Var(v=0.0327, grad=0.0000), Var(v=-0.0336, grad=0.0000), Var(v=-0.0916, grad=0.0000), Var(v=-0.1876, grad=0.0000), Var(v=0.0265, grad=0.0000), Var(v=-0.0873, grad=0.0000), Var(v=-0.1040, grad=0.0000), Var(v=-0.1146, grad=0.0000), Var(v=-0.1692, grad=0.0000), Var(v=-0.0332, grad=0.0000), Var(v=0.0596, grad=0.0000), Var(v=0.0130, grad=0.0000), Var(v=0.1243, grad=0.0000), Var(v=-0.0460, grad=0.0000), Var(v=-0.1249, grad=0.0000), Var(v=0.0845, grad=0.0000), Var(v=0.0217, grad=0.0000), Var(v=0.0331, grad=0.0000), Var(v=-0.0628, grad=0.0000), Var(v=-0.0211, grad=0.0000), Var(v=-0.0951, grad=0.0000), Var(v=0.0630, grad=0.0000), Var(v=0.0577, grad=0.0000), Var(v=-0.0613, grad=0.0000), Var(v=0.0923, grad=0.0000), Var(v=0.1377, grad=0.0000), Var(v=0.1486, grad=0.0000)], [Var(v=0.1188, grad=0.0000), Var(v=0.0981, grad=0.0000), Var(v=0.0107, grad=0.0000), Var(v=-0.0225, grad=0.0000), Var(v=-0.1913, grad=0.0000), Var(v=0.0098, grad=0.0000), Var(v=-0.0456, grad=0.0000), Var(v=-0.0138, grad=0.0000), Var(v=0.0476, grad=0.0000), Var(v=-0.0584, grad=0.0000), Var(v=-0.0288, grad=0.0000), Var(v=-0.1052, grad=0.0000), Var(v=0.0664, grad=0.0000), Var(v=0.0807, grad=0.0000), Var(v=0.0752, grad=0.0000), Var(v=0.0461, grad=0.0000), Var(v=0.1578, grad=0.0000), Var(v=0.0809, grad=0.0000), Var(v=-0.0063, grad=0.0000), Var(v=0.1201, grad=0.0000), Var(v=0.0159, grad=0.0000), Var(v=0.0483, grad=0.0000), Var(v=0.1536, grad=0.0000), Var(v=0.1213, grad=0.0000), Var(v=-0.0206, grad=0.0000), Var(v=-0.1124, grad=0.0000), Var(v=0.0201, grad=0.0000), Var(v=-0.1902, grad=0.0000), Var(v=-0.0883, grad=0.0000), Var(v=0.0645, grad=0.0000), Var(v=-0.0508, grad=0.0000), Var(v=-0.0430, grad=0.0000), Var(v=0.1456, grad=0.0000), Var(v=0.0066, grad=0.0000), Var(v=-0.0624, grad=0.0000), Var(v=-0.0921, grad=0.0000), Var(v=-0.0225, grad=0.0000), Var(v=-0.0532, grad=0.0000), Var(v=-0.1607, grad=0.0000), Var(v=-0.0089, grad=0.0000), Var(v=-0.0274, grad=0.0000), Var(v=0.0405, grad=0.0000), Var(v=-0.0352, grad=0.0000), Var(v=0.0339, grad=0.0000), Var(v=-0.0975, grad=0.0000), Var(v=-0.0874, grad=0.0000), Var(v=0.0443, grad=0.0000), Var(v=-0.0844, grad=0.0000), Var(v=0.0347, grad=0.0000), Var(v=0.1652, grad=0.0000)], [Var(v=-0.0213, grad=0.0000), Var(v=-0.2147, grad=0.0000), Var(v=0.1004, grad=0.0000), Var(v=0.1309, grad=0.0000), Var(v=-0.0393, grad=0.0000), Var(v=-0.0839, grad=0.0000), Var(v=-0.1153, grad=0.0000), Var(v=0.0037, grad=0.0000), Var(v=-0.0752, grad=0.0000), Var(v=0.1006, grad=0.0000), Var(v=-0.2286, grad=0.0000), Var(v=-0.1368, grad=0.0000), Var(v=0.2293, grad=0.0000), Var(v=0.0893, grad=0.0000), Var(v=0.0013, grad=0.0000), Var(v=0.1030, grad=0.0000), Var(v=-0.1866, grad=0.0000), Var(v=0.0457, grad=0.0000), Var(v=0.0782, grad=0.0000), Var(v=-0.0207, grad=0.0000), Var(v=0.0337, grad=0.0000), Var(v=0.0874, grad=0.0000), Var(v=0.1815, grad=0.0000), Var(v=0.1076, grad=0.0000), Var(v=0.1526, grad=0.0000), Var(v=-0.0334, grad=0.0000), Var(v=0.1082, grad=0.0000), Var(v=0.1042, grad=0.0000), Var(v=0.0091, grad=0.0000), Var(v=-0.0676, grad=0.0000), Var(v=0.1026, grad=0.0000), Var(v=0.0378, grad=0.0000), Var(v=0.1280, grad=0.0000), Var(v=0.0022, grad=0.0000), Var(v=0.0551, grad=0.0000), Var(v=0.0624, grad=0.0000), Var(v=-0.0646, grad=0.0000), Var(v=-0.0975, grad=0.0000), Var(v=-0.0522, grad=0.0000), Var(v=0.1378, grad=0.0000), Var(v=0.0261, grad=0.0000), Var(v=0.0444, grad=0.0000), Var(v=0.1098, grad=0.0000), Var(v=0.0003, grad=0.0000), Var(v=-0.0252, grad=0.0000), Var(v=-0.0372, grad=0.0000), Var(v=0.0282, grad=0.0000), Var(v=-0.1528, grad=0.0000), Var(v=0.0107, grad=0.0000), Var(v=-0.0873, grad=0.0000)], [Var(v=0.0545, grad=0.0000), Var(v=0.1430, grad=0.0000), Var(v=-0.0366, grad=0.0000), Var(v=0.0679, grad=0.0000), Var(v=-0.1044, grad=0.0000), Var(v=-0.0694, grad=0.0000), Var(v=-0.1460, grad=0.0000), Var(v=0.0188, grad=0.0000), Var(v=-0.0199, grad=0.0000), Var(v=0.0444, grad=0.0000), Var(v=-0.0188, grad=0.0000), Var(v=-0.0392, grad=0.0000), Var(v=-0.0417, grad=0.0000), Var(v=-0.1104, grad=0.0000), Var(v=0.1389, grad=0.0000), Var(v=0.1018, grad=0.0000), Var(v=0.0355, grad=0.0000), Var(v=0.0555, grad=0.0000), Var(v=0.0170, grad=0.0000), Var(v=-0.0090, grad=0.0000), Var(v=-0.0457, grad=0.0000), Var(v=-0.0838, grad=0.0000), Var(v=0.1355, grad=0.0000), Var(v=-0.0653, grad=0.0000), Var(v=-0.1520, grad=0.0000), Var(v=0.0364, grad=0.0000), Var(v=-0.1780, grad=0.0000), Var(v=0.0100, grad=0.0000), Var(v=-0.0526, grad=0.0000), Var(v=-0.0766, grad=0.0000), Var(v=-0.0642, grad=0.0000), Var(v=0.0720, grad=0.0000), Var(v=0.0595, grad=0.0000), Var(v=-0.0256, grad=0.0000), Var(v=0.0094, grad=0.0000), Var(v=0.0829, grad=0.0000), Var(v=-0.0769, grad=0.0000), Var(v=-0.1032, grad=0.0000), Var(v=-0.0736, grad=0.0000), Var(v=-0.1003, grad=0.0000), Var(v=-0.0186, grad=0.0000), Var(v=0.0174, grad=0.0000), Var(v=-0.2523, grad=0.0000), Var(v=-0.0564, grad=0.0000), Var(v=0.0887, grad=0.0000), Var(v=0.0234, grad=0.0000), Var(v=-0.0746, grad=0.0000), Var(v=0.0006, grad=0.0000), Var(v=0.0895, grad=0.0000), Var(v=0.1674, grad=0.0000)], [Var(v=0.1001, grad=0.0000), Var(v=0.1215, grad=0.0000), Var(v=-0.0134, grad=0.0000), Var(v=0.1733, grad=0.0000), Var(v=0.1517, grad=0.0000), Var(v=0.0215, grad=0.0000), Var(v=0.1412, grad=0.0000), Var(v=-0.0464, grad=0.0000), Var(v=0.1041, grad=0.0000), Var(v=0.0972, grad=0.0000), Var(v=-0.0247, grad=0.0000), Var(v=0.0273, grad=0.0000), Var(v=0.2027, grad=0.0000), Var(v=-0.1777, grad=0.0000), Var(v=-0.0554, grad=0.0000), Var(v=0.0707, grad=0.0000), Var(v=0.3015, grad=0.0000), Var(v=0.0226, grad=0.0000), Var(v=-0.0498, grad=0.0000), Var(v=0.1496, grad=0.0000), Var(v=-0.1401, grad=0.0000), Var(v=0.0098, grad=0.0000), Var(v=-0.2143, grad=0.0000), Var(v=0.0105, grad=0.0000), Var(v=0.0429, grad=0.0000), Var(v=-0.1193, grad=0.0000), Var(v=-0.0002, grad=0.0000), Var(v=-0.1774, grad=0.0000), Var(v=0.2187, grad=0.0000), Var(v=-0.2010, grad=0.0000), Var(v=-0.0944, grad=0.0000), Var(v=0.0702, grad=0.0000), Var(v=-0.0628, grad=0.0000), Var(v=-0.0624, grad=0.0000), Var(v=-0.0956, grad=0.0000), Var(v=0.0452, grad=0.0000), Var(v=-0.1388, grad=0.0000), Var(v=0.0914, grad=0.0000), Var(v=-0.0631, grad=0.0000), Var(v=0.0102, grad=0.0000), Var(v=-0.0602, grad=0.0000), Var(v=0.0646, grad=0.0000), Var(v=0.1165, grad=0.0000), Var(v=0.1037, grad=0.0000), Var(v=0.0277, grad=0.0000), Var(v=0.0942, grad=0.0000), Var(v=0.0000, grad=0.0000), Var(v=0.1107, grad=0.0000), Var(v=0.1443, grad=0.0000), Var(v=-0.0070, grad=0.0000)], [Var(v=-0.0289, grad=0.0000), Var(v=0.0498, grad=0.0000), Var(v=-0.0090, grad=0.0000), Var(v=-0.1503, grad=0.0000), Var(v=0.0280, grad=0.0000), Var(v=0.0723, grad=0.0000), Var(v=0.0272, grad=0.0000), Var(v=0.1084, grad=0.0000), Var(v=0.0252, grad=0.0000), Var(v=-0.1894, grad=0.0000), Var(v=0.0707, grad=0.0000), Var(v=0.0459, grad=0.0000), Var(v=0.0894, grad=0.0000), Var(v=-0.1467, grad=0.0000), Var(v=0.0298, grad=0.0000), Var(v=0.1818, grad=0.0000), Var(v=0.0813, grad=0.0000), Var(v=-0.0136, grad=0.0000), Var(v=-0.0488, grad=0.0000), Var(v=0.0713, grad=0.0000), Var(v=0.1504, grad=0.0000), Var(v=-0.0025, grad=0.0000), Var(v=0.0982, grad=0.0000), Var(v=0.1001, grad=0.0000), Var(v=0.0364, grad=0.0000), Var(v=-0.0701, grad=0.0000), Var(v=-0.0761, grad=0.0000), Var(v=0.1365, grad=0.0000), Var(v=-0.0569, grad=0.0000), Var(v=0.0089, grad=0.0000), Var(v=0.1031, grad=0.0000), Var(v=0.0830, grad=0.0000), Var(v=0.0463, grad=0.0000), Var(v=0.2264, grad=0.0000), Var(v=0.2475, grad=0.0000), Var(v=-0.0340, grad=0.0000), Var(v=-0.2059, grad=0.0000), Var(v=-0.1030, grad=0.0000), Var(v=0.1162, grad=0.0000), Var(v=0.0595, grad=0.0000), Var(v=-0.1896, grad=0.0000), Var(v=0.1063, grad=0.0000), Var(v=-0.0692, grad=0.0000), Var(v=-0.0720, grad=0.0000), Var(v=-0.0277, grad=0.0000), Var(v=0.0364, grad=0.0000), Var(v=0.0145, grad=0.0000), Var(v=0.0579, grad=0.0000), Var(v=0.0292, grad=0.0000), Var(v=0.1970, grad=0.0000)], [Var(v=0.0138, grad=0.0000), Var(v=-0.0675, grad=0.0000), Var(v=0.0099, grad=0.0000), Var(v=-0.0117, grad=0.0000), Var(v=-0.0337, grad=0.0000), Var(v=-0.0987, grad=0.0000), Var(v=0.1379, grad=0.0000), Var(v=0.0841, grad=0.0000), Var(v=-0.3035, grad=0.0000), Var(v=0.0896, grad=0.0000), Var(v=-0.0282, grad=0.0000), Var(v=-0.0222, grad=0.0000), Var(v=0.0374, grad=0.0000), Var(v=0.0169, grad=0.0000), Var(v=0.0022, grad=0.0000), Var(v=0.1504, grad=0.0000), Var(v=-0.1705, grad=0.0000), Var(v=-0.0576, grad=0.0000), Var(v=-0.0416, grad=0.0000), Var(v=-0.0874, grad=0.0000), Var(v=-0.0003, grad=0.0000), Var(v=-0.0949, grad=0.0000), Var(v=-0.0210, grad=0.0000), Var(v=0.0281, grad=0.0000), Var(v=-0.1012, grad=0.0000), Var(v=0.1898, grad=0.0000), Var(v=-0.0372, grad=0.0000), Var(v=0.1587, grad=0.0000), Var(v=0.1200, grad=0.0000), Var(v=-0.1620, grad=0.0000), Var(v=0.0023, grad=0.0000), Var(v=-0.1514, grad=0.0000), Var(v=0.0540, grad=0.0000), Var(v=-0.0735, grad=0.0000), Var(v=-0.0941, grad=0.0000), Var(v=-0.0925, grad=0.0000), Var(v=0.0213, grad=0.0000), Var(v=0.2332, grad=0.0000), Var(v=0.0183, grad=0.0000), Var(v=0.1834, grad=0.0000), Var(v=0.1183, grad=0.0000), Var(v=0.0513, grad=0.0000), Var(v=0.0984, grad=0.0000), Var(v=0.2860, grad=0.0000), Var(v=0.1598, grad=0.0000), Var(v=0.0476, grad=0.0000), Var(v=0.0156, grad=0.0000), Var(v=0.0843, grad=0.0000), Var(v=-0.1016, grad=0.0000), Var(v=0.0792, grad=0.0000)]] Biases: [Var(v=0.0000, grad=0.0000), Var(v=0.0000, grad=0.0000), Var(v=0.0000, grad=0.0000), Var(v=0.0000, grad=0.0000), Var(v=0.0000, grad=0.0000), Var(v=0.0000, grad=0.0000), Var(v=0.0000, grad=0.0000), Var(v=0.0000, grad=0.0000), Var(v=0.0000, grad=0.0000), Var(v=0.0000, grad=0.0000), Var(v=0.0000, grad=0.0000), Var(v=0.0000, grad=0.0000), Var(v=0.0000, grad=0.0000), Var(v=0.0000, grad=0.0000), Var(v=0.0000, grad=0.0000), Var(v=0.0000, grad=0.0000), Var(v=0.0000, grad=0.0000), Var(v=0.0000, grad=0.0000), Var(v=0.0000, grad=0.0000), Var(v=0.0000, grad=0.0000), Var(v=0.0000, grad=0.0000), Var(v=0.0000, grad=0.0000), Var(v=0.0000, grad=0.0000), Var(v=0.0000, grad=0.0000), Var(v=0.0000, grad=0.0000), Var(v=0.0000, grad=0.0000), Var(v=0.0000, grad=0.0000), Var(v=0.0000, grad=0.0000), Var(v=0.0000, grad=0.0000), Var(v=0.0000, grad=0.0000), Var(v=0.0000, grad=0.0000), Var(v=0.0000, grad=0.0000), Var(v=0.0000, grad=0.0000), Var(v=0.0000, grad=0.0000), Var(v=0.0000, grad=0.0000), Var(v=0.0000, grad=0.0000), Var(v=0.0000, grad=0.0000), Var(v=0.0000, grad=0.0000), Var(v=0.0000, grad=0.0000), Var(v=0.0000, grad=0.0000), Var(v=0.0000, grad=0.0000), Var(v=0.0000, grad=0.0000), Var(v=0.0000, grad=0.0000), Var(v=0.0000, grad=0.0000), Var(v=0.0000, grad=0.0000), Var(v=0.0000, grad=0.0000), Var(v=0.0000, grad=0.0000), Var(v=0.0000, grad=0.0000), Var(v=0.0000, grad=0.0000), Var(v=0.0000, grad=0.0000)]\n",
      "Layer 2 \n",
      " Weights: [[Var(v=-0.0601, grad=0.0000)], [Var(v=-0.3226, grad=0.0000)], [Var(v=-0.0011, grad=0.0000)], [Var(v=-0.3148, grad=0.0000)], [Var(v=-0.1903, grad=0.0000)], [Var(v=0.1386, grad=0.0000)], [Var(v=-0.0019, grad=0.0000)], [Var(v=-0.0300, grad=0.0000)], [Var(v=-0.1245, grad=0.0000)], [Var(v=0.0589, grad=0.0000)], [Var(v=0.0988, grad=0.0000)], [Var(v=-0.0029, grad=0.0000)], [Var(v=0.0139, grad=0.0000)], [Var(v=0.0335, grad=0.0000)], [Var(v=0.0309, grad=0.0000)], [Var(v=0.1426, grad=0.0000)], [Var(v=0.0933, grad=0.0000)], [Var(v=-0.0438, grad=0.0000)], [Var(v=-0.0157, grad=0.0000)], [Var(v=0.1986, grad=0.0000)], [Var(v=0.1408, grad=0.0000)], [Var(v=0.1405, grad=0.0000)], [Var(v=0.1154, grad=0.0000)], [Var(v=-0.0775, grad=0.0000)], [Var(v=-0.0606, grad=0.0000)], [Var(v=0.0006, grad=0.0000)], [Var(v=-0.1372, grad=0.0000)], [Var(v=0.0717, grad=0.0000)], [Var(v=0.0643, grad=0.0000)], [Var(v=0.1776, grad=0.0000)], [Var(v=0.1952, grad=0.0000)], [Var(v=-0.0432, grad=0.0000)], [Var(v=-0.0144, grad=0.0000)], [Var(v=0.0833, grad=0.0000)], [Var(v=0.0526, grad=0.0000)], [Var(v=0.0107, grad=0.0000)], [Var(v=-0.1575, grad=0.0000)], [Var(v=-0.0951, grad=0.0000)], [Var(v=-0.0162, grad=0.0000)], [Var(v=0.1203, grad=0.0000)], [Var(v=0.1308, grad=0.0000)], [Var(v=-0.0725, grad=0.0000)], [Var(v=-0.1055, grad=0.0000)], [Var(v=-0.0565, grad=0.0000)], [Var(v=-0.0909, grad=0.0000)], [Var(v=0.1231, grad=0.0000)], [Var(v=-0.0771, grad=0.0000)], [Var(v=-0.0081, grad=0.0000)], [Var(v=-0.0233, grad=0.0000)], [Var(v=-0.2579, grad=0.0000)]] Biases: [Var(v=0.0000, grad=0.0000)]\n"
     ]
    },
    {
     "data": {
      "text/plain": "[None, None, None]"
     },
     "execution_count": 148,
     "metadata": {},
     "output_type": "execute_result"
    }
   ],
   "source": [
    "print('Network before update:')\n",
    "[print('Layer', i, '\\n', NN[i]) for i in range(len(NN))] \n",
    "\n",
    "def parameters(network):\n",
    "  params = []\n",
    "  for layer in range(len(network)):\n",
    "    params += network[layer].parameters()\n",
    "  return params\n",
    "\n",
    "def update_parameters(params, learning_rate=0.01):\n",
    "  for p in params:\n",
    "    p.v -= learning_rate*p.grad\n",
    "\n",
    "def zero_gradients(params):\n",
    "  for p in params:\n",
    "    p.grad = 0.0\n",
    "\n",
    "update_parameters(parameters(NN))\n",
    "\n",
    "print('\\nNetwork after update:')\n",
    "[print('Layer', i, '\\n', NN[i]) for i in range(len(NN))] \n",
    "\n",
    "zero_gradients(parameters(NN))\n",
    "\n",
    "print('\\nNetwork after zeroing gradients:')\n",
    "[print('Layer', i, '\\n', NN[i]) for i in range(len(NN))] "
   ]
  },
  {
   "cell_type": "code",
   "execution_count": 149,
   "metadata": {
    "id": "woWYpdw6FtIO",
    "pycharm": {
     "name": "#%%\n"
    }
   },
   "outputs": [],
   "source": [
    "# Initialize an arbitrary neural network\n",
    "NN = [\n",
    "    DenseLayer(1, 8, lambda x: x.relu()),\n",
    "    DenseLayer(8, 1, lambda x: x.identity())\n",
    "]\n",
    "\n",
    "# Recommended hyper-parameters for 3-D: \n",
    "#NN = [\n",
    "#    DenseLayer(3, 16, lambda x: x.relu()),\n",
    "#    DenseLayer(16, 1, lambda x: x.identity())\n",
    "#]\n",
    "\n",
    "\n",
    "### Notice that, when we switch from tanh to relu activation, we decrease the learning rate. This is due the stability of the gradients \n",
    "## of the activation functions."
   ]
  },
  {
   "cell_type": "code",
   "execution_count": 150,
   "metadata": {
    "id": "mdqaqYBVFtIR",
    "pycharm": {
     "name": "#%%\n"
    }
   },
   "outputs": [],
   "source": [
    "# Initialize training hyperparameters\n",
    "EPOCHS = 200\n",
    "LEARN_R = 2e-3 "
   ]
  },
  {
   "cell_type": "code",
   "execution_count": 151,
   "metadata": {
    "colab": {
     "base_uri": "https://localhost:8080/"
    },
    "id": "5kfg76GMFtIW",
    "outputId": "e30cf68a-31f2-42b4-cc5e-860c297c0f04",
    "scrolled": true,
    "pycharm": {
     "name": "#%%\n"
    }
   },
   "outputs": [
    {
     "name": "stdout",
     "output_type": "stream",
     "text": [
      "   0 ( 0.00%) Train loss: 106.803 \t Validation loss: 107.991\n",
      "  10 ( 5.00%) Train loss: 79.787 \t Validation loss: 78.873\n",
      "  20 (10.00%) Train loss: 14.363 \t Validation loss: 10.948\n",
      "  30 (15.00%) Train loss: 12.001 \t Validation loss: 8.943\n",
      "  40 (20.00%) Train loss: 12.001 \t Validation loss: 8.938\n",
      "  50 (25.00%) Train loss: 12.001 \t Validation loss: 8.938\n",
      "  60 (30.00%) Train loss: 12.001 \t Validation loss: 8.938\n",
      "  70 (35.00%) Train loss: 12.001 \t Validation loss: 8.938\n",
      "  80 (40.00%) Train loss: 12.001 \t Validation loss: 8.938\n",
      "  90 (45.00%) Train loss: 12.001 \t Validation loss: 8.938\n",
      " 100 (50.00%) Train loss: 12.001 \t Validation loss: 8.938\n",
      " 110 (55.00%) Train loss: 12.001 \t Validation loss: 8.938\n",
      " 120 (60.00%) Train loss: 12.001 \t Validation loss: 8.938\n",
      " 130 (65.00%) Train loss: 12.001 \t Validation loss: 8.938\n",
      " 140 (70.00%) Train loss: 12.001 \t Validation loss: 8.938\n",
      " 150 (75.00%) Train loss: 12.001 \t Validation loss: 8.938\n",
      " 160 (80.00%) Train loss: 12.001 \t Validation loss: 8.938\n",
      " 170 (85.00%) Train loss: 12.001 \t Validation loss: 8.938\n",
      " 180 (90.00%) Train loss: 12.001 \t Validation loss: 8.938\n",
      " 190 (95.00%) Train loss: 12.001 \t Validation loss: 8.938\n"
     ]
    }
   ],
   "source": [
    "train_loss = []\n",
    "val_loss = []\n",
    "\n",
    "for e in range(EPOCHS):\n",
    "     \n",
    "    # Forward pass and loss computation\n",
    "    Loss = squared_loss(y_train, forward(x_train, NN))\n",
    "\n",
    "    # Backward pass\n",
    "    Loss.backward()\n",
    "    \n",
    "    # gradient descent update\n",
    "    update_parameters(parameters(NN), LEARN_R)\n",
    "    zero_gradients(parameters(NN))\n",
    "    \n",
    "    # Training loss\n",
    "    train_loss.append(Loss.v)\n",
    "    \n",
    "    # Validation\n",
    "    Loss_validation = squared_loss(y_validation, forward(x_validation, NN))\n",
    "    val_loss.append(Loss_validation.v)\n",
    "    \n",
    "    if e%10==0:\n",
    "        print(\"{:4d}\".format(e),\n",
    "              \"({:5.2f}%)\".format(e/EPOCHS*100), \n",
    "              \"Train loss: {:4.3f} \\t Validation loss: {:4.3f}\".format(train_loss[-1], val_loss[-1]))\n",
    "        \n"
   ]
  },
  {
   "cell_type": "code",
   "execution_count": 152,
   "metadata": {
    "colab": {
     "base_uri": "https://localhost:8080/",
     "height": 265
    },
    "id": "VetyRWFwFtIY",
    "outputId": "344e490d-6d7d-455a-fa6f-88dd11eb957e",
    "pycharm": {
     "name": "#%%\n"
    }
   },
   "outputs": [
    {
     "data": {
      "text/plain": "<Figure size 432x288 with 1 Axes>",
      "image/png": "[encoded data removed]"
     },
     "metadata": {
      "needs_background": "light"
     },
     "output_type": "display_data"
    }
   ],
   "source": [
    "plt.plot(range(len(train_loss)), train_loss);\n",
    "plt.plot(range(len(val_loss)), val_loss);"
   ]
  },
  {
   "cell_type": "markdown",
   "metadata": {
    "id": "8OgmIrM9FtIb",
    "pycharm": {
     "name": "#%% md\n"
    }
   },
   "source": [
    "# Testing\n",
    "\n",
    "We have kept the calculation of the test error separate in order to emphasize that you should not use the test set in optimization."
   ]
  },
  {
   "cell_type": "code",
   "execution_count": 153,
   "metadata": {
    "colab": {
     "base_uri": "https://localhost:8080/",
     "height": 316
    },
    "id": "7mmJOTSEFtIf",
    "outputId": "e3264095-cefe-4aee-893d-bf152438e332",
    "pycharm": {
     "name": "#%%\n"
    }
   },
   "outputs": [
    {
     "name": "stdout",
     "output_type": "stream",
     "text": [
      "Test loss:  9.305\n"
     ]
    },
    {
     "data": {
      "text/plain": "<Figure size 432x288 with 1 Axes>",
      "image/png": "[encoded data removed]"
     },
     "metadata": {
      "needs_background": "light"
     },
     "output_type": "display_data"
    }
   ],
   "source": [
    "output_test = forward(x_test, NN)\n",
    "y_test_np = Var_to_nparray(y_test)\n",
    "plt.scatter(y_test_np, Var_to_nparray(output_test));\n",
    "plt.plot([np.min(y_test_np), np.max(y_test_np)], [np.min(y_test_np), np.max(y_test_np)], color='k');\n",
    "plt.xlabel(\"y\");\n",
    "plt.ylabel(\"$\\hat{y}$\");\n",
    "plt.title(\"Model prediction vs real in the test set, the close to the line the better\")\n",
    "plt.grid(True);\n",
    "plt.axis('equal');\n",
    "plt.tight_layout();\n",
    "\n",
    "Loss_test = squared_loss(y_test, forward(x_test, NN))\n",
    "\n",
    "print(\"Test loss:  {:4.3f}\".format(Loss_test.v))"
   ]
  },
  {
   "cell_type": "code",
   "execution_count": 154,
   "metadata": {
    "colab": {
     "base_uri": "https://localhost:8080/",
     "height": 279
    },
    "id": "ODi0WlmQFtIh",
    "outputId": "d1ab874f-0717-4987-87bf-1f0c7c8e7148",
    "pycharm": {
     "name": "#%%\n"
    }
   },
   "outputs": [
    {
     "data": {
      "text/plain": "<Figure size 432x288 with 1 Axes>",
      "image/png": "[encoded data removed]"
     },
     "metadata": {
      "needs_background": "light"
     },
     "output_type": "display_data"
    }
   ],
   "source": [
    "x_test_np = Var_to_nparray(x_test)\n",
    "x_train_np = Var_to_nparray(x_train)\n",
    "y_train_np = Var_to_nparray(y_train)\n",
    "if D1:\n",
    "    plt.scatter(x_train_np, y_train_np, label=\"train data\");\n",
    "    plt.scatter(x_test_np, Var_to_nparray(output_test), label=\"test prediction\");\n",
    "    plt.scatter(x_test_np, y_test_np, label=\"test data\");\n",
    "    plt.legend();\n",
    "    plt.xlabel(\"x\");\n",
    "    plt.ylabel(\"y\");\n",
    "else:\n",
    "    plt.scatter(x_train_np[:,1], y_train, label=\"train data\");\n",
    "    plt.scatter(x_test_np[:,1], Var_to_nparray(output_test), label=\"test data prediction\");\n",
    "    plt.scatter(x_test_np[:,1], y_test_np, label=\"test data\");\n",
    "    plt.legend();\n",
    "    plt.xlabel(\"x\");\n",
    "    plt.ylabel(\"y\");"
   ]
  },
  {
   "cell_type": "markdown",
   "metadata": {
    "id": "zTBAmjsAFtIk",
    "pycharm": {
     "name": "#%% md\n"
    }
   },
   "source": [
    "## Exercise l) Show overfitting, underfitting and just right fitting\n",
    "\n",
    "Vary the architecture and other things to show clear signs of overfitting (=training loss significantly lower than test loss) and underfitting (=not fitting enoung to training data so that test performance is also hurt).\n",
    "\n",
    "See also if you can get a good compromise which leads to a low validation loss. \n",
    "\n",
    "For this problem do you see any big difference between validation and test loss? The answer here will probably be no. Discuss cases where it is important to keep the two separate.\n",
    "\n",
    "**answer**\n",
    "The validation loss shows how well our model fits new data, while the training loss describes how well it fits training data. A high validation loss indicates overfitting, which is not what we want. The training and test loss/validation loss graphs should be stacked on top of one another as shown above for the best match. So, this might also indicate being undersized.\n",
    "\n",
    "When training loss is significantly more than testing loss, underfitting occurs.\n",
    "When training loss is significantly less than testing loss, overfitting occurs.\n"
   ]
  },
  {
   "cell_type": "markdown",
   "source": [
    "## Overfitting"
   ],
   "metadata": {
    "collapsed": false,
    "pycharm": {
     "name": "#%% md\n"
    }
   }
  },
  {
   "cell_type": "code",
   "execution_count": 155,
   "metadata": {
    "id": "tQZCn2dxFtIl",
    "pycharm": {
     "name": "#%%\n"
    }
   },
   "outputs": [
    {
     "name": "stdout",
     "output_type": "stream",
     "text": [
      "   0 ( 0.00%) Train loss: 97.054 \t Validation loss: 83.048\n",
      "  10 ( 3.33%) Train loss: 18.848 \t Validation loss: 13.178\n",
      "  20 ( 6.67%) Train loss: 12.003 \t Validation loss: 8.955\n",
      "  30 (10.00%) Train loss: 12.001 \t Validation loss: 8.938\n",
      "  40 (13.33%) Train loss: 12.001 \t Validation loss: 8.938\n",
      "  50 (16.67%) Train loss: 12.001 \t Validation loss: 8.938\n",
      "  60 (20.00%) Train loss: 12.001 \t Validation loss: 8.938\n",
      "  70 (23.33%) Train loss: 12.001 \t Validation loss: 8.938\n",
      "  80 (26.67%) Train loss: 12.001 \t Validation loss: 8.938\n",
      "  90 (30.00%) Train loss: 12.001 \t Validation loss: 8.938\n",
      " 100 (33.33%) Train loss: 12.001 \t Validation loss: 8.938\n",
      " 110 (36.67%) Train loss: 12.001 \t Validation loss: 8.938\n",
      " 120 (40.00%) Train loss: 12.001 \t Validation loss: 8.938\n",
      " 130 (43.33%) Train loss: 12.001 \t Validation loss: 8.938\n",
      " 140 (46.67%) Train loss: 12.001 \t Validation loss: 8.938\n",
      " 150 (50.00%) Train loss: 12.001 \t Validation loss: 8.938\n",
      " 160 (53.33%) Train loss: 12.001 \t Validation loss: 8.938\n",
      " 170 (56.67%) Train loss: 12.001 \t Validation loss: 8.938\n",
      " 180 (60.00%) Train loss: 12.001 \t Validation loss: 8.938\n",
      " 190 (63.33%) Train loss: 12.001 \t Validation loss: 8.938\n",
      " 200 (66.67%) Train loss: 12.001 \t Validation loss: 8.938\n",
      " 210 (70.00%) Train loss: 12.001 \t Validation loss: 8.938\n",
      " 220 (73.33%) Train loss: 12.001 \t Validation loss: 8.938\n",
      " 230 (76.67%) Train loss: 12.001 \t Validation loss: 8.938\n",
      " 240 (80.00%) Train loss: 12.001 \t Validation loss: 8.938\n",
      " 250 (83.33%) Train loss: 12.001 \t Validation loss: 8.938\n",
      " 260 (86.67%) Train loss: 12.001 \t Validation loss: 8.938\n",
      " 270 (90.00%) Train loss: 12.001 \t Validation loss: 8.938\n",
      " 280 (93.33%) Train loss: 12.001 \t Validation loss: 8.938\n",
      " 290 (96.67%) Train loss: 12.001 \t Validation loss: 8.938\n"
     ]
    }
   ],
   "source": [
    "# Overfitting\n",
    "NN = [\n",
    "    DenseLayer(1, 20, lambda x: x.relu()),\n",
    "    DenseLayer(20, 1, lambda x: x.identity())\n",
    "]\n",
    "train_loss = []\n",
    "val_loss = []\n",
    "\n",
    "# Initialize training hyperparameters\n",
    "EPOCHS = 300\n",
    "LEARN_R = 2e-3\n",
    "\n",
    "for e in range(EPOCHS):\n",
    "\n",
    "    # Forward pass and loss computation\n",
    "    Loss = squared_loss(y_train, forward(x_train, NN))\n",
    "\n",
    "    # Backward pass\n",
    "    Loss.backward()\n",
    "\n",
    "    # gradient descent update\n",
    "    update_parameters(parameters(NN), LEARN_R)\n",
    "    zero_gradients(parameters(NN))\n",
    "\n",
    "    # Training loss\n",
    "    train_loss.append(Loss.v)\n",
    "\n",
    "    # Validation\n",
    "    Loss_validation = squared_loss(y_validation, forward(x_validation, NN))\n",
    "    val_loss.append(Loss_validation.v)\n",
    "\n",
    "    if e%10==0:\n",
    "        print(\"{:4d}\".format(e),\n",
    "              \"({:5.2f}%)\".format(e/EPOCHS*100),\n",
    "              \"Train loss: {:4.3f} \\t Validation loss: {:4.3f}\".format(train_loss[-1], val_loss[-1]))"
   ]
  },
  {
   "cell_type": "code",
   "execution_count": 156,
   "outputs": [
    {
     "name": "stdout",
     "output_type": "stream",
     "text": [
      "Test loss:  9.305\n"
     ]
    },
    {
     "data": {
      "text/plain": "<Figure size 432x288 with 1 Axes>",
      "image/png": "[encoded data removed]"
     },
     "metadata": {
      "needs_background": "light"
     },
     "output_type": "display_data"
    }
   ],
   "source": [
    "plt.plot(range(len(train_loss)), train_loss);\n",
    "plt.plot(range(len(val_loss)), val_loss);\n",
    "plt.legend(loc=1, fontsize=16, labels = [\"Training loss\", \"Validation loss\"])\n",
    "print(\"Test loss:  {:4.3f}\".format(Loss_test.v))\n",
    "plt.show()"
   ],
   "metadata": {
    "collapsed": false,
    "pycharm": {
     "name": "#%%\n"
    }
   }
  },
  {
   "cell_type": "code",
   "execution_count": 157,
   "outputs": [
    {
     "name": "stdout",
     "output_type": "stream",
     "text": [
      "Test loss:  9.305\n"
     ]
    },
    {
     "data": {
      "text/plain": "<Figure size 432x288 with 1 Axes>",
      "image/png": "[encoded data removed]"
     },
     "metadata": {
      "needs_background": "light"
     },
     "output_type": "display_data"
    }
   ],
   "source": [
    "output_test = forward(x_test, NN)\n",
    "y_test_np = Var_to_nparray(y_test)\n",
    "plt.scatter(y_test_np, Var_to_nparray(output_test));\n",
    "plt.plot([np.min(y_test_np), np.max(y_test_np)], [np.min(y_test_np), np.max(y_test_np)], color='k');\n",
    "plt.xlabel(\"y\");\n",
    "plt.ylabel(\"$\\hat{y}$\");\n",
    "plt.title(\"Model prediction vs real in the test set, the close to the line the better\")\n",
    "plt.grid(True);\n",
    "plt.axis('equal');\n",
    "plt.tight_layout();\n",
    "\n",
    "Loss_test = squared_loss(y_test, forward(x_test, NN))\n",
    "\n",
    "print(\"Test loss:  {:4.3f}\".format(Loss_test.v))"
   ],
   "metadata": {
    "collapsed": false,
    "pycharm": {
     "name": "#%%\n"
    }
   }
  },
  {
   "cell_type": "markdown",
   "source": [
    "As a result of overfitting, we can see that both for training and test, the losses drop quite quickly."
   ],
   "metadata": {
    "collapsed": false,
    "pycharm": {
     "name": "#%% md\n"
    }
   }
  },
  {
   "cell_type": "markdown",
   "source": [
    "## Underfitting"
   ],
   "metadata": {
    "collapsed": false,
    "pycharm": {
     "name": "#%% md\n"
    }
   }
  },
  {
   "cell_type": "code",
   "execution_count": 158,
   "outputs": [
    {
     "name": "stdout",
     "output_type": "stream",
     "text": [
      "   0 ( 0.00%) Train loss: 105.658 \t Validation loss: 107.979\n",
      "  10 (10.00%) Train loss: 98.398 \t Validation loss: 96.525\n",
      "  20 (20.00%) Train loss: 65.199 \t Validation loss: 54.520\n",
      "  30 (30.00%) Train loss: 60.985 \t Validation loss: 49.570\n",
      "  40 (40.00%) Train loss: 61.139 \t Validation loss: 49.565\n",
      "  50 (50.00%) Train loss: 61.233 \t Validation loss: 49.682\n",
      "  60 (60.00%) Train loss: 61.300 \t Validation loss: 49.791\n",
      "  70 (70.00%) Train loss: 61.348 \t Validation loss: 49.882\n",
      "  80 (80.00%) Train loss: 61.384 \t Validation loss: 49.956\n",
      "  90 (90.00%) Train loss: 61.412 \t Validation loss: 50.018\n"
     ]
    }
   ],
   "source": [
    "# Underfitting\n",
    "NN = [\n",
    "    DenseLayer(1, 2, lambda x: x.tanh()),\n",
    "    DenseLayer(2, 1, lambda x: x.relu())\n",
    "]\n",
    "train_loss = []\n",
    "val_loss = []\n",
    "\n",
    "# Initialize training hyperparameters\n",
    "EPOCHS = 100\n",
    "LEARN_R = 2e-3\n",
    "\n",
    "for e in range(EPOCHS):\n",
    "\n",
    "    # Forward pass and loss computation\n",
    "    Loss = squared_loss(y_train, forward(x_train, NN))\n",
    "\n",
    "    # Backward pass\n",
    "    Loss.backward()\n",
    "\n",
    "    # gradient descent update\n",
    "    update_parameters(parameters(NN), LEARN_R)\n",
    "    zero_gradients(parameters(NN))\n",
    "\n",
    "    # Training loss\n",
    "    train_loss.append(Loss.v)\n",
    "\n",
    "    # Validation\n",
    "    Loss_validation = squared_loss(y_validation, forward(x_validation, NN))\n",
    "    val_loss.append(Loss_validation.v)\n",
    "\n",
    "    if e%10==0:\n",
    "        print(\"{:4d}\".format(e),\n",
    "              \"({:5.2f}%)\".format(e/EPOCHS*100),\n",
    "              \"Train loss: {:4.3f} \\t Validation loss: {:4.3f}\".format(train_loss[-1], val_loss[-1]))"
   ],
   "metadata": {
    "collapsed": false,
    "pycharm": {
     "name": "#%%\n"
    }
   }
  },
  {
   "cell_type": "code",
   "execution_count": 163,
   "outputs": [
    {
     "name": "stdout",
     "output_type": "stream",
     "text": [
      "Test loss:  52.686\n"
     ]
    },
    {
     "data": {
      "text/plain": "<Figure size 432x288 with 1 Axes>",
      "image/png": "[encoded data removed]"
     },
     "metadata": {
      "needs_background": "light"
     },
     "output_type": "display_data"
    }
   ],
   "source": [
    "print(\"Test loss:  {:4.3f}\".format(Loss_test.v))\n",
    "plt.plot(range(len(train_loss)), train_loss);\n",
    "plt.plot(range(len(val_loss)), val_loss);\n",
    "plt.legend(loc=1, fontsize=16, labels = [\"Training loss\", \"Validation loss\"])\n",
    "plt.show()"
   ],
   "metadata": {
    "collapsed": false,
    "pycharm": {
     "name": "#%%\n"
    }
   }
  },
  {
   "cell_type": "code",
   "execution_count": 160,
   "outputs": [
    {
     "name": "stdout",
     "output_type": "stream",
     "text": [
      "Test loss:  52.686\n"
     ]
    },
    {
     "data": {
      "text/plain": "<Figure size 432x288 with 1 Axes>",
      "image/png": "[encoded data removed]"
     },
     "metadata": {
      "needs_background": "light"
     },
     "output_type": "display_data"
    }
   ],
   "source": [
    "output_test = forward(x_test, NN)\n",
    "y_test_np = Var_to_nparray(y_test)\n",
    "plt.scatter(y_test_np, Var_to_nparray(output_test));\n",
    "plt.plot([np.min(y_test_np), np.max(y_test_np)], [np.min(y_test_np), np.max(y_test_np)], color='k');\n",
    "plt.xlabel(\"y\");\n",
    "plt.ylabel(\"$\\hat{y}$\");\n",
    "plt.title(\"Model prediction vs real in the test set, the close to the line the better\")\n",
    "plt.grid(True);\n",
    "plt.axis('equal');\n",
    "plt.tight_layout();\n",
    "\n",
    "Loss_test = squared_loss(y_test, forward(x_test, NN))\n",
    "\n",
    "print(\"Test loss:  {:4.3f}\".format(Loss_test.v))"
   ],
   "metadata": {
    "collapsed": false,
    "pycharm": {
     "name": "#%%\n"
    }
   }
  },
  {
   "cell_type": "markdown",
   "source": [
    "In this instance of underfitting, the validation loss is significantly smaller than the training loss. The loss values are very large and only slightly reduce the overall amount."
   ],
   "metadata": {
    "collapsed": false,
    "pycharm": {
     "name": "#%% md\n"
    }
   }
  },
  {
   "cell_type": "markdown",
   "metadata": {
    "id": "fYPZP-eTFtIo",
    "pycharm": {
     "name": "#%% md\n"
    }
   },
   "source": [
    "# Next steps - classification\n",
    "\n",
    "It is straight forward to extend what we have done to classification. \n",
    "\n",
    "For numerical stability it is better to make softmax and cross-entropy as one function so we write the cross entropy loss as a function of the logits we talked about last week. \n",
    "\n",
    "Next week we will see how to perform classification in PyTorch."
   ]
  },
  {
   "cell_type": "markdown",
   "metadata": {
    "id": "qsVPul3QFtIo",
    "pycharm": {
     "name": "#%% md\n"
    }
   },
   "source": [
    "## Exercise m) optional - Implement backpropagation for classification\n",
    "\n",
    "Should be possible with very few lines of code. :-)"
   ]
  },
  {
   "cell_type": "code",
   "execution_count": 161,
   "metadata": {
    "id": "oC8QrI2tFtIp",
    "pycharm": {
     "name": "#%%\n"
    }
   },
   "outputs": [],
   "source": [
    "# Just add code."
   ]
  },
  {
   "cell_type": "markdown",
   "metadata": {
    "id": "APqhJv3tta1O",
    "pycharm": {
     "name": "#%% md\n"
    }
   },
   "source": [
    "## Exercise n) optional - Introduce a NeuralNetwork class\n",
    "\n",
    "The functions we applied on the neural network (parameters, update_parameters and zero_gradients) can more naturally be included as methods in a NeuralNetwork class. Make such a class and modify the code to use it. "
   ]
  },
  {
   "cell_type": "code",
   "execution_count": 162,
   "metadata": {
    "id": "Dqfnor1ouMLq",
    "pycharm": {
     "name": "#%%\n"
    }
   },
   "outputs": [],
   "source": [
    "# just add some code"
   ]
  }
 ],
 "metadata": {
  "anaconda-cloud": {},
  "colab": {
   "collapsed_sections": [
    "U4057_ljNvWB",
    "p_8n_SKnIW2F",
    "oLrGJytZFtGm",
    "jpIZPBpNI0pO",
    "_79HOAXrFtHK",
    "mqeyab9qFtGs",
    "-XyXBD37FtHk",
    "SrwSJ2UWFtHu",
    "zTBAmjsAFtIk",
    "qsVPul3QFtIo",
    "APqhJv3tta1O"
   ],
   "name": "2.1-EXE-FNN-AutoDif-Nanograd.ipynb",
   "provenance": []
  },
  "kernelspec": {
   "display_name": "Python 3",
   "language": "python",
   "name": "python3"
  },
  "language_info": {
   "codemirror_mode": {
    "name": "ipython",
    "version": 3
   },
   "file_extension": ".py",
   "mimetype": "text/x-python",
   "name": "python",
   "nbconvert_exporter": "python",
   "pygments_lexer": "ipython3",
   "version": "3.9.12"
  }
 },
 "nbformat": 4,
 "nbformat_minor": 1
}