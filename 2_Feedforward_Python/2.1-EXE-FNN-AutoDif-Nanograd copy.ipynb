{
 "cells": [
  {
   "cell_type": "markdown",
   "metadata": {
    "id": "HAva8TnYFtFu",
    "pycharm": {
     "name": "#%% md\n"
    }
   },
   "source": [
    "# Contents and why we need this lab\n",
    "\n",
    "This lab is about implementing neural networks yourself before we start using other frameworks which hide some of the computation from you. It builds on the first lab where you derived the equations for neural network forward and backward propagation and gradient descent parameter updates. \n",
    "\n",
    "All the frameworks for deep learning you will meet from now on uses automatic differentiation (autodiff) so you don't have to code the backward step yourself. In this version of this lab you will develop your own autodif implementation. We also have a [version](https://github.com/DeepLearningDTU/02456-deep-learning-with-PyTorch/blob/master/2_Feedforward_NumPy/2.1-FNN-NumPy.ipynb) of this lab where you have to code the backward pass explicitly in Numpy."
   ]
  },
  {
   "cell_type": "markdown",
   "metadata": {
    "id": "sCa7HzwpFtFy",
    "pycharm": {
     "name": "#%% md\n"
    }
   },
   "source": [
    "# External sources of information\n",
    "\n",
    "1. Jupyter notebook. You can find more information about Jupyter notebooks [here](https://jupyter.org/). It will come as part of the [Anaconda](https://www.anaconda.com/) Python installation. \n",
    "2. [NumPy](https://numpy.org/). Part of Anaconda distribution. If you already know how to program most things about Python and NumPy can be found through Google search.\n",
    "3. [Nanograd](https://github.com/rasmusbergpalm/nanograd) is a minimalistic version of autodiff developed by Rasmus Berg Palm that we use for our framework.\n"
   ]
  },
  {
   "cell_type": "markdown",
   "metadata": {
    "id": "1SjiIp-TFtF0",
    "pycharm": {
     "name": "#%% md\n"
    }
   },
   "source": [
    "# This notebook will follow the next steps:\n",
    "\n",
    "1. Nanograd automatic differentiation framework\n",
    "2. Finite difference method\n",
    "3. Data generation\n",
    "4. Defining and initializing the network\n",
    "5. Forward pass\n",
    "6. Training loop \n",
    "7. Testing your model\n",
    "8. Further extensions"
   ]
  },
  {
   "cell_type": "markdown",
   "metadata": {
    "id": "OyXeAA-HuT7s",
    "pycharm": {
     "name": "#%% md\n"
    }
   },
   "source": [
    "# Nanograd automatic differention framework"
   ]
  },
  {
   "cell_type": "markdown",
   "metadata": {
    "id": "k6UWKCLKubgA",
    "pycharm": {
     "name": "#%% md\n"
    }
   },
   "source": [
    "The [Nanograd](https://github.com/rasmusbergpalm/nanograd) framework defines a class Var which both holds a value and gradient value that we can use to store the intermediate values when we apply the chain rule of differentiation."
   ]
  },
  {
   "cell_type": "code",
   "execution_count": 1,
   "metadata": {
    "id": "Jd4CoEBNzNWS",
    "pycharm": {
     "name": "#%%\n"
    }
   },
   "outputs": [],
   "source": [
    "# Copy and pasted from https://github.com/rasmusbergpalm/nanograd/blob/main/nanograd.py\n",
    "\n",
    "from math import exp, log\n",
    "import math\n",
    "\n",
    "class Var:\n",
    "    \"\"\"\n",
    "    A variable which holds a float and enables gradient computations.\n",
    "    \"\"\"\n",
    "\n",
    "    def __init__(self, val: float, grad_fn=lambda: []):\n",
    "        assert type(val) == float\n",
    "        self.v = val\n",
    "        self.grad_fn = grad_fn\n",
    "        self.grad = 0.0\n",
    "\n",
    "    def backprop(self, bp):\n",
    "        #print(\"backprop: \", bp)\n",
    "        self.grad += bp\n",
    "        for input, grad in self.grad_fn():\n",
    "            input.backprop(grad * bp)\n",
    "\n",
    "    def backward(self):\n",
    "        self.backprop(1.0)\n",
    "\n",
    "    def __add__(self: 'Var', other: 'Var') -> 'Var':\n",
    "        return Var(self.v + other.v, lambda: [(self, 1.0), (other, 1.0)])\n",
    "\n",
    "    def __mul__(self: 'Var', other: 'Var') -> 'Var':\n",
    "        return Var(self.v * other.v, lambda: [(self, other.v), (other, self.v)])\n",
    "\n",
    "    def __pow__(self, power):\n",
    "        assert type(power) in {float, int}, \"power must be float or int\"\n",
    "        return Var(self.v ** power, lambda: [(self, power * self.v ** (power - 1))])\n",
    "\n",
    "    def __neg__(self: 'Var') -> 'Var':\n",
    "        return Var(-1.0) * self\n",
    "\n",
    "    def __sub__(self: 'Var', other: 'Var') -> 'Var':\n",
    "        return self + (-other)\n",
    "\n",
    "    def __truediv__(self: 'Var', other: 'Var') -> 'Var':\n",
    "        return self * other ** -1\n",
    "\n",
    "    def __repr__(self):\n",
    "        return \"Var(v=%.4f, grad=%.4f)\" % (self.v, self.grad)\n",
    "\n",
    "    def relu(self):\n",
    "        return Var(self.v if self.v > 0.0 else 0.0, lambda: [(self, 1.0 if self.v > 0.0 else 0.0)])\n",
    "    \n",
    "    def identity(self):\n",
    "        return Var(self.v, lambda: [(self, 1.0)])\n",
    "    \n",
    "    def tanh(self):\n",
    "        return Var(2.0/(1.0+exp(-2.0*self.v)) - 1.0, lambda: [(self, 1.0)])\n",
    "    \n",
    "    def sigmoid(self):\n",
    "        return Var(1.0/(1.0+exp(-self.v)), lambda: [(self, 1.0)])\n",
    "    \n",
    "    def exp(self):\n",
    "        return Var(exp(self.v), lambda: [(self, exp(self.v))])\n",
    "\n",
    "    def log(self):\n",
    "        return Var(log(self.v), lambda: [(self, self.v **(-1))])"
   ]
  },
  {
   "cell_type": "markdown",
   "metadata": {
    "id": "yDX67D6jzcte",
    "pycharm": {
     "name": "#%% md\n"
    }
   },
   "source": [
    "A few examples illustrate how we can use this:"
   ]
  },
  {
   "cell_type": "code",
   "execution_count": 2,
   "metadata": {
    "colab": {
     "base_uri": "https://localhost:8080/"
    },
    "id": "xk6PeLc3zwPT",
    "outputId": "47e431b2-07ba-4cb1-ea21-997769641c67",
    "pycharm": {
     "name": "#%%\n"
    }
   },
   "outputs": [
    {
     "name": "stdout",
     "output_type": "stream",
     "text": [
      "Var(v=3.0000, grad=5.0000)\n",
      "Var(v=5.0000, grad=3.0000)\n",
      "Var(v=15.0000, grad=1.0000)\n"
     ]
    }
   ],
   "source": [
    "a = Var(3.0)\n",
    "b = Var(5.0)\n",
    "f = a * b\n",
    "\n",
    "f.backward()\n",
    "\n",
    "for v in [a, b, f]:\n",
    "    print(v)"
   ]
  },
  {
   "cell_type": "code",
   "execution_count": 3,
   "metadata": {
    "colab": {
     "base_uri": "https://localhost:8080/"
    },
    "id": "JmKhYgsY0g_o",
    "outputId": "06c1b1df-c33c-40d3-922a-624612a591c7",
    "pycharm": {
     "name": "#%%\n"
    }
   },
   "outputs": [
    {
     "name": "stdout",
     "output_type": "stream",
     "text": [
      "Var(v=3.0000, grad=14.0000)\n",
      "Var(v=5.0000, grad=3.0000)\n",
      "Var(v=15.0000, grad=1.0000)\n",
      "Var(v=9.0000, grad=3.0000)\n",
      "Var(v=27.0000, grad=1.0000)\n",
      "Var(v=42.0000, grad=1.0000)\n"
     ]
    }
   ],
   "source": [
    "a = Var(3.0)\n",
    "b = Var(5.0)\n",
    "c = a * b\n",
    "d = Var(9.0)\n",
    "e = a * d\n",
    "f = c + e\n",
    "\n",
    "f.backward()\n",
    "\n",
    "for v in [a, b, c, d, e, f]:\n",
    "    print(v)"
   ]
  },
  {
   "cell_type": "markdown",
   "metadata": {
    "id": "Fe3B6uEH140p",
    "pycharm": {
     "name": "#%% md\n"
    }
   },
   "source": [
    "## Exercise a) What is being calculated?\n",
    "\n",
    "Explain briefly the output of the code? What is the expression we differentiate and with respect to what variables?"
   ]
  },
  {
   "cell_type": "markdown",
   "metadata": {
    "pycharm": {
     "name": "#%% md\n"
    }
   },
   "source": [
    "### Solution\n",
    "\n",
    "The output of the code is a float and a gradient value. There is multiple definitions in the code, that enables us to be able to do addition, power, negation, divition and substitution of the class. The gradient has a default value of 1.\n",
    "  \n",
    "In above variables are calculated so, that $a$ is Var(3.0) and has a gradient of 14. $a$ is 'used' multiple places such as when $e=a*d$ or $c=a*b$. The '$v=$' for $b$ and $d$ is 5 and 9, when addition gives 14 that is the gradient of $a$.    \n",
    "It is the $f.backward()$ that makes sure to calculate the gradient. Else it equals zero.  \n",
    "  \n",
    "$c$ and $e$ is only being used in addition when finding f. When ever you do addition the gradient will always become 1.  \n",
    "In multiplication the output is the value it self multiplied with the other value, e.g. $c$ is $a*b$ (3.0*5.0). The gradient depends on values for the variables found before (it is of cause a backpropagation function). "
   ]
  },
  {
   "cell_type": "markdown",
   "metadata": {
    "id": "q8_Q0t2I3Ruj",
    "pycharm": {
     "name": "#%% md\n"
    }
   },
   "source": [
    "## Exercise b) How does the backward function work?\n",
    "\n",
    "You need to understand how the backward function calculates the gradients. We can use the two examples above to help with that.\n",
    "\n",
    "Go through the following four steps and answer the questions on the way:\n",
    "\n",
    "1. We represent the two expressions as graphs as shown below. Fill in the missing expressions for the different derivatives.\n",
    "\n",
    "2. In the remainder consider the first expression. Make a schematic of the data structure which is generated when we define the expression for f. \n",
    "\n",
    "3. Then execute the backward function by hand to convince yourself that it indeed calculates the gradients with respect to the variables. \n",
    "\n",
    "4. Write down the sequence of calls to backprop."
   ]
  },
  {
   "cell_type": "code",
   "execution_count": 4,
   "metadata": {
    "id": "idGr71jYXl26",
    "pycharm": {
     "name": "#%%\n"
    }
   },
   "outputs": [],
   "source": [
    "# Import logging\n",
    "import graphviz\n",
    "\n",
    "#logging.basicConfig(format='[%(levelname)s@%(name)s] %(message)s', level=logging.DEBUG)\n",
    "#graphviz.__version__, graphviz.version()\n",
    "\n",
    "import os\n",
    "os.environ[\"PATH\"] += os.pathsep + 'C:/Program Files (x86)/Graphviz/bin'"
   ]
  },
  {
   "cell_type": "code",
   "execution_count": 5,
   "metadata": {
    "colab": {
     "base_uri": "https://localhost:8080/",
     "height": 152
    },
    "id": "KPe30Q2QXzeG",
    "outputId": "7fa002cd-a018-4dbb-ddf1-28ed5e99ee19",
    "pycharm": {
     "name": "#%%\n"
    }
   },
   "outputs": [
    {
     "data": {
      "image/svg+xml": [
       "<?xml version=\"1.0\" encoding=\"UTF-8\" standalone=\"no\"?>\n",
       "<!DOCTYPE svg PUBLIC \"-//W3C//DTD SVG 1.1//EN\"\n",
       " \"http://www.w3.org/Graphics/SVG/1.1/DTD/svg11.dtd\">\n",
       "<!-- Generated by graphviz version 2.44.1 (20200629.0800)\n",
       " -->\n",
       "<!-- Title: first expression Pages: 1 -->\n",
       "<svg width=\"162pt\" height=\"98pt\"\n",
       " viewBox=\"0.00 0.00 162.00 98.00\" xmlns=\"http://www.w3.org/2000/svg\" xmlns:xlink=\"http://www.w3.org/1999/xlink\">\n",
       "<g id=\"graph0\" class=\"graph\" transform=\"scale(1 1) rotate(0) translate(4 94)\">\n",
       "<title>first expression</title>\n",
       "<polygon fill=\"white\" stroke=\"transparent\" points=\"-4,4 -4,-94 158,-94 158,4 -4,4\"/>\n",
       "<!-- a -->\n",
       "<g id=\"node1\" class=\"node\">\n",
       "<title>a</title>\n",
       "<ellipse fill=\"none\" stroke=\"black\" cx=\"18\" cy=\"-72\" rx=\"18\" ry=\"18\"/>\n",
       "<text text-anchor=\"middle\" x=\"18\" y=\"-68.3\" font-family=\"Times New Roman,serif\" font-size=\"14.00\">a</text>\n",
       "</g>\n",
       "<!-- f -->\n",
       "<g id=\"node2\" class=\"node\">\n",
       "<title>f</title>\n",
       "<ellipse fill=\"none\" stroke=\"black\" cx=\"136\" cy=\"-45\" rx=\"18\" ry=\"18\"/>\n",
       "<text text-anchor=\"middle\" x=\"136\" y=\"-41.3\" font-family=\"Times New Roman,serif\" font-size=\"14.00\">f</text>\n",
       "</g>\n",
       "<!-- a&#45;&gt;f -->\n",
       "<g id=\"edge1\" class=\"edge\">\n",
       "<title>a&#45;&gt;f</title>\n",
       "<path fill=\"none\" stroke=\"black\" d=\"M35.62,-68.13C54.66,-63.7 86.1,-56.38 108.52,-51.16\"/>\n",
       "<polygon fill=\"black\" stroke=\"black\" points=\"109.46,-54.54 118.41,-48.86 107.88,-47.72 109.46,-54.54\"/>\n",
       "<text text-anchor=\"middle\" x=\"77\" y=\"-66.8\" font-family=\"Times New Roman,serif\" font-size=\"14.00\">df/da=b</text>\n",
       "</g>\n",
       "<!-- b -->\n",
       "<g id=\"node3\" class=\"node\">\n",
       "<title>b</title>\n",
       "<ellipse fill=\"none\" stroke=\"black\" cx=\"18\" cy=\"-18\" rx=\"18\" ry=\"18\"/>\n",
       "<text text-anchor=\"middle\" x=\"18\" y=\"-14.3\" font-family=\"Times New Roman,serif\" font-size=\"14.00\">b</text>\n",
       "</g>\n",
       "<!-- b&#45;&gt;f -->\n",
       "<g id=\"edge2\" class=\"edge\">\n",
       "<title>b&#45;&gt;f</title>\n",
       "<path fill=\"none\" stroke=\"black\" d=\"M35.87,-20.78C52.34,-23.62 78.05,-28.4 100,-34 102.89,-34.74 105.9,-35.57 108.88,-36.45\"/>\n",
       "<polygon fill=\"black\" stroke=\"black\" points=\"108.14,-39.88 118.72,-39.48 110.2,-33.19 108.14,-39.88\"/>\n",
       "<text text-anchor=\"middle\" x=\"77\" y=\"-37.8\" font-family=\"Times New Roman,serif\" font-size=\"14.00\">df/db=a</text>\n",
       "</g>\n",
       "</g>\n",
       "</svg>\n"
      ],
      "text/plain": [
       "<graphviz.graphs.Digraph at 0x19f79b2dbe0>"
      ]
     },
     "execution_count": 5,
     "metadata": {},
     "output_type": "execute_result"
    }
   ],
   "source": [
    "e1 = graphviz.Digraph('first expression', filename='fsm.gv')\n",
    "\n",
    "e1.attr(rankdir='LR', size='8,5')\n",
    "\n",
    "e1.attr('node', shape='circle')\n",
    "e1.edge('a', 'f', label='df/da=b')\n",
    "e1.edge('b', 'f', label='df/db=a')\n",
    "\n",
    "e1"
   ]
  },
  {
   "cell_type": "markdown",
   "metadata": {
    "pycharm": {
     "name": "#%% md\n"
    }
   },
   "source": [
    "We assign 2 different values to $a$ and $b$, where their gradient is an empty tuple ([]). When defining $f$ as a multiplication of $a$ and $b$, the value for $f$ is $a*b$. The gradients for $a$ and $b$ is each others values, as seen above from **a)**. $f$ gradient is calculated to be 1 because of the last line in the code. ```Var(self.v if self.v > 0.0 else 0.0, lambda: [(self, 1.0 if self.v > 0.0 else 0.0)])```    \n",
    "  \n",
    "The sequence for backpropagation is printed out above. Here we can see that first $f$ is being 'used', then $b$ and then $a$.  \n",
    "`f.backprop(1.0)`  \n",
    "`a.backprop(5.0)`  \n",
    "`b.backprop(3.0)`"
   ]
  },
  {
   "cell_type": "code",
   "execution_count": 6,
   "metadata": {
    "colab": {
     "base_uri": "https://localhost:8080/",
     "height": 232
    },
    "id": "0nittR-mZFeX",
    "outputId": "fa3656a3-732c-4abe-8084-98a492b0d6be",
    "pycharm": {
     "name": "#%%\n"
    }
   },
   "outputs": [
    {
     "data": {
      "image/svg+xml": [
       "<?xml version=\"1.0\" encoding=\"UTF-8\" standalone=\"no\"?>\n",
       "<!DOCTYPE svg PUBLIC \"-//W3C//DTD SVG 1.1//EN\"\n",
       " \"http://www.w3.org/Graphics/SVG/1.1/DTD/svg11.dtd\">\n",
       "<!-- Generated by graphviz version 2.44.1 (20200629.0800)\n",
       " -->\n",
       "<!-- Title: second expression Pages: 1 -->\n",
       "<svg width=\"281pt\" height=\"158pt\"\n",
       " viewBox=\"0.00 0.00 281.00 158.00\" xmlns=\"http://www.w3.org/2000/svg\" xmlns:xlink=\"http://www.w3.org/1999/xlink\">\n",
       "<g id=\"graph0\" class=\"graph\" transform=\"scale(1 1) rotate(0) translate(4 154)\">\n",
       "<title>second expression</title>\n",
       "<polygon fill=\"white\" stroke=\"transparent\" points=\"-4,4 -4,-154 277,-154 277,4 -4,4\"/>\n",
       "<!-- a -->\n",
       "<g id=\"node1\" class=\"node\">\n",
       "<title>a</title>\n",
       "<ellipse fill=\"none\" stroke=\"black\" cx=\"18\" cy=\"-75\" rx=\"18\" ry=\"18\"/>\n",
       "<text text-anchor=\"middle\" x=\"18\" y=\"-71.3\" font-family=\"Times New Roman,serif\" font-size=\"14.00\">a</text>\n",
       "</g>\n",
       "<!-- c -->\n",
       "<g id=\"node2\" class=\"node\">\n",
       "<title>c</title>\n",
       "<ellipse fill=\"none\" stroke=\"black\" cx=\"138\" cy=\"-102\" rx=\"18\" ry=\"18\"/>\n",
       "<text text-anchor=\"middle\" x=\"138\" y=\"-98.3\" font-family=\"Times New Roman,serif\" font-size=\"14.00\">c</text>\n",
       "</g>\n",
       "<!-- a&#45;&gt;c -->\n",
       "<g id=\"edge1\" class=\"edge\">\n",
       "<title>a&#45;&gt;c</title>\n",
       "<path fill=\"none\" stroke=\"black\" d=\"M35.66,-78.81C55.05,-83.25 87.34,-90.64 110.26,-95.88\"/>\n",
       "<polygon fill=\"black\" stroke=\"black\" points=\"109.52,-99.3 120.05,-98.12 111.08,-92.48 109.52,-99.3\"/>\n",
       "<text text-anchor=\"middle\" x=\"78\" y=\"-96.8\" font-family=\"Times New Roman,serif\" font-size=\"14.00\">dc/da=b</text>\n",
       "</g>\n",
       "<!-- e -->\n",
       "<g id=\"node4\" class=\"node\">\n",
       "<title>e</title>\n",
       "<ellipse fill=\"none\" stroke=\"black\" cx=\"138\" cy=\"-48\" rx=\"18\" ry=\"18\"/>\n",
       "<text text-anchor=\"middle\" x=\"138\" y=\"-44.3\" font-family=\"Times New Roman,serif\" font-size=\"14.00\">e</text>\n",
       "</g>\n",
       "<!-- a&#45;&gt;e -->\n",
       "<g id=\"edge3\" class=\"edge\">\n",
       "<title>a&#45;&gt;e</title>\n",
       "<path fill=\"none\" stroke=\"black\" d=\"M35.27,-69.46C41.13,-67.58 47.82,-65.56 54,-64 72.56,-59.31 93.75,-55.25 110.08,-52.39\"/>\n",
       "<polygon fill=\"black\" stroke=\"black\" points=\"110.76,-55.82 120.03,-50.69 109.58,-48.92 110.76,-55.82\"/>\n",
       "<text text-anchor=\"middle\" x=\"78\" y=\"-67.8\" font-family=\"Times New Roman,serif\" font-size=\"14.00\">de/da=d</text>\n",
       "</g>\n",
       "<!-- f -->\n",
       "<g id=\"node6\" class=\"node\">\n",
       "<title>f</title>\n",
       "<ellipse fill=\"none\" stroke=\"black\" cx=\"255\" cy=\"-75\" rx=\"18\" ry=\"18\"/>\n",
       "<text text-anchor=\"middle\" x=\"255\" y=\"-71.3\" font-family=\"Times New Roman,serif\" font-size=\"14.00\">f</text>\n",
       "</g>\n",
       "<!-- c&#45;&gt;f -->\n",
       "<g id=\"edge5\" class=\"edge\">\n",
       "<title>c&#45;&gt;f</title>\n",
       "<path fill=\"none\" stroke=\"black\" d=\"M155.97,-98.02C174.76,-93.6 205.31,-86.43 227.31,-81.27\"/>\n",
       "<polygon fill=\"black\" stroke=\"black\" points=\"228.4,-84.61 237.34,-78.91 226.8,-77.79 228.4,-84.61\"/>\n",
       "<text text-anchor=\"middle\" x=\"196.5\" y=\"-96.8\" font-family=\"Times New Roman,serif\" font-size=\"14.00\">df/dc=e</text>\n",
       "</g>\n",
       "<!-- b -->\n",
       "<g id=\"node3\" class=\"node\">\n",
       "<title>b</title>\n",
       "<ellipse fill=\"none\" stroke=\"black\" cx=\"18\" cy=\"-132\" rx=\"18\" ry=\"18\"/>\n",
       "<text text-anchor=\"middle\" x=\"18\" y=\"-128.3\" font-family=\"Times New Roman,serif\" font-size=\"14.00\">b</text>\n",
       "</g>\n",
       "<!-- b&#45;&gt;c -->\n",
       "<g id=\"edge2\" class=\"edge\">\n",
       "<title>b&#45;&gt;c</title>\n",
       "<path fill=\"none\" stroke=\"black\" d=\"M35.66,-127.77C55.16,-122.81 87.71,-114.53 110.65,-108.7\"/>\n",
       "<polygon fill=\"black\" stroke=\"black\" points=\"111.6,-112.07 120.43,-106.21 109.87,-105.29 111.6,-112.07\"/>\n",
       "<text text-anchor=\"middle\" x=\"78\" y=\"-125.8\" font-family=\"Times New Roman,serif\" font-size=\"14.00\">dc/db=a</text>\n",
       "</g>\n",
       "<!-- e&#45;&gt;f -->\n",
       "<g id=\"edge6\" class=\"edge\">\n",
       "<title>e&#45;&gt;f</title>\n",
       "<path fill=\"none\" stroke=\"black\" d=\"M155.97,-50.85C172.25,-53.71 197.46,-58.48 219,-64 221.89,-64.74 224.9,-65.58 227.88,-66.46\"/>\n",
       "<polygon fill=\"black\" stroke=\"black\" points=\"227.14,-69.89 237.72,-69.49 229.2,-63.2 227.14,-69.89\"/>\n",
       "<text text-anchor=\"middle\" x=\"196.5\" y=\"-67.8\" font-family=\"Times New Roman,serif\" font-size=\"14.00\">df/de=c</text>\n",
       "</g>\n",
       "<!-- d -->\n",
       "<g id=\"node5\" class=\"node\">\n",
       "<title>d</title>\n",
       "<ellipse fill=\"none\" stroke=\"black\" cx=\"18\" cy=\"-18\" rx=\"18\" ry=\"18\"/>\n",
       "<text text-anchor=\"middle\" x=\"18\" y=\"-14.3\" font-family=\"Times New Roman,serif\" font-size=\"14.00\">d</text>\n",
       "</g>\n",
       "<!-- d&#45;&gt;e -->\n",
       "<g id=\"edge4\" class=\"edge\">\n",
       "<title>d&#45;&gt;e</title>\n",
       "<path fill=\"none\" stroke=\"black\" d=\"M36.03,-20.7C52.94,-23.56 79.52,-28.56 102,-35 105.18,-35.91 108.48,-36.97 111.73,-38.09\"/>\n",
       "<polygon fill=\"black\" stroke=\"black\" points=\"110.55,-41.39 121.14,-41.52 112.94,-34.81 110.55,-41.39\"/>\n",
       "<text text-anchor=\"middle\" x=\"78\" y=\"-38.8\" font-family=\"Times New Roman,serif\" font-size=\"14.00\">de/dd=a</text>\n",
       "</g>\n",
       "</g>\n",
       "</svg>\n"
      ],
      "text/plain": [
       "<graphviz.graphs.Digraph at 0x19f79b2d550>"
      ]
     },
     "execution_count": 6,
     "metadata": {},
     "output_type": "execute_result"
    }
   ],
   "source": [
    "e2 = graphviz.Digraph('second expression', filename='fsm.gv')\n",
    "\n",
    "e2.attr(rankdir='LR', size='8,5')\n",
    "\n",
    "e2.attr('node', shape='circle')\n",
    "e2.edge('a', 'c', label='dc/da=b')\n",
    "e2.edge('b', 'c', label='dc/db=a')\n",
    "e2.edge('a', 'e', label='de/da=d')\n",
    "e2.edge('d', 'e', label='de/dd=a')\n",
    "e2.edge('c', 'f', label='df/dc=e')\n",
    "e2.edge('e', 'f', label='df/de=c')\n",
    "\n",
    "e2"
   ]
  },
  {
   "cell_type": "markdown",
   "metadata": {
    "id": "A5oi21W4gpeM",
    "pycharm": {
     "name": "#%% md\n"
    }
   },
   "source": [
    "## Exercise c) What happens if we run backward again?\n",
    "\n",
    "Try to execute the code below. Explain what happens."
   ]
  },
  {
   "cell_type": "code",
   "execution_count": 7,
   "metadata": {
    "colab": {
     "base_uri": "https://localhost:8080/"
    },
    "id": "DCtpJyr-gyX1",
    "outputId": "d014bcfa-c9ae-49c3-d268-91cc6ca94ea5",
    "pycharm": {
     "name": "#%%\n"
    }
   },
   "outputs": [
    {
     "name": "stdout",
     "output_type": "stream",
     "text": [
      "Var(v=3.0000, grad=28.0000)\n",
      "Var(v=5.0000, grad=6.0000)\n",
      "Var(v=15.0000, grad=2.0000)\n",
      "Var(v=9.0000, grad=6.0000)\n",
      "Var(v=27.0000, grad=2.0000)\n",
      "Var(v=42.0000, grad=2.0000)\n"
     ]
    }
   ],
   "source": [
    "f.backward()\n",
    "\n",
    "for v in [a, b, c, d, e, f]:\n",
    "    print(v)"
   ]
  },
  {
   "cell_type": "markdown",
   "metadata": {
    "pycharm": {
     "name": "#%% md\n"
    }
   },
   "source": [
    "We see that they keep the same variable values, but the gradient is twice the gradient from before. When backward() is called this happens: ```self.backprop(1.0)```. Then the backprop() function is run, where the self.gradient is the self.gradient plus bp. In this call bp is the same gradient for each of the variables, so this is the same as the gradient multiplied by 2: ```self.grad += bp```"
   ]
  },
  {
   "cell_type": "markdown",
   "metadata": {
    "id": "e8bPVq2VhsP-",
    "pycharm": {
     "name": "#%% md\n"
    }
   },
   "source": [
    "## Exercise d) Zero gradient\n",
    "\n",
    "We can zero the gradient by backpropagating a -1.0 as is shown in the example below. (If you have run backward multiple time then you also have to run the cell below an equal amount of times.) Explain what is going on."
   ]
  },
  {
   "cell_type": "code",
   "execution_count": 8,
   "metadata": {
    "colab": {
     "base_uri": "https://localhost:8080/"
    },
    "id": "OnyPDQx9lJe0",
    "outputId": "7a125fdc-60c4-4340-a580-8b82aea5b0db",
    "pycharm": {
     "name": "#%%\n"
    }
   },
   "outputs": [
    {
     "name": "stdout",
     "output_type": "stream",
     "text": [
      "Var(v=2.0000, grad=0.0000)\n",
      "Var(v=5.0000, grad=6.0000)\n",
      "Var(v=15.0000, grad=2.0000)\n",
      "Var(v=9.0000, grad=6.0000)\n",
      "Var(v=27.0000, grad=2.0000)\n",
      "Var(v=42.0000, grad=2.0000)\n",
      "Var(v=2.0000, grad=0.0000)\n",
      "Var(v=5.0000, grad=3.0000)\n",
      "Var(v=15.0000, grad=1.0000)\n",
      "Var(v=9.0000, grad=3.0000)\n",
      "Var(v=27.0000, grad=1.0000)\n",
      "Var(v=42.0000, grad=1.0000)\n"
     ]
    }
   ],
   "source": [
    "a = Var(2.0)\n",
    "\n",
    "for v in [a, b, c, d, e, f]:\n",
    "    print(v)\n",
    "\n",
    "f.backprop(-1.0)\n",
    "\n",
    "for v in [a, b, c, d, e, f]:\n",
    "    print(v)"
   ]
  },
  {
   "cell_type": "markdown",
   "metadata": {
    "pycharm": {
     "name": "#%% md\n"
    }
   },
   "source": [
    "We see that the gradient is being halved when backpropagating with -1. Backpropagation with -1.0 equalizes a 'normal' backpropagation."
   ]
  },
  {
   "cell_type": "markdown",
   "metadata": {
    "id": "U4057_ljNvWB",
    "pycharm": {
     "name": "#%% md\n"
    }
   },
   "source": [
    "## Exercise e) Test correctness of derivatives with the finite difference method\n",
    "\n",
    "Write a small function that uses [the finite difference method](https://en.wikipedia.org/wiki/Finite_difference_method) to numerically test that backpropation implementation is working. In short we will use\n",
    "$$\n",
    "\\frac{\\partial f(a)}{\\partial a} \\approx \\frac{f(a+da)-f(a)}{da}\n",
    "$$\n",
    "for $da \\ll 1$.\n",
    "\n",
    "As an example, we could approximate the derivative of the function $f(a)=a^2$ in e.g. the value $a=4$ using the finite difference method. This amounts to inserting the relevant values and approximating the gradient $f'(4)$ with the fraction above. \n"
   ]
  },
  {
   "cell_type": "code",
   "execution_count": 9,
   "metadata": {
    "colab": {
     "base_uri": "https://localhost:8080/"
    },
    "id": "9TGil92lSXDN",
    "outputId": "7ef5489b-b525-4132-ab08-0b1109c07f4d",
    "pycharm": {
     "name": "#%%\n"
    }
   },
   "outputs": [
    {
     "name": "stdout",
     "output_type": "stream",
     "text": [
      "Var(v=3.0000, grad=5.0000)\n",
      "Var(v=5.0000, grad=3.0000)\n",
      "Var(v=15.0000, grad=1.0000)\n",
      "Finite difference: 5.0\n"
     ]
    }
   ],
   "source": [
    "# f function - try to change the code to test other types of functions as well (such as different polynomials etc.)\n",
    "def f_function(a):\n",
    "  a = Var(a)\n",
    "  b = Var(5.0)\n",
    "  f = a * b # **2 for poly-function\n",
    "  f.backward()\n",
    "  return a,b,f\n",
    "\n",
    "for v in f_function(3.0):\n",
    "  print(v)\n",
    "\n",
    "# Insert your finite difference code here\n",
    "def finite_difference(da = 1e-10, a = 3.0):\n",
    "    \"\"\"\n",
    "    This function compute the finite difference between\n",
    "    \n",
    "    Input:\n",
    "    da:          The finite difference                           (float)\n",
    "    \n",
    "    Output:\n",
    "    finite_difference: numerical approximation to the derivative (float) \n",
    "    \"\"\"\n",
    "    # We want the f returned from the f_function\n",
    "    fa_da = f_function(a + da)[2].v          # <- Insert correct expression\n",
    "    fa = f_function(a)[2].v                  # <- Insert correct expression\n",
    "\n",
    "    finite_difference = (fa_da - fa) / da\n",
    "    \n",
    "    return finite_difference\n",
    "\n",
    "print(\"Finite difference:\", round(finite_difference(), 3))"
   ]
  },
  {
   "cell_type": "markdown",
   "metadata": {
    "pycharm": {
     "name": "#%% md\n"
    }
   },
   "source": [
    "We are here finding that the gradient for a is 5, which is also the case since b is 5. (All because of how the function from the begining works)"
   ]
  },
  {
   "cell_type": "markdown",
   "metadata": {
    "id": "6pZar5RKaUkg",
    "pycharm": {
     "name": "#%% md\n"
    }
   },
   "source": [
    "# Create an artificial dataset to play with\n",
    "\n",
    "We create a non-linear 1d regression task. The generator supports various noise levels and it creates train, validation and test sets. You can modify it yourself if you want more or less challenging tasks."
   ]
  },
  {
   "cell_type": "code",
   "execution_count": 10,
   "metadata": {
    "id": "Y6yfMAQ8aduj",
    "pycharm": {
     "name": "#%%\n"
    }
   },
   "outputs": [],
   "source": [
    "import numpy as np\n",
    "import matplotlib.pyplot as plt\n",
    "\n",
    "np.random.seed(42)"
   ]
  },
  {
   "cell_type": "code",
   "execution_count": 11,
   "metadata": {
    "id": "4YabfD43ajNh",
    "pycharm": {
     "name": "#%%\n"
    }
   },
   "outputs": [],
   "source": [
    "def data_generator(noise=0.1, n_samples=300, D1=True):\n",
    "    # Create covariates and response variable\n",
    "    if D1:\n",
    "        X = np.linspace(-3, 3, num=n_samples).reshape(-1,1) # 1-D\n",
    "        np.random.shuffle(X)\n",
    "        y = np.random.normal((0.5*np.sin(X[:,0]*3) + X[:,0]), noise) # 1-D with trend\n",
    "    else:\n",
    "        X = np.random.multivariate_normal(np.zeros(3), noise*np.eye(3), size = n_samples) # 3-D\n",
    "        np.random.shuffle(X)    \n",
    "        y = np.sin(X[:,0]) - 5*(X[:,1]**2) + 0.5*X[:,2] # 3-D\n",
    "\n",
    "    # Stack them together vertically to split data set\n",
    "    data_set = np.vstack((X.T,y)).T\n",
    "    \n",
    "    train, validation, test = np.split(data_set, [int(0.35*n_samples), int(0.7*n_samples)], axis=0)\n",
    "    \n",
    "    # Standardization of the data, remember we do the standardization with the training set mean and standard deviation\n",
    "    train_mu = np.mean(train, axis=0)\n",
    "    train_sigma = np.std(train, axis=0)\n",
    "    \n",
    "    train = (train-train_mu)/train_sigma\n",
    "    validation = (validation-train_mu)/train_sigma\n",
    "    test = (test-train_mu)/train_sigma\n",
    "    \n",
    "    x_train, x_validation, x_test = train[:,:-1], validation[:,:-1], test[:,:-1]\n",
    "    y_train, y_validation, y_test = train[:,-1], validation[:,-1], test[:,-1]\n",
    "\n",
    "    return x_train, y_train,  x_validation, y_validation, x_test, y_test"
   ]
  },
  {
   "cell_type": "code",
   "execution_count": 12,
   "metadata": {
    "id": "u1oDngHLapIz",
    "pycharm": {
     "name": "#%%\n"
    }
   },
   "outputs": [],
   "source": [
    "D1 = True\n",
    "x_train, y_train,  x_validation, y_validation, x_test, y_test = data_generator(noise=0.5, D1=D1)"
   ]
  },
  {
   "cell_type": "code",
   "execution_count": 13,
   "metadata": {
    "colab": {
     "base_uri": "https://localhost:8080/",
     "height": 265
    },
    "id": "Ysfa3FsBavlm",
    "outputId": "399e5382-ae7d-48f6-9774-7ea4c73e7d95",
    "pycharm": {
     "name": "#%%\n"
    }
   },
   "outputs": [
    {
     "data": {
      "image/png": "[encoded data removed]",
      "text/plain": [
       "<Figure size 432x288 with 1 Axes>"
      ]
     },
     "metadata": {
      "needs_background": "light"
     },
     "output_type": "display_data"
    }
   ],
   "source": [
    "if D1:\n",
    "    plt.scatter(x_train[:,0], y_train);\n",
    "    plt.scatter(x_validation[:,0], y_validation);\n",
    "    plt.scatter(x_test[:,0], y_test);\n",
    "else:\n",
    "    plt.scatter(x_train[:,1], y_train);\n",
    "    plt.scatter(x_validation[:,1], y_validation);\n",
    "    plt.scatter(x_test[:,1], y_test);\n",
    "plt.show()"
   ]
  },
  {
   "cell_type": "code",
   "execution_count": 14,
   "metadata": {
    "id": "zac2HHNlgbpm",
    "pycharm": {
     "name": "#%%\n"
    }
   },
   "outputs": [],
   "source": [
    "# convert from nparray to Var\n",
    "def nparray_to_Var(x):\n",
    "  if x.ndim==1:\n",
    "    y = [[Var(float(x[i]))] for i in range(x.shape[0])] # always work with list of list\n",
    "  else:\n",
    "    y = [[Var(float(x[i,j])) for j in range(x.shape[1])] for i in range(x.shape[0])]\n",
    "  return y\n",
    "   \n",
    "x_train = nparray_to_Var(x_train)\n",
    "y_train = nparray_to_Var(y_train)\n",
    "x_validation = nparray_to_Var(x_validation)\n",
    "y_validation = nparray_to_Var(y_validation)\n",
    "x_test = nparray_to_Var(x_test)\n",
    "y_test = nparray_to_Var(y_test)"
   ]
  },
  {
   "cell_type": "markdown",
   "metadata": {
    "id": "VbjrqcpVFtGe",
    "pycharm": {
     "name": "#%% md\n"
    }
   },
   "source": [
    "# Defining and initializing the network\n",
    "\n",
    "The steps to create a feed forward neural network are the following:\n",
    "\n",
    "1. **Number of hidden layer and hidden units**. We have to define the number of hidden units in each layer. The number of features in X and the output dimensionality (the size of Y) are given but the numbers in between are set by the researcher. Remember that for each unit in each layer beside in the input has a bias term.\n",
    "2. **Activation functions** for each hidden layer. Each hidden layer in your list must have an activation function (it can also be the linear activation which is equivalent to identity function). The power of neural networks comes from non-linear activation functions that learn representations (features) from the data allowing us to learn from it. \n",
    "3. **Parameter initialization**. We will initialize the weights to have random values. This is done in practice by drawing pseudo random numbers from a Gaussian or uniform distribution. It turns out that for deeper models we have to be careful about how we scale the random numbers. This will be the topic of the exercise below. For now we will just use unit variance Gaussians.  \n",
    "\n",
    "In order to make life easier for ourselves we define a DenseLayer class that takes care of initialization and the forward pass. We can also extend it later with print and advanced initialization capabilities. For the latter we have introduced a Initializer class.\n",
    "\n",
    "Note that we use Sequence in the code below. A Sequence is an ordered list. This means the order we insert and access items are the same."
   ]
  },
  {
   "cell_type": "code",
   "execution_count": 15,
   "metadata": {
    "id": "ij_ieRsAt7Xt",
    "pycharm": {
     "name": "#%%\n"
    }
   },
   "outputs": [],
   "source": [
    "class Initializer:\n",
    "\n",
    "  def init_weights(self, n_in, n_out):\n",
    "    raise NotImplementedError\n",
    "\n",
    "  def init_bias(self, n_out):\n",
    "    raise NotImplementedError"
   ]
  },
  {
   "cell_type": "code",
   "execution_count": 88,
   "metadata": {
    "id": "eb18N5phuIha",
    "pycharm": {
     "name": "#%%\n"
    }
   },
   "outputs": [],
   "source": [
    "import random\n",
    "\n",
    "class NormalInitializer(Initializer):\n",
    "\n",
    "  def __init__(self, mean=0, std=0.1):\n",
    "    self.mean = mean\n",
    "    self.std = std\n",
    "    \n",
    "  # New init for layers\n",
    "  def init_layers(self, n_in, n_out):\n",
    "    return n_in\n",
    "\n",
    "  def init_weights(self, n_in, n_out):\n",
    "    return [[Var(random.gauss(self.mean, self.std)) for _ in range(n_out)] for _ in range(n_in)]\n",
    "\n",
    "  def init_bias(self, n_out):\n",
    "    return [Var(0.0) for _ in range(n_out)]\n",
    "\n",
    "class ConstantInitializer(Initializer):\n",
    "\n",
    "  def __init__(self, weight=1.0, bias=0.0):\n",
    "    self.weight = weight\n",
    "    self.bias = bias\n",
    "\n",
    "  # New init for layers\n",
    "  def init_layers(self, n_in, n_out):\n",
    "    return n_in\n",
    "\n",
    "  def init_weights(self, n_in, n_out):\n",
    "    return [[Var(self.weight) for _ in range(n_out)] for _ in range(n_in)]\n",
    "\n",
    "  def init_bias(self, n_out):\n",
    "    return [Var(self.bias) for _ in range(n_out)]"
   ]
  },
  {
   "cell_type": "code",
   "execution_count": 94,
   "metadata": {
    "id": "jOLYGnZKuM6W",
    "pycharm": {
     "name": "#%%\n"
    }
   },
   "outputs": [],
   "source": [
    "from typing import Sequence\n",
    "\n",
    "class DenseLayer:\n",
    "    def __init__(self, n_in: int, n_out: int, act_fn, initializer = NormalInitializer()):\n",
    "        self.weights = initializer.init_weights(n_in, n_out)\n",
    "        self.bias = initializer.init_bias(n_out)\n",
    "        self.layers = initializer.init_layers(n_in, n_out)\n",
    "        self.act_fn = act_fn\n",
    "    \n",
    "    def __repr__(self):    \n",
    "        #return 'Weights: ' + repr(self.weights) + ' Biases: ' + repr(self.bias) \n",
    "        return 'Neuron(s): ' + repr(self.layers) + '\\nWeights: ' + repr(self.weights) + '\\nBiases: ' + repr(self.bias)\n",
    "\n",
    "    def parameters(self) -> Sequence[Var]:\n",
    "      params = []\n",
    "      for r in self.weights:\n",
    "        params += r\n",
    "      return params + self.bias\n",
    "\n",
    "    def forward(self, single_input: Sequence[Var]) -> Sequence[Var]:\n",
    "        # self.weights is a matrix with dimension n_in x n_out. We check that the dimensionality of the input \n",
    "        # to the current layer matches the number of nodes in the current layer\n",
    "        assert len(self.weights) == len(single_input), \"weights and single_input must match in first dimension\"\n",
    "        weights = self.weights\n",
    "        out = []\n",
    "        # For some given data point single_input, we now want to calculate the resulting value in each node in the current layer\n",
    "        # We therefore loop over the (number of) nodes in the current layer:\n",
    "        for j in range(len(weights[0])): \n",
    "            # Initialize the node value depending on its corresponding parameters.\n",
    "            node = Var(0.0) # self.bias[i]\n",
    "            # We now finish the linear transformation corresponding to the parameters of the currently considered node.\n",
    "            for i in range(len(single_input)):\n",
    "                node += single_input[i] * self.weights[i][j]  # <- Insert code\n",
    "            node = self.act_fn(node)\n",
    "            out.append(node)\n",
    "\n",
    "        return out"
   ]
  },
  {
   "cell_type": "markdown",
   "metadata": {
    "id": "jpIZPBpNI0pO",
    "pycharm": {
     "name": "#%% md\n"
    }
   },
   "source": [
    "## Exercise f) Add more activation functions\n",
    "\n",
    "To have a full definition of the neural network, we must define an activation function for every layer. Several activation functions have been proposed and have different characteristics. In the Var class we have already defined the rectified linear init (relu). \n",
    " \n",
    "Implement the following activation functions in the Var class:\n",
    "\n",
    "* Identity: $$\\mathrm{identity}(x) = x$$\n",
    "* Hyperbolic tangent: $$\\tanh(x)$$\n",
    "* Sigmoid (or logistic function): $$\\mathrm{sigmoid}(x) = \\frac{1}{1.0 + \\exp(-x ) }$$  Hint: $\\mathrm{sigmoid}'(x)= \\mathrm{sigmoid}(x)(1-\\mathrm{sigmoid}(x))$.  \n",
    "\n",
    "Hint: You can seek inspiration in the relu method in the Var class."
   ]
  },
  {
   "cell_type": "markdown",
   "metadata": {
    "pycharm": {
     "name": "#%% md\n"
    }
   },
   "source": [
    "***********************************\n",
    "I have created a new class Var added to the code box in the top of this `notebook`, overwriting the one from the begining - and added 3 new activation functions."
   ]
  },
  {
   "cell_type": "markdown",
   "metadata": {
    "id": "p_8n_SKnIW2F",
    "pycharm": {
     "name": "#%% md\n"
    }
   },
   "source": [
    "## Exercise g) Complete the forward pass\n",
    "\n",
    "In the code below we initialize a 1-5-1 network and pass the training set through it. *The forward method in DenseLayer is **not** complete*. It just outputs zeros right now. The method forward should perform an [affine transformation](https://en.wikipedia.org/wiki/Affine_transformation) on the input followed by an application of the activation function."
   ]
  },
  {
   "cell_type": "code",
   "execution_count": 95,
   "metadata": {
    "colab": {
     "base_uri": "https://localhost:8080/",
     "height": 337
    },
    "id": "xDEjtePxE7Mv",
    "outputId": "753406cd-d8a1-4282-ce03-25ad959b0e11",
    "pycharm": {
     "name": "#%%\n"
    }
   },
   "outputs": [
    {
     "name": "stdout",
     "output_type": "stream",
     "text": [
      "[[Var(v=-0.0125, grad=0.0000)], [Var(v=-0.0251, grad=0.0000)], [Var(v=-0.0023, grad=0.0000)], [Var(v=-0.0503, grad=0.0000)], [Var(v=-0.0185, grad=0.0000)], [Var(v=-0.0171, grad=0.0000)], [Var(v=-0.0111, grad=0.0000)], [Var(v=-0.0121, grad=0.0000)], [Var(v=-0.0518, grad=0.0000)], [Var(v=-0.0069, grad=0.0000)], [Var(v=-0.0193, grad=0.0000)], [Var(v=-0.0320, grad=0.0000)], [Var(v=-0.0155, grad=0.0000)], [Var(v=-0.0366, grad=0.0000)], [Var(v=-0.0083, grad=0.0000)], [Var(v=-0.0161, grad=0.0000)], [Var(v=-0.0298, grad=0.0000)], [Var(v=-0.0141, grad=0.0000)], [Var(v=-0.0015, grad=0.0000)], [Var(v=-0.0049, grad=0.0000)], [Var(v=-0.0239, grad=0.0000)], [Var(v=-0.0106, grad=0.0000)], [Var(v=-0.0217, grad=0.0000)], [Var(v=-0.0219, grad=0.0000)], [Var(v=-0.0140, grad=0.0000)], [Var(v=-0.0377, grad=0.0000)], [Var(v=-0.0282, grad=0.0000)], [Var(v=-0.0310, grad=0.0000)], [Var(v=-0.0033, grad=0.0000)], [Var(v=-0.0195, grad=0.0000)], [Var(v=-0.0473, grad=0.0000)], [Var(v=-0.0047, grad=0.0000)], [Var(v=-0.0411, grad=0.0000)], [Var(v=-0.0446, grad=0.0000)], [Var(v=-0.0149, grad=0.0000)], [Var(v=-0.0083, grad=0.0000)], [Var(v=-0.0511, grad=0.0000)], [Var(v=-0.0193, grad=0.0000)], [Var(v=-0.0362, grad=0.0000)], [Var(v=-0.0258, grad=0.0000)], [Var(v=-0.0182, grad=0.0000)], [Var(v=-0.0247, grad=0.0000)], [Var(v=-0.0292, grad=0.0000)], [Var(v=-0.0308, grad=0.0000)], [Var(v=-0.0243, grad=0.0000)], [Var(v=-0.0297, grad=0.0000)], [Var(v=-0.0187, grad=0.0000)], [Var(v=-0.0177, grad=0.0000)], [Var(v=-0.0113, grad=0.0000)], [Var(v=-0.0181, grad=0.0000)], [Var(v=-0.0079, grad=0.0000)], [Var(v=-0.0007, grad=0.0000)], [Var(v=-0.0197, grad=0.0000)], [Var(v=-0.0251, grad=0.0000)], [Var(v=-0.0314, grad=0.0000)], [Var(v=-0.0276, grad=0.0000)], [Var(v=-0.0167, grad=0.0000)], [Var(v=-0.0186, grad=0.0000)], [Var(v=-0.0103, grad=0.0000)], [Var(v=-0.0442, grad=0.0000)], [Var(v=-0.0183, grad=0.0000)], [Var(v=-0.0312, grad=0.0000)], [Var(v=-0.0515, grad=0.0000)], [Var(v=-0.0089, grad=0.0000)], [Var(v=-0.0065, grad=0.0000)], [Var(v=-0.0423, grad=0.0000)], [Var(v=-0.0453, grad=0.0000)], [Var(v=-0.0231, grad=0.0000)], [Var(v=-0.0323, grad=0.0000)], [Var(v=-0.0091, grad=0.0000)], [Var(v=-0.0125, grad=0.0000)], [Var(v=-0.0056, grad=0.0000)], [Var(v=-0.0179, grad=0.0000)], [Var(v=-0.0105, grad=0.0000)], [Var(v=-0.0044, grad=0.0000)], [Var(v=-0.0284, grad=0.0000)], [Var(v=-0.0224, grad=0.0000)], [Var(v=-0.0216, grad=0.0000)], [Var(v=-0.0285, grad=0.0000)], [Var(v=-0.0296, grad=0.0000)], [Var(v=-0.0045, grad=0.0000)], [Var(v=-0.0027, grad=0.0000)], [Var(v=-0.0465, grad=0.0000)], [Var(v=-0.0064, grad=0.0000)], [Var(v=-0.0236, grad=0.0000)], [Var(v=-0.0102, grad=0.0000)], [Var(v=-0.0086, grad=0.0000)], [Var(v=-0.0262, grad=0.0000)], [Var(v=-0.0480, grad=0.0000)], [Var(v=-0.0499, grad=0.0000)], [Var(v=-0.0107, grad=0.0000)], [Var(v=-0.0151, grad=0.0000)], [Var(v=-0.0278, grad=0.0000)], [Var(v=-0.0167, grad=0.0000)], [Var(v=-0.0396, grad=0.0000)], [Var(v=-0.0476, grad=0.0000)], [Var(v=-0.0077, grad=0.0000)], [Var(v=-0.0013, grad=0.0000)], [Var(v=-0.0268, grad=0.0000)], [Var(v=-0.0281, grad=0.0000)], [Var(v=-0.0175, grad=0.0000)], [Var(v=-0.0274, grad=0.0000)], [Var(v=-0.0419, grad=0.0000)], [Var(v=-0.0085, grad=0.0000)], [Var(v=-0.0249, grad=0.0000)]]\n"
     ]
    }
   ],
   "source": [
    "NN = [\n",
    "    DenseLayer(1, 5, lambda x: x.relu()),\n",
    "    DenseLayer(5, 1, lambda x: x.identity())\n",
    "]\n",
    "\n",
    "def forward(input, network):\n",
    "\n",
    "  def forward_single(x, network):\n",
    "    for layer in network:\n",
    "        x = layer.forward(x)\n",
    "    return x\n",
    "\n",
    "  output = [forward_single(input[n], network) for n in range(len(input))]\n",
    "  return output\n",
    "\n",
    "print(forward(x_train, NN))"
   ]
  },
  {
   "cell_type": "markdown",
   "metadata": {
    "pycharm": {
     "name": "#%% md\n"
    }
   },
   "source": [
    "When printing we see that the gradient is 0, since we haven't done backward propagation."
   ]
  },
  {
   "cell_type": "markdown",
   "metadata": {
    "id": "oLrGJytZFtGm",
    "pycharm": {
     "name": "#%% md\n"
    }
   },
   "source": [
    "## Exercise h) Print all network parameters\n",
    "\n",
    "Make a function that prints all the parameters of the network (weights and biases) with information about in which layer the appear. In the object oriented spirit you should introduce a method in the DenseLayer class to print the parameters of a layer. Hint: You can take inspiration from the corresponding method in Var. "
   ]
  },
  {
   "cell_type": "code",
   "execution_count": 98,
   "metadata": {
    "id": "iac-VwYGFtGm",
    "pycharm": {
     "name": "#%%\n"
    }
   },
   "outputs": [
    {
     "name": "stdout",
     "output_type": "stream",
     "text": [
      "Layer: 1 \n",
      "Neuron(s): 1\n",
      "Weights: [[Var(v=-0.1158, grad=0.0000), Var(v=0.0373, grad=0.0000), Var(v=0.0584, grad=0.0000), Var(v=-0.1318, grad=0.0000), Var(v=-0.0610, grad=0.0000)]]\n",
      "Biases: [Var(v=0.0000, grad=0.0000), Var(v=0.0000, grad=0.0000), Var(v=0.0000, grad=0.0000), Var(v=0.0000, grad=0.0000), Var(v=0.0000, grad=0.0000)]\n",
      "\n",
      "Layer: 2 \n",
      "Neuron(s): 5\n",
      "Weights: [[Var(v=-0.2291, grad=0.0000)], [Var(v=-0.1134, grad=0.0000)], [Var(v=-0.2246, grad=0.0000)], [Var(v=-0.0109, grad=0.0000)], [Var(v=-0.0835, grad=0.0000)]]\n",
      "Biases: [Var(v=0.0000, grad=0.0000)]\n",
      "\n"
     ]
    }
   ],
   "source": [
    "# Insert code here and in the DenseLayer class\n",
    "\n",
    "# Function for printing network parameters\n",
    "def layer_networks(NN = NN):\n",
    "  for i in range(len(NN)):\n",
    "    string = 'Layer: ' + str(i+1) + ' \\n' + str(NN[i]) + '\\n'\n",
    "    print(string)\n",
    "\n",
    "# by running this function all the parameters of the network and the belonging layer is printed\n",
    "layer_networks()"
   ]
  },
  {
   "cell_type": "markdown",
   "metadata": {
    "id": "_79HOAXrFtHK",
    "pycharm": {
     "name": "#%% md\n"
    }
   },
   "source": [
    "## Visualization\n",
    "\n",
    "Now that we have defined our activation functions we can visualize them to see what they look like:"
   ]
  },
  {
   "cell_type": "code",
   "execution_count": 92,
   "metadata": {
    "id": "1FcylHqLTl-Z",
    "pycharm": {
     "name": "#%%\n"
    }
   },
   "outputs": [
    {
     "data": {
      "image/png": "[encoded data removed]",
      "text/plain": [
       "<Figure size 432x288 with 1 Axes>"
      ]
     },
     "metadata": {
      "needs_background": "light"
     },
     "output_type": "display_data"
    }
   ],
   "source": [
    "# Initialize x\n",
    "x = np.linspace(-6, 6, 100)\n",
    "\n",
    "# Convert from Var to ndarray  \n",
    "def Var_to_nparray(x):\n",
    "  y = np.zeros((len(x),len(x[0])))\n",
    "  for i in range(len(x)):\n",
    "    for j in range(len(x[0])):\n",
    "      y[i,j] = x[i][j].v\n",
    "  return y\n",
    "\n",
    "# Define 1-1 network with weight = 1 and relu activation \n",
    "NN = [ DenseLayer(1, 1, lambda x: x.relu(), initializer = ConstantInitializer(1.0)) ] \n",
    "y = Var_to_nparray(forward(nparray_to_Var(x), NN))\n",
    "\n",
    "plt.plot(x, y)\n",
    "plt.show()"
   ]
  },
  {
   "cell_type": "code",
   "execution_count": 90,
   "metadata": {
    "id": "oOL2UolJFtHL",
    "pycharm": {
     "name": "#%%\n"
    }
   },
   "outputs": [
    {
     "data": {
      "image/png": "[encoded data removed]",
      "text/plain": [
       "<Figure size 360x360 with 1 Axes>"
      ]
     },
     "metadata": {
      "needs_background": "light"
     },
     "output_type": "display_data"
    }
   ],
   "source": [
    "# Testing all activation layers\n",
    "x = np.linspace(-6, 6, 100)\n",
    "units = {\n",
    "    \"identity\": lambda x: x.identity(),\n",
    "    \"sigmoid\": lambda x: x.sigmoid(), \n",
    "    \"relu\": lambda x: x.relu(),\n",
    "    \"tanh\": lambda x: x.tanh()\n",
    "}\n",
    "\n",
    "plt.figure(figsize=(5, 5))\n",
    "[plt.plot(x, Var_to_nparray(forward(nparray_to_Var(x), [DenseLayer(1, 1, unit, initializer = ConstantInitializer(1.0))]) ), label=unit_name, lw=2) for unit_name, unit in units.items()] # unit(nparray_to_Var(x))), label=unit_name, lw=2) for unit_name, unit in units.items()]\n",
    "plt.legend(loc=2, fontsize=16)\n",
    "plt.title('Our activation functions', fontsize=20)\n",
    "plt.ylim([-2, 5])\n",
    "plt.xlim([-6, 6])\n",
    "plt.show()"
   ]
  },
  {
   "cell_type": "markdown",
   "metadata": {
    "id": "b-jdEl-7FtGs",
    "pycharm": {
     "name": "#%% md\n"
    }
   },
   "source": [
    "# Advanced initialization schemes\n",
    "\n",
    "If we are not careful with initialization, the signals we propagate forward ($a^{(l)}$, $l=1,\\ldots,L$) and backward ($\\delta^l$, $l=L,L-1,\\ldots,1$) can blow up or shrink to zero. A statistical analysis of the variance of the signals for different activation functions can be found in these two papers: [Glorot initialization](http://proceedings.mlr.press/v9/glorot10a/glorot10a.pdf) and [He initialization](https://arxiv.org/pdf/1502.01852v1.pdf). \n",
    "\n",
    "The result of the analyses are proposals for how to make the initialization such that the variance of the signals (forward and backward) are kept approxmimatly constant when propagating from layer to layer. The exact expressions depend upon the non-linear activation function used. In Glorot initialization, the aim is to keep both the forward and backward variances constant whereas He only aims at keeping the variance in the forward pass constant.\n",
    "\n",
    "We define $n_{in}$ and $n_{out}$ as the number of input units and output units of a particular layer. \n",
    "\n",
    "The Glorot initialization has the form: \n",
    "\n",
    "$$w_{ij} \\sim N \\bigg( 0, \\, \\frac{2 \\alpha }{n_{in} + n_{out}} \\bigg) \\ . $$\n",
    "\n",
    "where $N(\\mu,\\sigma^2)$ is a Gaussian distribution with mean $\\mu$ and variance $\\sigma^2$ and $\\alpha$ is a parameter that depends upon the activation function used. For $\\tanh$, $\\alpha=1$ and for Rectified Linear Unit (ReLU) activations, $\\alpha=2$. (It is also possible to use a uniform distribution for initialization, see [this blog post](https://mmuratarat.github.io/2019-02-25/xavier-glorot-he-weight-init).) \n",
    "\n",
    "The He initialization is very similar\n",
    "\n",
    "$$w_{ij} \\sim N \\bigg( 0, \\, \\frac{\\alpha}{n_{in}} \\bigg) \\ . $$"
   ]
  },
  {
   "cell_type": "markdown",
   "metadata": {
    "id": "mqeyab9qFtGs",
    "pycharm": {
     "name": "#%% md\n"
    }
   },
   "source": [
    "## Exercise i) Glorot and He initialization\n",
    " \n",
    "Using the Initializer class, implement functions that implement Glorot and He \n",
    "\n",
    "Explain briefly how you would test numerically that these initializations have the sought after property. Hint: See plots in Glorot paper.\n",
    "\n",
    "Comment: If you want to be more advanced then try to make a universal initializer taking both the activation function and type (Glorot or He) as argument."
   ]
  },
  {
   "cell_type": "code",
   "execution_count": 97,
   "metadata": {
    "id": "Qyk01CgaFtGt",
    "pycharm": {
     "name": "#%%\n"
    }
   },
   "outputs": [],
   "source": [
    "## Glorot\n",
    "def DenseLayer_Glorot_tanh(n_in: int, n_out: int):\n",
    "  std = math.sqrt(2*1/(n_in + n_out)) #0.0 # <- replace with proper initialization (alpha = 1)\n",
    "  return DenseLayer(n_in, n_out, lambda x: x.tanh(), initializer = NormalInitializer(std))\n",
    "\n",
    "## He\n",
    "def DenseLayer_He_relu(n_in: int, n_out: int):\n",
    "  std = math.sqrt(2/n_in) #0.0 # <- replace with proper initialization (alpha = 2)\n",
    "  return DenseLayer(n_in, n_out, lambda x: x.relu(), initializer = NormalInitializer(std))"
   ]
  },
  {
   "cell_type": "markdown",
   "metadata": {
    "pycharm": {
     "name": "#%% md\n"
    }
   },
   "source": [
    "### How to test numerically\n",
    "Inspired by the Glorot paper and plots I would visualize the distribution of the gradients using the initializer. "
   ]
  },
  {
   "cell_type": "markdown",
   "metadata": {
    "id": "-XyXBD37FtHk",
    "pycharm": {
     "name": "#%% md\n"
    }
   },
   "source": [
    "## Exercise j) Forward pass unit test\n",
    "\n",
    "Write a bit of code to make a unit test that the forward pass works. This can be done by defining a simple network with for example all weights equal to one (using the ConstantInitializer method) and identity activation functions. \n",
    "\n",
    "Hints: Use the [assert](https://www.w3schools.com/python/ref_keyword_assert.asp), the nparray_to_Var and the Var_to_nparray commands. "
   ]
  },
  {
   "cell_type": "code",
   "execution_count": 108,
   "metadata": {
    "id": "k0miqRUAFtHl",
    "pycharm": {
     "name": "#%%\n"
    }
   },
   "outputs": [
    {
     "data": {
      "image/png": "[encoded data removed]",
      "text/plain": [
       "<Figure size 432x288 with 1 Axes>"
      ]
     },
     "metadata": {
      "needs_background": "light"
     },
     "output_type": "display_data"
    }
   ],
   "source": [
    "# Insert code here\n",
    "# define 1-1 network with weight = 1 and relu/identity activation \n",
    "\n",
    "# Setting all the weights to 1.0 by using the ConstantInitializer\n",
    "NN = [DenseLayer(1, 1, lambda x: x.identity(), initializer = ConstantInitializer(1.0)) ]  # x.identity?\n",
    "y = Var_to_nparray(forward(nparray_to_Var(x), NN))\n",
    "\n",
    "plt.plot(y)\n",
    "plt.show()"
   ]
  },
  {
   "cell_type": "markdown",
   "metadata": {
    "id": "faCxhfFnFtHp",
    "pycharm": {
     "name": "#%% md\n"
    }
   },
   "source": [
    "# Loss functions\n",
    "\n",
    "We are only missing a loss function to we need to define a loss function and its derivative with respect to the output of the neural network $y$"
   ]
  },
  {
   "cell_type": "code",
   "execution_count": 119,
   "metadata": {
    "id": "I2eDYKvAFtHq",
    "pycharm": {
     "name": "#%%\n"
    }
   },
   "outputs": [],
   "source": [
    "def squared_loss(t, y):\n",
    "  \n",
    "    # add check that sizes agree\n",
    "    if len(t) != len(y):\n",
    "        print(\"No\")\n",
    "  \n",
    "    def squared_loss_single(t, y):\n",
    "        Loss = Var(0.0)\n",
    "        for i in range(len(t)): # sum over outputs\n",
    "          Loss += (t[i]-y[i]) ** 2\n",
    "        \n",
    "        return Loss\n",
    "\n",
    "    Loss = Var(0.0)\n",
    "    for n in range(len(t)): # sum over training data\n",
    "        Loss += squared_loss_single(t[n],y[n])\n",
    "    \n",
    "    return Loss"
   ]
  },
  {
   "cell_type": "markdown",
   "metadata": {
    "id": "SrwSJ2UWFtHu",
    "pycharm": {
     "name": "#%% md\n"
    }
   },
   "source": [
    "## Exercise k) Implement cross entropy loss\n",
    "\n",
    "Insert code below to implement cross-entropy loss for general dimensionality of $t$. Use a logits formulation:\n",
    "$$\n",
    "\\rm{Loss} = - \\sum_i t_i \\, log \\, p_i \n",
    "$$\n",
    "with $p$ given by the the softmax function in terms of the logits $h$:\n",
    "$$\n",
    "p_i = \\frac{\\exp(h_i)}{\\sum_{i'} \\exp(h_{i'})} .\n",
    "$$\n",
    "Inserting $p$ in the expression for the loss gives\n",
    "$$\n",
    "\\rm{Loss} = - \\sum_i t_i h_i + \\rm{LogSumExp}(h) \\ ,\n",
    "$$\n",
    "where \n",
    "$$\n",
    "\\rm{LogSumExp}(h) = \\log \\sum_i \\exp h_i \\ .\n",
    "$$\n",
    "This is true for $t$ being a one-hot vector. \n",
    "\n",
    "Call the function to convince yourself it works. \n",
    "\n",
    "In practice you want to implement a [numerically stable](https://leimao.github.io/blog/LogSumExp/) version of LogSumExp. But we will not bother about that here.\n",
    "\n",
    "Help: You can add these methods in the Var class:\n",
    "\n",
    "    def exp(self):\n",
    "        return Var(exp(self.v), lambda: [(self, exp(self.v))])\n",
    "    \n",
    "    def log(self):\n",
    "        return Var(log(self.v), lambda: [(self, self.v ** -1)])"
   ]
  },
  {
   "cell_type": "code",
   "execution_count": 165,
   "metadata": {
    "id": "6nMuxyfzFtHv",
    "pycharm": {
     "name": "#%%\n"
    }
   },
   "outputs": [],
   "source": [
    "def cross_entropy_loss(t, h):\n",
    "     \n",
    "    Loss = Var(0.0)\n",
    "    \n",
    "    # Insert code here\n",
    "    for i in range(1, len(t)-1):\n",
    "        print(i)\n",
    "        Loss -= t[i][0].v*h[i][0].v + log(exp(h[i][0].v))\n",
    "    \n",
    "    return Loss"
   ]
  },
  {
   "cell_type": "markdown",
   "metadata": {
    "id": "8fAF5ew4FtHy",
    "pycharm": {
     "name": "#%% md\n"
    }
   },
   "source": [
    "# Backward pass\n",
    "\n",
    "Now the magic happens! We get the calculation of the gradients for free. Just do:"
   ]
  },
  {
   "cell_type": "code",
   "execution_count": 121,
   "metadata": {
    "id": "iHyfPPI9Qqwu",
    "pycharm": {
     "name": "#%%\n"
    }
   },
   "outputs": [],
   "source": [
    "NN = [\n",
    "    DenseLayer(1, 5, lambda x: x.relu()),\n",
    "    DenseLayer(5, 1, lambda x: x.identity())\n",
    "]\n",
    "\n",
    "output = forward(x_train, NN)\n",
    "\n",
    "Loss = squared_loss(y_train,output)\n",
    "Loss.backward()"
   ]
  },
  {
   "cell_type": "markdown",
   "metadata": {
    "id": "49biIAYKQ1oG",
    "pycharm": {
     "name": "#%% md\n"
    }
   },
   "source": [
    "and the gradients will be calculated:"
   ]
  },
  {
   "cell_type": "code",
   "execution_count": 122,
   "metadata": {
    "id": "_rGt1bq_Q7uk",
    "pycharm": {
     "name": "#%%\n"
    }
   },
   "outputs": [
    {
     "name": "stdout",
     "output_type": "stream",
     "text": [
      "Layer:  0 \n",
      " Neuron(s): 1\n",
      "Weights: [[Var(v=0.2117, grad=6.9398), Var(v=-0.0214, grad=-2.6031), Var(v=-0.0941, grad=6.7393), Var(v=-0.1230, grad=7.4989), Var(v=-0.1039, grad=12.8942)]]\n",
      "Biases: [Var(v=0.0000, grad=0.0000), Var(v=0.0000, grad=0.0000), Var(v=0.0000, grad=0.0000), Var(v=0.0000, grad=0.0000), Var(v=0.0000, grad=0.0000)]\n",
      "Layer:  1 \n",
      " Neuron(s): 5\n",
      "Weights: [[Var(v=-0.0673, grad=-21.8349)], [Var(v=0.0280, grad=1.9899)], [Var(v=-0.0725, grad=8.7492)], [Var(v=-0.0807, grad=11.4305)], [Var(v=-0.1387, grad=9.6548)]]\n",
      "Biases: [Var(v=0.0000, grad=0.0000)]\n"
     ]
    },
    {
     "data": {
      "text/plain": [
       "[None, None]"
      ]
     },
     "execution_count": 122,
     "metadata": {},
     "output_type": "execute_result"
    }
   ],
   "source": [
    "[print('Layer: ', i+1, '\\n', NN[i]) for i in range(len(NN))] "
   ]
  },
  {
   "cell_type": "markdown",
   "metadata": {
    "id": "D7d7qK0uFtH9",
    "pycharm": {
     "name": "#%% md\n"
    }
   },
   "source": [
    "# Backward pass unit test\n",
    "\n",
    "Above we used finite differences to test that Nanograd is actually doing what it is supposed to do. We can in principle try the same for the neural network. But we will trust that the test above is enough."
   ]
  },
  {
   "cell_type": "markdown",
   "metadata": {
    "id": "WgBi8GOSFtIN",
    "pycharm": {
     "name": "#%% md\n"
    }
   },
   "source": [
    "# Training and validation\n",
    "\n",
    "We are ready to train some neural networks!\n",
    "\n",
    "We initialize again:"
   ]
  },
  {
   "cell_type": "code",
   "execution_count": 123,
   "metadata": {
    "id": "01ePmzBzRtdh",
    "pycharm": {
     "name": "#%%\n"
    }
   },
   "outputs": [],
   "source": [
    "NN = [\n",
    "    DenseLayer(1, 15, lambda x: x.relu()),\n",
    "    DenseLayer(15, 50, lambda x: x.relu()),\n",
    "    DenseLayer(50, 1, lambda x: x.identity())\n",
    "]\n",
    "\n",
    "output = forward(x_train, NN)\n",
    "\n",
    "Loss = squared_loss(y_train,output)\n",
    "Loss.backward()"
   ]
  },
  {
   "cell_type": "markdown",
   "metadata": {
    "id": "10iRPiQ1ISHw",
    "pycharm": {
     "name": "#%% md\n"
    }
   },
   "source": [
    "and make an update:\n",
    "\n",
    "We introduce a help function parameters to have a handle in all parameters in the network."
   ]
  },
  {
   "cell_type": "code",
   "execution_count": 124,
   "metadata": {
    "id": "dhAI7eyeznia",
    "pycharm": {
     "name": "#%%\n"
    }
   },
   "outputs": [
    {
     "name": "stdout",
     "output_type": "stream",
     "text": [
      "Network before update:\n",
      "Layer 0 \n",
      " Neuron(s): 1\n",
      "Weights: [[Var(v=-0.0964, grad=-1.3596), Var(v=-0.0932, grad=-1.0103), Var(v=0.1925, grad=-5.7544), Var(v=0.0671, grad=-1.1243), Var(v=-0.1702, grad=0.6511), Var(v=0.0400, grad=3.2361), Var(v=-0.0187, grad=2.6218), Var(v=0.0400, grad=4.0309), Var(v=0.0141, grad=-1.3750), Var(v=-0.1236, grad=-0.9438), Var(v=-0.1039, grad=0.1012), Var(v=0.0428, grad=-3.9933), Var(v=-0.0978, grad=-0.8800), Var(v=0.1281, grad=-3.5937), Var(v=-0.0610, grad=-1.5424)]]\n",
      "Biases: [Var(v=0.0000, grad=0.0000), Var(v=0.0000, grad=0.0000), Var(v=0.0000, grad=0.0000), Var(v=0.0000, grad=0.0000), Var(v=0.0000, grad=0.0000), Var(v=0.0000, grad=0.0000), Var(v=0.0000, grad=0.0000), Var(v=0.0000, grad=0.0000), Var(v=0.0000, grad=0.0000), Var(v=0.0000, grad=0.0000), Var(v=0.0000, grad=0.0000), Var(v=0.0000, grad=0.0000), Var(v=0.0000, grad=0.0000), Var(v=0.0000, grad=0.0000), Var(v=0.0000, grad=0.0000)]\n",
      "Layer 1 \n",
      " Neuron(s): 15\n",
      "Weights: [[Var(v=-0.0257, grad=0.0892), Var(v=0.0177, grad=0.0000), Var(v=-0.1004, grad=0.0000), Var(v=0.1259, grad=0.0000), Var(v=0.1773, grad=-1.4251), Var(v=0.0056, grad=-0.3727), Var(v=0.0000, grad=0.0000), Var(v=-0.2034, grad=0.0000), Var(v=0.0105, grad=0.0000), Var(v=-0.0491, grad=0.0000), Var(v=-0.0293, grad=0.0000), Var(v=-0.1110, grad=-0.3547), Var(v=0.0068, grad=0.1548), Var(v=-0.0546, grad=0.7499), Var(v=0.1039, grad=0.6346), Var(v=0.0219, grad=0.0000), Var(v=-0.0017, grad=-1.8141), Var(v=0.0125, grad=0.0000), Var(v=-0.0985, grad=0.0000), Var(v=-0.1160, grad=0.0000), Var(v=0.1815, grad=0.4835), Var(v=-0.1015, grad=0.0000), Var(v=-0.0288, grad=0.0000), Var(v=-0.1536, grad=0.0000), Var(v=-0.0151, grad=0.0000), Var(v=0.0437, grad=0.0000), Var(v=-0.0099, grad=0.0000), Var(v=0.0098, grad=0.7355), Var(v=-0.0312, grad=0.0000), Var(v=0.0602, grad=0.0000), Var(v=-0.1981, grad=-0.3883), Var(v=-0.0980, grad=1.0719), Var(v=0.1463, grad=1.1381), Var(v=0.0208, grad=0.0000), Var(v=-0.0339, grad=-0.3477), Var(v=-0.0582, grad=0.0000), Var(v=-0.0573, grad=0.0000), Var(v=-0.1063, grad=-0.2863), Var(v=-0.0174, grad=0.8590), Var(v=-0.0130, grad=0.0000), Var(v=-0.1103, grad=-1.2654), Var(v=-0.0685, grad=0.0000), Var(v=-0.0632, grad=0.0000), Var(v=-0.1229, grad=0.0000), Var(v=0.0200, grad=0.0000), Var(v=-0.1259, grad=0.5449), Var(v=-0.0447, grad=0.0000), Var(v=-0.1339, grad=0.0000), Var(v=-0.1193, grad=0.0000), Var(v=0.0281, grad=-0.4268)], [Var(v=0.2857, grad=0.0862), Var(v=0.0726, grad=0.0000), Var(v=-0.0030, grad=0.0000), Var(v=-0.0254, grad=0.0000), Var(v=0.1162, grad=-1.3773), Var(v=-0.1834, grad=-0.3602), Var(v=0.0717, grad=0.0000), Var(v=-0.0430, grad=0.0000), Var(v=0.0157, grad=0.0000), Var(v=-0.1464, grad=0.0000), Var(v=-0.0329, grad=0.0000), Var(v=0.2280, grad=-0.3428), Var(v=0.0156, grad=0.1496), Var(v=0.1040, grad=0.7248), Var(v=0.1519, grad=0.6133), Var(v=-0.0170, grad=0.0000), Var(v=0.0675, grad=-1.7532), Var(v=0.0081, grad=0.0000), Var(v=-0.1855, grad=0.0000), Var(v=-0.1914, grad=0.0000), Var(v=-0.0779, grad=0.4673), Var(v=-0.1341, grad=0.0000), Var(v=0.0477, grad=0.0000), Var(v=0.0206, grad=0.0000), Var(v=0.2835, grad=0.0000), Var(v=0.0466, grad=0.0000), Var(v=-0.3135, grad=0.0000), Var(v=0.0062, grad=0.7108), Var(v=-0.0115, grad=0.0000), Var(v=0.0515, grad=0.0000), Var(v=0.0723, grad=-0.3753), Var(v=-0.0812, grad=1.0360), Var(v=-0.0188, grad=1.0999), Var(v=0.2010, grad=0.0000), Var(v=-0.0993, grad=-0.3360), Var(v=0.1134, grad=0.0000), Var(v=-0.1647, grad=0.0000), Var(v=0.0785, grad=-0.2767), Var(v=0.2099, grad=0.8302), Var(v=-0.0155, grad=0.0000), Var(v=-0.0907, grad=-1.2230), Var(v=-0.0213, grad=0.0000), Var(v=0.0401, grad=0.0000), Var(v=-0.0875, grad=0.0000), Var(v=-0.1178, grad=0.0000), Var(v=0.1498, grad=0.5266), Var(v=-0.0739, grad=0.0000), Var(v=-0.0280, grad=0.0000), Var(v=-0.1404, grad=0.0000), Var(v=0.0551, grad=-0.4124)], [Var(v=-0.1975, grad=0.0000), Var(v=0.0765, grad=-1.1834), Var(v=0.0731, grad=-2.3555), Var(v=0.2302, grad=1.6688), Var(v=0.0634, grad=0.0000), Var(v=0.1323, grad=0.0000), Var(v=-0.0526, grad=0.0000), Var(v=0.0832, grad=-3.9006), Var(v=0.0573, grad=0.1695), Var(v=-0.1285, grad=0.0000), Var(v=-0.2302, grad=0.0000), Var(v=0.0304, grad=0.7342), Var(v=-0.0232, grad=-0.3204), Var(v=0.0314, grad=0.0000), Var(v=0.0316, grad=-1.3137), Var(v=-0.0353, grad=0.0000), Var(v=0.0282, grad=3.7553), Var(v=0.0849, grad=-0.7152), Var(v=0.0724, grad=-0.1573), Var(v=-0.1309, grad=0.0000), Var(v=-0.1579, grad=0.0000), Var(v=-0.0773, grad=0.0000), Var(v=0.0176, grad=-1.7564), Var(v=-0.0813, grad=0.0000), Var(v=-0.0934, grad=0.0000), Var(v=0.1280, grad=-2.9853), Var(v=-0.0983, grad=0.0000), Var(v=-0.0687, grad=0.0000), Var(v=-0.0015, grad=-0.8143), Var(v=-0.0699, grad=0.0000), Var(v=0.0066, grad=0.8039), Var(v=0.0498, grad=-2.2190), Var(v=0.1001, grad=-2.3560), Var(v=0.0902, grad=0.9382), Var(v=0.0508, grad=0.0000), Var(v=0.0227, grad=0.0000), Var(v=-0.1463, grad=0.0000), Var(v=-0.0009, grad=0.5928), Var(v=0.0380, grad=0.0000), Var(v=-0.0805, grad=0.9551), Var(v=-0.1103, grad=2.6196), Var(v=0.0126, grad=0.3402), Var(v=-0.1180, grad=0.0000), Var(v=-0.0889, grad=0.0000), Var(v=0.0066, grad=0.0000), Var(v=-0.0409, grad=-1.1280), Var(v=-0.1205, grad=0.0000), Var(v=-0.1077, grad=0.0000), Var(v=-0.0368, grad=-1.3022), Var(v=-0.1100, grad=0.0000)], [Var(v=0.2027, grad=0.0000), Var(v=-0.0253, grad=-0.4122), Var(v=-0.0134, grad=-0.8205), Var(v=-0.1294, grad=0.5813), Var(v=-0.0911, grad=0.0000), Var(v=-0.0611, grad=0.0000), Var(v=-0.0117, grad=0.0000), Var(v=0.1226, grad=-1.3587), Var(v=0.1070, grad=0.0590), Var(v=0.0737, grad=0.0000), Var(v=0.1065, grad=0.0000), Var(v=0.0554, grad=0.2557), Var(v=0.0686, grad=-0.1116), Var(v=-0.0079, grad=0.0000), Var(v=0.0559, grad=-0.4576), Var(v=-0.1166, grad=0.0000), Var(v=0.0800, grad=1.3081), Var(v=0.1113, grad=-0.2491), Var(v=-0.0324, grad=-0.0548), Var(v=0.1018, grad=0.0000), Var(v=-0.1103, grad=0.0000), Var(v=-0.0829, grad=0.0000), Var(v=0.0764, grad=-0.6118), Var(v=-0.2552, grad=0.0000), Var(v=-0.0023, grad=0.0000), Var(v=-0.0295, grad=-1.0399), Var(v=0.0492, grad=0.0000), Var(v=-0.1512, grad=0.0000), Var(v=0.0246, grad=-0.2836), Var(v=0.1495, grad=0.0000), Var(v=0.2024, grad=0.2800), Var(v=0.1040, grad=-0.7729), Var(v=0.0453, grad=-0.8207), Var(v=-0.0065, grad=0.3268), Var(v=-0.0732, grad=0.0000), Var(v=-0.1049, grad=0.0000), Var(v=0.1700, grad=0.0000), Var(v=0.2071, grad=0.2065), Var(v=-0.0170, grad=0.0000), Var(v=-0.1259, grad=0.3327), Var(v=0.1460, grad=0.9125), Var(v=-0.0075, grad=0.1185), Var(v=-0.1325, grad=0.0000), Var(v=0.1893, grad=0.0000), Var(v=-0.2150, grad=0.0000), Var(v=0.0123, grad=-0.3929), Var(v=0.0001, grad=0.0000), Var(v=0.0086, grad=0.0000), Var(v=-0.0806, grad=-0.4536), Var(v=0.1403, grad=0.0000)], [Var(v=0.1083, grad=0.1576), Var(v=-0.1774, grad=0.0000), Var(v=-0.0165, grad=0.0000), Var(v=-0.0871, grad=0.0000), Var(v=0.0679, grad=-2.5167), Var(v=0.0702, grad=-0.6581), Var(v=-0.0660, grad=0.0000), Var(v=0.0478, grad=0.0000), Var(v=-0.1877, grad=0.0000), Var(v=0.0192, grad=0.0000), Var(v=-0.0845, grad=0.0000), Var(v=-0.0262, grad=-0.6263), Var(v=-0.1098, grad=0.2734), Var(v=0.0114, grad=1.3243), Var(v=0.0894, grad=1.1207), Var(v=0.0024, grad=0.0000), Var(v=-0.1222, grad=-3.2035), Var(v=-0.0534, grad=0.0000), Var(v=0.1427, grad=0.0000), Var(v=0.0089, grad=0.0000), Var(v=-0.0247, grad=0.8538), Var(v=-0.0592, grad=0.0000), Var(v=0.1030, grad=0.0000), Var(v=0.0417, grad=0.0000), Var(v=-0.0921, grad=0.0000), Var(v=-0.2546, grad=0.0000), Var(v=-0.1601, grad=0.0000), Var(v=-0.0133, grad=1.2989), Var(v=-0.0710, grad=0.0000), Var(v=-0.0485, grad=0.0000), Var(v=0.0898, grad=-0.6857), Var(v=0.0955, grad=1.8929), Var(v=-0.0034, grad=2.0098), Var(v=-0.1343, grad=0.0000), Var(v=-0.0023, grad=-0.6140), Var(v=-0.1840, grad=0.0000), Var(v=-0.1090, grad=0.0000), Var(v=-0.0547, grad=-0.5056), Var(v=0.0462, grad=1.5170), Var(v=-0.0542, grad=0.0000), Var(v=0.1995, grad=-2.2347), Var(v=-0.1680, grad=0.0000), Var(v=-0.0535, grad=0.0000), Var(v=-0.0970, grad=0.0000), Var(v=0.1164, grad=0.0000), Var(v=-0.0506, grad=0.9623), Var(v=0.0798, grad=0.0000), Var(v=-0.2560, grad=0.0000), Var(v=-0.1559, grad=0.0000), Var(v=0.1094, grad=-0.7536)], [Var(v=-0.1020, grad=0.0000), Var(v=0.0042, grad=-0.2457), Var(v=0.0932, grad=-0.4891), Var(v=0.1477, grad=0.3465), Var(v=-0.0662, grad=0.0000), Var(v=-0.0311, grad=0.0000), Var(v=0.0977, grad=0.0000), Var(v=-0.1696, grad=-0.8100), Var(v=0.0380, grad=0.0352), Var(v=0.0337, grad=0.0000), Var(v=-0.1926, grad=0.0000), Var(v=-0.0424, grad=0.1525), Var(v=-0.0681, grad=-0.0665), Var(v=-0.1642, grad=0.0000), Var(v=0.0454, grad=-0.2728), Var(v=0.0567, grad=0.0000), Var(v=0.0090, grad=0.7798), Var(v=0.0890, grad=-0.1485), Var(v=-0.1925, grad=-0.0327), Var(v=0.1783, grad=0.0000), Var(v=0.0506, grad=0.0000), Var(v=-0.0426, grad=0.0000), Var(v=0.0557, grad=-0.3647), Var(v=-0.0141, grad=0.0000), Var(v=-0.0488, grad=0.0000), Var(v=0.0579, grad=-0.6199), Var(v=0.0688, grad=0.0000), Var(v=0.0893, grad=0.0000), Var(v=0.0672, grad=-0.1691), Var(v=0.1021, grad=0.0000), Var(v=0.0532, grad=0.1669), Var(v=-0.1685, grad=-0.4608), Var(v=0.0124, grad=-0.4892), Var(v=-0.0824, grad=0.1948), Var(v=0.0683, grad=0.0000), Var(v=-0.0801, grad=0.0000), Var(v=-0.1087, grad=0.0000), Var(v=0.1279, grad=0.1231), Var(v=-0.0231, grad=0.0000), Var(v=-0.0777, grad=0.1983), Var(v=0.0025, grad=0.5440), Var(v=0.1589, grad=0.0706), Var(v=-0.0965, grad=0.0000), Var(v=0.0288, grad=0.0000), Var(v=0.0434, grad=0.0000), Var(v=0.0339, grad=-0.2342), Var(v=-0.0857, grad=0.0000), Var(v=-0.1119, grad=0.0000), Var(v=0.0053, grad=-0.2704), Var(v=-0.0957, grad=0.0000)], [Var(v=0.2135, grad=0.0173), Var(v=0.1072, grad=0.0000), Var(v=-0.0348, grad=0.0000), Var(v=-0.1832, grad=0.0000), Var(v=-0.0620, grad=-0.2758), Var(v=-0.0051, grad=-0.0721), Var(v=0.0177, grad=0.0000), Var(v=-0.1963, grad=0.0000), Var(v=-0.1188, grad=0.0000), Var(v=-0.0151, grad=0.0000), Var(v=0.0037, grad=0.0000), Var(v=0.0097, grad=-0.0686), Var(v=0.0504, grad=0.0300), Var(v=-0.1388, grad=0.1451), Var(v=-0.0212, grad=0.1228), Var(v=-0.1680, grad=0.0000), Var(v=-0.0371, grad=-0.3510), Var(v=0.1206, grad=0.0000), Var(v=-0.0158, grad=0.0000), Var(v=0.0483, grad=0.0000), Var(v=0.0082, grad=0.0936), Var(v=-0.1065, grad=0.0000), Var(v=-0.3060, grad=0.0000), Var(v=-0.1245, grad=0.0000), Var(v=0.1604, grad=0.0000), Var(v=-0.0973, grad=0.0000), Var(v=-0.0121, grad=0.0000), Var(v=-0.0718, grad=0.1423), Var(v=-0.1282, grad=0.0000), Var(v=-0.0597, grad=0.0000), Var(v=-0.0282, grad=-0.0751), Var(v=0.0162, grad=0.2074), Var(v=-0.0073, grad=0.2202), Var(v=-0.1250, grad=0.0000), Var(v=0.2988, grad=-0.0673), Var(v=0.0762, grad=0.0000), Var(v=-0.1285, grad=0.0000), Var(v=-0.1732, grad=-0.0554), Var(v=0.0117, grad=0.1662), Var(v=-0.0677, grad=0.0000), Var(v=0.0776, grad=-0.2449), Var(v=-0.0603, grad=0.0000), Var(v=-0.0301, grad=0.0000), Var(v=-0.0158, grad=0.0000), Var(v=-0.0144, grad=0.0000), Var(v=-0.2701, grad=0.1054), Var(v=-0.0853, grad=0.0000), Var(v=-0.1283, grad=0.0000), Var(v=0.0157, grad=0.0000), Var(v=-0.0053, grad=-0.0826)], [Var(v=-0.0327, grad=0.0000), Var(v=0.0745, grad=-0.2461), Var(v=0.0499, grad=-0.4898), Var(v=-0.1214, grad=0.3470), Var(v=-0.1688, grad=0.0000), Var(v=-0.1104, grad=0.0000), Var(v=0.0371, grad=0.0000), Var(v=-0.0083, grad=-0.8111), Var(v=-0.0972, grad=0.0352), Var(v=-0.1283, grad=0.0000), Var(v=-0.1299, grad=0.0000), Var(v=0.0886, grad=0.1527), Var(v=0.0482, grad=-0.0666), Var(v=-0.0714, grad=0.0000), Var(v=0.0427, grad=-0.2732), Var(v=-0.1558, grad=0.0000), Var(v=0.0429, grad=0.7809), Var(v=0.0108, grad=-0.1487), Var(v=-0.0595, grad=-0.0327), Var(v=-0.0288, grad=0.0000), Var(v=-0.0797, grad=0.0000), Var(v=0.0030, grad=0.0000), Var(v=0.0402, grad=-0.3652), Var(v=0.1015, grad=0.0000), Var(v=-0.0570, grad=0.0000), Var(v=-0.1516, grad=-0.6208), Var(v=-0.1841, grad=0.0000), Var(v=-0.0329, grad=0.0000), Var(v=0.1497, grad=-0.1693), Var(v=-0.0012, grad=0.0000), Var(v=0.1132, grad=0.1672), Var(v=0.0385, grad=-0.4614), Var(v=-0.0457, grad=-0.4899), Var(v=-0.1997, grad=0.1951), Var(v=0.0599, grad=0.0000), Var(v=-0.1326, grad=0.0000), Var(v=-0.0446, grad=0.0000), Var(v=-0.0161, grad=0.1233), Var(v=0.0743, grad=0.0000), Var(v=0.1593, grad=0.1986), Var(v=0.1817, grad=0.5447), Var(v=-0.0419, grad=0.0707), Var(v=0.2481, grad=0.0000), Var(v=-0.0558, grad=0.0000), Var(v=0.0600, grad=0.0000), Var(v=-0.0907, grad=-0.2346), Var(v=-0.0718, grad=0.0000), Var(v=-0.0482, grad=0.0000), Var(v=-0.0922, grad=-0.2708), Var(v=0.0179, grad=0.0000)], [Var(v=0.0641, grad=0.0000), Var(v=-0.1659, grad=-0.0864), Var(v=-0.0943, grad=-0.1719), Var(v=0.0384, grad=0.1218), Var(v=-0.0054, grad=0.0000), Var(v=0.1890, grad=0.0000), Var(v=0.2984, grad=0.0000), Var(v=0.0331, grad=-0.2847), Var(v=-0.0722, grad=0.0124), Var(v=-0.0352, grad=0.0000), Var(v=0.0103, grad=0.0000), Var(v=0.1381, grad=0.0536), Var(v=-0.1001, grad=-0.0234), Var(v=0.0275, grad=0.0000), Var(v=-0.0207, grad=-0.0959), Var(v=0.0667, grad=0.0000), Var(v=-0.0112, grad=0.2741), Var(v=0.0323, grad=-0.0522), Var(v=-0.0891, grad=-0.0115), Var(v=-0.0704, grad=0.0000), Var(v=0.0689, grad=0.0000), Var(v=-0.0300, grad=0.0000), Var(v=-0.0514, grad=-0.1282), Var(v=-0.1234, grad=0.0000), Var(v=-0.0119, grad=0.0000), Var(v=0.0225, grad=-0.2179), Var(v=0.1947, grad=0.0000), Var(v=0.0009, grad=0.0000), Var(v=0.2447, grad=-0.0594), Var(v=-0.1006, grad=0.0000), Var(v=-0.0418, grad=0.0587), Var(v=0.1454, grad=-0.1620), Var(v=0.0435, grad=-0.1720), Var(v=0.0336, grad=0.0685), Var(v=-0.0436, grad=0.0000), Var(v=0.0894, grad=0.0000), Var(v=0.0325, grad=0.0000), Var(v=0.0243, grad=0.0433), Var(v=-0.1702, grad=0.0000), Var(v=0.1413, grad=0.0697), Var(v=-0.0857, grad=0.1912), Var(v=-0.1008, grad=0.0248), Var(v=-0.0850, grad=0.0000), Var(v=0.0864, grad=0.0000), Var(v=0.0125, grad=0.0000), Var(v=0.1191, grad=-0.0823), Var(v=-0.1984, grad=0.0000), Var(v=0.0059, grad=0.0000), Var(v=-0.1014, grad=-0.0950), Var(v=-0.1237, grad=0.0000)], [Var(v=-0.0912, grad=0.1144), Var(v=-0.0708, grad=0.0000), Var(v=-0.0676, grad=0.0000), Var(v=0.0315, grad=0.0000), Var(v=-0.0152, grad=-1.8274), Var(v=-0.0093, grad=-0.4779), Var(v=-0.0551, grad=0.0000), Var(v=-0.1678, grad=0.0000), Var(v=-0.0417, grad=0.0000), Var(v=-0.0688, grad=0.0000), Var(v=-0.0811, grad=0.0000), Var(v=0.0807, grad=-0.4548), Var(v=-0.1181, grad=0.1985), Var(v=0.0283, grad=0.9616), Var(v=-0.1279, grad=0.8137), Var(v=-0.0972, grad=0.0000), Var(v=0.1110, grad=-2.3260), Var(v=-0.1150, grad=0.0000), Var(v=0.0675, grad=0.0000), Var(v=0.0542, grad=0.0000), Var(v=0.0979, grad=0.6200), Var(v=-0.1073, grad=0.0000), Var(v=-0.0758, grad=0.0000), Var(v=0.0971, grad=0.0000), Var(v=0.1908, grad=0.0000), Var(v=-0.1350, grad=0.0000), Var(v=0.1809, grad=0.0000), Var(v=0.1199, grad=0.9431), Var(v=0.0478, grad=0.0000), Var(v=0.0269, grad=0.0000), Var(v=0.1785, grad=-0.4979), Var(v=-0.0645, grad=1.3744), Var(v=0.1677, grad=1.4593), Var(v=-0.0309, grad=0.0000), Var(v=-0.0791, grad=-0.4458), Var(v=0.1523, grad=0.0000), Var(v=0.2000, grad=0.0000), Var(v=0.1475, grad=-0.3671), Var(v=-0.0326, grad=1.1015), Var(v=-0.0489, grad=0.0000), Var(v=-0.0534, grad=-1.6226), Var(v=-0.1215, grad=0.0000), Var(v=-0.0288, grad=0.0000), Var(v=0.0501, grad=0.0000), Var(v=-0.1116, grad=0.0000), Var(v=0.1793, grad=0.6987), Var(v=-0.0419, grad=0.0000), Var(v=0.0327, grad=0.0000), Var(v=0.0583, grad=0.0000), Var(v=-0.1680, grad=-0.5472)], [Var(v=0.0129, grad=0.0962), Var(v=0.0051, grad=0.0000), Var(v=0.0447, grad=0.0000), Var(v=0.0032, grad=0.0000), Var(v=-0.0251, grad=-1.5357), Var(v=0.1376, grad=-0.4016), Var(v=-0.1682, grad=0.0000), Var(v=-0.0802, grad=0.0000), Var(v=-0.1808, grad=0.0000), Var(v=0.1178, grad=0.0000), Var(v=-0.0932, grad=0.0000), Var(v=0.0427, grad=-0.3822), Var(v=0.0253, grad=0.1668), Var(v=-0.0038, grad=0.8081), Var(v=0.0943, grad=0.6839), Var(v=-0.0327, grad=0.0000), Var(v=0.1531, grad=-1.9548), Var(v=-0.0547, grad=0.0000), Var(v=-0.3053, grad=0.0000), Var(v=0.0390, grad=0.0000), Var(v=0.0825, grad=0.5210), Var(v=-0.1290, grad=0.0000), Var(v=-0.1373, grad=0.0000), Var(v=-0.1922, grad=0.0000), Var(v=-0.0874, grad=0.0000), Var(v=-0.1879, grad=0.0000), Var(v=0.0651, grad=0.0000), Var(v=-0.0843, grad=0.7926), Var(v=0.0291, grad=0.0000), Var(v=0.1211, grad=0.0000), Var(v=0.0364, grad=-0.4185), Var(v=0.2352, grad=1.1551), Var(v=0.1278, grad=1.2264), Var(v=-0.1166, grad=0.0000), Var(v=0.1419, grad=-0.3747), Var(v=-0.1181, grad=0.0000), Var(v=0.0131, grad=0.0000), Var(v=0.0460, grad=-0.3086), Var(v=0.1731, grad=0.9257), Var(v=0.1071, grad=0.0000), Var(v=0.0576, grad=-1.3636), Var(v=0.0835, grad=0.0000), Var(v=-0.0465, grad=0.0000), Var(v=0.1327, grad=0.0000), Var(v=-0.1205, grad=0.0000), Var(v=-0.1432, grad=0.5872), Var(v=0.0613, grad=0.0000), Var(v=0.1280, grad=0.0000), Var(v=0.0427, grad=0.0000), Var(v=0.1408, grad=-0.4599)], [Var(v=0.1450, grad=0.0000), Var(v=-0.1533, grad=-0.2631), Var(v=-0.0251, grad=-0.5237), Var(v=-0.1817, grad=0.3710), Var(v=-0.1149, grad=0.0000), Var(v=-0.2314, grad=0.0000), Var(v=0.0692, grad=0.0000), Var(v=0.0538, grad=-0.8672), Var(v=0.0391, grad=0.0377), Var(v=0.0426, grad=0.0000), Var(v=0.0306, grad=0.0000), Var(v=-0.0163, grad=0.1632), Var(v=0.0953, grad=-0.0712), Var(v=-0.0568, grad=0.0000), Var(v=0.1501, grad=-0.2921), Var(v=-0.1719, grad=0.0000), Var(v=0.0340, grad=0.8349), Var(v=0.0171, grad=-0.1590), Var(v=-0.0885, grad=-0.0350), Var(v=0.1755, grad=0.0000), Var(v=0.0722, grad=0.0000), Var(v=-0.0576, grad=0.0000), Var(v=-0.1220, grad=-0.3905), Var(v=-0.0205, grad=0.0000), Var(v=-0.1588, grad=0.0000), Var(v=0.0501, grad=-0.6637), Var(v=0.0450, grad=0.0000), Var(v=-0.0318, grad=0.0000), Var(v=0.2816, grad=-0.1810), Var(v=-0.0655, grad=0.0000), Var(v=0.0393, grad=0.1787), Var(v=0.1009, grad=-0.4934), Var(v=-0.1065, grad=-0.5238), Var(v=0.1362, grad=0.2086), Var(v=-0.2217, grad=0.0000), Var(v=-0.1156, grad=0.0000), Var(v=-0.0159, grad=0.0000), Var(v=-0.0406, grad=0.1318), Var(v=-0.1780, grad=0.0000), Var(v=-0.1079, grad=0.2124), Var(v=-0.1456, grad=0.5824), Var(v=0.1259, grad=0.0756), Var(v=0.1331, grad=0.0000), Var(v=0.0007, grad=0.0000), Var(v=-0.2399, grad=0.0000), Var(v=-0.0088, grad=-0.2508), Var(v=0.0579, grad=0.0000), Var(v=-0.0648, grad=0.0000), Var(v=-0.0316, grad=-0.2895), Var(v=0.1509, grad=0.0000)], [Var(v=0.1418, grad=0.0905), Var(v=0.2579, grad=0.0000), Var(v=-0.0777, grad=0.0000), Var(v=0.0048, grad=0.0000), Var(v=-0.0043, grad=-1.4462), Var(v=0.0210, grad=-0.3782), Var(v=0.1537, grad=0.0000), Var(v=0.0666, grad=0.0000), Var(v=0.0587, grad=0.0000), Var(v=-0.0129, grad=0.0000), Var(v=-0.0277, grad=0.0000), Var(v=0.0099, grad=-0.3599), Var(v=0.2954, grad=0.1571), Var(v=-0.0508, grad=0.7610), Var(v=0.0309, grad=0.6440), Var(v=-0.0192, grad=0.0000), Var(v=0.0157, grad=-1.8408), Var(v=-0.0655, grad=0.0000), Var(v=-0.0230, grad=0.0000), Var(v=0.0446, grad=0.0000), Var(v=-0.0673, grad=0.4906), Var(v=0.0855, grad=0.0000), Var(v=0.1076, grad=0.0000), Var(v=0.0574, grad=0.0000), Var(v=-0.2306, grad=0.0000), Var(v=-0.2074, grad=0.0000), Var(v=0.0477, grad=0.0000), Var(v=-0.0497, grad=0.7464), Var(v=0.0776, grad=0.0000), Var(v=-0.1237, grad=0.0000), Var(v=-0.1482, grad=-0.3941), Var(v=0.0281, grad=1.0877), Var(v=-0.0568, grad=1.1549), Var(v=0.1356, grad=0.0000), Var(v=-0.0267, grad=-0.3528), Var(v=-0.0912, grad=0.0000), Var(v=-0.1032, grad=0.0000), Var(v=0.0255, grad=-0.2906), Var(v=-0.1497, grad=0.8717), Var(v=-0.0644, grad=0.0000), Var(v=-0.1441, grad=-1.2841), Var(v=-0.0704, grad=0.0000), Var(v=0.0573, grad=0.0000), Var(v=0.0284, grad=0.0000), Var(v=0.1713, grad=0.0000), Var(v=0.1384, grad=0.5530), Var(v=0.0567, grad=0.0000), Var(v=0.1093, grad=0.0000), Var(v=-0.0879, grad=0.0000), Var(v=0.0151, grad=-0.4331)], [Var(v=-0.1255, grad=0.0000), Var(v=-0.0207, grad=-0.7876), Var(v=0.2893, grad=-1.5676), Var(v=0.0837, grad=1.1106), Var(v=-0.0641, grad=0.0000), Var(v=-0.1595, grad=0.0000), Var(v=-0.0397, grad=0.0000), Var(v=-0.0181, grad=-2.5959), Var(v=-0.0552, grad=0.1128), Var(v=-0.0507, grad=0.0000), Var(v=0.0790, grad=0.0000), Var(v=0.0195, grad=0.4886), Var(v=0.0400, grad=-0.2133), Var(v=0.0109, grad=0.0000), Var(v=-0.0728, grad=-0.8743), Var(v=-0.0553, grad=0.0000), Var(v=-0.0978, grad=2.4992), Var(v=-0.0776, grad=-0.4760), Var(v=0.0615, grad=-0.1047), Var(v=0.0218, grad=0.0000), Var(v=0.0583, grad=0.0000), Var(v=-0.0935, grad=0.0000), Var(v=0.0367, grad=-1.1689), Var(v=0.0617, grad=0.0000), Var(v=0.0290, grad=0.0000), Var(v=0.0361, grad=-1.9868), Var(v=0.0577, grad=0.0000), Var(v=-0.0249, grad=0.0000), Var(v=0.1668, grad=-0.5419), Var(v=-0.0564, grad=0.0000), Var(v=-0.0217, grad=0.5350), Var(v=-0.0383, grad=-1.4768), Var(v=0.0004, grad=-1.5680), Var(v=-0.0377, grad=0.6244), Var(v=-0.0262, grad=0.0000), Var(v=0.0333, grad=0.0000), Var(v=-0.1936, grad=0.0000), Var(v=-0.0477, grad=0.3945), Var(v=-0.1242, grad=0.0000), Var(v=0.2415, grad=0.6357), Var(v=0.1570, grad=1.7434), Var(v=0.0461, grad=0.2264), Var(v=0.1257, grad=0.0000), Var(v=0.0052, grad=0.0000), Var(v=-0.0272, grad=0.0000), Var(v=0.1500, grad=-0.7507), Var(v=0.2169, grad=0.0000), Var(v=0.0660, grad=0.0000), Var(v=0.1496, grad=-0.8666), Var(v=0.0012, grad=0.0000)], [Var(v=0.0380, grad=0.0564), Var(v=-0.0871, grad=0.0000), Var(v=-0.0015, grad=0.0000), Var(v=0.0285, grad=0.0000), Var(v=-0.0117, grad=-0.9013), Var(v=-0.0752, grad=-0.2357), Var(v=-0.0878, grad=0.0000), Var(v=-0.0031, grad=0.0000), Var(v=-0.0269, grad=0.0000), Var(v=0.1524, grad=0.0000), Var(v=0.1233, grad=0.0000), Var(v=-0.0032, grad=-0.2243), Var(v=0.0827, grad=0.0979), Var(v=0.0790, grad=0.4743), Var(v=-0.0877, grad=0.4014), Var(v=-0.0181, grad=0.0000), Var(v=-0.1338, grad=-1.1473), Var(v=-0.0100, grad=0.0000), Var(v=-0.1701, grad=0.0000), Var(v=0.0195, grad=0.0000), Var(v=0.0115, grad=0.3058), Var(v=-0.0600, grad=0.0000), Var(v=-0.1702, grad=0.0000), Var(v=0.0180, grad=0.0000), Var(v=-0.1347, grad=0.0000), Var(v=-0.0212, grad=0.0000), Var(v=-0.0110, grad=0.0000), Var(v=0.0784, grad=0.4652), Var(v=-0.1455, grad=0.0000), Var(v=-0.1140, grad=0.0000), Var(v=0.0658, grad=-0.2456), Var(v=-0.0647, grad=0.6779), Var(v=-0.0608, grad=0.7198), Var(v=-0.1101, grad=0.0000), Var(v=0.1819, grad=-0.2199), Var(v=0.0138, grad=0.0000), Var(v=-0.2126, grad=0.0000), Var(v=-0.0183, grad=-0.1811), Var(v=0.0150, grad=0.5433), Var(v=0.2210, grad=0.0000), Var(v=-0.0140, grad=-0.8003), Var(v=0.1547, grad=0.0000), Var(v=-0.0907, grad=0.0000), Var(v=0.0654, grad=0.0000), Var(v=-0.0797, grad=0.0000), Var(v=-0.0416, grad=0.3446), Var(v=-0.1323, grad=0.0000), Var(v=-0.1456, grad=0.0000), Var(v=-0.0283, grad=0.0000), Var(v=0.0203, grad=-0.2699)]]\n",
      "Biases: [Var(v=0.0000, grad=0.0000), Var(v=0.0000, grad=0.0000), Var(v=0.0000, grad=0.0000), Var(v=0.0000, grad=0.0000), Var(v=0.0000, grad=0.0000), Var(v=0.0000, grad=0.0000), Var(v=0.0000, grad=0.0000), Var(v=0.0000, grad=0.0000), Var(v=0.0000, grad=0.0000), Var(v=0.0000, grad=0.0000), Var(v=0.0000, grad=0.0000), Var(v=0.0000, grad=0.0000), Var(v=0.0000, grad=0.0000), Var(v=0.0000, grad=0.0000), Var(v=0.0000, grad=0.0000), Var(v=0.0000, grad=0.0000), Var(v=0.0000, grad=0.0000), Var(v=0.0000, grad=0.0000), Var(v=0.0000, grad=0.0000), Var(v=0.0000, grad=0.0000), Var(v=0.0000, grad=0.0000), Var(v=0.0000, grad=0.0000), Var(v=0.0000, grad=0.0000), Var(v=0.0000, grad=0.0000), Var(v=0.0000, grad=0.0000), Var(v=0.0000, grad=0.0000), Var(v=0.0000, grad=0.0000), Var(v=0.0000, grad=0.0000), Var(v=0.0000, grad=0.0000), Var(v=0.0000, grad=0.0000), Var(v=0.0000, grad=0.0000), Var(v=0.0000, grad=0.0000), Var(v=0.0000, grad=0.0000), Var(v=0.0000, grad=0.0000), Var(v=0.0000, grad=0.0000), Var(v=0.0000, grad=0.0000), Var(v=0.0000, grad=0.0000), Var(v=0.0000, grad=0.0000), Var(v=0.0000, grad=0.0000), Var(v=0.0000, grad=0.0000), Var(v=0.0000, grad=0.0000), Var(v=0.0000, grad=0.0000), Var(v=0.0000, grad=0.0000), Var(v=0.0000, grad=0.0000), Var(v=0.0000, grad=0.0000), Var(v=0.0000, grad=0.0000), Var(v=0.0000, grad=0.0000), Var(v=0.0000, grad=0.0000), Var(v=0.0000, grad=0.0000), Var(v=0.0000, grad=0.0000)]\n",
      "Layer 2 \n",
      " Neuron(s): 50\n",
      "Weights: [[Var(v=0.0096, grad=5.0902)], [Var(v=0.0615, grad=-0.4637)], [Var(v=0.1225, grad=-5.3513)], [Var(v=-0.0868, grad=-4.0144)], [Var(v=-0.1534, grad=3.1526)], [Var(v=-0.0401, grad=0.5693)], [Var(v=-0.0216, grad=0.0000)], [Var(v=0.2028, grad=-1.7572)], [Var(v=-0.0088, grad=-0.9413)], [Var(v=-0.1103, grad=0.0000)], [Var(v=0.1681, grad=0.0000)], [Var(v=-0.0382, grad=0.5530)], [Var(v=0.0167, grad=-0.1039)], [Var(v=0.0807, grad=0.6490)], [Var(v=0.0683, grad=1.9399)], [Var(v=-0.0044, grad=0.0000)], [Var(v=-0.1952, grad=0.5721)], [Var(v=0.0372, grad=-1.9020)], [Var(v=0.0082, grad=-0.4521)], [Var(v=-0.0893, grad=0.0000)], [Var(v=0.0520, grad=2.0234)], [Var(v=0.0155, grad=0.0000)], [Var(v=0.0913, grad=-1.1098)], [Var(v=-0.0339, grad=0.0000)], [Var(v=-0.0506, grad=0.0000)], [Var(v=0.1552, grad=-2.5972)], [Var(v=-0.0343, grad=0.0000)], [Var(v=0.0792, grad=0.3764)], [Var(v=0.0423, grad=-4.6863)], [Var(v=-0.0375, grad=0.0000)], [Var(v=-0.0418, grad=-0.2677)], [Var(v=0.1154, grad=0.1454)], [Var(v=0.1225, grad=1.7989)], [Var(v=-0.0488, grad=-0.7091)], [Var(v=-0.0374, grad=0.5890)], [Var(v=0.0809, grad=0.0000)], [Var(v=-0.0644, grad=0.0000)], [Var(v=-0.0308, grad=-0.2065)], [Var(v=0.0925, grad=2.5244)], [Var(v=-0.0497, grad=-0.7630)], [Var(v=-0.1362, grad=-0.7878)], [Var(v=-0.0177, grad=-1.6467)], [Var(v=-0.1683, grad=0.0000)], [Var(v=0.0724, grad=0.0000)], [Var(v=0.1267, grad=0.0000)], [Var(v=0.0586, grad=-0.4965)], [Var(v=0.1049, grad=0.0000)], [Var(v=-0.0943, grad=0.0000)], [Var(v=0.0677, grad=-0.0417)], [Var(v=-0.0459, grad=2.2122)]]\n",
      "Biases: [Var(v=0.0000, grad=0.0000)]\n",
      "\n",
      "Network after update:\n",
      "Layer 0 \n",
      " Neuron(s): 1\n",
      "Weights: [[Var(v=-0.0828, grad=-1.3596), Var(v=-0.0831, grad=-1.0103), Var(v=0.2501, grad=-5.7544), Var(v=0.0783, grad=-1.1243), Var(v=-0.1768, grad=0.6511), Var(v=0.0076, grad=3.2361), Var(v=-0.0449, grad=2.6218), Var(v=-0.0003, grad=4.0309), Var(v=0.0278, grad=-1.3750), Var(v=-0.1142, grad=-0.9438), Var(v=-0.1049, grad=0.1012), Var(v=0.0827, grad=-3.9933), Var(v=-0.0890, grad=-0.8800), Var(v=0.1641, grad=-3.5937), Var(v=-0.0455, grad=-1.5424)]]\n",
      "Biases: [Var(v=0.0000, grad=0.0000), Var(v=0.0000, grad=0.0000), Var(v=0.0000, grad=0.0000), Var(v=0.0000, grad=0.0000), Var(v=0.0000, grad=0.0000), Var(v=0.0000, grad=0.0000), Var(v=0.0000, grad=0.0000), Var(v=0.0000, grad=0.0000), Var(v=0.0000, grad=0.0000), Var(v=0.0000, grad=0.0000), Var(v=0.0000, grad=0.0000), Var(v=0.0000, grad=0.0000), Var(v=0.0000, grad=0.0000), Var(v=0.0000, grad=0.0000), Var(v=0.0000, grad=0.0000)]\n",
      "Layer 1 \n",
      " Neuron(s): 15\n",
      "Weights: [[Var(v=-0.0266, grad=0.0892), Var(v=0.0177, grad=0.0000), Var(v=-0.1004, grad=0.0000), Var(v=0.1259, grad=0.0000), Var(v=0.1915, grad=-1.4251), Var(v=0.0093, grad=-0.3727), Var(v=0.0000, grad=0.0000), Var(v=-0.2034, grad=0.0000), Var(v=0.0105, grad=0.0000), Var(v=-0.0491, grad=0.0000), Var(v=-0.0293, grad=0.0000), Var(v=-0.1075, grad=-0.3547), Var(v=0.0052, grad=0.1548), Var(v=-0.0621, grad=0.7499), Var(v=0.0976, grad=0.6346), Var(v=0.0219, grad=0.0000), Var(v=0.0164, grad=-1.8141), Var(v=0.0125, grad=0.0000), Var(v=-0.0985, grad=0.0000), Var(v=-0.1160, grad=0.0000), Var(v=0.1767, grad=0.4835), Var(v=-0.1015, grad=0.0000), Var(v=-0.0288, grad=0.0000), Var(v=-0.1536, grad=0.0000), Var(v=-0.0151, grad=0.0000), Var(v=0.0437, grad=0.0000), Var(v=-0.0099, grad=0.0000), Var(v=0.0024, grad=0.7355), Var(v=-0.0312, grad=0.0000), Var(v=0.0602, grad=0.0000), Var(v=-0.1942, grad=-0.3883), Var(v=-0.1087, grad=1.0719), Var(v=0.1349, grad=1.1381), Var(v=0.0208, grad=0.0000), Var(v=-0.0304, grad=-0.3477), Var(v=-0.0582, grad=0.0000), Var(v=-0.0573, grad=0.0000), Var(v=-0.1034, grad=-0.2863), Var(v=-0.0260, grad=0.8590), Var(v=-0.0130, grad=0.0000), Var(v=-0.0976, grad=-1.2654), Var(v=-0.0685, grad=0.0000), Var(v=-0.0632, grad=0.0000), Var(v=-0.1229, grad=0.0000), Var(v=0.0200, grad=0.0000), Var(v=-0.1314, grad=0.5449), Var(v=-0.0447, grad=0.0000), Var(v=-0.1339, grad=0.0000), Var(v=-0.1193, grad=0.0000), Var(v=0.0324, grad=-0.4268)], [Var(v=0.2849, grad=0.0862), Var(v=0.0726, grad=0.0000), Var(v=-0.0030, grad=0.0000), Var(v=-0.0254, grad=0.0000), Var(v=0.1300, grad=-1.3773), Var(v=-0.1798, grad=-0.3602), Var(v=0.0717, grad=0.0000), Var(v=-0.0430, grad=0.0000), Var(v=0.0157, grad=0.0000), Var(v=-0.1464, grad=0.0000), Var(v=-0.0329, grad=0.0000), Var(v=0.2314, grad=-0.3428), Var(v=0.0141, grad=0.1496), Var(v=0.0968, grad=0.7248), Var(v=0.1457, grad=0.6133), Var(v=-0.0170, grad=0.0000), Var(v=0.0851, grad=-1.7532), Var(v=0.0081, grad=0.0000), Var(v=-0.1855, grad=0.0000), Var(v=-0.1914, grad=0.0000), Var(v=-0.0826, grad=0.4673), Var(v=-0.1341, grad=0.0000), Var(v=0.0477, grad=0.0000), Var(v=0.0206, grad=0.0000), Var(v=0.2835, grad=0.0000), Var(v=0.0466, grad=0.0000), Var(v=-0.3135, grad=0.0000), Var(v=-0.0009, grad=0.7108), Var(v=-0.0115, grad=0.0000), Var(v=0.0515, grad=0.0000), Var(v=0.0761, grad=-0.3753), Var(v=-0.0915, grad=1.0360), Var(v=-0.0298, grad=1.0999), Var(v=0.2010, grad=0.0000), Var(v=-0.0960, grad=-0.3360), Var(v=0.1134, grad=0.0000), Var(v=-0.1647, grad=0.0000), Var(v=0.0813, grad=-0.2767), Var(v=0.2016, grad=0.8302), Var(v=-0.0155, grad=0.0000), Var(v=-0.0785, grad=-1.2230), Var(v=-0.0213, grad=0.0000), Var(v=0.0401, grad=0.0000), Var(v=-0.0875, grad=0.0000), Var(v=-0.1178, grad=0.0000), Var(v=0.1445, grad=0.5266), Var(v=-0.0739, grad=0.0000), Var(v=-0.0280, grad=0.0000), Var(v=-0.1404, grad=0.0000), Var(v=0.0592, grad=-0.4124)], [Var(v=-0.1975, grad=0.0000), Var(v=0.0884, grad=-1.1834), Var(v=0.0966, grad=-2.3555), Var(v=0.2135, grad=1.6688), Var(v=0.0634, grad=0.0000), Var(v=0.1323, grad=0.0000), Var(v=-0.0526, grad=0.0000), Var(v=0.1223, grad=-3.9006), Var(v=0.0556, grad=0.1695), Var(v=-0.1285, grad=0.0000), Var(v=-0.2302, grad=0.0000), Var(v=0.0230, grad=0.7342), Var(v=-0.0200, grad=-0.3204), Var(v=0.0314, grad=0.0000), Var(v=0.0447, grad=-1.3137), Var(v=-0.0353, grad=0.0000), Var(v=-0.0094, grad=3.7553), Var(v=0.0921, grad=-0.7152), Var(v=0.0740, grad=-0.1573), Var(v=-0.1309, grad=0.0000), Var(v=-0.1579, grad=0.0000), Var(v=-0.0773, grad=0.0000), Var(v=0.0352, grad=-1.7564), Var(v=-0.0813, grad=0.0000), Var(v=-0.0934, grad=0.0000), Var(v=0.1579, grad=-2.9853), Var(v=-0.0983, grad=0.0000), Var(v=-0.0687, grad=0.0000), Var(v=0.0067, grad=-0.8143), Var(v=-0.0699, grad=0.0000), Var(v=-0.0014, grad=0.8039), Var(v=0.0720, grad=-2.2190), Var(v=0.1236, grad=-2.3560), Var(v=0.0808, grad=0.9382), Var(v=0.0508, grad=0.0000), Var(v=0.0227, grad=0.0000), Var(v=-0.1463, grad=0.0000), Var(v=-0.0068, grad=0.5928), Var(v=0.0380, grad=0.0000), Var(v=-0.0900, grad=0.9551), Var(v=-0.1365, grad=2.6196), Var(v=0.0092, grad=0.3402), Var(v=-0.1180, grad=0.0000), Var(v=-0.0889, grad=0.0000), Var(v=0.0066, grad=0.0000), Var(v=-0.0296, grad=-1.1280), Var(v=-0.1205, grad=0.0000), Var(v=-0.1077, grad=0.0000), Var(v=-0.0238, grad=-1.3022), Var(v=-0.1100, grad=0.0000)], [Var(v=0.2027, grad=0.0000), Var(v=-0.0212, grad=-0.4122), Var(v=-0.0052, grad=-0.8205), Var(v=-0.1352, grad=0.5813), Var(v=-0.0911, grad=0.0000), Var(v=-0.0611, grad=0.0000), Var(v=-0.0117, grad=0.0000), Var(v=0.1361, grad=-1.3587), Var(v=0.1064, grad=0.0590), Var(v=0.0737, grad=0.0000), Var(v=0.1065, grad=0.0000), Var(v=0.0528, grad=0.2557), Var(v=0.0697, grad=-0.1116), Var(v=-0.0079, grad=0.0000), Var(v=0.0604, grad=-0.4576), Var(v=-0.1166, grad=0.0000), Var(v=0.0670, grad=1.3081), Var(v=0.1138, grad=-0.2491), Var(v=-0.0318, grad=-0.0548), Var(v=0.1018, grad=0.0000), Var(v=-0.1103, grad=0.0000), Var(v=-0.0829, grad=0.0000), Var(v=0.0825, grad=-0.6118), Var(v=-0.2552, grad=0.0000), Var(v=-0.0023, grad=0.0000), Var(v=-0.0191, grad=-1.0399), Var(v=0.0492, grad=0.0000), Var(v=-0.1512, grad=0.0000), Var(v=0.0274, grad=-0.2836), Var(v=0.1495, grad=0.0000), Var(v=0.1996, grad=0.2800), Var(v=0.1118, grad=-0.7729), Var(v=0.0535, grad=-0.8207), Var(v=-0.0097, grad=0.3268), Var(v=-0.0732, grad=0.0000), Var(v=-0.1049, grad=0.0000), Var(v=0.1700, grad=0.0000), Var(v=0.2050, grad=0.2065), Var(v=-0.0170, grad=0.0000), Var(v=-0.1292, grad=0.3327), Var(v=0.1369, grad=0.9125), Var(v=-0.0087, grad=0.1185), Var(v=-0.1325, grad=0.0000), Var(v=0.1893, grad=0.0000), Var(v=-0.2150, grad=0.0000), Var(v=0.0162, grad=-0.3929), Var(v=0.0001, grad=0.0000), Var(v=0.0086, grad=0.0000), Var(v=-0.0761, grad=-0.4536), Var(v=0.1403, grad=0.0000)], [Var(v=0.1067, grad=0.1576), Var(v=-0.1774, grad=0.0000), Var(v=-0.0165, grad=0.0000), Var(v=-0.0871, grad=0.0000), Var(v=0.0931, grad=-2.5167), Var(v=0.0768, grad=-0.6581), Var(v=-0.0660, grad=0.0000), Var(v=0.0478, grad=0.0000), Var(v=-0.1877, grad=0.0000), Var(v=0.0192, grad=0.0000), Var(v=-0.0845, grad=0.0000), Var(v=-0.0199, grad=-0.6263), Var(v=-0.1126, grad=0.2734), Var(v=-0.0019, grad=1.3243), Var(v=0.0782, grad=1.1207), Var(v=0.0024, grad=0.0000), Var(v=-0.0902, grad=-3.2035), Var(v=-0.0534, grad=0.0000), Var(v=0.1427, grad=0.0000), Var(v=0.0089, grad=0.0000), Var(v=-0.0332, grad=0.8538), Var(v=-0.0592, grad=0.0000), Var(v=0.1030, grad=0.0000), Var(v=0.0417, grad=0.0000), Var(v=-0.0921, grad=0.0000), Var(v=-0.2546, grad=0.0000), Var(v=-0.1601, grad=0.0000), Var(v=-0.0263, grad=1.2989), Var(v=-0.0710, grad=0.0000), Var(v=-0.0485, grad=0.0000), Var(v=0.0967, grad=-0.6857), Var(v=0.0765, grad=1.8929), Var(v=-0.0235, grad=2.0098), Var(v=-0.1343, grad=0.0000), Var(v=0.0039, grad=-0.6140), Var(v=-0.1840, grad=0.0000), Var(v=-0.1090, grad=0.0000), Var(v=-0.0496, grad=-0.5056), Var(v=0.0311, grad=1.5170), Var(v=-0.0542, grad=0.0000), Var(v=0.2218, grad=-2.2347), Var(v=-0.1680, grad=0.0000), Var(v=-0.0535, grad=0.0000), Var(v=-0.0970, grad=0.0000), Var(v=0.1164, grad=0.0000), Var(v=-0.0602, grad=0.9623), Var(v=0.0798, grad=0.0000), Var(v=-0.2560, grad=0.0000), Var(v=-0.1559, grad=0.0000), Var(v=0.1169, grad=-0.7536)], [Var(v=-0.1020, grad=0.0000), Var(v=0.0067, grad=-0.2457), Var(v=0.0981, grad=-0.4891), Var(v=0.1443, grad=0.3465), Var(v=-0.0662, grad=0.0000), Var(v=-0.0311, grad=0.0000), Var(v=0.0977, grad=0.0000), Var(v=-0.1615, grad=-0.8100), Var(v=0.0377, grad=0.0352), Var(v=0.0337, grad=0.0000), Var(v=-0.1926, grad=0.0000), Var(v=-0.0439, grad=0.1525), Var(v=-0.0674, grad=-0.0665), Var(v=-0.1642, grad=0.0000), Var(v=0.0482, grad=-0.2728), Var(v=0.0567, grad=0.0000), Var(v=0.0012, grad=0.7798), Var(v=0.0904, grad=-0.1485), Var(v=-0.1922, grad=-0.0327), Var(v=0.1783, grad=0.0000), Var(v=0.0506, grad=0.0000), Var(v=-0.0426, grad=0.0000), Var(v=0.0594, grad=-0.3647), Var(v=-0.0141, grad=0.0000), Var(v=-0.0488, grad=0.0000), Var(v=0.0641, grad=-0.6199), Var(v=0.0688, grad=0.0000), Var(v=0.0893, grad=0.0000), Var(v=0.0689, grad=-0.1691), Var(v=0.1021, grad=0.0000), Var(v=0.0515, grad=0.1669), Var(v=-0.1638, grad=-0.4608), Var(v=0.0173, grad=-0.4892), Var(v=-0.0844, grad=0.1948), Var(v=0.0683, grad=0.0000), Var(v=-0.0801, grad=0.0000), Var(v=-0.1087, grad=0.0000), Var(v=0.1266, grad=0.1231), Var(v=-0.0231, grad=0.0000), Var(v=-0.0797, grad=0.1983), Var(v=-0.0029, grad=0.5440), Var(v=0.1582, grad=0.0706), Var(v=-0.0965, grad=0.0000), Var(v=0.0288, grad=0.0000), Var(v=0.0434, grad=0.0000), Var(v=0.0363, grad=-0.2342), Var(v=-0.0857, grad=0.0000), Var(v=-0.1119, grad=0.0000), Var(v=0.0080, grad=-0.2704), Var(v=-0.0957, grad=0.0000)], [Var(v=0.2133, grad=0.0173), Var(v=0.1072, grad=0.0000), Var(v=-0.0348, grad=0.0000), Var(v=-0.1832, grad=0.0000), Var(v=-0.0592, grad=-0.2758), Var(v=-0.0044, grad=-0.0721), Var(v=0.0177, grad=0.0000), Var(v=-0.1963, grad=0.0000), Var(v=-0.1188, grad=0.0000), Var(v=-0.0151, grad=0.0000), Var(v=0.0037, grad=0.0000), Var(v=0.0104, grad=-0.0686), Var(v=0.0501, grad=0.0300), Var(v=-0.1403, grad=0.1451), Var(v=-0.0225, grad=0.1228), Var(v=-0.1680, grad=0.0000), Var(v=-0.0336, grad=-0.3510), Var(v=0.1206, grad=0.0000), Var(v=-0.0158, grad=0.0000), Var(v=0.0483, grad=0.0000), Var(v=0.0073, grad=0.0936), Var(v=-0.1065, grad=0.0000), Var(v=-0.3060, grad=0.0000), Var(v=-0.1245, grad=0.0000), Var(v=0.1604, grad=0.0000), Var(v=-0.0973, grad=0.0000), Var(v=-0.0121, grad=0.0000), Var(v=-0.0732, grad=0.1423), Var(v=-0.1282, grad=0.0000), Var(v=-0.0597, grad=0.0000), Var(v=-0.0274, grad=-0.0751), Var(v=0.0141, grad=0.2074), Var(v=-0.0095, grad=0.2202), Var(v=-0.1250, grad=0.0000), Var(v=0.2995, grad=-0.0673), Var(v=0.0762, grad=0.0000), Var(v=-0.1285, grad=0.0000), Var(v=-0.1727, grad=-0.0554), Var(v=0.0101, grad=0.1662), Var(v=-0.0677, grad=0.0000), Var(v=0.0801, grad=-0.2449), Var(v=-0.0603, grad=0.0000), Var(v=-0.0301, grad=0.0000), Var(v=-0.0158, grad=0.0000), Var(v=-0.0144, grad=0.0000), Var(v=-0.2712, grad=0.1054), Var(v=-0.0853, grad=0.0000), Var(v=-0.1283, grad=0.0000), Var(v=0.0157, grad=0.0000), Var(v=-0.0045, grad=-0.0826)], [Var(v=-0.0327, grad=0.0000), Var(v=0.0770, grad=-0.2461), Var(v=0.0548, grad=-0.4898), Var(v=-0.1248, grad=0.3470), Var(v=-0.1688, grad=0.0000), Var(v=-0.1104, grad=0.0000), Var(v=0.0371, grad=0.0000), Var(v=-0.0002, grad=-0.8111), Var(v=-0.0976, grad=0.0352), Var(v=-0.1283, grad=0.0000), Var(v=-0.1299, grad=0.0000), Var(v=0.0871, grad=0.1527), Var(v=0.0488, grad=-0.0666), Var(v=-0.0714, grad=0.0000), Var(v=0.0455, grad=-0.2732), Var(v=-0.1558, grad=0.0000), Var(v=0.0351, grad=0.7809), Var(v=0.0123, grad=-0.1487), Var(v=-0.0592, grad=-0.0327), Var(v=-0.0288, grad=0.0000), Var(v=-0.0797, grad=0.0000), Var(v=0.0030, grad=0.0000), Var(v=0.0439, grad=-0.3652), Var(v=0.1015, grad=0.0000), Var(v=-0.0570, grad=0.0000), Var(v=-0.1454, grad=-0.6208), Var(v=-0.1841, grad=0.0000), Var(v=-0.0329, grad=0.0000), Var(v=0.1514, grad=-0.1693), Var(v=-0.0012, grad=0.0000), Var(v=0.1116, grad=0.1672), Var(v=0.0431, grad=-0.4614), Var(v=-0.0408, grad=-0.4899), Var(v=-0.2016, grad=0.1951), Var(v=0.0599, grad=0.0000), Var(v=-0.1326, grad=0.0000), Var(v=-0.0446, grad=0.0000), Var(v=-0.0173, grad=0.1233), Var(v=0.0743, grad=0.0000), Var(v=0.1573, grad=0.1986), Var(v=0.1762, grad=0.5447), Var(v=-0.0426, grad=0.0707), Var(v=0.2481, grad=0.0000), Var(v=-0.0558, grad=0.0000), Var(v=0.0600, grad=0.0000), Var(v=-0.0884, grad=-0.2346), Var(v=-0.0718, grad=0.0000), Var(v=-0.0482, grad=0.0000), Var(v=-0.0895, grad=-0.2708), Var(v=0.0179, grad=0.0000)], [Var(v=0.0641, grad=0.0000), Var(v=-0.1651, grad=-0.0864), Var(v=-0.0925, grad=-0.1719), Var(v=0.0372, grad=0.1218), Var(v=-0.0054, grad=0.0000), Var(v=0.1890, grad=0.0000), Var(v=0.2984, grad=0.0000), Var(v=0.0360, grad=-0.2847), Var(v=-0.0723, grad=0.0124), Var(v=-0.0352, grad=0.0000), Var(v=0.0103, grad=0.0000), Var(v=0.1376, grad=0.0536), Var(v=-0.0999, grad=-0.0234), Var(v=0.0275, grad=0.0000), Var(v=-0.0198, grad=-0.0959), Var(v=0.0667, grad=0.0000), Var(v=-0.0140, grad=0.2741), Var(v=0.0328, grad=-0.0522), Var(v=-0.0890, grad=-0.0115), Var(v=-0.0704, grad=0.0000), Var(v=0.0689, grad=0.0000), Var(v=-0.0300, grad=0.0000), Var(v=-0.0501, grad=-0.1282), Var(v=-0.1234, grad=0.0000), Var(v=-0.0119, grad=0.0000), Var(v=0.0247, grad=-0.2179), Var(v=0.1947, grad=0.0000), Var(v=0.0009, grad=0.0000), Var(v=0.2453, grad=-0.0594), Var(v=-0.1006, grad=0.0000), Var(v=-0.0424, grad=0.0587), Var(v=0.1470, grad=-0.1620), Var(v=0.0453, grad=-0.1720), Var(v=0.0329, grad=0.0685), Var(v=-0.0436, grad=0.0000), Var(v=0.0894, grad=0.0000), Var(v=0.0325, grad=0.0000), Var(v=0.0239, grad=0.0433), Var(v=-0.1702, grad=0.0000), Var(v=0.1406, grad=0.0697), Var(v=-0.0876, grad=0.1912), Var(v=-0.1010, grad=0.0248), Var(v=-0.0850, grad=0.0000), Var(v=0.0864, grad=0.0000), Var(v=0.0125, grad=0.0000), Var(v=0.1199, grad=-0.0823), Var(v=-0.1984, grad=0.0000), Var(v=0.0059, grad=0.0000), Var(v=-0.1004, grad=-0.0950), Var(v=-0.1237, grad=0.0000)], [Var(v=-0.0924, grad=0.1144), Var(v=-0.0708, grad=0.0000), Var(v=-0.0676, grad=0.0000), Var(v=0.0315, grad=0.0000), Var(v=0.0031, grad=-1.8274), Var(v=-0.0045, grad=-0.4779), Var(v=-0.0551, grad=0.0000), Var(v=-0.1678, grad=0.0000), Var(v=-0.0417, grad=0.0000), Var(v=-0.0688, grad=0.0000), Var(v=-0.0811, grad=0.0000), Var(v=0.0852, grad=-0.4548), Var(v=-0.1201, grad=0.1985), Var(v=0.0187, grad=0.9616), Var(v=-0.1360, grad=0.8137), Var(v=-0.0972, grad=0.0000), Var(v=0.1342, grad=-2.3260), Var(v=-0.1150, grad=0.0000), Var(v=0.0675, grad=0.0000), Var(v=0.0542, grad=0.0000), Var(v=0.0917, grad=0.6200), Var(v=-0.1073, grad=0.0000), Var(v=-0.0758, grad=0.0000), Var(v=0.0971, grad=0.0000), Var(v=0.1908, grad=0.0000), Var(v=-0.1350, grad=0.0000), Var(v=0.1809, grad=0.0000), Var(v=0.1105, grad=0.9431), Var(v=0.0478, grad=0.0000), Var(v=0.0269, grad=0.0000), Var(v=0.1835, grad=-0.4979), Var(v=-0.0782, grad=1.3744), Var(v=0.1531, grad=1.4593), Var(v=-0.0309, grad=0.0000), Var(v=-0.0746, grad=-0.4458), Var(v=0.1523, grad=0.0000), Var(v=0.2000, grad=0.0000), Var(v=0.1512, grad=-0.3671), Var(v=-0.0436, grad=1.1015), Var(v=-0.0489, grad=0.0000), Var(v=-0.0372, grad=-1.6226), Var(v=-0.1215, grad=0.0000), Var(v=-0.0288, grad=0.0000), Var(v=0.0501, grad=0.0000), Var(v=-0.1116, grad=0.0000), Var(v=0.1723, grad=0.6987), Var(v=-0.0419, grad=0.0000), Var(v=0.0327, grad=0.0000), Var(v=0.0583, grad=0.0000), Var(v=-0.1625, grad=-0.5472)], [Var(v=0.0119, grad=0.0962), Var(v=0.0051, grad=0.0000), Var(v=0.0447, grad=0.0000), Var(v=0.0032, grad=0.0000), Var(v=-0.0098, grad=-1.5357), Var(v=0.1416, grad=-0.4016), Var(v=-0.1682, grad=0.0000), Var(v=-0.0802, grad=0.0000), Var(v=-0.1808, grad=0.0000), Var(v=0.1178, grad=0.0000), Var(v=-0.0932, grad=0.0000), Var(v=0.0465, grad=-0.3822), Var(v=0.0237, grad=0.1668), Var(v=-0.0119, grad=0.8081), Var(v=0.0874, grad=0.6839), Var(v=-0.0327, grad=0.0000), Var(v=0.1726, grad=-1.9548), Var(v=-0.0547, grad=0.0000), Var(v=-0.3053, grad=0.0000), Var(v=0.0390, grad=0.0000), Var(v=0.0773, grad=0.5210), Var(v=-0.1290, grad=0.0000), Var(v=-0.1373, grad=0.0000), Var(v=-0.1922, grad=0.0000), Var(v=-0.0874, grad=0.0000), Var(v=-0.1879, grad=0.0000), Var(v=0.0651, grad=0.0000), Var(v=-0.0922, grad=0.7926), Var(v=0.0291, grad=0.0000), Var(v=0.1211, grad=0.0000), Var(v=0.0406, grad=-0.4185), Var(v=0.2236, grad=1.1551), Var(v=0.1156, grad=1.2264), Var(v=-0.1166, grad=0.0000), Var(v=0.1456, grad=-0.3747), Var(v=-0.1181, grad=0.0000), Var(v=0.0131, grad=0.0000), Var(v=0.0491, grad=-0.3086), Var(v=0.1639, grad=0.9257), Var(v=0.1071, grad=0.0000), Var(v=0.0712, grad=-1.3636), Var(v=0.0835, grad=0.0000), Var(v=-0.0465, grad=0.0000), Var(v=0.1327, grad=0.0000), Var(v=-0.1205, grad=0.0000), Var(v=-0.1491, grad=0.5872), Var(v=0.0613, grad=0.0000), Var(v=0.1280, grad=0.0000), Var(v=0.0427, grad=0.0000), Var(v=0.1454, grad=-0.4599)], [Var(v=0.1450, grad=0.0000), Var(v=-0.1507, grad=-0.2631), Var(v=-0.0199, grad=-0.5237), Var(v=-0.1855, grad=0.3710), Var(v=-0.1149, grad=0.0000), Var(v=-0.2314, grad=0.0000), Var(v=0.0692, grad=0.0000), Var(v=0.0625, grad=-0.8672), Var(v=0.0387, grad=0.0377), Var(v=0.0426, grad=0.0000), Var(v=0.0306, grad=0.0000), Var(v=-0.0179, grad=0.1632), Var(v=0.0960, grad=-0.0712), Var(v=-0.0568, grad=0.0000), Var(v=0.1530, grad=-0.2921), Var(v=-0.1719, grad=0.0000), Var(v=0.0256, grad=0.8349), Var(v=0.0187, grad=-0.1590), Var(v=-0.0881, grad=-0.0350), Var(v=0.1755, grad=0.0000), Var(v=0.0722, grad=0.0000), Var(v=-0.0576, grad=0.0000), Var(v=-0.1181, grad=-0.3905), Var(v=-0.0205, grad=0.0000), Var(v=-0.1588, grad=0.0000), Var(v=0.0567, grad=-0.6637), Var(v=0.0450, grad=0.0000), Var(v=-0.0318, grad=0.0000), Var(v=0.2834, grad=-0.1810), Var(v=-0.0655, grad=0.0000), Var(v=0.0375, grad=0.1787), Var(v=0.1058, grad=-0.4934), Var(v=-0.1013, grad=-0.5238), Var(v=0.1341, grad=0.2086), Var(v=-0.2217, grad=0.0000), Var(v=-0.1156, grad=0.0000), Var(v=-0.0159, grad=0.0000), Var(v=-0.0419, grad=0.1318), Var(v=-0.1780, grad=0.0000), Var(v=-0.1101, grad=0.2124), Var(v=-0.1514, grad=0.5824), Var(v=0.1252, grad=0.0756), Var(v=0.1331, grad=0.0000), Var(v=0.0007, grad=0.0000), Var(v=-0.2399, grad=0.0000), Var(v=-0.0063, grad=-0.2508), Var(v=0.0579, grad=0.0000), Var(v=-0.0648, grad=0.0000), Var(v=-0.0287, grad=-0.2895), Var(v=0.1509, grad=0.0000)], [Var(v=0.1409, grad=0.0905), Var(v=0.2579, grad=0.0000), Var(v=-0.0777, grad=0.0000), Var(v=0.0048, grad=0.0000), Var(v=0.0102, grad=-1.4462), Var(v=0.0248, grad=-0.3782), Var(v=0.1537, grad=0.0000), Var(v=0.0666, grad=0.0000), Var(v=0.0587, grad=0.0000), Var(v=-0.0129, grad=0.0000), Var(v=-0.0277, grad=0.0000), Var(v=0.0135, grad=-0.3599), Var(v=0.2938, grad=0.1571), Var(v=-0.0584, grad=0.7610), Var(v=0.0245, grad=0.6440), Var(v=-0.0192, grad=0.0000), Var(v=0.0341, grad=-1.8408), Var(v=-0.0655, grad=0.0000), Var(v=-0.0230, grad=0.0000), Var(v=0.0446, grad=0.0000), Var(v=-0.0722, grad=0.4906), Var(v=0.0855, grad=0.0000), Var(v=0.1076, grad=0.0000), Var(v=0.0574, grad=0.0000), Var(v=-0.2306, grad=0.0000), Var(v=-0.2074, grad=0.0000), Var(v=0.0477, grad=0.0000), Var(v=-0.0571, grad=0.7464), Var(v=0.0776, grad=0.0000), Var(v=-0.1237, grad=0.0000), Var(v=-0.1443, grad=-0.3941), Var(v=0.0172, grad=1.0877), Var(v=-0.0684, grad=1.1549), Var(v=0.1356, grad=0.0000), Var(v=-0.0231, grad=-0.3528), Var(v=-0.0912, grad=0.0000), Var(v=-0.1032, grad=0.0000), Var(v=0.0284, grad=-0.2906), Var(v=-0.1584, grad=0.8717), Var(v=-0.0644, grad=0.0000), Var(v=-0.1312, grad=-1.2841), Var(v=-0.0704, grad=0.0000), Var(v=0.0573, grad=0.0000), Var(v=0.0284, grad=0.0000), Var(v=0.1713, grad=0.0000), Var(v=0.1329, grad=0.5530), Var(v=0.0567, grad=0.0000), Var(v=0.1093, grad=0.0000), Var(v=-0.0879, grad=0.0000), Var(v=0.0194, grad=-0.4331)], [Var(v=-0.1255, grad=0.0000), Var(v=-0.0128, grad=-0.7876), Var(v=0.3050, grad=-1.5676), Var(v=0.0726, grad=1.1106), Var(v=-0.0641, grad=0.0000), Var(v=-0.1595, grad=0.0000), Var(v=-0.0397, grad=0.0000), Var(v=0.0079, grad=-2.5959), Var(v=-0.0563, grad=0.1128), Var(v=-0.0507, grad=0.0000), Var(v=0.0790, grad=0.0000), Var(v=0.0146, grad=0.4886), Var(v=0.0422, grad=-0.2133), Var(v=0.0109, grad=0.0000), Var(v=-0.0641, grad=-0.8743), Var(v=-0.0553, grad=0.0000), Var(v=-0.1228, grad=2.4992), Var(v=-0.0729, grad=-0.4760), Var(v=0.0625, grad=-0.1047), Var(v=0.0218, grad=0.0000), Var(v=0.0583, grad=0.0000), Var(v=-0.0935, grad=0.0000), Var(v=0.0484, grad=-1.1689), Var(v=0.0617, grad=0.0000), Var(v=0.0290, grad=0.0000), Var(v=0.0559, grad=-1.9868), Var(v=0.0577, grad=0.0000), Var(v=-0.0249, grad=0.0000), Var(v=0.1722, grad=-0.5419), Var(v=-0.0564, grad=0.0000), Var(v=-0.0270, grad=0.5350), Var(v=-0.0235, grad=-1.4768), Var(v=0.0161, grad=-1.5680), Var(v=-0.0440, grad=0.6244), Var(v=-0.0262, grad=0.0000), Var(v=0.0333, grad=0.0000), Var(v=-0.1936, grad=0.0000), Var(v=-0.0517, grad=0.3945), Var(v=-0.1242, grad=0.0000), Var(v=0.2351, grad=0.6357), Var(v=0.1396, grad=1.7434), Var(v=0.0439, grad=0.2264), Var(v=0.1257, grad=0.0000), Var(v=0.0052, grad=0.0000), Var(v=-0.0272, grad=0.0000), Var(v=0.1575, grad=-0.7507), Var(v=0.2169, grad=0.0000), Var(v=0.0660, grad=0.0000), Var(v=0.1582, grad=-0.8666), Var(v=0.0012, grad=0.0000)], [Var(v=0.0375, grad=0.0564), Var(v=-0.0871, grad=0.0000), Var(v=-0.0015, grad=0.0000), Var(v=0.0285, grad=0.0000), Var(v=-0.0027, grad=-0.9013), Var(v=-0.0728, grad=-0.2357), Var(v=-0.0878, grad=0.0000), Var(v=-0.0031, grad=0.0000), Var(v=-0.0269, grad=0.0000), Var(v=0.1524, grad=0.0000), Var(v=0.1233, grad=0.0000), Var(v=-0.0009, grad=-0.2243), Var(v=0.0817, grad=0.0979), Var(v=0.0743, grad=0.4743), Var(v=-0.0917, grad=0.4014), Var(v=-0.0181, grad=0.0000), Var(v=-0.1223, grad=-1.1473), Var(v=-0.0100, grad=0.0000), Var(v=-0.1701, grad=0.0000), Var(v=0.0195, grad=0.0000), Var(v=0.0085, grad=0.3058), Var(v=-0.0600, grad=0.0000), Var(v=-0.1702, grad=0.0000), Var(v=0.0180, grad=0.0000), Var(v=-0.1347, grad=0.0000), Var(v=-0.0212, grad=0.0000), Var(v=-0.0110, grad=0.0000), Var(v=0.0738, grad=0.4652), Var(v=-0.1455, grad=0.0000), Var(v=-0.1140, grad=0.0000), Var(v=0.0682, grad=-0.2456), Var(v=-0.0715, grad=0.6779), Var(v=-0.0680, grad=0.7198), Var(v=-0.1101, grad=0.0000), Var(v=0.1841, grad=-0.2199), Var(v=0.0138, grad=0.0000), Var(v=-0.2126, grad=0.0000), Var(v=-0.0165, grad=-0.1811), Var(v=0.0095, grad=0.5433), Var(v=0.2210, grad=0.0000), Var(v=-0.0060, grad=-0.8003), Var(v=0.1547, grad=0.0000), Var(v=-0.0907, grad=0.0000), Var(v=0.0654, grad=0.0000), Var(v=-0.0797, grad=0.0000), Var(v=-0.0451, grad=0.3446), Var(v=-0.1323, grad=0.0000), Var(v=-0.1456, grad=0.0000), Var(v=-0.0283, grad=0.0000), Var(v=0.0230, grad=-0.2699)]]\n",
      "Biases: [Var(v=0.0000, grad=0.0000), Var(v=0.0000, grad=0.0000), Var(v=0.0000, grad=0.0000), Var(v=0.0000, grad=0.0000), Var(v=0.0000, grad=0.0000), Var(v=0.0000, grad=0.0000), Var(v=0.0000, grad=0.0000), Var(v=0.0000, grad=0.0000), Var(v=0.0000, grad=0.0000), Var(v=0.0000, grad=0.0000), Var(v=0.0000, grad=0.0000), Var(v=0.0000, grad=0.0000), Var(v=0.0000, grad=0.0000), Var(v=0.0000, grad=0.0000), Var(v=0.0000, grad=0.0000), Var(v=0.0000, grad=0.0000), Var(v=0.0000, grad=0.0000), Var(v=0.0000, grad=0.0000), Var(v=0.0000, grad=0.0000), Var(v=0.0000, grad=0.0000), Var(v=0.0000, grad=0.0000), Var(v=0.0000, grad=0.0000), Var(v=0.0000, grad=0.0000), Var(v=0.0000, grad=0.0000), Var(v=0.0000, grad=0.0000), Var(v=0.0000, grad=0.0000), Var(v=0.0000, grad=0.0000), Var(v=0.0000, grad=0.0000), Var(v=0.0000, grad=0.0000), Var(v=0.0000, grad=0.0000), Var(v=0.0000, grad=0.0000), Var(v=0.0000, grad=0.0000), Var(v=0.0000, grad=0.0000), Var(v=0.0000, grad=0.0000), Var(v=0.0000, grad=0.0000), Var(v=0.0000, grad=0.0000), Var(v=0.0000, grad=0.0000), Var(v=0.0000, grad=0.0000), Var(v=0.0000, grad=0.0000), Var(v=0.0000, grad=0.0000), Var(v=0.0000, grad=0.0000), Var(v=0.0000, grad=0.0000), Var(v=0.0000, grad=0.0000), Var(v=0.0000, grad=0.0000), Var(v=0.0000, grad=0.0000), Var(v=0.0000, grad=0.0000), Var(v=0.0000, grad=0.0000), Var(v=0.0000, grad=0.0000), Var(v=0.0000, grad=0.0000), Var(v=0.0000, grad=0.0000)]\n",
      "Layer 2 \n",
      " Neuron(s): 50\n",
      "Weights: [[Var(v=-0.0413, grad=5.0902)], [Var(v=0.0662, grad=-0.4637)], [Var(v=0.1760, grad=-5.3513)], [Var(v=-0.0466, grad=-4.0144)], [Var(v=-0.1849, grad=3.1526)], [Var(v=-0.0458, grad=0.5693)], [Var(v=-0.0216, grad=0.0000)], [Var(v=0.2204, grad=-1.7572)], [Var(v=0.0006, grad=-0.9413)], [Var(v=-0.1103, grad=0.0000)], [Var(v=0.1681, grad=0.0000)], [Var(v=-0.0437, grad=0.5530)], [Var(v=0.0177, grad=-0.1039)], [Var(v=0.0742, grad=0.6490)], [Var(v=0.0489, grad=1.9399)], [Var(v=-0.0044, grad=0.0000)], [Var(v=-0.2010, grad=0.5721)], [Var(v=0.0562, grad=-1.9020)], [Var(v=0.0127, grad=-0.4521)], [Var(v=-0.0893, grad=0.0000)], [Var(v=0.0318, grad=2.0234)], [Var(v=0.0155, grad=0.0000)], [Var(v=0.1024, grad=-1.1098)], [Var(v=-0.0339, grad=0.0000)], [Var(v=-0.0506, grad=0.0000)], [Var(v=0.1812, grad=-2.5972)], [Var(v=-0.0343, grad=0.0000)], [Var(v=0.0754, grad=0.3764)], [Var(v=0.0892, grad=-4.6863)], [Var(v=-0.0375, grad=0.0000)], [Var(v=-0.0391, grad=-0.2677)], [Var(v=0.1139, grad=0.1454)], [Var(v=0.1045, grad=1.7989)], [Var(v=-0.0417, grad=-0.7091)], [Var(v=-0.0433, grad=0.5890)], [Var(v=0.0809, grad=0.0000)], [Var(v=-0.0644, grad=0.0000)], [Var(v=-0.0288, grad=-0.2065)], [Var(v=0.0672, grad=2.5244)], [Var(v=-0.0420, grad=-0.7630)], [Var(v=-0.1283, grad=-0.7878)], [Var(v=-0.0012, grad=-1.6467)], [Var(v=-0.1683, grad=0.0000)], [Var(v=0.0724, grad=0.0000)], [Var(v=0.1267, grad=0.0000)], [Var(v=0.0636, grad=-0.4965)], [Var(v=0.1049, grad=0.0000)], [Var(v=-0.0943, grad=0.0000)], [Var(v=0.0681, grad=-0.0417)], [Var(v=-0.0681, grad=2.2122)]]\n",
      "Biases: [Var(v=0.0000, grad=0.0000)]\n",
      "\n",
      "Network after zeroing gradients:\n",
      "Layer 0 \n",
      " Neuron(s): 1\n",
      "Weights: [[Var(v=-0.0828, grad=0.0000), Var(v=-0.0831, grad=0.0000), Var(v=0.2501, grad=0.0000), Var(v=0.0783, grad=0.0000), Var(v=-0.1768, grad=0.0000), Var(v=0.0076, grad=0.0000), Var(v=-0.0449, grad=0.0000), Var(v=-0.0003, grad=0.0000), Var(v=0.0278, grad=0.0000), Var(v=-0.1142, grad=0.0000), Var(v=-0.1049, grad=0.0000), Var(v=0.0827, grad=0.0000), Var(v=-0.0890, grad=0.0000), Var(v=0.1641, grad=0.0000), Var(v=-0.0455, grad=0.0000)]]\n",
      "Biases: [Var(v=0.0000, grad=0.0000), Var(v=0.0000, grad=0.0000), Var(v=0.0000, grad=0.0000), Var(v=0.0000, grad=0.0000), Var(v=0.0000, grad=0.0000), Var(v=0.0000, grad=0.0000), Var(v=0.0000, grad=0.0000), Var(v=0.0000, grad=0.0000), Var(v=0.0000, grad=0.0000), Var(v=0.0000, grad=0.0000), Var(v=0.0000, grad=0.0000), Var(v=0.0000, grad=0.0000), Var(v=0.0000, grad=0.0000), Var(v=0.0000, grad=0.0000), Var(v=0.0000, grad=0.0000)]\n",
      "Layer 1 \n",
      " Neuron(s): 15\n",
      "Weights: [[Var(v=-0.0266, grad=0.0000), Var(v=0.0177, grad=0.0000), Var(v=-0.1004, grad=0.0000), Var(v=0.1259, grad=0.0000), Var(v=0.1915, grad=0.0000), Var(v=0.0093, grad=0.0000), Var(v=0.0000, grad=0.0000), Var(v=-0.2034, grad=0.0000), Var(v=0.0105, grad=0.0000), Var(v=-0.0491, grad=0.0000), Var(v=-0.0293, grad=0.0000), Var(v=-0.1075, grad=0.0000), Var(v=0.0052, grad=0.0000), Var(v=-0.0621, grad=0.0000), Var(v=0.0976, grad=0.0000), Var(v=0.0219, grad=0.0000), Var(v=0.0164, grad=0.0000), Var(v=0.0125, grad=0.0000), Var(v=-0.0985, grad=0.0000), Var(v=-0.1160, grad=0.0000), Var(v=0.1767, grad=0.0000), Var(v=-0.1015, grad=0.0000), Var(v=-0.0288, grad=0.0000), Var(v=-0.1536, grad=0.0000), Var(v=-0.0151, grad=0.0000), Var(v=0.0437, grad=0.0000), Var(v=-0.0099, grad=0.0000), Var(v=0.0024, grad=0.0000), Var(v=-0.0312, grad=0.0000), Var(v=0.0602, grad=0.0000), Var(v=-0.1942, grad=0.0000), Var(v=-0.1087, grad=0.0000), Var(v=0.1349, grad=0.0000), Var(v=0.0208, grad=0.0000), Var(v=-0.0304, grad=0.0000), Var(v=-0.0582, grad=0.0000), Var(v=-0.0573, grad=0.0000), Var(v=-0.1034, grad=0.0000), Var(v=-0.0260, grad=0.0000), Var(v=-0.0130, grad=0.0000), Var(v=-0.0976, grad=0.0000), Var(v=-0.0685, grad=0.0000), Var(v=-0.0632, grad=0.0000), Var(v=-0.1229, grad=0.0000), Var(v=0.0200, grad=0.0000), Var(v=-0.1314, grad=0.0000), Var(v=-0.0447, grad=0.0000), Var(v=-0.1339, grad=0.0000), Var(v=-0.1193, grad=0.0000), Var(v=0.0324, grad=0.0000)], [Var(v=0.2849, grad=0.0000), Var(v=0.0726, grad=0.0000), Var(v=-0.0030, grad=0.0000), Var(v=-0.0254, grad=0.0000), Var(v=0.1300, grad=0.0000), Var(v=-0.1798, grad=0.0000), Var(v=0.0717, grad=0.0000), Var(v=-0.0430, grad=0.0000), Var(v=0.0157, grad=0.0000), Var(v=-0.1464, grad=0.0000), Var(v=-0.0329, grad=0.0000), Var(v=0.2314, grad=0.0000), Var(v=0.0141, grad=0.0000), Var(v=0.0968, grad=0.0000), Var(v=0.1457, grad=0.0000), Var(v=-0.0170, grad=0.0000), Var(v=0.0851, grad=0.0000), Var(v=0.0081, grad=0.0000), Var(v=-0.1855, grad=0.0000), Var(v=-0.1914, grad=0.0000), Var(v=-0.0826, grad=0.0000), Var(v=-0.1341, grad=0.0000), Var(v=0.0477, grad=0.0000), Var(v=0.0206, grad=0.0000), Var(v=0.2835, grad=0.0000), Var(v=0.0466, grad=0.0000), Var(v=-0.3135, grad=0.0000), Var(v=-0.0009, grad=0.0000), Var(v=-0.0115, grad=0.0000), Var(v=0.0515, grad=0.0000), Var(v=0.0761, grad=0.0000), Var(v=-0.0915, grad=0.0000), Var(v=-0.0298, grad=0.0000), Var(v=0.2010, grad=0.0000), Var(v=-0.0960, grad=0.0000), Var(v=0.1134, grad=0.0000), Var(v=-0.1647, grad=0.0000), Var(v=0.0813, grad=0.0000), Var(v=0.2016, grad=0.0000), Var(v=-0.0155, grad=0.0000), Var(v=-0.0785, grad=0.0000), Var(v=-0.0213, grad=0.0000), Var(v=0.0401, grad=0.0000), Var(v=-0.0875, grad=0.0000), Var(v=-0.1178, grad=0.0000), Var(v=0.1445, grad=0.0000), Var(v=-0.0739, grad=0.0000), Var(v=-0.0280, grad=0.0000), Var(v=-0.1404, grad=0.0000), Var(v=0.0592, grad=0.0000)], [Var(v=-0.1975, grad=0.0000), Var(v=0.0884, grad=0.0000), Var(v=0.0966, grad=0.0000), Var(v=0.2135, grad=0.0000), Var(v=0.0634, grad=0.0000), Var(v=0.1323, grad=0.0000), Var(v=-0.0526, grad=0.0000), Var(v=0.1223, grad=0.0000), Var(v=0.0556, grad=0.0000), Var(v=-0.1285, grad=0.0000), Var(v=-0.2302, grad=0.0000), Var(v=0.0230, grad=0.0000), Var(v=-0.0200, grad=0.0000), Var(v=0.0314, grad=0.0000), Var(v=0.0447, grad=0.0000), Var(v=-0.0353, grad=0.0000), Var(v=-0.0094, grad=0.0000), Var(v=0.0921, grad=0.0000), Var(v=0.0740, grad=0.0000), Var(v=-0.1309, grad=0.0000), Var(v=-0.1579, grad=0.0000), Var(v=-0.0773, grad=0.0000), Var(v=0.0352, grad=0.0000), Var(v=-0.0813, grad=0.0000), Var(v=-0.0934, grad=0.0000), Var(v=0.1579, grad=0.0000), Var(v=-0.0983, grad=0.0000), Var(v=-0.0687, grad=0.0000), Var(v=0.0067, grad=0.0000), Var(v=-0.0699, grad=0.0000), Var(v=-0.0014, grad=0.0000), Var(v=0.0720, grad=0.0000), Var(v=0.1236, grad=0.0000), Var(v=0.0808, grad=0.0000), Var(v=0.0508, grad=0.0000), Var(v=0.0227, grad=0.0000), Var(v=-0.1463, grad=0.0000), Var(v=-0.0068, grad=0.0000), Var(v=0.0380, grad=0.0000), Var(v=-0.0900, grad=0.0000), Var(v=-0.1365, grad=0.0000), Var(v=0.0092, grad=0.0000), Var(v=-0.1180, grad=0.0000), Var(v=-0.0889, grad=0.0000), Var(v=0.0066, grad=0.0000), Var(v=-0.0296, grad=0.0000), Var(v=-0.1205, grad=0.0000), Var(v=-0.1077, grad=0.0000), Var(v=-0.0238, grad=0.0000), Var(v=-0.1100, grad=0.0000)], [Var(v=0.2027, grad=0.0000), Var(v=-0.0212, grad=0.0000), Var(v=-0.0052, grad=0.0000), Var(v=-0.1352, grad=0.0000), Var(v=-0.0911, grad=0.0000), Var(v=-0.0611, grad=0.0000), Var(v=-0.0117, grad=0.0000), Var(v=0.1361, grad=0.0000), Var(v=0.1064, grad=0.0000), Var(v=0.0737, grad=0.0000), Var(v=0.1065, grad=0.0000), Var(v=0.0528, grad=0.0000), Var(v=0.0697, grad=0.0000), Var(v=-0.0079, grad=0.0000), Var(v=0.0604, grad=0.0000), Var(v=-0.1166, grad=0.0000), Var(v=0.0670, grad=0.0000), Var(v=0.1138, grad=0.0000), Var(v=-0.0318, grad=0.0000), Var(v=0.1018, grad=0.0000), Var(v=-0.1103, grad=0.0000), Var(v=-0.0829, grad=0.0000), Var(v=0.0825, grad=0.0000), Var(v=-0.2552, grad=0.0000), Var(v=-0.0023, grad=0.0000), Var(v=-0.0191, grad=0.0000), Var(v=0.0492, grad=0.0000), Var(v=-0.1512, grad=0.0000), Var(v=0.0274, grad=0.0000), Var(v=0.1495, grad=0.0000), Var(v=0.1996, grad=0.0000), Var(v=0.1118, grad=0.0000), Var(v=0.0535, grad=0.0000), Var(v=-0.0097, grad=0.0000), Var(v=-0.0732, grad=0.0000), Var(v=-0.1049, grad=0.0000), Var(v=0.1700, grad=0.0000), Var(v=0.2050, grad=0.0000), Var(v=-0.0170, grad=0.0000), Var(v=-0.1292, grad=0.0000), Var(v=0.1369, grad=0.0000), Var(v=-0.0087, grad=0.0000), Var(v=-0.1325, grad=0.0000), Var(v=0.1893, grad=0.0000), Var(v=-0.2150, grad=0.0000), Var(v=0.0162, grad=0.0000), Var(v=0.0001, grad=0.0000), Var(v=0.0086, grad=0.0000), Var(v=-0.0761, grad=0.0000), Var(v=0.1403, grad=0.0000)], [Var(v=0.1067, grad=0.0000), Var(v=-0.1774, grad=0.0000), Var(v=-0.0165, grad=0.0000), Var(v=-0.0871, grad=0.0000), Var(v=0.0931, grad=0.0000), Var(v=0.0768, grad=0.0000), Var(v=-0.0660, grad=0.0000), Var(v=0.0478, grad=0.0000), Var(v=-0.1877, grad=0.0000), Var(v=0.0192, grad=0.0000), Var(v=-0.0845, grad=0.0000), Var(v=-0.0199, grad=0.0000), Var(v=-0.1126, grad=0.0000), Var(v=-0.0019, grad=0.0000), Var(v=0.0782, grad=0.0000), Var(v=0.0024, grad=0.0000), Var(v=-0.0902, grad=0.0000), Var(v=-0.0534, grad=0.0000), Var(v=0.1427, grad=0.0000), Var(v=0.0089, grad=0.0000), Var(v=-0.0332, grad=0.0000), Var(v=-0.0592, grad=0.0000), Var(v=0.1030, grad=0.0000), Var(v=0.0417, grad=0.0000), Var(v=-0.0921, grad=0.0000), Var(v=-0.2546, grad=0.0000), Var(v=-0.1601, grad=0.0000), Var(v=-0.0263, grad=0.0000), Var(v=-0.0710, grad=0.0000), Var(v=-0.0485, grad=0.0000), Var(v=0.0967, grad=0.0000), Var(v=0.0765, grad=0.0000), Var(v=-0.0235, grad=0.0000), Var(v=-0.1343, grad=0.0000), Var(v=0.0039, grad=0.0000), Var(v=-0.1840, grad=0.0000), Var(v=-0.1090, grad=0.0000), Var(v=-0.0496, grad=0.0000), Var(v=0.0311, grad=0.0000), Var(v=-0.0542, grad=0.0000), Var(v=0.2218, grad=0.0000), Var(v=-0.1680, grad=0.0000), Var(v=-0.0535, grad=0.0000), Var(v=-0.0970, grad=0.0000), Var(v=0.1164, grad=0.0000), Var(v=-0.0602, grad=0.0000), Var(v=0.0798, grad=0.0000), Var(v=-0.2560, grad=0.0000), Var(v=-0.1559, grad=0.0000), Var(v=0.1169, grad=0.0000)], [Var(v=-0.1020, grad=0.0000), Var(v=0.0067, grad=0.0000), Var(v=0.0981, grad=0.0000), Var(v=0.1443, grad=0.0000), Var(v=-0.0662, grad=0.0000), Var(v=-0.0311, grad=0.0000), Var(v=0.0977, grad=0.0000), Var(v=-0.1615, grad=0.0000), Var(v=0.0377, grad=0.0000), Var(v=0.0337, grad=0.0000), Var(v=-0.1926, grad=0.0000), Var(v=-0.0439, grad=0.0000), Var(v=-0.0674, grad=0.0000), Var(v=-0.1642, grad=0.0000), Var(v=0.0482, grad=0.0000), Var(v=0.0567, grad=0.0000), Var(v=0.0012, grad=0.0000), Var(v=0.0904, grad=0.0000), Var(v=-0.1922, grad=0.0000), Var(v=0.1783, grad=0.0000), Var(v=0.0506, grad=0.0000), Var(v=-0.0426, grad=0.0000), Var(v=0.0594, grad=0.0000), Var(v=-0.0141, grad=0.0000), Var(v=-0.0488, grad=0.0000), Var(v=0.0641, grad=0.0000), Var(v=0.0688, grad=0.0000), Var(v=0.0893, grad=0.0000), Var(v=0.0689, grad=0.0000), Var(v=0.1021, grad=0.0000), Var(v=0.0515, grad=0.0000), Var(v=-0.1638, grad=0.0000), Var(v=0.0173, grad=0.0000), Var(v=-0.0844, grad=0.0000), Var(v=0.0683, grad=0.0000), Var(v=-0.0801, grad=0.0000), Var(v=-0.1087, grad=0.0000), Var(v=0.1266, grad=0.0000), Var(v=-0.0231, grad=0.0000), Var(v=-0.0797, grad=0.0000), Var(v=-0.0029, grad=0.0000), Var(v=0.1582, grad=0.0000), Var(v=-0.0965, grad=0.0000), Var(v=0.0288, grad=0.0000), Var(v=0.0434, grad=0.0000), Var(v=0.0363, grad=0.0000), Var(v=-0.0857, grad=0.0000), Var(v=-0.1119, grad=0.0000), Var(v=0.0080, grad=0.0000), Var(v=-0.0957, grad=0.0000)], [Var(v=0.2133, grad=0.0000), Var(v=0.1072, grad=0.0000), Var(v=-0.0348, grad=0.0000), Var(v=-0.1832, grad=0.0000), Var(v=-0.0592, grad=0.0000), Var(v=-0.0044, grad=0.0000), Var(v=0.0177, grad=0.0000), Var(v=-0.1963, grad=0.0000), Var(v=-0.1188, grad=0.0000), Var(v=-0.0151, grad=0.0000), Var(v=0.0037, grad=0.0000), Var(v=0.0104, grad=0.0000), Var(v=0.0501, grad=0.0000), Var(v=-0.1403, grad=0.0000), Var(v=-0.0225, grad=0.0000), Var(v=-0.1680, grad=0.0000), Var(v=-0.0336, grad=0.0000), Var(v=0.1206, grad=0.0000), Var(v=-0.0158, grad=0.0000), Var(v=0.0483, grad=0.0000), Var(v=0.0073, grad=0.0000), Var(v=-0.1065, grad=0.0000), Var(v=-0.3060, grad=0.0000), Var(v=-0.1245, grad=0.0000), Var(v=0.1604, grad=0.0000), Var(v=-0.0973, grad=0.0000), Var(v=-0.0121, grad=0.0000), Var(v=-0.0732, grad=0.0000), Var(v=-0.1282, grad=0.0000), Var(v=-0.0597, grad=0.0000), Var(v=-0.0274, grad=0.0000), Var(v=0.0141, grad=0.0000), Var(v=-0.0095, grad=0.0000), Var(v=-0.1250, grad=0.0000), Var(v=0.2995, grad=0.0000), Var(v=0.0762, grad=0.0000), Var(v=-0.1285, grad=0.0000), Var(v=-0.1727, grad=0.0000), Var(v=0.0101, grad=0.0000), Var(v=-0.0677, grad=0.0000), Var(v=0.0801, grad=0.0000), Var(v=-0.0603, grad=0.0000), Var(v=-0.0301, grad=0.0000), Var(v=-0.0158, grad=0.0000), Var(v=-0.0144, grad=0.0000), Var(v=-0.2712, grad=0.0000), Var(v=-0.0853, grad=0.0000), Var(v=-0.1283, grad=0.0000), Var(v=0.0157, grad=0.0000), Var(v=-0.0045, grad=0.0000)], [Var(v=-0.0327, grad=0.0000), Var(v=0.0770, grad=0.0000), Var(v=0.0548, grad=0.0000), Var(v=-0.1248, grad=0.0000), Var(v=-0.1688, grad=0.0000), Var(v=-0.1104, grad=0.0000), Var(v=0.0371, grad=0.0000), Var(v=-0.0002, grad=0.0000), Var(v=-0.0976, grad=0.0000), Var(v=-0.1283, grad=0.0000), Var(v=-0.1299, grad=0.0000), Var(v=0.0871, grad=0.0000), Var(v=0.0488, grad=0.0000), Var(v=-0.0714, grad=0.0000), Var(v=0.0455, grad=0.0000), Var(v=-0.1558, grad=0.0000), Var(v=0.0351, grad=0.0000), Var(v=0.0123, grad=0.0000), Var(v=-0.0592, grad=0.0000), Var(v=-0.0288, grad=0.0000), Var(v=-0.0797, grad=0.0000), Var(v=0.0030, grad=0.0000), Var(v=0.0439, grad=0.0000), Var(v=0.1015, grad=0.0000), Var(v=-0.0570, grad=0.0000), Var(v=-0.1454, grad=0.0000), Var(v=-0.1841, grad=0.0000), Var(v=-0.0329, grad=0.0000), Var(v=0.1514, grad=0.0000), Var(v=-0.0012, grad=0.0000), Var(v=0.1116, grad=0.0000), Var(v=0.0431, grad=0.0000), Var(v=-0.0408, grad=0.0000), Var(v=-0.2016, grad=0.0000), Var(v=0.0599, grad=0.0000), Var(v=-0.1326, grad=0.0000), Var(v=-0.0446, grad=0.0000), Var(v=-0.0173, grad=0.0000), Var(v=0.0743, grad=0.0000), Var(v=0.1573, grad=0.0000), Var(v=0.1762, grad=0.0000), Var(v=-0.0426, grad=0.0000), Var(v=0.2481, grad=0.0000), Var(v=-0.0558, grad=0.0000), Var(v=0.0600, grad=0.0000), Var(v=-0.0884, grad=0.0000), Var(v=-0.0718, grad=0.0000), Var(v=-0.0482, grad=0.0000), Var(v=-0.0895, grad=0.0000), Var(v=0.0179, grad=0.0000)], [Var(v=0.0641, grad=0.0000), Var(v=-0.1651, grad=0.0000), Var(v=-0.0925, grad=0.0000), Var(v=0.0372, grad=0.0000), Var(v=-0.0054, grad=0.0000), Var(v=0.1890, grad=0.0000), Var(v=0.2984, grad=0.0000), Var(v=0.0360, grad=0.0000), Var(v=-0.0723, grad=0.0000), Var(v=-0.0352, grad=0.0000), Var(v=0.0103, grad=0.0000), Var(v=0.1376, grad=0.0000), Var(v=-0.0999, grad=0.0000), Var(v=0.0275, grad=0.0000), Var(v=-0.0198, grad=0.0000), Var(v=0.0667, grad=0.0000), Var(v=-0.0140, grad=0.0000), Var(v=0.0328, grad=0.0000), Var(v=-0.0890, grad=0.0000), Var(v=-0.0704, grad=0.0000), Var(v=0.0689, grad=0.0000), Var(v=-0.0300, grad=0.0000), Var(v=-0.0501, grad=0.0000), Var(v=-0.1234, grad=0.0000), Var(v=-0.0119, grad=0.0000), Var(v=0.0247, grad=0.0000), Var(v=0.1947, grad=0.0000), Var(v=0.0009, grad=0.0000), Var(v=0.2453, grad=0.0000), Var(v=-0.1006, grad=0.0000), Var(v=-0.0424, grad=0.0000), Var(v=0.1470, grad=0.0000), Var(v=0.0453, grad=0.0000), Var(v=0.0329, grad=0.0000), Var(v=-0.0436, grad=0.0000), Var(v=0.0894, grad=0.0000), Var(v=0.0325, grad=0.0000), Var(v=0.0239, grad=0.0000), Var(v=-0.1702, grad=0.0000), Var(v=0.1406, grad=0.0000), Var(v=-0.0876, grad=0.0000), Var(v=-0.1010, grad=0.0000), Var(v=-0.0850, grad=0.0000), Var(v=0.0864, grad=0.0000), Var(v=0.0125, grad=0.0000), Var(v=0.1199, grad=0.0000), Var(v=-0.1984, grad=0.0000), Var(v=0.0059, grad=0.0000), Var(v=-0.1004, grad=0.0000), Var(v=-0.1237, grad=0.0000)], [Var(v=-0.0924, grad=0.0000), Var(v=-0.0708, grad=0.0000), Var(v=-0.0676, grad=0.0000), Var(v=0.0315, grad=0.0000), Var(v=0.0031, grad=0.0000), Var(v=-0.0045, grad=0.0000), Var(v=-0.0551, grad=0.0000), Var(v=-0.1678, grad=0.0000), Var(v=-0.0417, grad=0.0000), Var(v=-0.0688, grad=0.0000), Var(v=-0.0811, grad=0.0000), Var(v=0.0852, grad=0.0000), Var(v=-0.1201, grad=0.0000), Var(v=0.0187, grad=0.0000), Var(v=-0.1360, grad=0.0000), Var(v=-0.0972, grad=0.0000), Var(v=0.1342, grad=0.0000), Var(v=-0.1150, grad=0.0000), Var(v=0.0675, grad=0.0000), Var(v=0.0542, grad=0.0000), Var(v=0.0917, grad=0.0000), Var(v=-0.1073, grad=0.0000), Var(v=-0.0758, grad=0.0000), Var(v=0.0971, grad=0.0000), Var(v=0.1908, grad=0.0000), Var(v=-0.1350, grad=0.0000), Var(v=0.1809, grad=0.0000), Var(v=0.1105, grad=0.0000), Var(v=0.0478, grad=0.0000), Var(v=0.0269, grad=0.0000), Var(v=0.1835, grad=0.0000), Var(v=-0.0782, grad=0.0000), Var(v=0.1531, grad=0.0000), Var(v=-0.0309, grad=0.0000), Var(v=-0.0746, grad=0.0000), Var(v=0.1523, grad=0.0000), Var(v=0.2000, grad=0.0000), Var(v=0.1512, grad=0.0000), Var(v=-0.0436, grad=0.0000), Var(v=-0.0489, grad=0.0000), Var(v=-0.0372, grad=0.0000), Var(v=-0.1215, grad=0.0000), Var(v=-0.0288, grad=0.0000), Var(v=0.0501, grad=0.0000), Var(v=-0.1116, grad=0.0000), Var(v=0.1723, grad=0.0000), Var(v=-0.0419, grad=0.0000), Var(v=0.0327, grad=0.0000), Var(v=0.0583, grad=0.0000), Var(v=-0.1625, grad=0.0000)], [Var(v=0.0119, grad=0.0000), Var(v=0.0051, grad=0.0000), Var(v=0.0447, grad=0.0000), Var(v=0.0032, grad=0.0000), Var(v=-0.0098, grad=0.0000), Var(v=0.1416, grad=0.0000), Var(v=-0.1682, grad=0.0000), Var(v=-0.0802, grad=0.0000), Var(v=-0.1808, grad=0.0000), Var(v=0.1178, grad=0.0000), Var(v=-0.0932, grad=0.0000), Var(v=0.0465, grad=0.0000), Var(v=0.0237, grad=0.0000), Var(v=-0.0119, grad=0.0000), Var(v=0.0874, grad=0.0000), Var(v=-0.0327, grad=0.0000), Var(v=0.1726, grad=0.0000), Var(v=-0.0547, grad=0.0000), Var(v=-0.3053, grad=0.0000), Var(v=0.0390, grad=0.0000), Var(v=0.0773, grad=0.0000), Var(v=-0.1290, grad=0.0000), Var(v=-0.1373, grad=0.0000), Var(v=-0.1922, grad=0.0000), Var(v=-0.0874, grad=0.0000), Var(v=-0.1879, grad=0.0000), Var(v=0.0651, grad=0.0000), Var(v=-0.0922, grad=0.0000), Var(v=0.0291, grad=0.0000), Var(v=0.1211, grad=0.0000), Var(v=0.0406, grad=0.0000), Var(v=0.2236, grad=0.0000), Var(v=0.1156, grad=0.0000), Var(v=-0.1166, grad=0.0000), Var(v=0.1456, grad=0.0000), Var(v=-0.1181, grad=0.0000), Var(v=0.0131, grad=0.0000), Var(v=0.0491, grad=0.0000), Var(v=0.1639, grad=0.0000), Var(v=0.1071, grad=0.0000), Var(v=0.0712, grad=0.0000), Var(v=0.0835, grad=0.0000), Var(v=-0.0465, grad=0.0000), Var(v=0.1327, grad=0.0000), Var(v=-0.1205, grad=0.0000), Var(v=-0.1491, grad=0.0000), Var(v=0.0613, grad=0.0000), Var(v=0.1280, grad=0.0000), Var(v=0.0427, grad=0.0000), Var(v=0.1454, grad=0.0000)], [Var(v=0.1450, grad=0.0000), Var(v=-0.1507, grad=0.0000), Var(v=-0.0199, grad=0.0000), Var(v=-0.1855, grad=0.0000), Var(v=-0.1149, grad=0.0000), Var(v=-0.2314, grad=0.0000), Var(v=0.0692, grad=0.0000), Var(v=0.0625, grad=0.0000), Var(v=0.0387, grad=0.0000), Var(v=0.0426, grad=0.0000), Var(v=0.0306, grad=0.0000), Var(v=-0.0179, grad=0.0000), Var(v=0.0960, grad=0.0000), Var(v=-0.0568, grad=0.0000), Var(v=0.1530, grad=0.0000), Var(v=-0.1719, grad=0.0000), Var(v=0.0256, grad=0.0000), Var(v=0.0187, grad=0.0000), Var(v=-0.0881, grad=0.0000), Var(v=0.1755, grad=0.0000), Var(v=0.0722, grad=0.0000), Var(v=-0.0576, grad=0.0000), Var(v=-0.1181, grad=0.0000), Var(v=-0.0205, grad=0.0000), Var(v=-0.1588, grad=0.0000), Var(v=0.0567, grad=0.0000), Var(v=0.0450, grad=0.0000), Var(v=-0.0318, grad=0.0000), Var(v=0.2834, grad=0.0000), Var(v=-0.0655, grad=0.0000), Var(v=0.0375, grad=0.0000), Var(v=0.1058, grad=0.0000), Var(v=-0.1013, grad=0.0000), Var(v=0.1341, grad=0.0000), Var(v=-0.2217, grad=0.0000), Var(v=-0.1156, grad=0.0000), Var(v=-0.0159, grad=0.0000), Var(v=-0.0419, grad=0.0000), Var(v=-0.1780, grad=0.0000), Var(v=-0.1101, grad=0.0000), Var(v=-0.1514, grad=0.0000), Var(v=0.1252, grad=0.0000), Var(v=0.1331, grad=0.0000), Var(v=0.0007, grad=0.0000), Var(v=-0.2399, grad=0.0000), Var(v=-0.0063, grad=0.0000), Var(v=0.0579, grad=0.0000), Var(v=-0.0648, grad=0.0000), Var(v=-0.0287, grad=0.0000), Var(v=0.1509, grad=0.0000)], [Var(v=0.1409, grad=0.0000), Var(v=0.2579, grad=0.0000), Var(v=-0.0777, grad=0.0000), Var(v=0.0048, grad=0.0000), Var(v=0.0102, grad=0.0000), Var(v=0.0248, grad=0.0000), Var(v=0.1537, grad=0.0000), Var(v=0.0666, grad=0.0000), Var(v=0.0587, grad=0.0000), Var(v=-0.0129, grad=0.0000), Var(v=-0.0277, grad=0.0000), Var(v=0.0135, grad=0.0000), Var(v=0.2938, grad=0.0000), Var(v=-0.0584, grad=0.0000), Var(v=0.0245, grad=0.0000), Var(v=-0.0192, grad=0.0000), Var(v=0.0341, grad=0.0000), Var(v=-0.0655, grad=0.0000), Var(v=-0.0230, grad=0.0000), Var(v=0.0446, grad=0.0000), Var(v=-0.0722, grad=0.0000), Var(v=0.0855, grad=0.0000), Var(v=0.1076, grad=0.0000), Var(v=0.0574, grad=0.0000), Var(v=-0.2306, grad=0.0000), Var(v=-0.2074, grad=0.0000), Var(v=0.0477, grad=0.0000), Var(v=-0.0571, grad=0.0000), Var(v=0.0776, grad=0.0000), Var(v=-0.1237, grad=0.0000), Var(v=-0.1443, grad=0.0000), Var(v=0.0172, grad=0.0000), Var(v=-0.0684, grad=0.0000), Var(v=0.1356, grad=0.0000), Var(v=-0.0231, grad=0.0000), Var(v=-0.0912, grad=0.0000), Var(v=-0.1032, grad=0.0000), Var(v=0.0284, grad=0.0000), Var(v=-0.1584, grad=0.0000), Var(v=-0.0644, grad=0.0000), Var(v=-0.1312, grad=0.0000), Var(v=-0.0704, grad=0.0000), Var(v=0.0573, grad=0.0000), Var(v=0.0284, grad=0.0000), Var(v=0.1713, grad=0.0000), Var(v=0.1329, grad=0.0000), Var(v=0.0567, grad=0.0000), Var(v=0.1093, grad=0.0000), Var(v=-0.0879, grad=0.0000), Var(v=0.0194, grad=0.0000)], [Var(v=-0.1255, grad=0.0000), Var(v=-0.0128, grad=0.0000), Var(v=0.3050, grad=0.0000), Var(v=0.0726, grad=0.0000), Var(v=-0.0641, grad=0.0000), Var(v=-0.1595, grad=0.0000), Var(v=-0.0397, grad=0.0000), Var(v=0.0079, grad=0.0000), Var(v=-0.0563, grad=0.0000), Var(v=-0.0507, grad=0.0000), Var(v=0.0790, grad=0.0000), Var(v=0.0146, grad=0.0000), Var(v=0.0422, grad=0.0000), Var(v=0.0109, grad=0.0000), Var(v=-0.0641, grad=0.0000), Var(v=-0.0553, grad=0.0000), Var(v=-0.1228, grad=0.0000), Var(v=-0.0729, grad=0.0000), Var(v=0.0625, grad=0.0000), Var(v=0.0218, grad=0.0000), Var(v=0.0583, grad=0.0000), Var(v=-0.0935, grad=0.0000), Var(v=0.0484, grad=0.0000), Var(v=0.0617, grad=0.0000), Var(v=0.0290, grad=0.0000), Var(v=0.0559, grad=0.0000), Var(v=0.0577, grad=0.0000), Var(v=-0.0249, grad=0.0000), Var(v=0.1722, grad=0.0000), Var(v=-0.0564, grad=0.0000), Var(v=-0.0270, grad=0.0000), Var(v=-0.0235, grad=0.0000), Var(v=0.0161, grad=0.0000), Var(v=-0.0440, grad=0.0000), Var(v=-0.0262, grad=0.0000), Var(v=0.0333, grad=0.0000), Var(v=-0.1936, grad=0.0000), Var(v=-0.0517, grad=0.0000), Var(v=-0.1242, grad=0.0000), Var(v=0.2351, grad=0.0000), Var(v=0.1396, grad=0.0000), Var(v=0.0439, grad=0.0000), Var(v=0.1257, grad=0.0000), Var(v=0.0052, grad=0.0000), Var(v=-0.0272, grad=0.0000), Var(v=0.1575, grad=0.0000), Var(v=0.2169, grad=0.0000), Var(v=0.0660, grad=0.0000), Var(v=0.1582, grad=0.0000), Var(v=0.0012, grad=0.0000)], [Var(v=0.0375, grad=0.0000), Var(v=-0.0871, grad=0.0000), Var(v=-0.0015, grad=0.0000), Var(v=0.0285, grad=0.0000), Var(v=-0.0027, grad=0.0000), Var(v=-0.0728, grad=0.0000), Var(v=-0.0878, grad=0.0000), Var(v=-0.0031, grad=0.0000), Var(v=-0.0269, grad=0.0000), Var(v=0.1524, grad=0.0000), Var(v=0.1233, grad=0.0000), Var(v=-0.0009, grad=0.0000), Var(v=0.0817, grad=0.0000), Var(v=0.0743, grad=0.0000), Var(v=-0.0917, grad=0.0000), Var(v=-0.0181, grad=0.0000), Var(v=-0.1223, grad=0.0000), Var(v=-0.0100, grad=0.0000), Var(v=-0.1701, grad=0.0000), Var(v=0.0195, grad=0.0000), Var(v=0.0085, grad=0.0000), Var(v=-0.0600, grad=0.0000), Var(v=-0.1702, grad=0.0000), Var(v=0.0180, grad=0.0000), Var(v=-0.1347, grad=0.0000), Var(v=-0.0212, grad=0.0000), Var(v=-0.0110, grad=0.0000), Var(v=0.0738, grad=0.0000), Var(v=-0.1455, grad=0.0000), Var(v=-0.1140, grad=0.0000), Var(v=0.0682, grad=0.0000), Var(v=-0.0715, grad=0.0000), Var(v=-0.0680, grad=0.0000), Var(v=-0.1101, grad=0.0000), Var(v=0.1841, grad=0.0000), Var(v=0.0138, grad=0.0000), Var(v=-0.2126, grad=0.0000), Var(v=-0.0165, grad=0.0000), Var(v=0.0095, grad=0.0000), Var(v=0.2210, grad=0.0000), Var(v=-0.0060, grad=0.0000), Var(v=0.1547, grad=0.0000), Var(v=-0.0907, grad=0.0000), Var(v=0.0654, grad=0.0000), Var(v=-0.0797, grad=0.0000), Var(v=-0.0451, grad=0.0000), Var(v=-0.1323, grad=0.0000), Var(v=-0.1456, grad=0.0000), Var(v=-0.0283, grad=0.0000), Var(v=0.0230, grad=0.0000)]]\n",
      "Biases: [Var(v=0.0000, grad=0.0000), Var(v=0.0000, grad=0.0000), Var(v=0.0000, grad=0.0000), Var(v=0.0000, grad=0.0000), Var(v=0.0000, grad=0.0000), Var(v=0.0000, grad=0.0000), Var(v=0.0000, grad=0.0000), Var(v=0.0000, grad=0.0000), Var(v=0.0000, grad=0.0000), Var(v=0.0000, grad=0.0000), Var(v=0.0000, grad=0.0000), Var(v=0.0000, grad=0.0000), Var(v=0.0000, grad=0.0000), Var(v=0.0000, grad=0.0000), Var(v=0.0000, grad=0.0000), Var(v=0.0000, grad=0.0000), Var(v=0.0000, grad=0.0000), Var(v=0.0000, grad=0.0000), Var(v=0.0000, grad=0.0000), Var(v=0.0000, grad=0.0000), Var(v=0.0000, grad=0.0000), Var(v=0.0000, grad=0.0000), Var(v=0.0000, grad=0.0000), Var(v=0.0000, grad=0.0000), Var(v=0.0000, grad=0.0000), Var(v=0.0000, grad=0.0000), Var(v=0.0000, grad=0.0000), Var(v=0.0000, grad=0.0000), Var(v=0.0000, grad=0.0000), Var(v=0.0000, grad=0.0000), Var(v=0.0000, grad=0.0000), Var(v=0.0000, grad=0.0000), Var(v=0.0000, grad=0.0000), Var(v=0.0000, grad=0.0000), Var(v=0.0000, grad=0.0000), Var(v=0.0000, grad=0.0000), Var(v=0.0000, grad=0.0000), Var(v=0.0000, grad=0.0000), Var(v=0.0000, grad=0.0000), Var(v=0.0000, grad=0.0000), Var(v=0.0000, grad=0.0000), Var(v=0.0000, grad=0.0000), Var(v=0.0000, grad=0.0000), Var(v=0.0000, grad=0.0000), Var(v=0.0000, grad=0.0000), Var(v=0.0000, grad=0.0000), Var(v=0.0000, grad=0.0000), Var(v=0.0000, grad=0.0000), Var(v=0.0000, grad=0.0000), Var(v=0.0000, grad=0.0000)]\n",
      "Layer 2 \n",
      " Neuron(s): 50\n",
      "Weights: [[Var(v=-0.0413, grad=0.0000)], [Var(v=0.0662, grad=0.0000)], [Var(v=0.1760, grad=0.0000)], [Var(v=-0.0466, grad=0.0000)], [Var(v=-0.1849, grad=0.0000)], [Var(v=-0.0458, grad=0.0000)], [Var(v=-0.0216, grad=0.0000)], [Var(v=0.2204, grad=0.0000)], [Var(v=0.0006, grad=0.0000)], [Var(v=-0.1103, grad=0.0000)], [Var(v=0.1681, grad=0.0000)], [Var(v=-0.0437, grad=0.0000)], [Var(v=0.0177, grad=0.0000)], [Var(v=0.0742, grad=0.0000)], [Var(v=0.0489, grad=0.0000)], [Var(v=-0.0044, grad=0.0000)], [Var(v=-0.2010, grad=0.0000)], [Var(v=0.0562, grad=0.0000)], [Var(v=0.0127, grad=0.0000)], [Var(v=-0.0893, grad=0.0000)], [Var(v=0.0318, grad=0.0000)], [Var(v=0.0155, grad=0.0000)], [Var(v=0.1024, grad=0.0000)], [Var(v=-0.0339, grad=0.0000)], [Var(v=-0.0506, grad=0.0000)], [Var(v=0.1812, grad=0.0000)], [Var(v=-0.0343, grad=0.0000)], [Var(v=0.0754, grad=0.0000)], [Var(v=0.0892, grad=0.0000)], [Var(v=-0.0375, grad=0.0000)], [Var(v=-0.0391, grad=0.0000)], [Var(v=0.1139, grad=0.0000)], [Var(v=0.1045, grad=0.0000)], [Var(v=-0.0417, grad=0.0000)], [Var(v=-0.0433, grad=0.0000)], [Var(v=0.0809, grad=0.0000)], [Var(v=-0.0644, grad=0.0000)], [Var(v=-0.0288, grad=0.0000)], [Var(v=0.0672, grad=0.0000)], [Var(v=-0.0420, grad=0.0000)], [Var(v=-0.1283, grad=0.0000)], [Var(v=-0.0012, grad=0.0000)], [Var(v=-0.1683, grad=0.0000)], [Var(v=0.0724, grad=0.0000)], [Var(v=0.1267, grad=0.0000)], [Var(v=0.0636, grad=0.0000)], [Var(v=0.1049, grad=0.0000)], [Var(v=-0.0943, grad=0.0000)], [Var(v=0.0681, grad=0.0000)], [Var(v=-0.0681, grad=0.0000)]]\n",
      "Biases: [Var(v=0.0000, grad=0.0000)]\n"
     ]
    },
    {
     "data": {
      "text/plain": [
       "[None, None, None]"
      ]
     },
     "execution_count": 124,
     "metadata": {},
     "output_type": "execute_result"
    }
   ],
   "source": [
    "print('Network before update:')\n",
    "[print('Layer', i, '\\n', NN[i]) for i in range(len(NN))] \n",
    "\n",
    "def parameters(network):\n",
    "  params = []\n",
    "  for layer in range(len(network)):\n",
    "    params += network[layer].parameters()\n",
    "  return params\n",
    "\n",
    "def update_parameters(params, learning_rate=0.01):\n",
    "  for p in params:\n",
    "    p.v -= learning_rate*p.grad\n",
    "\n",
    "def zero_gradients(params):\n",
    "  for p in params:\n",
    "    p.grad = 0.0\n",
    "\n",
    "update_parameters(parameters(NN))\n",
    "\n",
    "print('\\nNetwork after update:')\n",
    "[print('Layer', i+1, '\\n', NN[i]) for i in range(len(NN))] \n",
    "\n",
    "zero_gradients(parameters(NN))\n",
    "\n",
    "print('\\nNetwork after zeroing gradients:')\n",
    "[print('Layer', i+1, '\\n', NN[i]) for i in range(len(NN))] "
   ]
  },
  {
   "cell_type": "code",
   "execution_count": 176,
   "metadata": {
    "id": "woWYpdw6FtIO",
    "pycharm": {
     "name": "#%%\n"
    }
   },
   "outputs": [],
   "source": [
    "# Initialize an arbitrary neural network\n",
    "NN = [\n",
    "    DenseLayer(1, 8, lambda x: x.relu()),\n",
    "    DenseLayer(8, 1, lambda x: x.identity())\n",
    "]\n",
    "\n",
    "# Recommended hyper-parameters for 3-D: \n",
    "#NN = [\n",
    "#    DenseLayer(3, 16, lambda x: x.relu()),\n",
    "#    DenseLayer(16, 1, lambda x: x.identity())\n",
    "#]\n",
    "\n",
    "\n",
    "### Notice that, when we switch from tanh to relu activation, we decrease the learning rate. This is due the stability of the gradients \n",
    "## of the activation functions."
   ]
  },
  {
   "cell_type": "code",
   "execution_count": 177,
   "metadata": {
    "id": "mdqaqYBVFtIR",
    "pycharm": {
     "name": "#%%\n"
    }
   },
   "outputs": [],
   "source": [
    "# Initialize training hyperparameters\n",
    "EPOCHS = 200\n",
    "LEARN_R = 2e-3 "
   ]
  },
  {
   "cell_type": "code",
   "execution_count": 178,
   "metadata": {
    "colab": {
     "base_uri": "https://localhost:8080/"
    },
    "id": "5kfg76GMFtIW",
    "outputId": "e30cf68a-31f2-42b4-cc5e-860c297c0f04",
    "scrolled": true,
    "pycharm": {
     "name": "#%%\n"
    }
   },
   "outputs": [
    {
     "name": "stdout",
     "output_type": "stream",
     "text": [
      "   0 ( 0.00%) Train loss: 105.578 \t Validation loss: 103.865\n",
      "  10 ( 5.00%) Train loss: 34.928 \t Validation loss: 25.043\n",
      "  20 (10.00%) Train loss: 12.013 \t Validation loss: 8.997\n",
      "  30 (15.00%) Train loss: 12.001 \t Validation loss: 8.938\n",
      "  40 (20.00%) Train loss: 12.001 \t Validation loss: 8.938\n",
      "  50 (25.00%) Train loss: 12.001 \t Validation loss: 8.938\n",
      "  60 (30.00%) Train loss: 12.001 \t Validation loss: 8.938\n",
      "  70 (35.00%) Train loss: 12.001 \t Validation loss: 8.938\n",
      "  80 (40.00%) Train loss: 12.001 \t Validation loss: 8.938\n",
      "  90 (45.00%) Train loss: 12.001 \t Validation loss: 8.938\n",
      " 100 (50.00%) Train loss: 12.001 \t Validation loss: 8.938\n",
      " 110 (55.00%) Train loss: 12.001 \t Validation loss: 8.938\n",
      " 120 (60.00%) Train loss: 12.001 \t Validation loss: 8.938\n",
      " 130 (65.00%) Train loss: 12.001 \t Validation loss: 8.938\n",
      " 140 (70.00%) Train loss: 12.001 \t Validation loss: 8.938\n",
      " 150 (75.00%) Train loss: 12.001 \t Validation loss: 8.938\n",
      " 160 (80.00%) Train loss: 12.001 \t Validation loss: 8.938\n",
      " 170 (85.00%) Train loss: 12.001 \t Validation loss: 8.938\n",
      " 180 (90.00%) Train loss: 12.001 \t Validation loss: 8.938\n",
      " 190 (95.00%) Train loss: 12.001 \t Validation loss: 8.938\n"
     ]
    }
   ],
   "source": [
    "train_loss = []\n",
    "val_loss = []\n",
    "\n",
    "for e in range(EPOCHS):\n",
    "     \n",
    "    # Forward pass and loss computation\n",
    "    Loss = squared_loss(y_train, forward(x_train, NN))\n",
    "\n",
    "    # Backward pass\n",
    "    Loss.backward()\n",
    "    \n",
    "    # gradient descent update\n",
    "    update_parameters(parameters(NN), LEARN_R)\n",
    "    zero_gradients(parameters(NN))\n",
    "    \n",
    "    # Training loss\n",
    "    train_loss.append(Loss.v)\n",
    "    \n",
    "    # Validation\n",
    "    Loss_validation = squared_loss(y_validation, forward(x_validation, NN))\n",
    "    val_loss.append(Loss_validation.v)\n",
    "    \n",
    "    if e%10==0:\n",
    "        print(\"{:4d}\".format(e),\n",
    "              \"({:5.2f}%)\".format(e/EPOCHS*100), \n",
    "              \"Train loss: {:4.3f} \\t Validation loss: {:4.3f}\".format(train_loss[-1], val_loss[-1]))"
   ]
  },
  {
   "cell_type": "code",
   "execution_count": 179,
   "metadata": {
    "colab": {
     "base_uri": "https://localhost:8080/",
     "height": 265
    },
    "id": "VetyRWFwFtIY",
    "outputId": "344e490d-6d7d-455a-fa6f-88dd11eb957e",
    "pycharm": {
     "name": "#%%\n"
    }
   },
   "outputs": [
    {
     "data": {
      "text/plain": [
       "<matplotlib.legend.Legend at 0x19f7ccbe520>"
      ]
     },
     "execution_count": 179,
     "metadata": {},
     "output_type": "execute_result"
    },
    {
     "data": {
      "image/png": "[encoded data removed]",
      "text/plain": [
       "<Figure size 432x288 with 1 Axes>"
      ]
     },
     "metadata": {
      "needs_background": "light"
     },
     "output_type": "display_data"
    }
   ],
   "source": [
    "plt.plot(range(len(train_loss)), train_loss);\n",
    "plt.plot(range(len(val_loss)), val_loss);\n",
    "plt.legend(loc=1, fontsize=16, labels = [\"Training loss\", \"Validation loss\"])"
   ]
  },
  {
   "cell_type": "markdown",
   "metadata": {
    "id": "8OgmIrM9FtIb",
    "pycharm": {
     "name": "#%% md\n"
    }
   },
   "source": [
    "# Testing\n",
    "\n",
    "We have kept the calculation of the test error separate in order to emphasize that you should not use the test set in optimization."
   ]
  },
  {
   "cell_type": "code",
   "execution_count": 180,
   "metadata": {
    "id": "HmNi7S-vFtIc",
    "pycharm": {
     "name": "#%%\n"
    }
   },
   "outputs": [],
   "source": [
    "output_test = forward(x_test, NN)"
   ]
  },
  {
   "cell_type": "code",
   "execution_count": 181,
   "metadata": {
    "colab": {
     "base_uri": "https://localhost:8080/",
     "height": 316
    },
    "id": "7mmJOTSEFtIf",
    "outputId": "e3264095-cefe-4aee-893d-bf152438e332",
    "pycharm": {
     "name": "#%%\n"
    }
   },
   "outputs": [
    {
     "name": "stdout",
     "output_type": "stream",
     "text": [
      "Test loss:  9.305\n"
     ]
    },
    {
     "data": {
      "image/png": "[encoded data removed]",
      "text/plain": [
       "<Figure size 432x288 with 1 Axes>"
      ]
     },
     "metadata": {
      "needs_background": "light"
     },
     "output_type": "display_data"
    }
   ],
   "source": [
    "y_test_np = Var_to_nparray(y_test)\n",
    "plt.scatter(y_test_np, Var_to_nparray(output_test));\n",
    "plt.plot([np.min(y_test_np), np.max(y_test_np)], [np.min(y_test_np), np.max(y_test_np)], color='k');\n",
    "plt.xlabel(\"y\");\n",
    "plt.ylabel(\"$\\hat{y}$\");\n",
    "plt.title(\"Model prediction vs real in the test set, the closer to the line the better\")\n",
    "plt.grid(True);\n",
    "plt.axis('equal');\n",
    "plt.tight_layout();\n",
    "\n",
    "Loss_test = squared_loss(y_test, forward(x_test, NN))\n",
    "\n",
    "print(\"Test loss:  {:4.3f}\".format(Loss_test.v))"
   ]
  },
  {
   "cell_type": "code",
   "execution_count": 174,
   "metadata": {
    "colab": {
     "base_uri": "https://localhost:8080/",
     "height": 279
    },
    "id": "ODi0WlmQFtIh",
    "outputId": "d1ab874f-0717-4987-87bf-1f0c7c8e7148",
    "pycharm": {
     "name": "#%%\n"
    }
   },
   "outputs": [
    {
     "data": {
      "image/png": "[encoded data removed]",
      "text/plain": [
       "<Figure size 432x288 with 1 Axes>"
      ]
     },
     "metadata": {
      "needs_background": "light"
     },
     "output_type": "display_data"
    }
   ],
   "source": [
    "x_test_np = Var_to_nparray(x_test)\n",
    "x_train_np = Var_to_nparray(x_train)\n",
    "y_train_np = Var_to_nparray(y_train)\n",
    "if D1:\n",
    "    plt.scatter(x_train_np, y_train_np, label=\"train data\");\n",
    "    plt.scatter(x_test_np, Var_to_nparray(output_test), label=\"test prediction\");\n",
    "    plt.scatter(x_test_np, y_test_np, label=\"test data\");\n",
    "    plt.legend();\n",
    "    plt.xlabel(\"x\");\n",
    "    plt.ylabel(\"y\");\n",
    "else:\n",
    "    plt.scatter(x_train_np[:,1], y_train, label=\"train data\");\n",
    "    plt.scatter(x_test_np[:,1], Var_to_nparray(output_test), label=\"test data prediction\");\n",
    "    plt.scatter(x_test_np[:,1], y_test_np, label=\"test data\");\n",
    "    plt.legend();\n",
    "    plt.xlabel(\"x\");\n",
    "    plt.ylabel(\"y\");"
   ]
  },
  {
   "cell_type": "markdown",
   "metadata": {
    "id": "zTBAmjsAFtIk",
    "pycharm": {
     "name": "#%% md\n"
    }
   },
   "source": [
    "## Exercise l) Show overfitting, underfitting and just right fitting\n",
    "\n",
    "Vary the architecture and other things to show clear signs of overfitting (=training loss significantly lower than test loss) and underfitting (=not fitting enoung to training data so that test performance is also hurt).\n",
    "\n",
    "See also if you can get a good compromise which leads to a low validation loss. \n",
    "\n",
    "For this problem do you see any big difference between validation and test loss? The answer here will probably be no. Discuss cases where it is important to keep the two separate.\n",
    "\n",
    "*****************\n",
    "A training loss defines how well our model fits training data, while the validation loss indicates how well our model fits with new data. A high validation loss means that we have overfitted, which we do not want. The optimal fit is when the graphs for the training and test loss/validation loss is on top of each other as above. Hence this could also means underfitting.  \n",
    "\n",
    "Underfitting is when training loss is much higher than testing loss.  \n",
    "Overfits is when training loss is much smaller than testing loss.  \n",
    "\n",
    "### Overfitting"
   ]
  },
  {
   "cell_type": "code",
   "execution_count": 200,
   "metadata": {
    "id": "tQZCn2dxFtIl",
    "pycharm": {
     "name": "#%%\n"
    }
   },
   "outputs": [
    {
     "name": "stdout",
     "output_type": "stream",
     "text": [
      "   0 ( 0.00%) Train loss: 102.447 \t Validation loss: 91.349\n",
      "  10 ( 3.33%) Train loss: 19.810 \t Validation loss: 13.826\n",
      "  20 ( 6.67%) Train loss: 12.003 \t Validation loss: 8.958\n",
      "  30 (10.00%) Train loss: 12.001 \t Validation loss: 8.938\n",
      "  40 (13.33%) Train loss: 12.001 \t Validation loss: 8.938\n",
      "  50 (16.67%) Train loss: 12.001 \t Validation loss: 8.938\n",
      "  60 (20.00%) Train loss: 12.001 \t Validation loss: 8.938\n",
      "  70 (23.33%) Train loss: 12.001 \t Validation loss: 8.938\n",
      "  80 (26.67%) Train loss: 12.001 \t Validation loss: 8.938\n",
      "  90 (30.00%) Train loss: 12.001 \t Validation loss: 8.938\n",
      " 100 (33.33%) Train loss: 12.001 \t Validation loss: 8.938\n",
      " 110 (36.67%) Train loss: 12.001 \t Validation loss: 8.938\n",
      " 120 (40.00%) Train loss: 12.001 \t Validation loss: 8.938\n",
      " 130 (43.33%) Train loss: 12.001 \t Validation loss: 8.938\n",
      " 140 (46.67%) Train loss: 12.001 \t Validation loss: 8.938\n",
      " 150 (50.00%) Train loss: 12.001 \t Validation loss: 8.938\n",
      " 160 (53.33%) Train loss: 12.001 \t Validation loss: 8.938\n",
      " 170 (56.67%) Train loss: 12.001 \t Validation loss: 8.938\n",
      " 180 (60.00%) Train loss: 12.001 \t Validation loss: 8.938\n",
      " 190 (63.33%) Train loss: 12.001 \t Validation loss: 8.938\n",
      " 200 (66.67%) Train loss: 12.001 \t Validation loss: 8.938\n",
      " 210 (70.00%) Train loss: 12.001 \t Validation loss: 8.938\n",
      " 220 (73.33%) Train loss: 12.001 \t Validation loss: 8.938\n",
      " 230 (76.67%) Train loss: 12.001 \t Validation loss: 8.938\n",
      " 240 (80.00%) Train loss: 12.001 \t Validation loss: 8.938\n",
      " 250 (83.33%) Train loss: 12.001 \t Validation loss: 8.938\n",
      " 260 (86.67%) Train loss: 12.001 \t Validation loss: 8.938\n",
      " 270 (90.00%) Train loss: 12.001 \t Validation loss: 8.938\n",
      " 280 (93.33%) Train loss: 12.001 \t Validation loss: 8.938\n",
      " 290 (96.67%) Train loss: 12.001 \t Validation loss: 8.938\n"
     ]
    }
   ],
   "source": [
    "# Overfitting\n",
    "NN = [\n",
    "    DenseLayer(1, 20, lambda x: x.relu()),\n",
    "    DenseLayer(20, 1, lambda x: x.identity())\n",
    "]\n",
    "train_loss = []\n",
    "val_loss = []\n",
    "\n",
    "# Initialize training hyperparameters\n",
    "EPOCHS = 300\n",
    "LEARN_R = 2e-3 \n",
    "\n",
    "for e in range(EPOCHS):\n",
    "     \n",
    "    # Forward pass and loss computation\n",
    "    Loss = squared_loss(y_train, forward(x_train, NN))\n",
    "\n",
    "    # Backward pass\n",
    "    Loss.backward()\n",
    "    \n",
    "    # gradient descent update\n",
    "    update_parameters(parameters(NN), LEARN_R)\n",
    "    zero_gradients(parameters(NN))\n",
    "    \n",
    "    # Training loss\n",
    "    train_loss.append(Loss.v)\n",
    "    \n",
    "    # Validation\n",
    "    Loss_validation = squared_loss(y_validation, forward(x_validation, NN))\n",
    "    val_loss.append(Loss_validation.v)\n",
    "    \n",
    "    if e%10==0:\n",
    "        print(\"{:4d}\".format(e),\n",
    "              \"({:5.2f}%)\".format(e/EPOCHS*100), \n",
    "              \"Train loss: {:4.3f} \\t Validation loss: {:4.3f}\".format(train_loss[-1], val_loss[-1]))"
   ]
  },
  {
   "cell_type": "code",
   "execution_count": 203,
   "metadata": {
    "pycharm": {
     "name": "#%%\n"
    }
   },
   "outputs": [
    {
     "name": "stdout",
     "output_type": "stream",
     "text": [
      "Test loss:  9.305\n"
     ]
    },
    {
     "data": {
      "image/png": "[encoded data removed]",
      "text/plain": [
       "<Figure size 432x288 with 1 Axes>"
      ]
     },
     "metadata": {
      "needs_background": "light"
     },
     "output_type": "display_data"
    }
   ],
   "source": [
    "plt.plot(range(len(train_loss)), train_loss);\n",
    "plt.plot(range(len(val_loss)), val_loss);\n",
    "plt.legend(loc=1, fontsize=16, labels = [\"Training loss\", \"Validation loss\"])\n",
    "print(\"Test loss:  {:4.3f}\".format(Loss_test.v))\n",
    "plt.show()"
   ]
  },
  {
   "cell_type": "markdown",
   "metadata": {
    "pycharm": {
     "name": "#%% md\n"
    }
   },
   "source": [
    "We see that the losses decrease very fast for both training and test - hereby seing a result of overfitting.  \n",
    "\n",
    "### Underfitting"
   ]
  },
  {
   "cell_type": "code",
   "execution_count": 205,
   "metadata": {
    "pycharm": {
     "name": "#%%\n"
    }
   },
   "outputs": [
    {
     "name": "stdout",
     "output_type": "stream",
     "text": [
      "   0 ( 0.00%) Train loss: 104.359 \t Validation loss: 105.490\n",
      "  10 (10.00%) Train loss: 74.204 \t Validation loss: 63.479\n",
      "  20 (20.00%) Train loss: 59.987 \t Validation loss: 48.566\n",
      "  30 (30.00%) Train loss: 60.122 \t Validation loss: 48.453\n",
      "  40 (40.00%) Train loss: 60.247 \t Validation loss: 48.554\n",
      "  50 (50.00%) Train loss: 60.374 \t Validation loss: 48.674\n",
      "  60 (60.00%) Train loss: 60.510 \t Validation loss: 48.808\n",
      "  70 (70.00%) Train loss: 60.656 \t Validation loss: 48.956\n",
      "  80 (80.00%) Train loss: 60.811 \t Validation loss: 49.120\n",
      "  90 (90.00%) Train loss: 60.975 \t Validation loss: 49.299\n"
     ]
    }
   ],
   "source": [
    "# Underfitting\n",
    "NN = [\n",
    "    DenseLayer(1, 2, lambda x: x.tanh()),\n",
    "    DenseLayer(2, 1, lambda x: x.relu())\n",
    "]\n",
    "train_loss = []\n",
    "val_loss = []\n",
    "\n",
    "# Initialize training hyperparameters\n",
    "EPOCHS = 100\n",
    "LEARN_R = 2e-3 \n",
    "\n",
    "for e in range(EPOCHS):\n",
    "     \n",
    "    # Forward pass and loss computation\n",
    "    Loss = squared_loss(y_train, forward(x_train, NN))\n",
    "\n",
    "    # Backward pass\n",
    "    Loss.backward()\n",
    "    \n",
    "    # gradient descent update\n",
    "    update_parameters(parameters(NN), LEARN_R)\n",
    "    zero_gradients(parameters(NN))\n",
    "    \n",
    "    # Training loss\n",
    "    train_loss.append(Loss.v)\n",
    "    \n",
    "    # Validation\n",
    "    Loss_validation = squared_loss(y_validation, forward(x_validation, NN))\n",
    "    val_loss.append(Loss_validation.v)\n",
    "    \n",
    "    if e%10==0:\n",
    "        print(\"{:4d}\".format(e),\n",
    "              \"({:5.2f}%)\".format(e/EPOCHS*100), \n",
    "              \"Train loss: {:4.3f} \\t Validation loss: {:4.3f}\".format(train_loss[-1], val_loss[-1]))"
   ]
  },
  {
   "cell_type": "code",
   "execution_count": 209,
   "metadata": {
    "pycharm": {
     "name": "#%%\n"
    }
   },
   "outputs": [
    {
     "data": {
      "image/png": "[encoded data removed]",
      "text/plain": [
       "<Figure size 432x288 with 1 Axes>"
      ]
     },
     "metadata": {
      "needs_background": "light"
     },
     "output_type": "display_data"
    }
   ],
   "source": [
    "plt.plot(range(len(train_loss)), train_loss);\n",
    "plt.plot(range(len(val_loss)), val_loss);\n",
    "plt.legend(loc=1, fontsize=16, labels = [\"Training loss\", \"Validation loss\"])\n",
    "plt.show()"
   ]
  },
  {
   "cell_type": "markdown",
   "metadata": {
    "pycharm": {
     "name": "#%% md\n"
    }
   },
   "source": [
    "Here we have an example of underfitting where the validation loss is much lower than the traning loss. The loss values are too very high and only make a small decrease in total."
   ]
  },
  {
   "cell_type": "markdown",
   "metadata": {
    "id": "fYPZP-eTFtIo",
    "pycharm": {
     "name": "#%% md\n"
    }
   },
   "source": [
    "# Next steps - classification\n",
    "\n",
    "It is straight forward to extend what we have done to classification. \n",
    "\n",
    "For numerical stability it is better to make softmax and cross-entropy as one function so we write the cross entropy loss as a function of the logits we talked about last week. \n",
    "\n",
    "Next week we will see how to perform classification in PyTorch."
   ]
  },
  {
   "cell_type": "markdown",
   "metadata": {
    "id": "qsVPul3QFtIo",
    "pycharm": {
     "name": "#%% md\n"
    }
   },
   "source": [
    "## Exercise m) optional - Implement backpropagation for classification\n",
    "\n",
    "Should be possible with very few lines of code. :-)"
   ]
  },
  {
   "cell_type": "code",
   "execution_count": null,
   "metadata": {
    "id": "oC8QrI2tFtIp",
    "pycharm": {
     "name": "#%%\n"
    }
   },
   "outputs": [],
   "source": [
    "# Just add code."
   ]
  },
  {
   "cell_type": "markdown",
   "metadata": {
    "id": "APqhJv3tta1O",
    "pycharm": {
     "name": "#%% md\n"
    }
   },
   "source": [
    "## Exercise n) optional - Introduce a NeuralNetwork class\n",
    "\n",
    "The functions we applied on the neural network (parameters, update_parameters and zero_gradients) can more naturally be included as methods in a NeuralNetwork class. Make such a class and modify the code to use it. "
   ]
  },
  {
   "cell_type": "code",
   "execution_count": null,
   "metadata": {
    "id": "Dqfnor1ouMLq",
    "pycharm": {
     "name": "#%%\n"
    }
   },
   "outputs": [],
   "source": [
    "# just add some code"
   ]
  }
 ],
 "metadata": {
  "anaconda-cloud": {},
  "colab": {
   "collapsed_sections": [
    "U4057_ljNvWB",
    "p_8n_SKnIW2F",
    "oLrGJytZFtGm",
    "jpIZPBpNI0pO",
    "_79HOAXrFtHK",
    "mqeyab9qFtGs",
    "-XyXBD37FtHk",
    "SrwSJ2UWFtHu",
    "zTBAmjsAFtIk",
    "qsVPul3QFtIo",
    "APqhJv3tta1O"
   ],
   "name": "2.1-EXE-FNN-AutoDif-Nanograd.ipynb",
   "provenance": []
  },
  "kernelspec": {
   "display_name": "Python 3 (ipykernel)",
   "language": "python",
   "name": "python3"
  },
  "language_info": {
   "codemirror_mode": {
    "name": "ipython",
    "version": 3
   },
   "file_extension": ".py",
   "mimetype": "text/x-python",
   "name": "python",
   "nbconvert_exporter": "python",
   "pygments_lexer": "ipython3",
   "version": "3.9.7"
  }
 },
 "nbformat": 4,
 "nbformat_minor": 1
}